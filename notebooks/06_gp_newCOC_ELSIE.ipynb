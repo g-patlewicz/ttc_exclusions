{
 "cells": [
  {
   "cell_type": "code",
   "execution_count": 1,
   "metadata": {},
   "outputs": [],
   "source": [
    "import pandas as pd\n",
    "import numpy as np\n",
    "from rdkit import Chem\n",
    "from rdkit.Chem import AllChem\n",
    "from rdkit.Chem import Draw\n",
    "from rdkit.Chem.Draw import IPythonConsole\n",
    "import openpyxl\n",
    "import os\n"
   ]
  },
  {
   "cell_type": "code",
   "execution_count": 2,
   "metadata": {},
   "outputs": [],
   "source": [
    "import matplotlib.pyplot as plt\n",
    "import seaborn as sns\n",
    "%matplotlib inline"
   ]
  },
  {
   "cell_type": "code",
   "execution_count": 3,
   "metadata": {},
   "outputs": [],
   "source": [
    "TOP = os.getcwd().replace('notebooks', '')\n",
    "raw_dir = TOP + 'data/raw/'\n",
    "interim_dir = TOP + 'data/interim/'\n",
    "external_dir = TOP + 'data/external/'\n",
    "figures_dir = TOP + 'reports/figures/'"
   ]
  },
  {
   "cell_type": "code",
   "execution_count": 4,
   "metadata": {},
   "outputs": [],
   "source": [
    "elsie = pd.read_excel(raw_dir+'ELISE_270919.xlsx', sheet_name = 'ELISE')"
   ]
  },
  {
   "cell_type": "code",
   "execution_count": 5,
   "metadata": {},
   "outputs": [
    {
     "data": {
      "text/plain": [
       "(479, 11)"
      ]
     },
     "execution_count": 5,
     "metadata": {},
     "output_type": "execute_result"
    }
   ],
   "source": [
    "elsie.shape"
   ]
  },
  {
   "cell_type": "code",
   "execution_count": 6,
   "metadata": {},
   "outputs": [
    {
     "data": {
      "text/html": [
       "<div>\n",
       "<style scoped>\n",
       "    .dataframe tbody tr th:only-of-type {\n",
       "        vertical-align: middle;\n",
       "    }\n",
       "\n",
       "    .dataframe tbody tr th {\n",
       "        vertical-align: top;\n",
       "    }\n",
       "\n",
       "    .dataframe thead th {\n",
       "        text-align: right;\n",
       "    }\n",
       "</style>\n",
       "<table border=\"1\" class=\"dataframe\">\n",
       "  <thead>\n",
       "    <tr style=\"text-align: right;\">\n",
       "      <th></th>\n",
       "      <th>Name</th>\n",
       "      <th>CAS Number</th>\n",
       "      <th>CAS_corrected</th>\n",
       "      <th>INPUT</th>\n",
       "      <th>FOUND_BY</th>\n",
       "      <th>DTXSID</th>\n",
       "      <th>PREFERRED_NAME</th>\n",
       "      <th>CASRN</th>\n",
       "      <th>SMILES</th>\n",
       "      <th>QSAR_READY_SMILES</th>\n",
       "      <th>Unnamed: 10</th>\n",
       "    </tr>\n",
       "  </thead>\n",
       "  <tbody>\n",
       "    <tr>\n",
       "      <th>0</th>\n",
       "      <td>Dibenzylidene Sorbitol</td>\n",
       "      <td>32647-67-9</td>\n",
       "      <td>32647-67-9</td>\n",
       "      <td>32647-67-9</td>\n",
       "      <td>CAS-RN</td>\n",
       "      <td>DTXSID4029355</td>\n",
       "      <td>D-Glucitol, bis-O-(phenylmethylene)-</td>\n",
       "      <td>32647-67-9</td>\n",
       "      <td>O[C@]12COC(O[C@@H]1[C@H]1OC(OC[C@H]1O2)C1=CC=C...</td>\n",
       "      <td>OC12COC(OC1C1OC(OCC1O2)C1=CC=CC=C1)C1=CC=CC=C1</td>\n",
       "      <td>NaN</td>\n",
       "    </tr>\n",
       "    <tr>\n",
       "      <th>1</th>\n",
       "      <td>Caprolactam</td>\n",
       "      <td>105-60-2</td>\n",
       "      <td>105-60-2</td>\n",
       "      <td>105-60-2</td>\n",
       "      <td>CAS-RN</td>\n",
       "      <td>DTXSID4020240</td>\n",
       "      <td>Caprolactam</td>\n",
       "      <td>105-60-2</td>\n",
       "      <td>O=C1CCCCCN1</td>\n",
       "      <td>O=C1CCCCCN1</td>\n",
       "      <td>NaN</td>\n",
       "    </tr>\n",
       "    <tr>\n",
       "      <th>2</th>\n",
       "      <td>Benzophenone</td>\n",
       "      <td>119-61-9</td>\n",
       "      <td>119-61-9</td>\n",
       "      <td>119-61-9</td>\n",
       "      <td>CAS-RN</td>\n",
       "      <td>DTXSID0021961</td>\n",
       "      <td>Benzophenone</td>\n",
       "      <td>119-61-9</td>\n",
       "      <td>O=C(C1=CC=CC=C1)C1=CC=CC=C1</td>\n",
       "      <td>O=C(C1=CC=CC=C1)C1=CC=CC=C1</td>\n",
       "      <td>NaN</td>\n",
       "    </tr>\n",
       "    <tr>\n",
       "      <th>3</th>\n",
       "      <td>1,3,5-Trimethyl-2,4,6-tris(3,5-di-tert-butyl-4...</td>\n",
       "      <td>1709-70-2</td>\n",
       "      <td>1709-70-2</td>\n",
       "      <td>1709-70-2</td>\n",
       "      <td>CAS-RN</td>\n",
       "      <td>DTXSID6027428</td>\n",
       "      <td>Ionox 330</td>\n",
       "      <td>1709-70-2</td>\n",
       "      <td>CC1=C(CC2=CC(=C(O)C(=C2)C(C)(C)C)C(C)(C)C)C(C)...</td>\n",
       "      <td>CC1=C(CC2=CC(=C(O)C(=C2)C(C)(C)C)C(C)(C)C)C(C)...</td>\n",
       "      <td>NaN</td>\n",
       "    </tr>\n",
       "    <tr>\n",
       "      <th>4</th>\n",
       "      <td>Dibutyl phthalate</td>\n",
       "      <td>84-74-2</td>\n",
       "      <td>84-74-2</td>\n",
       "      <td>84-74-2</td>\n",
       "      <td>CAS-RN</td>\n",
       "      <td>DTXSID2021781</td>\n",
       "      <td>Dibutyl phthalate</td>\n",
       "      <td>84-74-2</td>\n",
       "      <td>CCCCOC(=O)C1=CC=CC=C1C(=O)OCCCC</td>\n",
       "      <td>CCCCOC(=O)C1=CC=CC=C1C(=O)OCCCC</td>\n",
       "      <td>NaN</td>\n",
       "    </tr>\n",
       "  </tbody>\n",
       "</table>\n",
       "</div>"
      ],
      "text/plain": [
       "                                                Name CAS Number   \\\n",
       "0                             Dibenzylidene Sorbitol  32647-67-9   \n",
       "1                                        Caprolactam    105-60-2   \n",
       "2                                       Benzophenone    119-61-9   \n",
       "3  1,3,5-Trimethyl-2,4,6-tris(3,5-di-tert-butyl-4...   1709-70-2   \n",
       "4                                  Dibutyl phthalate     84-74-2   \n",
       "\n",
       "  CAS_corrected       INPUT FOUND_BY         DTXSID  \\\n",
       "0    32647-67-9  32647-67-9   CAS-RN  DTXSID4029355   \n",
       "1      105-60-2    105-60-2   CAS-RN  DTXSID4020240   \n",
       "2      119-61-9    119-61-9   CAS-RN  DTXSID0021961   \n",
       "3     1709-70-2   1709-70-2   CAS-RN  DTXSID6027428   \n",
       "4       84-74-2     84-74-2   CAS-RN  DTXSID2021781   \n",
       "\n",
       "                         PREFERRED_NAME       CASRN  \\\n",
       "0  D-Glucitol, bis-O-(phenylmethylene)-  32647-67-9   \n",
       "1                           Caprolactam    105-60-2   \n",
       "2                          Benzophenone    119-61-9   \n",
       "3                             Ionox 330   1709-70-2   \n",
       "4                     Dibutyl phthalate     84-74-2   \n",
       "\n",
       "                                              SMILES  \\\n",
       "0  O[C@]12COC(O[C@@H]1[C@H]1OC(OC[C@H]1O2)C1=CC=C...   \n",
       "1                                        O=C1CCCCCN1   \n",
       "2                        O=C(C1=CC=CC=C1)C1=CC=CC=C1   \n",
       "3  CC1=C(CC2=CC(=C(O)C(=C2)C(C)(C)C)C(C)(C)C)C(C)...   \n",
       "4                    CCCCOC(=O)C1=CC=CC=C1C(=O)OCCCC   \n",
       "\n",
       "                                   QSAR_READY_SMILES  Unnamed: 10  \n",
       "0     OC12COC(OC1C1OC(OCC1O2)C1=CC=CC=C1)C1=CC=CC=C1          NaN  \n",
       "1                                        O=C1CCCCCN1          NaN  \n",
       "2                        O=C(C1=CC=CC=C1)C1=CC=CC=C1          NaN  \n",
       "3  CC1=C(CC2=CC(=C(O)C(=C2)C(C)(C)C)C(C)(C)C)C(C)...          NaN  \n",
       "4                    CCCCOC(=O)C1=CC=CC=C1C(=O)OCCCC          NaN  "
      ]
     },
     "execution_count": 6,
     "metadata": {},
     "output_type": "execute_result"
    }
   ],
   "source": [
    "elsie.head()"
   ]
  },
  {
   "cell_type": "code",
   "execution_count": 8,
   "metadata": {},
   "outputs": [],
   "source": [
    "elsie = elsie[elsie['SMILES'].notnull()]"
   ]
  },
  {
   "cell_type": "code",
   "execution_count": 9,
   "metadata": {},
   "outputs": [
    {
     "data": {
      "text/plain": [
       "(435, 11)"
      ]
     },
     "execution_count": 9,
     "metadata": {},
     "output_type": "execute_result"
    }
   ],
   "source": [
    "elsie.shape"
   ]
  },
  {
   "cell_type": "code",
   "execution_count": 11,
   "metadata": {},
   "outputs": [],
   "source": [
    "elise_dict ={k:Chem.MolFromSmiles(v) for k,v in zip(elsie['DTXSID'],elsie['SMILES'])}"
   ]
  },
  {
   "cell_type": "code",
   "execution_count": 12,
   "metadata": {},
   "outputs": [],
   "source": [
    "elise_dict_v1 = {k: v for k, v in elise_dict.items() if v is not None}"
   ]
  },
  {
   "cell_type": "code",
   "execution_count": 28,
   "metadata": {},
   "outputs": [],
   "source": [
    "elise_dict_smi ={k:v for k,v in zip(elsie['DTXSID'],elsie['SMILES']) if v is not None}"
   ]
  },
  {
   "cell_type": "code",
   "execution_count": 13,
   "metadata": {},
   "outputs": [
    {
     "data": {
      "text/plain": [
       "424"
      ]
     },
     "execution_count": 13,
     "metadata": {},
     "output_type": "execute_result"
    }
   ],
   "source": [
    "len(elise_dict_v1)"
   ]
  },
  {
   "cell_type": "code",
   "execution_count": 30,
   "metadata": {},
   "outputs": [],
   "source": [
    "#elise_dict_smi"
   ]
  },
  {
   "cell_type": "markdown",
   "metadata": {},
   "source": [
    "FDA COC listing"
   ]
  },
  {
   "cell_type": "code",
   "execution_count": 16,
   "metadata": {},
   "outputs": [],
   "source": [
    "fda_coc = pd.read_excel(raw_dir+'FDA_COC.xlsx', sheet_name = 'FDA_COC')\n",
    "\n",
    "fda_coc = fda_coc.iloc[:, :5]\n"
   ]
  },
  {
   "cell_type": "code",
   "execution_count": 17,
   "metadata": {},
   "outputs": [],
   "source": [
    "fda_dict = {}\n",
    "for i,group in fda_coc.groupby('COC'):\n",
    "    key = [name for name in group['COC'] if name!=' '][0]\n",
    "    value = set(group['SMARTS'])\n",
    "    fda_dict[key]=value"
   ]
  },
  {
   "cell_type": "code",
   "execution_count": 18,
   "metadata": {},
   "outputs": [
    {
     "name": "stderr",
     "output_type": "stream",
     "text": [
      "RDKit ERROR: [09:35:53] SMARTS Parse Error: syntax error while parsing: [$([NX3H2][NX3]([#1,#6;!$([CX3](=[OX1])[#1,#6])_100])[#1,#6;!$([CX3](=[OX1])[#1,#6])_100 show full SMARTS\n",
      "RDKit ERROR: [09:35:53] SMARTS Parse Error: Failed parsing SMARTS '[$([NX3H2][NX3]([#1,#6;!$([CX3](=[OX1])[#1,#6])_100])[#1,#6;!$([CX3](=[OX1])[#1,#6])_100 show full SMARTS' for input: '[$([NX3H2][NX3]([#1,#6;!$([CX3](=[OX1])[#1,#6])])[#1,#6;!$([CX3](=[OX1])[#1,#6]) show full SMARTS'\n",
      "RDKit ERROR: [09:35:53] SMARTS Parse Error: syntax error while parsing: [OX2]1[CX4]([#1,c,$([CH3])_100,$([CH2][CH3])_101,$([CH2][CH2][CH3])_102,$([CH]([CH3])[CH3])_103\n",
      "RDKit ERROR: [09:35:53] SMARTS Parse Error: Failed parsing SMARTS '[OX2]1[CX4]([#1,c,$([CH3])_100,$([CH2][CH3])_101,$([CH2][CH2][CH3])_102,$([CH]([CH3])[CH3])_103' for input: '[OX2]1[CX4]([#1,c,$([CH3]),$([CH2][CH3]),$([CH2][CH2][CH3]),$([CH]([CH3])[CH3])'\n"
     ]
    }
   ],
   "source": [
    "fda_smarts = {k:[Chem.MolFromSmarts(e) for e in v] for k,v in fda_dict.items()}\n",
    "fda_sms = {k:list(filter(None, fda_smarts[k])) for k,v in fda_smarts.items() }"
   ]
  },
  {
   "cell_type": "code",
   "execution_count": 72,
   "metadata": {},
   "outputs": [],
   "source": [
    "#fda_sms"
   ]
  },
  {
   "cell_type": "markdown",
   "metadata": {},
   "source": [
    "Inorganic filter functions"
   ]
  },
  {
   "cell_type": "code",
   "execution_count": 19,
   "metadata": {},
   "outputs": [],
   "source": [
    "def has_metal_atom(smiles):\n",
    "    metal_dict = {'Na': 11 , 'Mg': 12, 'Si': 14, 'K':19, 'Ca':20, 'Mn':25, 'Fe':26, 'Cu':29, 'Zn':30, 'Co':27, 'Ni':28, 'As': 33, 'Cr':24, 'Hg':80, 'Pb':82, 'V':23, 'Al':13, 'Ag':47, 'Cd':48, 'B':5, 'Ti': 22, 'Se': 34, 'Sn': 50, 'Sb':51, 'Be': 4, 'Zr': 40, 'Nb': 41, 'Mo': 42, 'Te':52, 'Ba':56, 'W':74, 'Au': 79, 'Bi': 83}\n",
    "    essential_metal_dict = {'Na': 11 , 'K':19,'Mg': 12,  'Ca':20, 'Fe':26,  'Mn':25, 'Co':27, 'Cu':29, 'Zn':30, 'Mo': 42}\n",
    "    mol = Chem.MolFromSmiles(smiles)\n",
    "    if mol  is None:\n",
    "        return False\n",
    "    return any(atom for atom in mol.GetAtoms() if atom.GetAtomicNum() in list(metal_dict.values()))"
   ]
  },
  {
   "cell_type": "code",
   "execution_count": 20,
   "metadata": {},
   "outputs": [],
   "source": [
    "def metal_ions(smiles):\n",
    "    essential_metal = ['[Na+]', '[K+]', '[Mg++]',  '[Ca++]', '[Fe+3]',  '[Mn++]', '[Co+]', '[Cu++]', '[Zn++]', '[Mo++]']\n",
    "    mol = Chem.MolFromSmiles(smiles)\n",
    "    if mol  is None:\n",
    "        return False\n",
    "    return any(mol.HasSubstructMatch(Chem.MolFromSmarts(e)) for e in essential_metal)"
   ]
  },
  {
   "cell_type": "code",
   "execution_count": 21,
   "metadata": {},
   "outputs": [],
   "source": [
    "def P_inorg(smiles):\n",
    "    mol = Chem.MolFromSmiles(smiles)\n",
    "    if mol  is None:\n",
    "        return False\n",
    "    return mol.HasSubstructMatch(Chem.MolFromSmarts('[OH]P(=[O])([OH])[OH]'))"
   ]
  },
  {
   "cell_type": "markdown",
   "metadata": {},
   "source": [
    "Genotoxicity alerts"
   ]
  },
  {
   "cell_type": "code",
   "execution_count": 22,
   "metadata": {},
   "outputs": [],
   "source": [
    "genetox = pd.read_excel(raw_dir+'genetox_structural_alerts_201021.xlsx', sheet_name = 'Final')\n",
    "genetox = genetox.drop_duplicates(['SMARTS'], keep = 'first')"
   ]
  },
  {
   "cell_type": "code",
   "execution_count": 23,
   "metadata": {},
   "outputs": [],
   "source": [
    "genetox_dict = {}\n",
    "for i,group in genetox.groupby('ID'):\n",
    "    key = [name for name in group['ID'] if name!=' '][0]\n",
    "    value = set(group['SMARTS'])\n",
    "    genetox_dict[key]=value"
   ]
  },
  {
   "cell_type": "code",
   "execution_count": 24,
   "metadata": {},
   "outputs": [
    {
     "name": "stderr",
     "output_type": "stream",
     "text": [
      "RDKit ERROR: [09:38:46] SMARTS Parse Error: syntax error while parsing: [$([CX4]([$([OH])_100,$(C=O)_101,$([NX3])_102])([!F!Cl!Br!I!C])([*!$(C)_103])[CH2][F,Cl,Br,I])_104,$ show full SMARTS\n",
      "RDKit ERROR: [09:38:46] SMARTS Parse Error: Failed parsing SMARTS '[$([CX4]([$([OH])_100,$(C=O)_101,$([NX3])_102])([!F!Cl!Br!I!C])([*!$(C)_103])[CH2][F,Cl,Br,I])_104,$ show full SMARTS' for input: '[$([CX4]([$([OH]),$(C=O),$([NX3])])([!F!Cl!Br!I!C])([*!$(C)])[CH2][F,Cl,Br,I]),$ show full SMARTS'\n",
      "RDKit ERROR: [09:38:46] SMARTS Parse Error: syntax error while parsing: NOT [!CX4!#1!F!Cl!Br!I] AND [CX4!R0][F,Cl,Br,I]\n",
      "RDKit ERROR: [09:38:46] SMARTS Parse Error: Failed parsing SMARTS 'NOT [!CX4!#1!F!Cl!Br!I] AND [CX4!R0][F,Cl,Br,I]' for input: 'NOT [!CX4!#1!F!Cl!Br!I] AND [CX4!R0][F,Cl,Br,I]'\n",
      "RDKit ERROR: [09:38:46] SMARTS Parse Error: syntax error while parsing: [a!r0][$([NH2])_100,$([NX3][OX2H1])_101,$([NX3][OX2][CX3H1](=[OX1]))_102,$([NX2]=[CH2])_103,$([N show full SMARTS\n",
      "RDKit ERROR: [09:38:46] SMARTS Parse Error: Failed parsing SMARTS '[a!r0][$([NH2])_100,$([NX3][OX2H1])_101,$([NX3][OX2][CX3H1](=[OX1]))_102,$([NX2]=[CH2])_103,$([N show full SMARTS' for input: '[a!r0][$([NH2]),$([NX3][OX2H1]),$([NX3][OX2][CX3H1](=[OX1])),$([NX2]=[CH2]),$([N show full SMARTS'\n",
      "RDKit ERROR: [09:38:46] SMARTS Parse Error: syntax error while parsing: [a!r0][$([NH2])_100;!$([NH2]aa[$(C(F)(F)F)_101,$(S(=O)(=O)[NX3]([#6,#1])[#6,#1])_102,$(S(=O) show full SMARTS\n",
      "RDKit ERROR: [09:38:46] SMARTS Parse Error: Failed parsing SMARTS '[a!r0][$([NH2])_100;!$([NH2]aa[$(C(F)(F)F)_101,$(S(=O)(=O)[NX3]([#6,#1])[#6,#1])_102,$(S(=O) show full SMARTS' for input: '[a!r0][$([NH2]);!$([NH2]aa[$(C(F)(F)F),$(S(=O)(=O)[NX3]([#6,#1])[#6,#1]),$(S(=O) show full SMARTS'\n",
      "RDKit ERROR: [09:38:46] SMARTS Parse Error: syntax error while parsing: [a!r0][$([NX3+](=[OX1])[O-])_100,$([NX3](=[OX1])=[OX1])_101;!$([NX3]aa-[$(C(F)(F)F)_102,$(S( show full SMARTS\n",
      "RDKit ERROR: [09:38:46] SMARTS Parse Error: Failed parsing SMARTS '[a!r0][$([NX3+](=[OX1])[O-])_100,$([NX3](=[OX1])=[OX1])_101;!$([NX3]aa-[$(C(F)(F)F)_102,$(S( show full SMARTS' for input: '[a!r0][$([NX3+](=[OX1])[O-]),$([NX3](=[OX1])=[OX1]);!$([NX3]aa-[$(C(F)(F)F),$(S( show full SMARTS'\n",
      "RDKit ERROR: [09:38:46] SMARTS Parse Error: syntax error while parsing: [a!r0][$([NX3+](=[OX1])[O-])_100,$([NX3](=[OX1])=[OX1])_101;!$([NX3]a(a-[!#1])a-[!#1])_102;! show full SMARTS\n",
      "RDKit ERROR: [09:38:46] SMARTS Parse Error: Failed parsing SMARTS '[a!r0][$([NX3+](=[OX1])[O-])_100,$([NX3](=[OX1])=[OX1])_101;!$([NX3]a(a-[!#1])a-[!#1])_102;! show full SMARTS' for input: '[a!r0][$([NX3+](=[OX1])[O-]),$([NX3](=[OX1])=[OX1]);!$([NX3]a(a-[!#1])a-[!#1]);! show full SMARTS'\n",
      "RDKit ERROR: [09:38:46] SMARTS Parse Error: syntax error while parsing: [a!r0][$([NX3;H1])_100,$([NX3][CH3])_101;!$([NX3]a(a-[!#1])a-[!#1])_102;!$([NX3]aa-C(=[OX1]) show full SMARTS\n",
      "RDKit ERROR: [09:38:46] SMARTS Parse Error: Failed parsing SMARTS '[a!r0][$([NX3;H1])_100,$([NX3][CH3])_101;!$([NX3]a(a-[!#1])a-[!#1])_102;!$([NX3]aa-C(=[OX1]) show full SMARTS' for input: '[a!r0][$([NX3;H1]),$([NX3][CH3]);!$([NX3]a(a-[!#1])a-[!#1]);!$([NX3]aa-C(=[OX1]) show full SMARTS'\n",
      "RDKit ERROR: [09:38:46] SMARTS Parse Error: syntax error while parsing: [$([$([CX4]([*!C])([*!C])([*!C]))_100,$([CX4]([*!C])([*!C])([*!C])[CX4]([*!C])([*!C] show full SMARTS\n",
      "RDKit ERROR: [09:38:46] SMARTS Parse Error: Failed parsing SMARTS '[$([$([CX4]([*!C])([*!C])([*!C]))_100,$([CX4]([*!C])([*!C])([*!C])[CX4]([*!C])([*!C] show full SMARTS' for input: '[$([$([CX4]([*!C])([*!C])([*!C])),$([CX4]([*!C])([*!C])([*!C])[CX4]([*!C])([*!C] show full SMARTS'\n",
      "RDKit ERROR: [09:38:46] SMARTS Parse Error: syntax error while parsing: [a!r0][$([NX3;H1][CH3])_100,$([NX3;H1][CH2][CH3])_101,$([NX3]([CH3])[CH3])_102,$([NX3]([CH3] show full SMARTS\n",
      "RDKit ERROR: [09:38:46] SMARTS Parse Error: Failed parsing SMARTS '[a!r0][$([NX3;H1][CH3])_100,$([NX3;H1][CH2][CH3])_101,$([NX3]([CH3])[CH3])_102,$([NX3]([CH3] show full SMARTS' for input: '[a!r0][$([NX3;H1][CH3]),$([NX3;H1][CH2][CH3]),$([NX3]([CH3])[CH3]),$([NX3]([CH3] show full SMARTS'\n",
      "RDKit ERROR: [09:38:46] SMARTS Parse Error: syntax error while parsing: [$([NX2]([a!r0])=[NX2][a!r0])_100;!$([NX2](aaS(=O)(=O)[OH])=[NX2]aaS(=O)(=O)[OH])_101;!$ show full SMARTS\n",
      "RDKit ERROR: [09:38:46] SMARTS Parse Error: Failed parsing SMARTS '[$([NX2]([a!r0])=[NX2][a!r0])_100;!$([NX2](aaS(=O)(=O)[OH])=[NX2]aaS(=O)(=O)[OH])_101;!$ show full SMARTS' for input: '[$([NX2]([a!r0])=[NX2][a!r0]);!$([NX2](aaS(=O)(=O)[OH])=[NX2]aaS(=O)(=O)[OH]);!$ show full SMARTS'\n",
      "RDKit ERROR: [09:38:46] SMARTS Parse Error: syntax error while parsing: [$([cX3R3])_100,$([cX3;R1,R2,R3]1[cX3;R1,R2,R3][cX3;R1,R2,R3][cX3;R1,R2,R3][cX3;R2,R show full SMARTS\n",
      "RDKit ERROR: [09:38:46] SMARTS Parse Error: Failed parsing SMARTS '[$([cX3R3])_100,$([cX3;R1,R2,R3]1[cX3;R1,R2,R3][cX3;R1,R2,R3][cX3;R1,R2,R3][cX3;R2,R show full SMARTS' for input: '[$([cX3R3]),$([cX3;R1,R2,R3]1[cX3;R1,R2,R3][cX3;R1,R2,R3][cX3;R1,R2,R3][cX3;R2,R show full SMARTS'\n",
      "RDKit ERROR: [09:38:46] SMARTS Parse Error: syntax error while parsing: [$([$([aR3])_100,$([$([aR2]([aR])([aR])([aR]))_101].[$([aR2]([aR])([aR])([aR]))_101].[$([aR2 show full SMARTS\n",
      "RDKit ERROR: [09:38:46] SMARTS Parse Error: Failed parsing SMARTS '[$([$([aR3])_100,$([$([aR2]([aR])([aR])([aR]))_101].[$([aR2]([aR])([aR])([aR]))_101].[$([aR2 show full SMARTS' for input: '[$([$([aR3]),$([$([aR2]([aR])([aR])([aR]))].[$([aR2]([aR])([aR])([aR]))].[$([aR2 show full SMARTS'\n",
      "RDKit ERROR: [09:38:46] SMARTS Parse Error: syntax error while parsing: [$([Sv6X4;!$([Sv6X4][OH])_100;!$([Sv6X4][SH])_101;!$([Sv6X4][O-])_102;!$([Sv6X4][S-])_103](=[OX1 show full SMARTS\n",
      "RDKit ERROR: [09:38:46] SMARTS Parse Error: Failed parsing SMARTS '[$([Sv6X4;!$([Sv6X4][OH])_100;!$([Sv6X4][SH])_101;!$([Sv6X4][O-])_102;!$([Sv6X4][S-])_103](=[OX1 show full SMARTS' for input: '[$([Sv6X4;!$([Sv6X4][OH]);!$([Sv6X4][SH]);!$([Sv6X4][O-]);!$([Sv6X4][S-])](=[OX1 show full SMARTS'\n",
      "RDKit ERROR: [09:38:46] SMARTS Parse Error: syntax error while parsing: [$([NX3H2][#7])_100,$([NX3H2][#8])_101,$([OX2H1][#7])_102,$([OX2H1][#8])_103;!$([NH2][#7][$([OX2 show full SMARTS\n",
      "RDKit ERROR: [09:38:46] SMARTS Parse Error: Failed parsing SMARTS '[$([NX3H2][#7])_100,$([NX3H2][#8])_101,$([OX2H1][#7])_102,$([OX2H1][#8])_103;!$([NH2][#7][$([OX2 show full SMARTS' for input: '[$([NX3H2][#7]),$([NX3H2][#8]),$([OX2H1][#7]),$([OX2H1][#8]);!$([NH2][#7][$([OX2 show full SMARTS'\n",
      "RDKit ERROR: [09:38:46] SMARTS Parse Error: syntax error while parsing: [CX3]([!$([OH])_100;!$([O-])_101])(=[OX1])[CX3H1]=[CX3]([$([CH3])_102,$([CH2][CH3])_103,$([CH2][ show full SMARTS\n",
      "RDKit ERROR: [09:38:46] SMARTS Parse Error: Failed parsing SMARTS '[CX3]([!$([OH])_100;!$([O-])_101])(=[OX1])[CX3H1]=[CX3]([$([CH3])_102,$([CH2][CH3])_103,$([CH2][ show full SMARTS' for input: '[CX3]([!$([OH]);!$([O-])])(=[OX1])[CX3H1]=[CX3]([$([CH3]),$([CH2][CH3]),$([CH2][ show full SMARTS'\n"
     ]
    }
   ],
   "source": [
    "genetox_smarts = {k:[Chem.MolFromSmarts(e) for e in v] for k,v in genetox_dict.items()}\n",
    "genetox_smarts = {k: list(filter(None, genetox_smarts[k])) for k,v in genetox_smarts.items()}"
   ]
  },
  {
   "cell_type": "code",
   "execution_count": 46,
   "metadata": {},
   "outputs": [],
   "source": [
    "def inorgs(df):\n",
    "    df['metal_salts'] = [metal_ions(x) for x in df['SMILES']]\n",
    "    df['inorgs'] = [has_metal_atom(x) for x in df['SMILES']]\n",
    "    df['inorgP'] = [P_inorg(x) for x in df['SMILES']]\n",
    "    return df"
   ]
  },
  {
   "cell_type": "code",
   "execution_count": 47,
   "metadata": {},
   "outputs": [],
   "source": [
    "elsie = inorgs(elsie)"
   ]
  },
  {
   "cell_type": "code",
   "execution_count": 48,
   "metadata": {},
   "outputs": [],
   "source": [
    "def inorg_filter(df):\n",
    "    inorg_filter = []\n",
    "    for x, y, z in list(zip(df['metal_salts'], df['inorgs'], df['inorgP'])):\n",
    "        if x is True:\n",
    "            inorg_filter.append('metal_salt')\n",
    "        elif x is False and y is True:\n",
    "            inorg_filter.append('inorganic')\n",
    "        elif z is True:\n",
    "            inorg_filter.append('inorganic')\n",
    "        else:\n",
    "            inorg_filter.append('TTC_NA')\n",
    "    df['inorg_filter'] = inorg_filter\n",
    "    return df"
   ]
  },
  {
   "cell_type": "code",
   "execution_count": 50,
   "metadata": {},
   "outputs": [],
   "source": [
    "elsie = inorg_filter(elsie)"
   ]
  },
  {
   "cell_type": "code",
   "execution_count": 85,
   "metadata": {},
   "outputs": [],
   "source": [
    "def alert_match(mydict, alert_dict , label = 'COC', label2 = None):\n",
    "    alert_matches = {x:[k for k, v in alert_dict.items() if any([y.HasSubstructMatch(e) for e in v])] for x,y in mydict.items()}\n",
    "    alert_matches_df = pd.DataFrame(list(alert_matches.items()), columns = ['DTXSID', label])\n",
    "    alert_lst = []\n",
    "    for x in alert_matches_df[label]:\n",
    "        if x !=[]:\n",
    "            alert_lst.append(1)\n",
    "        else:\n",
    "            alert_lst.append(0)\n",
    "    alert_matches_df[label2] = alert_lst\n",
    "    return alert_matches_df"
   ]
  },
  {
   "cell_type": "code",
   "execution_count": 78,
   "metadata": {},
   "outputs": [],
   "source": [
    "fda_coc_df = coc(elise_dict_v1, fda_sms, label = 'COC')"
   ]
  },
  {
   "cell_type": "code",
   "execution_count": 79,
   "metadata": {},
   "outputs": [],
   "source": [
    "elsie_coc = pd.merge(elsie, fda_coc_df, on = 'DTXSID', how = 'left')"
   ]
  },
  {
   "cell_type": "code",
   "execution_count": 81,
   "metadata": {},
   "outputs": [],
   "source": [
    "#elsie_coc"
   ]
  },
  {
   "cell_type": "code",
   "execution_count": 87,
   "metadata": {},
   "outputs": [],
   "source": [
    "genetox_df = alert_match(elise_dict_v1, genetox_smarts, label = 'Genetox_Alert', label2 = 'Genetox_alert')"
   ]
  },
  {
   "cell_type": "code",
   "execution_count": 88,
   "metadata": {},
   "outputs": [],
   "source": [
    "elsie_coc_genetox = pd.merge(elsie_coc, genetox_df, on = 'DTXSID', how = 'left')"
   ]
  },
  {
   "cell_type": "code",
   "execution_count": 95,
   "metadata": {},
   "outputs": [],
   "source": [
    "def final_assignment(df, label = 'final_TTC_category'):\n",
    "    final_outcome = []\n",
    "    for a,b,c in list(zip(df['inorg_filter'], df['COC_Alerts'], df['Genetox_alert'] )):\n",
    "        if a == 'inorganic':\n",
    "            final_outcome.append('inorganic')\n",
    "        elif (a != 'inorganic') & (b == 1):\n",
    "            final_outcome.append('COC')\n",
    "        elif (a != 'inorganic') & (b == 'None') | (b == 0) & (c == 1):\n",
    "            final_outcome.append('Genotoxicity Alert')\n",
    "        elif (a != 'inorganic') & (b == 'None') | (b == 0) & (c == 0):\n",
    "            final_outcome.append('Cramer_class_applicable')\n",
    "    df[label] = final_outcome\n",
    "    return df"
   ]
  },
  {
   "cell_type": "code",
   "execution_count": 96,
   "metadata": {},
   "outputs": [],
   "source": [
    "final_elsie = final_assignment(elsie_coc_genetox, label ='final_TTC_category' )"
   ]
  },
  {
   "cell_type": "code",
   "execution_count": 98,
   "metadata": {},
   "outputs": [
    {
     "data": {
      "text/plain": [
       "Cramer_class_applicable    238\n",
       "Genotoxicity Alert         146\n",
       "inorganic                   28\n",
       "COC                         23\n",
       "Name: final_TTC_category, dtype: int64"
      ]
     },
     "execution_count": 98,
     "metadata": {},
     "output_type": "execute_result"
    }
   ],
   "source": [
    "final_elsie.final_TTC_category.value_counts(dropna = True)"
   ]
  },
  {
   "cell_type": "code",
   "execution_count": 100,
   "metadata": {},
   "outputs": [
    {
     "data": {
      "image/png": "[encoded data removed]",
      "text/plain": [
       "<Figure size 432x288 with 1 Axes>"
      ]
     },
     "metadata": {
      "needs_background": "light"
     },
     "output_type": "display_data"
    }
   ],
   "source": [
    "final_elsie.final_TTC_category.value_counts().plot.bar()\n",
    "plt.tight_layout()\n",
    "plt.savefig(figures_dir+ 'ELSIE_new_TTC_category_counts_201021.png')"
   ]
  },
  {
   "cell_type": "code",
   "execution_count": 101,
   "metadata": {},
   "outputs": [],
   "source": [
    "writer = pd.ExcelWriter(interim_dir+ 'ELSIE_201021.xlsx', engine='xlsxwriter')\n",
    "\n",
    "# Convert the dataframe to an XlsxWriter Excel object.\n",
    "\n",
    "final_elsie.to_excel(writer, sheet_name = 'final')\n",
    "\n",
    "\n",
    "\n",
    "writer.save()"
   ]
  }
 ],
 "metadata": {
  "kernelspec": {
   "display_name": "pfas_dap",
   "language": "python",
   "name": "pfas_dap"
  },
  "language_info": {
   "codemirror_mode": {
    "name": "ipython",
    "version": 3
   },
   "file_extension": ".py",
   "mimetype": "text/x-python",
   "name": "python",
   "nbconvert_exporter": "python",
   "pygments_lexer": "ipython3",
   "version": "3.8.6"
  }
 },
 "nbformat": 4,
 "nbformat_minor": 4
}
