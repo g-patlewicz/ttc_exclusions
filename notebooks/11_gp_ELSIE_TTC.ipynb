{
 "cells": [
  {
   "cell_type": "code",
   "execution_count": 1,
   "metadata": {},
   "outputs": [],
   "source": [
    "import pandas as pd\n",
    "import numpy as np\n",
    "from rdkit import Chem\n",
    "from rdkit.Chem import AllChem\n",
    "from rdkit.Chem import Draw\n",
    "from rdkit.Chem.Draw import IPythonConsole\n",
    "import openpyxl\n",
    "import os\n",
    "import matplotlib.pyplot as plt\n",
    "import seaborn as sns\n",
    "%matplotlib inline"
   ]
  },
  {
   "cell_type": "code",
   "execution_count": 2,
   "metadata": {},
   "outputs": [],
   "source": [
    "TOP = os.getcwd().replace('notebooks', '')\n",
    "raw_dir = TOP + 'data/raw/'\n",
    "interim_dir = TOP + 'data/interim/'\n",
    "external_dir = TOP + 'data/external/'\n",
    "figures_dir = TOP + 'reports/figures/'"
   ]
  },
  {
   "cell_type": "code",
   "execution_count": 3,
   "metadata": {},
   "outputs": [],
   "source": [
    "elsie = pd.read_excel(interim_dir+ 'ELSIE_030222.xlsx')"
   ]
  },
  {
   "cell_type": "code",
   "execution_count": 4,
   "metadata": {},
   "outputs": [],
   "source": [
    "elsie = elsie[elsie['final_TTC_category'] == 'Cramer_class_applicable']"
   ]
  },
  {
   "cell_type": "code",
   "execution_count": 5,
   "metadata": {},
   "outputs": [],
   "source": [
    "ids = elsie.DTXSID.tolist()"
   ]
  },
  {
   "cell_type": "code",
   "execution_count": 6,
   "metadata": {},
   "outputs": [
    {
     "name": "stderr",
     "output_type": "stream",
     "text": [
      "/home/grace/anaconda3/envs/pfas_dap/lib/python3.8/site-packages/IPython/core/interactiveshell.py:3145: DtypeWarning: Columns (0,9,12,14,17,24,25,26,27) have mixed types.Specify dtype option on import or set low_memory=False.\n",
      "  has_raised = await self.run_ast_nodes(code_ast.body, cell_name,\n"
     ]
    }
   ],
   "source": [
    "toxval = pd.read_csv('/home/grace/Documents/python/genra_mongo/notebooks/all_toxval.csv')"
   ]
  },
  {
   "cell_type": "code",
   "execution_count": 7,
   "metadata": {},
   "outputs": [],
   "source": [
    "toxval = toxval[toxval['dsstox_sid'].isin(ids)]"
   ]
  },
  {
   "cell_type": "code",
   "execution_count": 8,
   "metadata": {},
   "outputs": [],
   "source": [
    "toxval = toxval[toxval['toxval_type'] == 'NOAEL']"
   ]
  },
  {
   "cell_type": "code",
   "execution_count": 9,
   "metadata": {},
   "outputs": [
    {
     "data": {
      "text/plain": [
       "143"
      ]
     },
     "execution_count": 9,
     "metadata": {},
     "output_type": "execute_result"
    }
   ],
   "source": [
    "toxval.dsstox_sid.nunique()"
   ]
  },
  {
   "cell_type": "code",
   "execution_count": 10,
   "metadata": {},
   "outputs": [
    {
     "data": {
      "text/html": [
       "<div>\n",
       "<style scoped>\n",
       "    .dataframe tbody tr th:only-of-type {\n",
       "        vertical-align: middle;\n",
       "    }\n",
       "\n",
       "    .dataframe tbody tr th {\n",
       "        vertical-align: top;\n",
       "    }\n",
       "\n",
       "    .dataframe thead th {\n",
       "        text-align: right;\n",
       "    }\n",
       "</style>\n",
       "<table border=\"1\" class=\"dataframe\">\n",
       "  <thead>\n",
       "    <tr style=\"text-align: right;\">\n",
       "      <th></th>\n",
       "      <th>Unnamed: 0</th>\n",
       "      <th>dsstox_sid</th>\n",
       "      <th>chemical_casrn</th>\n",
       "      <th>preferred_name</th>\n",
       "      <th>toxval_type</th>\n",
       "      <th>toxval_subtype</th>\n",
       "      <th>toxval_type_category</th>\n",
       "      <th>toxval_type_supercategory</th>\n",
       "      <th>exposure_route</th>\n",
       "      <th>exposure_method</th>\n",
       "      <th>...</th>\n",
       "      <th>species_common</th>\n",
       "      <th>species_supercategory</th>\n",
       "      <th>strain</th>\n",
       "      <th>sex</th>\n",
       "      <th>media</th>\n",
       "      <th>critical_effect</th>\n",
       "      <th>source</th>\n",
       "      <th>subsource</th>\n",
       "      <th>year</th>\n",
       "      <th>study_duration_days</th>\n",
       "    </tr>\n",
       "  </thead>\n",
       "  <tbody>\n",
       "    <tr>\n",
       "      <th>73970</th>\n",
       "      <td>13344</td>\n",
       "      <td>DTXSID1020439</td>\n",
       "      <td>120-83-2</td>\n",
       "      <td>2,4-Dichlorophenol</td>\n",
       "      <td>NOAEL</td>\n",
       "      <td>-</td>\n",
       "      <td>NOAEL</td>\n",
       "      <td>Point of Departure</td>\n",
       "      <td>oral</td>\n",
       "      <td>drinking water</td>\n",
       "      <td>...</td>\n",
       "      <td>rat</td>\n",
       "      <td>mammals</td>\n",
       "      <td>SD</td>\n",
       "      <td>M/F</td>\n",
       "      <td>-</td>\n",
       "      <td>reduced delayed hypersensitivity response</td>\n",
       "      <td>Chiu</td>\n",
       "      <td>IRIS</td>\n",
       "      <td>1988</td>\n",
       "      <td>180.0</td>\n",
       "    </tr>\n",
       "    <tr>\n",
       "      <th>73993</th>\n",
       "      <td>13367</td>\n",
       "      <td>DTXSID5020607</td>\n",
       "      <td>117-81-7</td>\n",
       "      <td>Di(2-ethylhexyl) phthalate</td>\n",
       "      <td>NOAEL</td>\n",
       "      <td>-</td>\n",
       "      <td>NOAEL</td>\n",
       "      <td>Point of Departure</td>\n",
       "      <td>oral</td>\n",
       "      <td>diet</td>\n",
       "      <td>...</td>\n",
       "      <td>rat</td>\n",
       "      <td>mammals</td>\n",
       "      <td>F344</td>\n",
       "      <td>M</td>\n",
       "      <td>-</td>\n",
       "      <td>testicular toxicity</td>\n",
       "      <td>Chiu</td>\n",
       "      <td>ATSDR</td>\n",
       "      <td>2002</td>\n",
       "      <td>728.0</td>\n",
       "    </tr>\n",
       "    <tr>\n",
       "      <th>74015</th>\n",
       "      <td>13389</td>\n",
       "      <td>DTXSID6024200</td>\n",
       "      <td>108-39-4</td>\n",
       "      <td>m-Cresol</td>\n",
       "      <td>NOAEL</td>\n",
       "      <td>-</td>\n",
       "      <td>NOAEL</td>\n",
       "      <td>Point of Departure</td>\n",
       "      <td>oral</td>\n",
       "      <td>gavage</td>\n",
       "      <td>...</td>\n",
       "      <td>rat</td>\n",
       "      <td>mammals</td>\n",
       "      <td>SD</td>\n",
       "      <td>M/F</td>\n",
       "      <td>-</td>\n",
       "      <td>reduced body weight</td>\n",
       "      <td>Chiu</td>\n",
       "      <td>IRIS</td>\n",
       "      <td>1990</td>\n",
       "      <td>90.0</td>\n",
       "    </tr>\n",
       "    <tr>\n",
       "      <th>74016</th>\n",
       "      <td>13390</td>\n",
       "      <td>DTXSID6024200</td>\n",
       "      <td>108-39-4</td>\n",
       "      <td>m-Cresol</td>\n",
       "      <td>NOAEL</td>\n",
       "      <td>-</td>\n",
       "      <td>NOAEL</td>\n",
       "      <td>Point of Departure</td>\n",
       "      <td>oral</td>\n",
       "      <td>gavage</td>\n",
       "      <td>...</td>\n",
       "      <td>rat</td>\n",
       "      <td>mammals</td>\n",
       "      <td>SD</td>\n",
       "      <td>M/F</td>\n",
       "      <td>-</td>\n",
       "      <td>neurotoxicity</td>\n",
       "      <td>Chiu</td>\n",
       "      <td>IRIS</td>\n",
       "      <td>1990</td>\n",
       "      <td>90.0</td>\n",
       "    </tr>\n",
       "    <tr>\n",
       "      <th>74049</th>\n",
       "      <td>13423</td>\n",
       "      <td>DTXSID5020029</td>\n",
       "      <td>107-13-1</td>\n",
       "      <td>Acrylonitrile</td>\n",
       "      <td>NOAEL</td>\n",
       "      <td>-</td>\n",
       "      <td>NOAEL</td>\n",
       "      <td>Point of Departure</td>\n",
       "      <td>oral</td>\n",
       "      <td>gavage</td>\n",
       "      <td>...</td>\n",
       "      <td>mouse</td>\n",
       "      <td>mammals</td>\n",
       "      <td>CD-1</td>\n",
       "      <td>M</td>\n",
       "      <td>-</td>\n",
       "      <td>testicular effects: reduced sperm counts, semi...</td>\n",
       "      <td>Chiu</td>\n",
       "      <td>HEAST</td>\n",
       "      <td>1993</td>\n",
       "      <td>60.0</td>\n",
       "    </tr>\n",
       "    <tr>\n",
       "      <th>...</th>\n",
       "      <td>...</td>\n",
       "      <td>...</td>\n",
       "      <td>...</td>\n",
       "      <td>...</td>\n",
       "      <td>...</td>\n",
       "      <td>...</td>\n",
       "      <td>...</td>\n",
       "      <td>...</td>\n",
       "      <td>...</td>\n",
       "      <td>...</td>\n",
       "      <td>...</td>\n",
       "      <td>...</td>\n",
       "      <td>...</td>\n",
       "      <td>...</td>\n",
       "      <td>...</td>\n",
       "      <td>...</td>\n",
       "      <td>...</td>\n",
       "      <td>...</td>\n",
       "      <td>...</td>\n",
       "      <td>...</td>\n",
       "      <td>...</td>\n",
       "    </tr>\n",
       "    <tr>\n",
       "      <th>178265</th>\n",
       "      <td>59789</td>\n",
       "      <td>DTXSID8039241</td>\n",
       "      <td>100-52-7</td>\n",
       "      <td>Benzaldehyde</td>\n",
       "      <td>NOAEL</td>\n",
       "      <td>-</td>\n",
       "      <td>NOAEL</td>\n",
       "      <td>Point of Departure</td>\n",
       "      <td>oral</td>\n",
       "      <td>gavage</td>\n",
       "      <td>...</td>\n",
       "      <td>rat</td>\n",
       "      <td>mammals</td>\n",
       "      <td>F344</td>\n",
       "      <td>-</td>\n",
       "      <td>-</td>\n",
       "      <td>necrosis|body weight|mortality|hyperkeratosis|...</td>\n",
       "      <td>ToxRefDB</td>\n",
       "      <td>EPA ORD</td>\n",
       "      <td>1990</td>\n",
       "      <td>91.0</td>\n",
       "    </tr>\n",
       "    <tr>\n",
       "      <th>178266</th>\n",
       "      <td>59790</td>\n",
       "      <td>DTXSID8039241</td>\n",
       "      <td>100-52-7</td>\n",
       "      <td>Benzaldehyde</td>\n",
       "      <td>NOAEL</td>\n",
       "      <td>-</td>\n",
       "      <td>NOAEL</td>\n",
       "      <td>Point of Departure</td>\n",
       "      <td>oral</td>\n",
       "      <td>gavage</td>\n",
       "      <td>...</td>\n",
       "      <td>mouse</td>\n",
       "      <td>mammals</td>\n",
       "      <td>B6C3F1</td>\n",
       "      <td>-</td>\n",
       "      <td>-</td>\n",
       "      <td>mortality|body weight|degeneration</td>\n",
       "      <td>ToxRefDB</td>\n",
       "      <td>EPA ORD</td>\n",
       "      <td>1990</td>\n",
       "      <td>91.0</td>\n",
       "    </tr>\n",
       "    <tr>\n",
       "      <th>178267</th>\n",
       "      <td>59791</td>\n",
       "      <td>DTXSID8039241</td>\n",
       "      <td>100-52-7</td>\n",
       "      <td>Benzaldehyde</td>\n",
       "      <td>NOAEL</td>\n",
       "      <td>-</td>\n",
       "      <td>NOAEL</td>\n",
       "      <td>Point of Departure</td>\n",
       "      <td>oral</td>\n",
       "      <td>gavage</td>\n",
       "      <td>...</td>\n",
       "      <td>mouse</td>\n",
       "      <td>mammals</td>\n",
       "      <td>B6C3F1</td>\n",
       "      <td>-</td>\n",
       "      <td>-</td>\n",
       "      <td>hyperplasia</td>\n",
       "      <td>ToxRefDB</td>\n",
       "      <td>EPA ORD</td>\n",
       "      <td>1990</td>\n",
       "      <td>2.0</td>\n",
       "    </tr>\n",
       "    <tr>\n",
       "      <th>178268</th>\n",
       "      <td>59792</td>\n",
       "      <td>DTXSID8039241</td>\n",
       "      <td>100-52-7</td>\n",
       "      <td>Benzaldehyde</td>\n",
       "      <td>NOAEL</td>\n",
       "      <td>-</td>\n",
       "      <td>NOAEL</td>\n",
       "      <td>Point of Departure</td>\n",
       "      <td>oral</td>\n",
       "      <td>gavage</td>\n",
       "      <td>...</td>\n",
       "      <td>rat</td>\n",
       "      <td>mammals</td>\n",
       "      <td>F344</td>\n",
       "      <td>-</td>\n",
       "      <td>-</td>\n",
       "      <td>leukemia mononuclear|papilloma|mortality|adeno...</td>\n",
       "      <td>ToxRefDB</td>\n",
       "      <td>EPA ORD</td>\n",
       "      <td>1990</td>\n",
       "      <td>2.0</td>\n",
       "    </tr>\n",
       "    <tr>\n",
       "      <th>178339</th>\n",
       "      <td>59863</td>\n",
       "      <td>DTXSID0040701</td>\n",
       "      <td>77-93-0</td>\n",
       "      <td>Triethyl citrate</td>\n",
       "      <td>NOAEL</td>\n",
       "      <td>-</td>\n",
       "      <td>NOAEL</td>\n",
       "      <td>Point of Departure</td>\n",
       "      <td>oral</td>\n",
       "      <td>feed</td>\n",
       "      <td>...</td>\n",
       "      <td>rat</td>\n",
       "      <td>mammals</td>\n",
       "      <td>-</td>\n",
       "      <td>-</td>\n",
       "      <td>-</td>\n",
       "      <td>NaN</td>\n",
       "      <td>ToxRefDB</td>\n",
       "      <td>EPA ORD</td>\n",
       "      <td>1959</td>\n",
       "      <td>42.0</td>\n",
       "    </tr>\n",
       "  </tbody>\n",
       "</table>\n",
       "<p>2331 rows × 29 columns</p>\n",
       "</div>"
      ],
      "text/plain": [
       "       Unnamed: 0     dsstox_sid chemical_casrn              preferred_name  \\\n",
       "73970       13344  DTXSID1020439       120-83-2          2,4-Dichlorophenol   \n",
       "73993       13367  DTXSID5020607       117-81-7  Di(2-ethylhexyl) phthalate   \n",
       "74015       13389  DTXSID6024200       108-39-4                    m-Cresol   \n",
       "74016       13390  DTXSID6024200       108-39-4                    m-Cresol   \n",
       "74049       13423  DTXSID5020029       107-13-1               Acrylonitrile   \n",
       "...           ...            ...            ...                         ...   \n",
       "178265      59789  DTXSID8039241       100-52-7                Benzaldehyde   \n",
       "178266      59790  DTXSID8039241       100-52-7                Benzaldehyde   \n",
       "178267      59791  DTXSID8039241       100-52-7                Benzaldehyde   \n",
       "178268      59792  DTXSID8039241       100-52-7                Benzaldehyde   \n",
       "178339      59863  DTXSID0040701        77-93-0            Triethyl citrate   \n",
       "\n",
       "       toxval_type toxval_subtype toxval_type_category  \\\n",
       "73970        NOAEL              -                NOAEL   \n",
       "73993        NOAEL              -                NOAEL   \n",
       "74015        NOAEL              -                NOAEL   \n",
       "74016        NOAEL              -                NOAEL   \n",
       "74049        NOAEL              -                NOAEL   \n",
       "...            ...            ...                  ...   \n",
       "178265       NOAEL              -                NOAEL   \n",
       "178266       NOAEL              -                NOAEL   \n",
       "178267       NOAEL              -                NOAEL   \n",
       "178268       NOAEL              -                NOAEL   \n",
       "178339       NOAEL              -                NOAEL   \n",
       "\n",
       "       toxval_type_supercategory exposure_route exposure_method  ...  \\\n",
       "73970         Point of Departure           oral  drinking water  ...   \n",
       "73993         Point of Departure           oral            diet  ...   \n",
       "74015         Point of Departure           oral          gavage  ...   \n",
       "74016         Point of Departure           oral          gavage  ...   \n",
       "74049         Point of Departure           oral          gavage  ...   \n",
       "...                          ...            ...             ...  ...   \n",
       "178265        Point of Departure           oral          gavage  ...   \n",
       "178266        Point of Departure           oral          gavage  ...   \n",
       "178267        Point of Departure           oral          gavage  ...   \n",
       "178268        Point of Departure           oral          gavage  ...   \n",
       "178339        Point of Departure           oral            feed  ...   \n",
       "\n",
       "       species_common species_supercategory  strain  sex media  \\\n",
       "73970             rat               mammals      SD  M/F     -   \n",
       "73993             rat               mammals    F344    M     -   \n",
       "74015             rat               mammals      SD  M/F     -   \n",
       "74016             rat               mammals      SD  M/F     -   \n",
       "74049           mouse               mammals    CD-1    M     -   \n",
       "...               ...                   ...     ...  ...   ...   \n",
       "178265            rat               mammals    F344    -     -   \n",
       "178266          mouse               mammals  B6C3F1    -     -   \n",
       "178267          mouse               mammals  B6C3F1    -     -   \n",
       "178268            rat               mammals    F344    -     -   \n",
       "178339            rat               mammals       -    -     -   \n",
       "\n",
       "                                          critical_effect    source subsource  \\\n",
       "73970           reduced delayed hypersensitivity response      Chiu      IRIS   \n",
       "73993                                 testicular toxicity      Chiu     ATSDR   \n",
       "74015                                 reduced body weight      Chiu      IRIS   \n",
       "74016                                       neurotoxicity      Chiu      IRIS   \n",
       "74049   testicular effects: reduced sperm counts, semi...      Chiu     HEAST   \n",
       "...                                                   ...       ...       ...   \n",
       "178265  necrosis|body weight|mortality|hyperkeratosis|...  ToxRefDB   EPA ORD   \n",
       "178266                 mortality|body weight|degeneration  ToxRefDB   EPA ORD   \n",
       "178267                                        hyperplasia  ToxRefDB   EPA ORD   \n",
       "178268  leukemia mononuclear|papilloma|mortality|adeno...  ToxRefDB   EPA ORD   \n",
       "178339                                                NaN  ToxRefDB   EPA ORD   \n",
       "\n",
       "        year study_duration_days  \n",
       "73970   1988               180.0  \n",
       "73993   2002               728.0  \n",
       "74015   1990                90.0  \n",
       "74016   1990                90.0  \n",
       "74049   1993                60.0  \n",
       "...      ...                 ...  \n",
       "178265  1990                91.0  \n",
       "178266  1990                91.0  \n",
       "178267  1990                 2.0  \n",
       "178268  1990                 2.0  \n",
       "178339  1959                42.0  \n",
       "\n",
       "[2331 rows x 29 columns]"
      ]
     },
     "execution_count": 10,
     "metadata": {},
     "output_type": "execute_result"
    }
   ],
   "source": [
    "toxval"
   ]
  },
  {
   "cell_type": "code",
   "execution_count": 11,
   "metadata": {},
   "outputs": [],
   "source": [
    "toxval = toxval[['dsstox_sid', 'chemical_casrn', 'preferred_name',\n",
    "       'toxval_type',  'toxval_numeric_qualifier','study_duration_days' ,'pod', 'dose_units',\n",
    "       'risk_assessment_class', 'study_type', 'study_duration_class',\n",
    "       'study_duration_value', 'study_duration_units', 'species_common',\n",
    "       'species_supercategory', 'strain', 'sex', 'media', 'critical_effect','toxval_subtype', 'toxval_type_category',\n",
    "       'toxval_type_supercategory', 'exposure_route', 'exposure_method',\n",
    "       'exposure_form',\n",
    "       'source', 'subsource', 'year']]"
   ]
  },
  {
   "cell_type": "code",
   "execution_count": 12,
   "metadata": {},
   "outputs": [
    {
     "data": {
      "text/html": [
       "<div>\n",
       "<style scoped>\n",
       "    .dataframe tbody tr th:only-of-type {\n",
       "        vertical-align: middle;\n",
       "    }\n",
       "\n",
       "    .dataframe tbody tr th {\n",
       "        vertical-align: top;\n",
       "    }\n",
       "\n",
       "    .dataframe thead th {\n",
       "        text-align: right;\n",
       "    }\n",
       "</style>\n",
       "<table border=\"1\" class=\"dataframe\">\n",
       "  <thead>\n",
       "    <tr style=\"text-align: right;\">\n",
       "      <th></th>\n",
       "      <th>dsstox_sid</th>\n",
       "      <th>chemical_casrn</th>\n",
       "      <th>preferred_name</th>\n",
       "      <th>toxval_type</th>\n",
       "      <th>toxval_numeric_qualifier</th>\n",
       "      <th>study_duration_days</th>\n",
       "      <th>pod</th>\n",
       "      <th>dose_units</th>\n",
       "      <th>risk_assessment_class</th>\n",
       "      <th>study_type</th>\n",
       "      <th>...</th>\n",
       "      <th>critical_effect</th>\n",
       "      <th>toxval_subtype</th>\n",
       "      <th>toxval_type_category</th>\n",
       "      <th>toxval_type_supercategory</th>\n",
       "      <th>exposure_route</th>\n",
       "      <th>exposure_method</th>\n",
       "      <th>exposure_form</th>\n",
       "      <th>source</th>\n",
       "      <th>subsource</th>\n",
       "      <th>year</th>\n",
       "    </tr>\n",
       "  </thead>\n",
       "  <tbody>\n",
       "    <tr>\n",
       "      <th>73970</th>\n",
       "      <td>DTXSID1020439</td>\n",
       "      <td>120-83-2</td>\n",
       "      <td>2,4-Dichlorophenol</td>\n",
       "      <td>NOAEL</td>\n",
       "      <td>=</td>\n",
       "      <td>180.0</td>\n",
       "      <td>0.3</td>\n",
       "      <td>mg/kg-day</td>\n",
       "      <td>chronic</td>\n",
       "      <td>chronic</td>\n",
       "      <td>...</td>\n",
       "      <td>reduced delayed hypersensitivity response</td>\n",
       "      <td>-</td>\n",
       "      <td>NOAEL</td>\n",
       "      <td>Point of Departure</td>\n",
       "      <td>oral</td>\n",
       "      <td>drinking water</td>\n",
       "      <td>-</td>\n",
       "      <td>Chiu</td>\n",
       "      <td>IRIS</td>\n",
       "      <td>1988</td>\n",
       "    </tr>\n",
       "    <tr>\n",
       "      <th>73993</th>\n",
       "      <td>DTXSID5020607</td>\n",
       "      <td>117-81-7</td>\n",
       "      <td>Di(2-ethylhexyl) phthalate</td>\n",
       "      <td>NOAEL</td>\n",
       "      <td>=</td>\n",
       "      <td>728.0</td>\n",
       "      <td>5.8</td>\n",
       "      <td>mg/kg-day</td>\n",
       "      <td>chronic</td>\n",
       "      <td>chronic</td>\n",
       "      <td>...</td>\n",
       "      <td>testicular toxicity</td>\n",
       "      <td>-</td>\n",
       "      <td>NOAEL</td>\n",
       "      <td>Point of Departure</td>\n",
       "      <td>oral</td>\n",
       "      <td>diet</td>\n",
       "      <td>-</td>\n",
       "      <td>Chiu</td>\n",
       "      <td>ATSDR</td>\n",
       "      <td>2002</td>\n",
       "    </tr>\n",
       "    <tr>\n",
       "      <th>74015</th>\n",
       "      <td>DTXSID6024200</td>\n",
       "      <td>108-39-4</td>\n",
       "      <td>m-Cresol</td>\n",
       "      <td>NOAEL</td>\n",
       "      <td>=</td>\n",
       "      <td>90.0</td>\n",
       "      <td>50.0</td>\n",
       "      <td>mg/kg-day</td>\n",
       "      <td>chronic</td>\n",
       "      <td>chronic</td>\n",
       "      <td>...</td>\n",
       "      <td>reduced body weight</td>\n",
       "      <td>-</td>\n",
       "      <td>NOAEL</td>\n",
       "      <td>Point of Departure</td>\n",
       "      <td>oral</td>\n",
       "      <td>gavage</td>\n",
       "      <td>-</td>\n",
       "      <td>Chiu</td>\n",
       "      <td>IRIS</td>\n",
       "      <td>1990</td>\n",
       "    </tr>\n",
       "    <tr>\n",
       "      <th>74016</th>\n",
       "      <td>DTXSID6024200</td>\n",
       "      <td>108-39-4</td>\n",
       "      <td>m-Cresol</td>\n",
       "      <td>NOAEL</td>\n",
       "      <td>=</td>\n",
       "      <td>90.0</td>\n",
       "      <td>50.0</td>\n",
       "      <td>mg/kg-day</td>\n",
       "      <td>chronic</td>\n",
       "      <td>chronic</td>\n",
       "      <td>...</td>\n",
       "      <td>neurotoxicity</td>\n",
       "      <td>-</td>\n",
       "      <td>NOAEL</td>\n",
       "      <td>Point of Departure</td>\n",
       "      <td>oral</td>\n",
       "      <td>gavage</td>\n",
       "      <td>-</td>\n",
       "      <td>Chiu</td>\n",
       "      <td>IRIS</td>\n",
       "      <td>1990</td>\n",
       "    </tr>\n",
       "    <tr>\n",
       "      <th>74049</th>\n",
       "      <td>DTXSID5020029</td>\n",
       "      <td>107-13-1</td>\n",
       "      <td>Acrylonitrile</td>\n",
       "      <td>NOAEL</td>\n",
       "      <td>=</td>\n",
       "      <td>60.0</td>\n",
       "      <td>1.0</td>\n",
       "      <td>mg/kg-day</td>\n",
       "      <td>chronic</td>\n",
       "      <td>chronic</td>\n",
       "      <td>...</td>\n",
       "      <td>testicular effects: reduced sperm counts, semi...</td>\n",
       "      <td>-</td>\n",
       "      <td>NOAEL</td>\n",
       "      <td>Point of Departure</td>\n",
       "      <td>oral</td>\n",
       "      <td>gavage</td>\n",
       "      <td>-</td>\n",
       "      <td>Chiu</td>\n",
       "      <td>HEAST</td>\n",
       "      <td>1993</td>\n",
       "    </tr>\n",
       "    <tr>\n",
       "      <th>...</th>\n",
       "      <td>...</td>\n",
       "      <td>...</td>\n",
       "      <td>...</td>\n",
       "      <td>...</td>\n",
       "      <td>...</td>\n",
       "      <td>...</td>\n",
       "      <td>...</td>\n",
       "      <td>...</td>\n",
       "      <td>...</td>\n",
       "      <td>...</td>\n",
       "      <td>...</td>\n",
       "      <td>...</td>\n",
       "      <td>...</td>\n",
       "      <td>...</td>\n",
       "      <td>...</td>\n",
       "      <td>...</td>\n",
       "      <td>...</td>\n",
       "      <td>...</td>\n",
       "      <td>...</td>\n",
       "      <td>...</td>\n",
       "      <td>...</td>\n",
       "    </tr>\n",
       "    <tr>\n",
       "      <th>178265</th>\n",
       "      <td>DTXSID8039241</td>\n",
       "      <td>100-52-7</td>\n",
       "      <td>Benzaldehyde</td>\n",
       "      <td>NOAEL</td>\n",
       "      <td>&gt;=</td>\n",
       "      <td>91.0</td>\n",
       "      <td>800.0</td>\n",
       "      <td>mg/kg-day</td>\n",
       "      <td>subchronic</td>\n",
       "      <td>subchronic</td>\n",
       "      <td>...</td>\n",
       "      <td>necrosis|body weight|mortality|hyperkeratosis|...</td>\n",
       "      <td>-</td>\n",
       "      <td>NOAEL</td>\n",
       "      <td>Point of Departure</td>\n",
       "      <td>oral</td>\n",
       "      <td>gavage</td>\n",
       "      <td>-</td>\n",
       "      <td>ToxRefDB</td>\n",
       "      <td>EPA ORD</td>\n",
       "      <td>1990</td>\n",
       "    </tr>\n",
       "    <tr>\n",
       "      <th>178266</th>\n",
       "      <td>DTXSID8039241</td>\n",
       "      <td>100-52-7</td>\n",
       "      <td>Benzaldehyde</td>\n",
       "      <td>NOAEL</td>\n",
       "      <td>&gt;=</td>\n",
       "      <td>91.0</td>\n",
       "      <td>1200.0</td>\n",
       "      <td>mg/kg-day</td>\n",
       "      <td>subchronic</td>\n",
       "      <td>subchronic</td>\n",
       "      <td>...</td>\n",
       "      <td>mortality|body weight|degeneration</td>\n",
       "      <td>-</td>\n",
       "      <td>NOAEL</td>\n",
       "      <td>Point of Departure</td>\n",
       "      <td>oral</td>\n",
       "      <td>gavage</td>\n",
       "      <td>-</td>\n",
       "      <td>ToxRefDB</td>\n",
       "      <td>EPA ORD</td>\n",
       "      <td>1990</td>\n",
       "    </tr>\n",
       "    <tr>\n",
       "      <th>178267</th>\n",
       "      <td>DTXSID8039241</td>\n",
       "      <td>100-52-7</td>\n",
       "      <td>Benzaldehyde</td>\n",
       "      <td>NOAEL</td>\n",
       "      <td>&gt;=</td>\n",
       "      <td>2.0</td>\n",
       "      <td>400.0</td>\n",
       "      <td>mg/kg-day</td>\n",
       "      <td>chronic</td>\n",
       "      <td>chronic</td>\n",
       "      <td>...</td>\n",
       "      <td>hyperplasia</td>\n",
       "      <td>-</td>\n",
       "      <td>NOAEL</td>\n",
       "      <td>Point of Departure</td>\n",
       "      <td>oral</td>\n",
       "      <td>gavage</td>\n",
       "      <td>-</td>\n",
       "      <td>ToxRefDB</td>\n",
       "      <td>EPA ORD</td>\n",
       "      <td>1990</td>\n",
       "    </tr>\n",
       "    <tr>\n",
       "      <th>178268</th>\n",
       "      <td>DTXSID8039241</td>\n",
       "      <td>100-52-7</td>\n",
       "      <td>Benzaldehyde</td>\n",
       "      <td>NOAEL</td>\n",
       "      <td>&gt;=</td>\n",
       "      <td>2.0</td>\n",
       "      <td>400.0</td>\n",
       "      <td>mg/kg-day</td>\n",
       "      <td>chronic</td>\n",
       "      <td>chronic</td>\n",
       "      <td>...</td>\n",
       "      <td>leukemia mononuclear|papilloma|mortality|adeno...</td>\n",
       "      <td>-</td>\n",
       "      <td>NOAEL</td>\n",
       "      <td>Point of Departure</td>\n",
       "      <td>oral</td>\n",
       "      <td>gavage</td>\n",
       "      <td>-</td>\n",
       "      <td>ToxRefDB</td>\n",
       "      <td>EPA ORD</td>\n",
       "      <td>1990</td>\n",
       "    </tr>\n",
       "    <tr>\n",
       "      <th>178339</th>\n",
       "      <td>DTXSID0040701</td>\n",
       "      <td>77-93-0</td>\n",
       "      <td>Triethyl citrate</td>\n",
       "      <td>NOAEL</td>\n",
       "      <td>&gt;=</td>\n",
       "      <td>42.0</td>\n",
       "      <td>1000.0</td>\n",
       "      <td>mg/kg-day</td>\n",
       "      <td>subchronic</td>\n",
       "      <td>subchronic</td>\n",
       "      <td>...</td>\n",
       "      <td>NaN</td>\n",
       "      <td>-</td>\n",
       "      <td>NOAEL</td>\n",
       "      <td>Point of Departure</td>\n",
       "      <td>oral</td>\n",
       "      <td>feed</td>\n",
       "      <td>-</td>\n",
       "      <td>ToxRefDB</td>\n",
       "      <td>EPA ORD</td>\n",
       "      <td>1959</td>\n",
       "    </tr>\n",
       "  </tbody>\n",
       "</table>\n",
       "<p>2331 rows × 28 columns</p>\n",
       "</div>"
      ],
      "text/plain": [
       "           dsstox_sid chemical_casrn              preferred_name toxval_type  \\\n",
       "73970   DTXSID1020439       120-83-2          2,4-Dichlorophenol       NOAEL   \n",
       "73993   DTXSID5020607       117-81-7  Di(2-ethylhexyl) phthalate       NOAEL   \n",
       "74015   DTXSID6024200       108-39-4                    m-Cresol       NOAEL   \n",
       "74016   DTXSID6024200       108-39-4                    m-Cresol       NOAEL   \n",
       "74049   DTXSID5020029       107-13-1               Acrylonitrile       NOAEL   \n",
       "...               ...            ...                         ...         ...   \n",
       "178265  DTXSID8039241       100-52-7                Benzaldehyde       NOAEL   \n",
       "178266  DTXSID8039241       100-52-7                Benzaldehyde       NOAEL   \n",
       "178267  DTXSID8039241       100-52-7                Benzaldehyde       NOAEL   \n",
       "178268  DTXSID8039241       100-52-7                Benzaldehyde       NOAEL   \n",
       "178339  DTXSID0040701        77-93-0            Triethyl citrate       NOAEL   \n",
       "\n",
       "       toxval_numeric_qualifier  study_duration_days     pod dose_units  \\\n",
       "73970                         =                180.0     0.3  mg/kg-day   \n",
       "73993                         =                728.0     5.8  mg/kg-day   \n",
       "74015                         =                 90.0    50.0  mg/kg-day   \n",
       "74016                         =                 90.0    50.0  mg/kg-day   \n",
       "74049                         =                 60.0     1.0  mg/kg-day   \n",
       "...                         ...                  ...     ...        ...   \n",
       "178265                       >=                 91.0   800.0  mg/kg-day   \n",
       "178266                       >=                 91.0  1200.0  mg/kg-day   \n",
       "178267                       >=                  2.0   400.0  mg/kg-day   \n",
       "178268                       >=                  2.0   400.0  mg/kg-day   \n",
       "178339                       >=                 42.0  1000.0  mg/kg-day   \n",
       "\n",
       "       risk_assessment_class  study_type  ...  \\\n",
       "73970                chronic     chronic  ...   \n",
       "73993                chronic     chronic  ...   \n",
       "74015                chronic     chronic  ...   \n",
       "74016                chronic     chronic  ...   \n",
       "74049                chronic     chronic  ...   \n",
       "...                      ...         ...  ...   \n",
       "178265            subchronic  subchronic  ...   \n",
       "178266            subchronic  subchronic  ...   \n",
       "178267               chronic     chronic  ...   \n",
       "178268               chronic     chronic  ...   \n",
       "178339            subchronic  subchronic  ...   \n",
       "\n",
       "                                          critical_effect toxval_subtype  \\\n",
       "73970           reduced delayed hypersensitivity response              -   \n",
       "73993                                 testicular toxicity              -   \n",
       "74015                                 reduced body weight              -   \n",
       "74016                                       neurotoxicity              -   \n",
       "74049   testicular effects: reduced sperm counts, semi...              -   \n",
       "...                                                   ...            ...   \n",
       "178265  necrosis|body weight|mortality|hyperkeratosis|...              -   \n",
       "178266                 mortality|body weight|degeneration              -   \n",
       "178267                                        hyperplasia              -   \n",
       "178268  leukemia mononuclear|papilloma|mortality|adeno...              -   \n",
       "178339                                                NaN              -   \n",
       "\n",
       "       toxval_type_category toxval_type_supercategory exposure_route  \\\n",
       "73970                 NOAEL        Point of Departure           oral   \n",
       "73993                 NOAEL        Point of Departure           oral   \n",
       "74015                 NOAEL        Point of Departure           oral   \n",
       "74016                 NOAEL        Point of Departure           oral   \n",
       "74049                 NOAEL        Point of Departure           oral   \n",
       "...                     ...                       ...            ...   \n",
       "178265                NOAEL        Point of Departure           oral   \n",
       "178266                NOAEL        Point of Departure           oral   \n",
       "178267                NOAEL        Point of Departure           oral   \n",
       "178268                NOAEL        Point of Departure           oral   \n",
       "178339                NOAEL        Point of Departure           oral   \n",
       "\n",
       "       exposure_method exposure_form    source subsource  year  \n",
       "73970   drinking water             -      Chiu      IRIS  1988  \n",
       "73993             diet             -      Chiu     ATSDR  2002  \n",
       "74015           gavage             -      Chiu      IRIS  1990  \n",
       "74016           gavage             -      Chiu      IRIS  1990  \n",
       "74049           gavage             -      Chiu     HEAST  1993  \n",
       "...                ...           ...       ...       ...   ...  \n",
       "178265          gavage             -  ToxRefDB   EPA ORD  1990  \n",
       "178266          gavage             -  ToxRefDB   EPA ORD  1990  \n",
       "178267          gavage             -  ToxRefDB   EPA ORD  1990  \n",
       "178268          gavage             -  ToxRefDB   EPA ORD  1990  \n",
       "178339            feed             -  ToxRefDB   EPA ORD  1959  \n",
       "\n",
       "[2331 rows x 28 columns]"
      ]
     },
     "execution_count": 12,
     "metadata": {},
     "output_type": "execute_result"
    }
   ],
   "source": [
    "toxval"
   ]
  },
  {
   "cell_type": "code",
   "execution_count": 13,
   "metadata": {},
   "outputs": [
    {
     "data": {
      "text/plain": [
       "developmental                   540\n",
       "reproduction                    483\n",
       "repeat dose                     414\n",
       "subchronic                      285\n",
       "chronic                         152\n",
       "short-term                      141\n",
       "reproduction developmental      122\n",
       "carcinogenicity                  82\n",
       "subacute                         56\n",
       "neurotoxicity                    42\n",
       "developmental neurotoxicity       7\n",
       "repeat dose, carcinogenicity      3\n",
       "immunotoxicity                    2\n",
       "acute                             1\n",
       "chronic neurotoxicity             1\n",
       "Name: risk_assessment_class, dtype: int64"
      ]
     },
     "execution_count": 13,
     "metadata": {},
     "output_type": "execute_result"
    }
   ],
   "source": [
    "toxval.risk_assessment_class.value_counts()"
   ]
  },
  {
   "cell_type": "code",
   "execution_count": 14,
   "metadata": {},
   "outputs": [],
   "source": [
    "toxval = toxval.set_index('dsstox_sid')"
   ]
  },
  {
   "cell_type": "code",
   "execution_count": 15,
   "metadata": {},
   "outputs": [],
   "source": [
    "toxval['pod'] = toxval['pod'].astype(float)"
   ]
  },
  {
   "cell_type": "code",
   "execution_count": 16,
   "metadata": {},
   "outputs": [],
   "source": [
    "pod_adj = []\n",
    "for i, row in toxval.iterrows():\n",
    "    if row['risk_assessment_class'] == 'subacute':\n",
    "        pod_adj.append(row['pod']/6)\n",
    "    elif row['risk_assessment_class'] == 'repeat dose':\n",
    "        pod_adj.append(row['pod']/6)\n",
    "    elif row['risk_assessment_class'] == 'short-term':\n",
    "        pod_adj.append(row['pod']/6)\n",
    "    elif row['risk_assessment_class'] == 'subchronic':\n",
    "        pod_adj.append(row['pod']/2)\n",
    "    else:\n",
    "        pod_adj.append(row['pod'])"
   ]
  },
  {
   "cell_type": "code",
   "execution_count": 17,
   "metadata": {},
   "outputs": [
    {
     "data": {
      "text/plain": [
       "(2331, 27)"
      ]
     },
     "execution_count": 17,
     "metadata": {},
     "output_type": "execute_result"
    }
   ],
   "source": [
    "toxval.shape"
   ]
  },
  {
   "cell_type": "code",
   "execution_count": 18,
   "metadata": {},
   "outputs": [
    {
     "data": {
      "text/plain": [
       "2331"
      ]
     },
     "execution_count": 18,
     "metadata": {},
     "output_type": "execute_result"
    }
   ],
   "source": [
    "len(pod_adj)"
   ]
  },
  {
   "cell_type": "code",
   "execution_count": 19,
   "metadata": {},
   "outputs": [],
   "source": [
    "toxval['pod_adj'] = pod_adj"
   ]
  },
  {
   "cell_type": "code",
   "execution_count": 20,
   "metadata": {},
   "outputs": [],
   "source": [
    "toxval[['study_duration_days', 'pod', 'dose_units',\n",
    "       'risk_assessment_class', 'pod_adj']].to_csv(interim_dir+'chk.csv')"
   ]
  },
  {
   "cell_type": "code",
   "execution_count": 21,
   "metadata": {},
   "outputs": [],
   "source": [
    "df = toxval.groupby(toxval.index).agg({'pod_adj': ['min', 'max', 'median']}).reset_index()"
   ]
  },
  {
   "cell_type": "code",
   "execution_count": 22,
   "metadata": {},
   "outputs": [
    {
     "data": {
      "text/html": [
       "<div>\n",
       "<style scoped>\n",
       "    .dataframe tbody tr th:only-of-type {\n",
       "        vertical-align: middle;\n",
       "    }\n",
       "\n",
       "    .dataframe tbody tr th {\n",
       "        vertical-align: top;\n",
       "    }\n",
       "\n",
       "    .dataframe thead tr th {\n",
       "        text-align: left;\n",
       "    }\n",
       "</style>\n",
       "<table border=\"1\" class=\"dataframe\">\n",
       "  <thead>\n",
       "    <tr>\n",
       "      <th></th>\n",
       "      <th>dsstox_sid</th>\n",
       "      <th colspan=\"3\" halign=\"left\">pod_adj</th>\n",
       "    </tr>\n",
       "    <tr>\n",
       "      <th></th>\n",
       "      <th></th>\n",
       "      <th>min</th>\n",
       "      <th>max</th>\n",
       "      <th>median</th>\n",
       "    </tr>\n",
       "  </thead>\n",
       "  <tbody>\n",
       "    <tr>\n",
       "      <th>0</th>\n",
       "      <td>DTXSID0020498</td>\n",
       "      <td>52.166667</td>\n",
       "      <td>1500.000000</td>\n",
       "      <td>250.000000</td>\n",
       "    </tr>\n",
       "    <tr>\n",
       "      <th>1</th>\n",
       "      <td>DTXSID0020606</td>\n",
       "      <td>33.333333</td>\n",
       "      <td>1875.000000</td>\n",
       "      <td>170.000000</td>\n",
       "    </tr>\n",
       "    <tr>\n",
       "      <th>2</th>\n",
       "      <td>DTXSID0021961</td>\n",
       "      <td>3.333333</td>\n",
       "      <td>200.000000</td>\n",
       "      <td>15.000000</td>\n",
       "    </tr>\n",
       "    <tr>\n",
       "      <th>3</th>\n",
       "      <td>DTXSID0026044</td>\n",
       "      <td>110.000000</td>\n",
       "      <td>110.000000</td>\n",
       "      <td>110.000000</td>\n",
       "    </tr>\n",
       "    <tr>\n",
       "      <th>4</th>\n",
       "      <td>DTXSID0026701</td>\n",
       "      <td>83.333333</td>\n",
       "      <td>1000.000000</td>\n",
       "      <td>127.166667</td>\n",
       "    </tr>\n",
       "    <tr>\n",
       "      <th>...</th>\n",
       "      <td>...</td>\n",
       "      <td>...</td>\n",
       "      <td>...</td>\n",
       "      <td>...</td>\n",
       "    </tr>\n",
       "    <tr>\n",
       "      <th>138</th>\n",
       "      <td>DTXSID9027730</td>\n",
       "      <td>500.000000</td>\n",
       "      <td>500.000000</td>\n",
       "      <td>500.000000</td>\n",
       "    </tr>\n",
       "    <tr>\n",
       "      <th>139</th>\n",
       "      <td>DTXSID9034941</td>\n",
       "      <td>3.333333</td>\n",
       "      <td>166.666667</td>\n",
       "      <td>50.000000</td>\n",
       "    </tr>\n",
       "    <tr>\n",
       "      <th>140</th>\n",
       "      <td>DTXSID9044748</td>\n",
       "      <td>50.000000</td>\n",
       "      <td>900.000000</td>\n",
       "      <td>150.000000</td>\n",
       "    </tr>\n",
       "    <tr>\n",
       "      <th>141</th>\n",
       "      <td>DTXSID9047172</td>\n",
       "      <td>50.000000</td>\n",
       "      <td>3000.000000</td>\n",
       "      <td>1000.000000</td>\n",
       "    </tr>\n",
       "    <tr>\n",
       "      <th>142</th>\n",
       "      <td>DTXSID9052006</td>\n",
       "      <td>16.666667</td>\n",
       "      <td>500.000000</td>\n",
       "      <td>200.000000</td>\n",
       "    </tr>\n",
       "  </tbody>\n",
       "</table>\n",
       "<p>143 rows × 4 columns</p>\n",
       "</div>"
      ],
      "text/plain": [
       "        dsstox_sid     pod_adj                          \n",
       "                           min          max       median\n",
       "0    DTXSID0020498   52.166667  1500.000000   250.000000\n",
       "1    DTXSID0020606   33.333333  1875.000000   170.000000\n",
       "2    DTXSID0021961    3.333333   200.000000    15.000000\n",
       "3    DTXSID0026044  110.000000   110.000000   110.000000\n",
       "4    DTXSID0026701   83.333333  1000.000000   127.166667\n",
       "..             ...         ...          ...          ...\n",
       "138  DTXSID9027730  500.000000   500.000000   500.000000\n",
       "139  DTXSID9034941    3.333333   166.666667    50.000000\n",
       "140  DTXSID9044748   50.000000   900.000000   150.000000\n",
       "141  DTXSID9047172   50.000000  3000.000000  1000.000000\n",
       "142  DTXSID9052006   16.666667   500.000000   200.000000\n",
       "\n",
       "[143 rows x 4 columns]"
      ]
     },
     "execution_count": 22,
     "metadata": {},
     "output_type": "execute_result"
    }
   ],
   "source": [
    "df"
   ]
  },
  {
   "cell_type": "code",
   "execution_count": 23,
   "metadata": {},
   "outputs": [],
   "source": [
    "df.columns = df.columns.droplevel(0)"
   ]
  },
  {
   "cell_type": "code",
   "execution_count": 24,
   "metadata": {},
   "outputs": [],
   "source": [
    "df.columns = ['dtxsid', 'min', 'max', 'median']"
   ]
  },
  {
   "cell_type": "code",
   "execution_count": 25,
   "metadata": {},
   "outputs": [],
   "source": [
    "df['logNOAEL'] = np.log10(df['min'])"
   ]
  },
  {
   "cell_type": "code",
   "execution_count": 26,
   "metadata": {},
   "outputs": [
    {
     "data": {
      "text/html": [
       "<div>\n",
       "<style scoped>\n",
       "    .dataframe tbody tr th:only-of-type {\n",
       "        vertical-align: middle;\n",
       "    }\n",
       "\n",
       "    .dataframe tbody tr th {\n",
       "        vertical-align: top;\n",
       "    }\n",
       "\n",
       "    .dataframe thead th {\n",
       "        text-align: right;\n",
       "    }\n",
       "</style>\n",
       "<table border=\"1\" class=\"dataframe\">\n",
       "  <thead>\n",
       "    <tr style=\"text-align: right;\">\n",
       "      <th></th>\n",
       "      <th>dtxsid</th>\n",
       "      <th>min</th>\n",
       "      <th>max</th>\n",
       "      <th>median</th>\n",
       "      <th>logNOAEL</th>\n",
       "    </tr>\n",
       "  </thead>\n",
       "  <tbody>\n",
       "    <tr>\n",
       "      <th>0</th>\n",
       "      <td>DTXSID0020498</td>\n",
       "      <td>52.166667</td>\n",
       "      <td>1500.000000</td>\n",
       "      <td>250.000000</td>\n",
       "      <td>1.717393</td>\n",
       "    </tr>\n",
       "    <tr>\n",
       "      <th>1</th>\n",
       "      <td>DTXSID0020606</td>\n",
       "      <td>33.333333</td>\n",
       "      <td>1875.000000</td>\n",
       "      <td>170.000000</td>\n",
       "      <td>1.522879</td>\n",
       "    </tr>\n",
       "    <tr>\n",
       "      <th>2</th>\n",
       "      <td>DTXSID0021961</td>\n",
       "      <td>3.333333</td>\n",
       "      <td>200.000000</td>\n",
       "      <td>15.000000</td>\n",
       "      <td>0.522879</td>\n",
       "    </tr>\n",
       "    <tr>\n",
       "      <th>3</th>\n",
       "      <td>DTXSID0026044</td>\n",
       "      <td>110.000000</td>\n",
       "      <td>110.000000</td>\n",
       "      <td>110.000000</td>\n",
       "      <td>2.041393</td>\n",
       "    </tr>\n",
       "    <tr>\n",
       "      <th>4</th>\n",
       "      <td>DTXSID0026701</td>\n",
       "      <td>83.333333</td>\n",
       "      <td>1000.000000</td>\n",
       "      <td>127.166667</td>\n",
       "      <td>1.920819</td>\n",
       "    </tr>\n",
       "    <tr>\n",
       "      <th>...</th>\n",
       "      <td>...</td>\n",
       "      <td>...</td>\n",
       "      <td>...</td>\n",
       "      <td>...</td>\n",
       "      <td>...</td>\n",
       "    </tr>\n",
       "    <tr>\n",
       "      <th>138</th>\n",
       "      <td>DTXSID9027730</td>\n",
       "      <td>500.000000</td>\n",
       "      <td>500.000000</td>\n",
       "      <td>500.000000</td>\n",
       "      <td>2.698970</td>\n",
       "    </tr>\n",
       "    <tr>\n",
       "      <th>139</th>\n",
       "      <td>DTXSID9034941</td>\n",
       "      <td>3.333333</td>\n",
       "      <td>166.666667</td>\n",
       "      <td>50.000000</td>\n",
       "      <td>0.522879</td>\n",
       "    </tr>\n",
       "    <tr>\n",
       "      <th>140</th>\n",
       "      <td>DTXSID9044748</td>\n",
       "      <td>50.000000</td>\n",
       "      <td>900.000000</td>\n",
       "      <td>150.000000</td>\n",
       "      <td>1.698970</td>\n",
       "    </tr>\n",
       "    <tr>\n",
       "      <th>141</th>\n",
       "      <td>DTXSID9047172</td>\n",
       "      <td>50.000000</td>\n",
       "      <td>3000.000000</td>\n",
       "      <td>1000.000000</td>\n",
       "      <td>1.698970</td>\n",
       "    </tr>\n",
       "    <tr>\n",
       "      <th>142</th>\n",
       "      <td>DTXSID9052006</td>\n",
       "      <td>16.666667</td>\n",
       "      <td>500.000000</td>\n",
       "      <td>200.000000</td>\n",
       "      <td>1.221849</td>\n",
       "    </tr>\n",
       "  </tbody>\n",
       "</table>\n",
       "<p>143 rows × 5 columns</p>\n",
       "</div>"
      ],
      "text/plain": [
       "            dtxsid         min          max       median  logNOAEL\n",
       "0    DTXSID0020498   52.166667  1500.000000   250.000000  1.717393\n",
       "1    DTXSID0020606   33.333333  1875.000000   170.000000  1.522879\n",
       "2    DTXSID0021961    3.333333   200.000000    15.000000  0.522879\n",
       "3    DTXSID0026044  110.000000   110.000000   110.000000  2.041393\n",
       "4    DTXSID0026701   83.333333  1000.000000   127.166667  1.920819\n",
       "..             ...         ...          ...          ...       ...\n",
       "138  DTXSID9027730  500.000000   500.000000   500.000000  2.698970\n",
       "139  DTXSID9034941    3.333333   166.666667    50.000000  0.522879\n",
       "140  DTXSID9044748   50.000000   900.000000   150.000000  1.698970\n",
       "141  DTXSID9047172   50.000000  3000.000000  1000.000000  1.698970\n",
       "142  DTXSID9052006   16.666667   500.000000   200.000000  1.221849\n",
       "\n",
       "[143 rows x 5 columns]"
      ]
     },
     "execution_count": 26,
     "metadata": {},
     "output_type": "execute_result"
    }
   ],
   "source": [
    "df"
   ]
  },
  {
   "cell_type": "code",
   "execution_count": 27,
   "metadata": {},
   "outputs": [],
   "source": [
    "def ecdf(data):\n",
    "    \"\"\"Compute ECDF for a one-dimensional array of measurements.\"\"\"\n",
    "    # Number of data points: n\n",
    "    n = len(data)\n",
    "\n",
    "    # x-data for the ECDF: x\n",
    "    x = np.sort(data)\n",
    "\n",
    "    # y-data for the ECDF: y\n",
    "    y = np.arange(1, n + 1) / n\n",
    "\n",
    "    return x, y"
   ]
  },
  {
   "cell_type": "code",
   "execution_count": 28,
   "metadata": {},
   "outputs": [],
   "source": [
    "def bootstrap_replicate_1d(data, func):\n",
    "    return func(np.random.choice(data, size = len(data)), 5)"
   ]
  },
  {
   "cell_type": "code",
   "execution_count": 29,
   "metadata": {},
   "outputs": [],
   "source": [
    "def draw_bs_reps(data, func, size = 1):\n",
    "    bs_replicates = np.empty(size)\n",
    "    for i in range(size):\n",
    "        bs_replicates[i] = bootstrap_replicate_1d(data, func)\n",
    "    return bs_replicates"
   ]
  },
  {
   "cell_type": "code",
   "execution_count": 30,
   "metadata": {},
   "outputs": [
    {
     "data": {
      "text/plain": [
       "Text(0.5, 0, 'logNOAEL')"
      ]
     },
     "execution_count": 30,
     "metadata": {},
     "output_type": "execute_result"
    },
    {
     "data": {
      "image/png": "[encoded data removed]",
      "text/plain": [
       "<Figure size 432x288 with 1 Axes>"
      ]
     },
     "metadata": {
      "needs_background": "light"
     },
     "output_type": "display_data"
    }
   ],
   "source": [
    "x, y = ecdf(df['logNOAEL'])\n",
    "plt.plot(x, y, linestyle = 'None', marker = '.')\n",
    "plt.ylabel('ECDF')\n",
    "plt.xlabel('logNOAEL')"
   ]
  },
  {
   "cell_type": "code",
   "execution_count": 58,
   "metadata": {},
   "outputs": [
    {
     "data": {
      "text/plain": [
       "0.16973322935783736"
      ]
     },
     "execution_count": 58,
     "metadata": {},
     "output_type": "execute_result"
    }
   ],
   "source": [
    "10**(np.percentile(df['logNOAEL'], 5))"
   ]
  },
  {
   "cell_type": "markdown",
   "metadata": {},
   "source": [
    "Taking the 5th percentile and adjusting to ug per person (X60/100)X1000"
   ]
  },
  {
   "cell_type": "code",
   "execution_count": 61,
   "metadata": {},
   "outputs": [
    {
     "data": {
      "text/plain": [
       "101.83993761470241"
      ]
     },
     "execution_count": 61,
     "metadata": {},
     "output_type": "execute_result"
    }
   ],
   "source": [
    "((0.16973322935783736*60)/100)*1000"
   ]
  },
  {
   "cell_type": "code",
   "execution_count": 63,
   "metadata": {},
   "outputs": [
    {
     "data": {
      "text/plain": [
       "-0.7702331257788811"
      ]
     },
     "execution_count": 63,
     "metadata": {},
     "output_type": "execute_result"
    }
   ],
   "source": [
    "np.percentile(df['logNOAEL'], 5)"
   ]
  },
  {
   "cell_type": "code",
   "execution_count": 70,
   "metadata": {},
   "outputs": [
    {
     "data": {
      "text/plain": [
       "0.05366687422111882"
      ]
     },
     "execution_count": 70,
     "metadata": {},
     "output_type": "execute_result"
    }
   ],
   "source": [
    "np.percentile(df['logNOAEL'], 5) - cramer3"
   ]
  },
  {
   "cell_type": "code",
   "execution_count": 64,
   "metadata": {},
   "outputs": [],
   "source": [
    "bs_replicates = draw_bs_reps(df['logNOAEL'], np.percentile, size = 1000)"
   ]
  },
  {
   "cell_type": "code",
   "execution_count": 65,
   "metadata": {},
   "outputs": [
    {
     "name": "stdout",
     "output_type": "stream",
     "text": [
      "95% confidence interval =  [ 0.25       16.66666667]\n",
      "median =  1.6973322935783737\n"
     ]
    }
   ],
   "source": [
    "median_thresh = ( (10**np.median(bs_replicates))/100)*1000\n",
    "conf_int = ((10**np.percentile(bs_replicates, [2.5,97.5]))/100)*1000\n",
    "print('95% confidence interval = ', conf_int)\n",
    "print('median = ', median_thresh)"
   ]
  },
  {
   "cell_type": "code",
   "execution_count": 66,
   "metadata": {},
   "outputs": [
    {
     "data": {
      "text/plain": [
       "array([ 0.25      , 16.66666667])"
      ]
     },
     "execution_count": 66,
     "metadata": {},
     "output_type": "execute_result"
    }
   ],
   "source": [
    "conf_int"
   ]
  },
  {
   "cell_type": "code",
   "execution_count": 67,
   "metadata": {},
   "outputs": [
    {
     "data": {
      "image/png": "[encoded data removed]",
      "text/plain": [
       "<Figure size 432x288 with 1 Axes>"
      ]
     },
     "metadata": {
      "needs_background": "light"
     },
     "output_type": "display_data"
    }
   ],
   "source": [
    "plt.hist(bs_replicates, bins = 15)\n",
    "plt.xlabel('bs_replicate_5th_percentile')\n",
    "plt.tight_layout()\n"
   ]
  },
  {
   "cell_type": "markdown",
   "metadata": {},
   "source": [
    "#### Munro's Cramer III 5th percentile os 0.15 mg/kg bw/day. Is that the same as what we had determined\n",
    "#### We could convert that into log10 form and compare that to our dataset to understand whether there is a real difference between the 2 5th percentile values in practice. This would be akin to a 1-sided bootstrap test."
   ]
  },
  {
   "cell_type": "markdown",
   "metadata": {},
   "source": [
    "null hypothesis is that the 2 5th percentiles are the same\n"
   ]
  },
  {
   "cell_type": "code",
   "execution_count": 68,
   "metadata": {},
   "outputs": [],
   "source": [
    "cramer3 = round(np.log10(0.15), 4)"
   ]
  },
  {
   "cell_type": "code",
   "execution_count": 69,
   "metadata": {},
   "outputs": [
    {
     "data": {
      "text/plain": [
       "-0.8239"
      ]
     },
     "execution_count": 69,
     "metadata": {},
     "output_type": "execute_result"
    }
   ],
   "source": [
    "cramer3"
   ]
  },
  {
   "cell_type": "code",
   "execution_count": 71,
   "metadata": {},
   "outputs": [],
   "source": [
    "toxval_shifted = df['logNOAEL'] - np.percentile(df['logNOAEL'], 5) + cramer3"
   ]
  },
  {
   "cell_type": "code",
   "execution_count": 72,
   "metadata": {},
   "outputs": [],
   "source": [
    "def diff_from_cramer(data, cramer = cramer3):\n",
    "    return np.percentile(data, 5) - cramer"
   ]
  },
  {
   "cell_type": "code",
   "execution_count": 73,
   "metadata": {},
   "outputs": [],
   "source": [
    "diff_obs = diff_from_cramer(df['logNOAEL'] )"
   ]
  },
  {
   "cell_type": "code",
   "execution_count": 74,
   "metadata": {},
   "outputs": [
    {
     "data": {
      "text/plain": [
       "0.05366687422111882"
      ]
     },
     "execution_count": 74,
     "metadata": {},
     "output_type": "execute_result"
    }
   ],
   "source": [
    "diff_obs"
   ]
  },
  {
   "cell_type": "code",
   "execution_count": 75,
   "metadata": {},
   "outputs": [],
   "source": [
    "def bootstrap_replicate_1d_v2(data, func):\n",
    "    \"\"\"Generate bootstrap replicate of 1D data.\"\"\"\n",
    "    bs_sample = np.random.choice(data, len(data))\n",
    "    return func(bs_sample)"
   ]
  },
  {
   "cell_type": "code",
   "execution_count": 76,
   "metadata": {},
   "outputs": [],
   "source": [
    "def draw_bs_reps_v2(data, func, size=1):\n",
    "    \"\"\"Draw bootstrap replicates.\"\"\"\n",
    "\n",
    "    # Initialize array of replicates: bs_replicates\n",
    "    bs_replicates = np.empty(size)\n",
    "\n",
    "    # Generate replicates\n",
    "    for i in range(size):\n",
    "        bs_replicates[i] = bootstrap_replicate_1d_v2(data, func)\n",
    "\n",
    "    return bs_replicates\n"
   ]
  },
  {
   "cell_type": "code",
   "execution_count": 77,
   "metadata": {},
   "outputs": [],
   "source": [
    "bs_replicates2 = draw_bs_reps_v2(toxval_shifted, diff_from_cramer, size = 1000)"
   ]
  },
  {
   "cell_type": "code",
   "execution_count": 78,
   "metadata": {},
   "outputs": [
    {
     "data": {
      "text/plain": [
       "0.438"
      ]
     },
     "execution_count": 78,
     "metadata": {},
     "output_type": "execute_result"
    }
   ],
   "source": [
    "np.sum(bs_replicates2 >= diff_obs)/1000"
   ]
  },
  {
   "cell_type": "code",
   "execution_count": 79,
   "metadata": {},
   "outputs": [
    {
     "data": {
      "text/plain": [
       "(array([ 22.,  27.,  87., 250., 176., 217.,  80.,  68.,  24.,  49.]),\n",
       " array([-1.05367562, -0.83128821, -0.60890081, -0.38651341, -0.164126  ,\n",
       "         0.0582614 ,  0.2806488 ,  0.50303621,  0.72542361,  0.94781101,\n",
       "         1.17019841]),\n",
       " <BarContainer object of 10 artists>)"
      ]
     },
     "execution_count": 79,
     "metadata": {},
     "output_type": "execute_result"
    },
    {
     "data": {
      "image/png": "[encoded data removed]",
      "text/plain": [
       "<Figure size 432x288 with 1 Axes>"
      ]
     },
     "metadata": {
      "needs_background": "light"
     },
     "output_type": "display_data"
    }
   ],
   "source": [
    "plt.hist(bs_replicates2)"
   ]
  },
  {
   "cell_type": "code",
   "execution_count": null,
   "metadata": {},
   "outputs": [],
   "source": []
  },
  {
   "cell_type": "code",
   "execution_count": null,
   "metadata": {},
   "outputs": [],
   "source": []
  },
  {
   "cell_type": "code",
   "execution_count": null,
   "metadata": {},
   "outputs": [],
   "source": []
  }
 ],
 "metadata": {
  "kernelspec": {
   "display_name": "pfas_dap",
   "language": "python",
   "name": "pfas_dap"
  },
  "language_info": {
   "codemirror_mode": {
    "name": "ipython",
    "version": 3
   },
   "file_extension": ".py",
   "mimetype": "text/x-python",
   "name": "python",
   "nbconvert_exporter": "python",
   "pygments_lexer": "ipython3",
   "version": "3.8.6"
  }
 },
 "nbformat": 4,
 "nbformat_minor": 4
}
