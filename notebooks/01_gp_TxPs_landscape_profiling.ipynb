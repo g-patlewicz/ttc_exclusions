{
 "cells": [
  {
   "cell_type": "code",
   "execution_count": 1,
   "metadata": {},
   "outputs": [],
   "source": [
    "import pandas as pd\n",
    "import numpy as np\n",
    "import matplotlib.pyplot as plt\n",
    "import seaborn as sns\n",
    "%matplotlib inline"
   ]
  },
  {
   "cell_type": "code",
   "execution_count": 2,
   "metadata": {},
   "outputs": [],
   "source": [
    "import os"
   ]
  },
  {
   "cell_type": "code",
   "execution_count": 3,
   "metadata": {},
   "outputs": [],
   "source": [
    "raw_dir = '/home/grace/Documents/python/ttc_exclusions/data/raw/'\n",
    "processed_dir = '/home/grace/Documents/python/ttc_exclusions/data/processed/'\n",
    "figures_dir = '/home/grace/Documents/python/ttc_exclusions/reports/figures/'\n",
    "refs_dir = '/home/grace/Documents/python/ttc_exclusions/references/'"
   ]
  },
  {
   "cell_type": "markdown",
   "metadata": {},
   "source": [
    "## Visualising ELISE and LRI datasets through ToxPrints"
   ]
  },
  {
   "cell_type": "code",
   "execution_count": 4,
   "metadata": {},
   "outputs": [],
   "source": [
    "xls = pd.ExcelFile(raw_dir+'ELISE_270919.xlsx')"
   ]
  },
  {
   "cell_type": "code",
   "execution_count": 5,
   "metadata": {},
   "outputs": [
    {
     "data": {
      "text/plain": [
       "['ELISE', 'Sheet1', 'ELISE_txpts_CORINA_270919']"
      ]
     },
     "execution_count": 5,
     "metadata": {},
     "output_type": "execute_result"
    }
   ],
   "source": [
    "xls.sheet_names"
   ]
  },
  {
   "cell_type": "code",
   "execution_count": 6,
   "metadata": {},
   "outputs": [],
   "source": [
    "elise_orig = xls.parse('ELISE')"
   ]
  },
  {
   "cell_type": "code",
   "execution_count": 7,
   "metadata": {},
   "outputs": [
    {
     "data": {
      "text/plain": [
       "Index(['Name', 'CAS Number ', 'CAS_corrected', 'INPUT', 'FOUND_BY', 'DTXSID',\n",
       "       'PREFERRED_NAME', 'CASRN', 'SMILES', 'QSAR_READY_SMILES'],\n",
       "      dtype='object')"
      ]
     },
     "execution_count": 7,
     "metadata": {},
     "output_type": "execute_result"
    }
   ],
   "source": [
    "elise_orig.columns"
   ]
  },
  {
   "cell_type": "code",
   "execution_count": 8,
   "metadata": {},
   "outputs": [
    {
     "data": {
      "text/plain": [
       "420"
      ]
     },
     "execution_count": 8,
     "metadata": {},
     "output_type": "execute_result"
    }
   ],
   "source": [
    "#print(elise_orig.DTXSID.unique())\n",
    "#elise_orig.QSAR_READY_SMILES.nunique()\n",
    "elise_orig.QSAR_READY_SMILES.count()"
   ]
  },
  {
   "cell_type": "code",
   "execution_count": 9,
   "metadata": {},
   "outputs": [],
   "source": [
    "elise_txps = xls.parse('ELISE_txpts_CORINA_270919')"
   ]
  },
  {
   "cell_type": "code",
   "execution_count": 10,
   "metadata": {},
   "outputs": [
    {
     "data": {
      "text/plain": [
       "429"
      ]
     },
     "execution_count": 10,
     "metadata": {},
     "output_type": "execute_result"
    }
   ],
   "source": [
    "elise_txps.SMILES.count()"
   ]
  },
  {
   "cell_type": "code",
   "execution_count": 11,
   "metadata": {},
   "outputs": [
    {
     "data": {
      "text/html": [
       "<div>\n",
       "<style scoped>\n",
       "    .dataframe tbody tr th:only-of-type {\n",
       "        vertical-align: middle;\n",
       "    }\n",
       "\n",
       "    .dataframe tbody tr th {\n",
       "        vertical-align: top;\n",
       "    }\n",
       "\n",
       "    .dataframe thead th {\n",
       "        text-align: right;\n",
       "    }\n",
       "</style>\n",
       "<table border=\"1\" class=\"dataframe\">\n",
       "  <thead>\n",
       "    <tr style=\"text-align: right;\">\n",
       "      <th></th>\n",
       "      <th>Record number</th>\n",
       "      <th>Compound history</th>\n",
       "      <th>CASRN</th>\n",
       "      <th>SMILES</th>\n",
       "      <th>FOUND_BY</th>\n",
       "      <th>DTXSID</th>\n",
       "      <th>QSAR_READY_SMILES</th>\n",
       "      <th>NAME</th>\n",
       "      <th>STRUCTURE_WARNING</th>\n",
       "      <th>atom:element_main_group</th>\n",
       "      <th>...</th>\n",
       "      <th>ring:polycycle_bicyclo_propene</th>\n",
       "      <th>ring:polycycle_spiro_[2.2]pentane</th>\n",
       "      <th>ring:polycycle_spiro_[2.5]octane</th>\n",
       "      <th>ring:polycycle_spiro_[4.5]decane</th>\n",
       "      <th>ring:polycycle_spiro_1_4-dioxaspiro[4.5]decane</th>\n",
       "      <th>ring:polycycle_tricyclo_[3.5.5]_cyclopropa[cd]pentalene</th>\n",
       "      <th>ring:polycycle_tricyclo_[3.7.7]bullvalene</th>\n",
       "      <th>ring:polycycle_tricyclo_[3.7.7]semibullvalene</th>\n",
       "      <th>ring:polycycle_tricyclo_adamantane</th>\n",
       "      <th>ring:polycycle_tricyclo_benzvalene</th>\n",
       "    </tr>\n",
       "  </thead>\n",
       "  <tbody>\n",
       "  </tbody>\n",
       "</table>\n",
       "<p>0 rows × 738 columns</p>\n",
       "</div>"
      ],
      "text/plain": [
       "Empty DataFrame\n",
       "Columns: [Record number, Compound history, CASRN, SMILES, FOUND_BY, DTXSID, QSAR_READY_SMILES, NAME, STRUCTURE_WARNING, atom:element_main_group, atom:element_metal_group_I_II, atom:element_metal_group_III, atom:element_metal_metalloid, atom:element_metal_poor_metal, atom:element_metal_transistion_metal, atom:element_noble_gas, bond:C#N_cyano_acylcyanide, bond:C#N_cyano_cyanamide, bond:C#N_cyano_cyanohydrin, bond:C#N_nitrile_ab-acetylenic, bond:C#N_nitrile_ab-unsaturated, bond:C#N_nitrile_generic, bond:C#N_nitrile_isonitrile, bond:C#N_nitrile, bond:C(~Z)~C~Q_a-haloalcohol, bond:C(~Z)~C~Q_a-halocarbonyl, bond:C(~Z)~C~Q_a-haloether, bond:C(~Z)~C~Q_a-haloketone_perhalo, bond:C(~Z)~C~Q_b-halocarbonyl, bond:C(~Z)~C~Q_haloamine_haloethyl_(N-mustard), bond:C(~Z)~C~Q_halocarbonyl_dichloro_quinone_(1_2-), bond:C(~Z)~C~Q_halocarbonyl_dichloro_quinone_(1_4-), bond:C(~Z)~C~Q_halocarbonyl_dichloro_quinone_(1_5-), bond:C(~Z)~C~Q_haloether_dibenzodioxin_1-halo, bond:C(~Z)~C~Q_haloether_dibenzodioxin_2-halo, bond:C(~Z)~C~Q_haloether_dibenzodioxin_dichloro_(2_7-), bond:C(~Z)~C~Q_haloether_dibenzodioxin_tetrachloro_(2_3_7_8-), bond:C(~Z)~C~Q_haloether_pyrimidine_2-halo-, bond:C(=O)N_carbamate_dithio, bond:C(=O)N_carbamate_thio, bond:C(=O)N_carbamate_thio_generic, bond:C(=O)N_carbamate, bond:C(=O)N_carboxamide_(NH2), bond:C(=O)N_carboxamide_(NHR), bond:C(=O)N_carboxamide_(NR2), bond:C(=O)N_carboxamide_generic, bond:C(=O)N_carboxamide_thio, bond:C(=O)N_dicarboxamide_N-hydroxy, bond:C(=O)O_acidAnhydride, bond:C(=O)O_carboxylicAcid_alkenyl, bond:C(=O)O_carboxylicAcid_alkyl, bond:C(=O)O_carboxylicAcid_aromatic, bond:C(=O)O_carboxylicAcid_generic, bond:C(=O)O_carboxylicEster_4-nitrophenol, bond:C(=O)O_carboxylicEster_acyclic, bond:C(=O)O_carboxylicEster_aliphatic, bond:C(=O)O_carboxylicEster_alkenyl, bond:C(=O)O_carboxylicEster_alkyl, bond:C(=O)O_carboxylicEster_aromatic, bond:C(=O)O_carboxylicEster_cyclic_b-propiolactone, bond:C(=O)O_carboxylicEster_N-hydroxytriazole_(aromatic), bond:C(=O)O_carboxylicEster_O-pentafluorophenoxy, bond:C(=O)O_carboxylicEster_thio, bond:C=N_carbodiimide, bond:C=N_carboxamidine_generic, bond:C=N_guanidine_generic, bond:C=N_imine_C(connect_H_gt_0), bond:C=N_imine_N(connect_noZ), bond:C=N_imine_oxy, bond:C=O_acyl_halide, bond:C=O_acyl_hydrazide, bond:C=O_aldehyde_alkyl, bond:C=O_aldehyde_aromatic, bond:C=O_aldehyde_generic, bond:C=O_carbonyl_1_2-di, bond:C=O_carbonyl_ab-acetylenic, bond:C=O_carbonyl_ab-unsaturated_aliphatic_(michael_acceptors), bond:C=O_carbonyl_ab-unsaturated_generic, bond:C=O_carbonyl_azido, bond:C=O_carbonyl_generic, bond:C=S_acyl_thio_halide, bond:C=S_carbonyl_thio_generic, bond:CC(=O)C_ketone_aliphatic_acyclic, bond:CC(=O)C_ketone_aliphatic_generic, bond:CC(=O)C_ketone_alkane_cyclic, bond:CC(=O)C_ketone_alkane_cyclic_(C4), bond:CC(=O)C_ketone_alkane_cyclic_(C5), bond:CC(=O)C_ketone_alkane_cyclic_(C6), bond:CC(=O)C_ketone_alkene_cyclic_(C6), bond:CC(=O)C_ketone_alkene_cyclic_(C7), bond:CC(=O)C_ketone_alkene_cyclic_2-en-1-one, bond:CC(=O)C_ketone_alkene_cyclic_2-en-1-one_generic, bond:CC(=O)C_ketone_alkene_cyclic_3-en-1-one, bond:CC(=O)C_ketone_alkene_generic, bond:CC(=O)C_ketone_aromatic_aliphatic, bond:CC(=O)C_ketone_generic, bond:CC(=O)C_ketone_methyl_aliphatic, bond:CC(=O)C_quinone_1_2-benzo, bond:CC(=O)C_quinone_1_2-naphtho, bond:CC(=O)C_quinone_1_4-benzo, ...]\n",
       "Index: []\n",
       "\n",
       "[0 rows x 738 columns]"
      ]
     },
     "execution_count": 11,
     "metadata": {},
     "output_type": "execute_result"
    }
   ],
   "source": [
    "elise_txps[elise_txps['atom:element_main_group'].isnull()]"
   ]
  },
  {
   "cell_type": "code",
   "execution_count": 12,
   "metadata": {},
   "outputs": [
    {
     "data": {
      "text/plain": [
       "(429, 738)"
      ]
     },
     "execution_count": 12,
     "metadata": {},
     "output_type": "execute_result"
    }
   ],
   "source": [
    "elise_txps.shape"
   ]
  },
  {
   "cell_type": "markdown",
   "metadata": {},
   "source": [
    "#### Translation of 729 ToxPrints into Level 2 condensed ToxPrints for profiling purposes"
   ]
  },
  {
   "cell_type": "code",
   "execution_count": 13,
   "metadata": {},
   "outputs": [
    {
     "data": {
      "text/plain": [
       "0    428\n",
       "1      1\n",
       "Name: atom:element_main_group, dtype: int64"
      ]
     },
     "execution_count": 13,
     "metadata": {},
     "output_type": "execute_result"
    }
   ],
   "source": [
    "elise_txps['atom:element_main_group'].value_counts()"
   ]
  },
  {
   "cell_type": "code",
   "execution_count": 14,
   "metadata": {},
   "outputs": [],
   "source": [
    "txpts = pd.read_csv(refs_dir+'toxprint_V2.0_r711_5Levels.csv')"
   ]
  },
  {
   "cell_type": "code",
   "execution_count": 15,
   "metadata": {},
   "outputs": [],
   "source": [
    "level2_dict = {}\n",
    "for x,y in txpts.groupby(['Level 2 full']):\n",
    "    k = [e for e in y['Level 2 full'] if e!= ' '][0]\n",
    "    v = set(y['ToxPrint_chemotype_name (original)'])\n",
    "    level2_dict[k]=v"
   ]
  },
  {
   "cell_type": "code",
   "execution_count": 16,
   "metadata": {},
   "outputs": [
    {
     "data": {
      "text/plain": [
       "9"
      ]
     },
     "execution_count": 16,
     "metadata": {},
     "output_type": "execute_result"
    }
   ],
   "source": [
    "elise_txps.columns.get_loc('atom:element_main_group')"
   ]
  },
  {
   "cell_type": "code",
   "execution_count": 17,
   "metadata": {},
   "outputs": [],
   "source": [
    "elise_cols = elise_txps.columns.tolist()[9:]"
   ]
  },
  {
   "cell_type": "code",
   "execution_count": 18,
   "metadata": {},
   "outputs": [],
   "source": [
    "elise_txps = elise_txps.replace(0, np.nan)"
   ]
  },
  {
   "cell_type": "code",
   "execution_count": 19,
   "metadata": {},
   "outputs": [],
   "source": [
    "#elise_txps = elise_txps.dropna(how='all')"
   ]
  },
  {
   "cell_type": "code",
   "execution_count": 20,
   "metadata": {},
   "outputs": [],
   "source": [
    "elise_tps_long = pd.melt(elise_txps, id_vars='DTXSID',value_vars= elise_cols)"
   ]
  },
  {
   "cell_type": "code",
   "execution_count": 21,
   "metadata": {},
   "outputs": [],
   "source": [
    "elise_tps_long.rename(columns={'variable': 'toxprint'}, inplace=True)"
   ]
  },
  {
   "cell_type": "code",
   "execution_count": 22,
   "metadata": {},
   "outputs": [],
   "source": [
    "tag = {e:k for e in elise_tps_long['toxprint'] for k,v in level2_dict.items() if e in v}"
   ]
  },
  {
   "cell_type": "code",
   "execution_count": 23,
   "metadata": {},
   "outputs": [],
   "source": [
    "elise_tps_long['aggregate_toxprint'] = elise_tps_long['toxprint']"
   ]
  },
  {
   "cell_type": "code",
   "execution_count": 24,
   "metadata": {},
   "outputs": [],
   "source": [
    "elise_tps_long['aggregate_toxprint'].replace(tag , inplace = True)"
   ]
  },
  {
   "cell_type": "code",
   "execution_count": 25,
   "metadata": {},
   "outputs": [],
   "source": [
    "elise_tps_long = elise_tps_long.dropna(how = 'any', axis = 0)"
   ]
  },
  {
   "cell_type": "code",
   "execution_count": 26,
   "metadata": {},
   "outputs": [
    {
     "data": {
      "image/png": "[encoded data removed]",
      "text/plain": [
       "<Figure size 720x648 with 1 Axes>"
      ]
     },
     "metadata": {},
     "output_type": "display_data"
    }
   ],
   "source": [
    "plt.style.use('ggplot')\n",
    "plt.figure(figsize= (10,9))\n",
    "elise_tps_long.aggregate_toxprint.value_counts().plot.bar()\n",
    "plt.tight_layout()"
   ]
  },
  {
   "cell_type": "code",
   "execution_count": 27,
   "metadata": {},
   "outputs": [],
   "source": [
    "elise_bar = elise_tps_long.aggregate_toxprint.value_counts().reset_index()"
   ]
  },
  {
   "cell_type": "code",
   "execution_count": 28,
   "metadata": {},
   "outputs": [],
   "source": [
    "elise_bar.rename(columns = {'index' : 'Txp', 'aggregate_toxprint' : 'count'}, inplace = True)"
   ]
  },
  {
   "cell_type": "code",
   "execution_count": 29,
   "metadata": {},
   "outputs": [
    {
     "data": {
      "text/plain": [
       "<matplotlib.axes._subplots.AxesSubplot at 0x7f4d4575c780>"
      ]
     },
     "execution_count": 29,
     "metadata": {},
     "output_type": "execute_result"
    },
    {
     "data": {
      "image/png": "[encoded data removed]",
      "text/plain": [
       "<Figure size 720x720 with 1 Axes>"
      ]
     },
     "metadata": {},
     "output_type": "display_data"
    }
   ],
   "source": [
    "\n",
    "plt.figure(figsize = (10,10))\n",
    "sns.barplot(x = elise_bar['count'], y = elise_bar['Txp'], data = elise_bar)\n"
   ]
  },
  {
   "cell_type": "code",
   "execution_count": 30,
   "metadata": {},
   "outputs": [],
   "source": [
    "df_chunk = pd.read_csv(raw_dir+'lri_txps_140220.csv', chunksize=1000)\n",
    "\n",
    "chunk_list = []  # append each chunk df here \n",
    "\n",
    "# Each chunk is in df format\n",
    "for chunk in df_chunk:  \n",
    "    # perform data filtering \n",
    "    #chunk_filter = chunk_preprocessing(chunk)\n",
    "    \n",
    "    # Once the data filtering is done, append the chunk to list\n",
    "    chunk_list.append(chunk)\n",
    "    \n",
    "# concat the list into dataframe \n",
    "lri_tps = pd.concat(chunk_list)\n"
   ]
  },
  {
   "cell_type": "code",
   "execution_count": 31,
   "metadata": {},
   "outputs": [
    {
     "data": {
      "text/plain": [
       "(45038, 732)"
      ]
     },
     "execution_count": 31,
     "metadata": {},
     "output_type": "execute_result"
    }
   ],
   "source": [
    "lri_tps.shape"
   ]
  },
  {
   "cell_type": "code",
   "execution_count": 32,
   "metadata": {},
   "outputs": [
    {
     "data": {
      "text/html": [
       "<div>\n",
       "<style scoped>\n",
       "    .dataframe tbody tr th:only-of-type {\n",
       "        vertical-align: middle;\n",
       "    }\n",
       "\n",
       "    .dataframe tbody tr th {\n",
       "        vertical-align: top;\n",
       "    }\n",
       "\n",
       "    .dataframe thead th {\n",
       "        text-align: right;\n",
       "    }\n",
       "</style>\n",
       "<table border=\"1\" class=\"dataframe\">\n",
       "  <thead>\n",
       "    <tr style=\"text-align: right;\">\n",
       "      <th></th>\n",
       "      <th>M_NAME</th>\n",
       "      <th>atom:element_main_group</th>\n",
       "      <th>atom:element_metal_group_I_II</th>\n",
       "      <th>atom:element_metal_group_III</th>\n",
       "      <th>atom:element_metal_metalloid</th>\n",
       "      <th>atom:element_metal_poor_metal</th>\n",
       "      <th>atom:element_metal_transistion_metal</th>\n",
       "      <th>atom:element_noble_gas</th>\n",
       "      <th>bond:C#N_cyano_acylcyanide</th>\n",
       "      <th>bond:C#N_cyano_cyanamide</th>\n",
       "      <th>...</th>\n",
       "      <th>ring:polycycle_spiro_[2.5]octane</th>\n",
       "      <th>ring:polycycle_spiro_[4.5]decane</th>\n",
       "      <th>ring:polycycle_spiro_1_4-dioxaspiro[4.5]decane</th>\n",
       "      <th>ring:polycycle_tricyclo_[3.5.5]_cyclopropa[cd]pentalene</th>\n",
       "      <th>ring:polycycle_tricyclo_[3.7.7]bullvalene</th>\n",
       "      <th>ring:polycycle_tricyclo_[3.7.7]semibullvalene</th>\n",
       "      <th>ring:polycycle_tricyclo_adamantane</th>\n",
       "      <th>ring:polycycle_tricyclo_benzvalene</th>\n",
       "      <th>M_COMPOUND_HISTORY_[STRING]</th>\n",
       "      <th>M_CORINA_SYMPHONY_ERRORS_[STRING]</th>\n",
       "    </tr>\n",
       "  </thead>\n",
       "  <tbody>\n",
       "    <tr>\n",
       "      <th>0</th>\n",
       "      <td>DTXSID6020561</td>\n",
       "      <td>0</td>\n",
       "      <td>0</td>\n",
       "      <td>0</td>\n",
       "      <td>0</td>\n",
       "      <td>0</td>\n",
       "      <td>0</td>\n",
       "      <td>0</td>\n",
       "      <td>0</td>\n",
       "      <td>0</td>\n",
       "      <td>...</td>\n",
       "      <td>0</td>\n",
       "      <td>0</td>\n",
       "      <td>0</td>\n",
       "      <td>0</td>\n",
       "      <td>0</td>\n",
       "      <td>0</td>\n",
       "      <td>0</td>\n",
       "      <td>0</td>\n",
       "      <td>Original compound</td>\n",
       "      <td>No errors</td>\n",
       "    </tr>\n",
       "    <tr>\n",
       "      <th>1</th>\n",
       "      <td>DTXSID9020453</td>\n",
       "      <td>0</td>\n",
       "      <td>0</td>\n",
       "      <td>0</td>\n",
       "      <td>0</td>\n",
       "      <td>0</td>\n",
       "      <td>0</td>\n",
       "      <td>0</td>\n",
       "      <td>0</td>\n",
       "      <td>0</td>\n",
       "      <td>...</td>\n",
       "      <td>0</td>\n",
       "      <td>0</td>\n",
       "      <td>0</td>\n",
       "      <td>0</td>\n",
       "      <td>0</td>\n",
       "      <td>0</td>\n",
       "      <td>0</td>\n",
       "      <td>0</td>\n",
       "      <td>Original compound</td>\n",
       "      <td>No errors</td>\n",
       "    </tr>\n",
       "    <tr>\n",
       "      <th>2</th>\n",
       "      <td>DTXSID3034456</td>\n",
       "      <td>0</td>\n",
       "      <td>0</td>\n",
       "      <td>0</td>\n",
       "      <td>0</td>\n",
       "      <td>0</td>\n",
       "      <td>0</td>\n",
       "      <td>0</td>\n",
       "      <td>0</td>\n",
       "      <td>0</td>\n",
       "      <td>...</td>\n",
       "      <td>0</td>\n",
       "      <td>0</td>\n",
       "      <td>0</td>\n",
       "      <td>0</td>\n",
       "      <td>0</td>\n",
       "      <td>0</td>\n",
       "      <td>0</td>\n",
       "      <td>0</td>\n",
       "      <td>Original compound</td>\n",
       "      <td>No errors</td>\n",
       "    </tr>\n",
       "    <tr>\n",
       "      <th>3</th>\n",
       "      <td>DTXSID2024242</td>\n",
       "      <td>0</td>\n",
       "      <td>0</td>\n",
       "      <td>0</td>\n",
       "      <td>0</td>\n",
       "      <td>0</td>\n",
       "      <td>0</td>\n",
       "      <td>0</td>\n",
       "      <td>0</td>\n",
       "      <td>0</td>\n",
       "      <td>...</td>\n",
       "      <td>0</td>\n",
       "      <td>0</td>\n",
       "      <td>0</td>\n",
       "      <td>0</td>\n",
       "      <td>0</td>\n",
       "      <td>0</td>\n",
       "      <td>0</td>\n",
       "      <td>0</td>\n",
       "      <td>Original compound</td>\n",
       "      <td>No errors</td>\n",
       "    </tr>\n",
       "    <tr>\n",
       "      <th>4</th>\n",
       "      <td>DTXSID4032376</td>\n",
       "      <td>0</td>\n",
       "      <td>0</td>\n",
       "      <td>0</td>\n",
       "      <td>0</td>\n",
       "      <td>0</td>\n",
       "      <td>0</td>\n",
       "      <td>0</td>\n",
       "      <td>0</td>\n",
       "      <td>0</td>\n",
       "      <td>...</td>\n",
       "      <td>0</td>\n",
       "      <td>0</td>\n",
       "      <td>0</td>\n",
       "      <td>0</td>\n",
       "      <td>0</td>\n",
       "      <td>0</td>\n",
       "      <td>0</td>\n",
       "      <td>0</td>\n",
       "      <td>Original compound</td>\n",
       "      <td>No errors</td>\n",
       "    </tr>\n",
       "  </tbody>\n",
       "</table>\n",
       "<p>5 rows × 732 columns</p>\n",
       "</div>"
      ],
      "text/plain": [
       "          M_NAME  atom:element_main_group  atom:element_metal_group_I_II  \\\n",
       "0  DTXSID6020561                        0                              0   \n",
       "1  DTXSID9020453                        0                              0   \n",
       "2  DTXSID3034456                        0                              0   \n",
       "3  DTXSID2024242                        0                              0   \n",
       "4  DTXSID4032376                        0                              0   \n",
       "\n",
       "   atom:element_metal_group_III  atom:element_metal_metalloid  \\\n",
       "0                             0                             0   \n",
       "1                             0                             0   \n",
       "2                             0                             0   \n",
       "3                             0                             0   \n",
       "4                             0                             0   \n",
       "\n",
       "   atom:element_metal_poor_metal  atom:element_metal_transistion_metal  \\\n",
       "0                              0                                     0   \n",
       "1                              0                                     0   \n",
       "2                              0                                     0   \n",
       "3                              0                                     0   \n",
       "4                              0                                     0   \n",
       "\n",
       "   atom:element_noble_gas  bond:C#N_cyano_acylcyanide  \\\n",
       "0                       0                           0   \n",
       "1                       0                           0   \n",
       "2                       0                           0   \n",
       "3                       0                           0   \n",
       "4                       0                           0   \n",
       "\n",
       "   bond:C#N_cyano_cyanamide  ...  ring:polycycle_spiro_[2.5]octane  \\\n",
       "0                         0  ...                                 0   \n",
       "1                         0  ...                                 0   \n",
       "2                         0  ...                                 0   \n",
       "3                         0  ...                                 0   \n",
       "4                         0  ...                                 0   \n",
       "\n",
       "   ring:polycycle_spiro_[4.5]decane  \\\n",
       "0                                 0   \n",
       "1                                 0   \n",
       "2                                 0   \n",
       "3                                 0   \n",
       "4                                 0   \n",
       "\n",
       "   ring:polycycle_spiro_1_4-dioxaspiro[4.5]decane  \\\n",
       "0                                               0   \n",
       "1                                               0   \n",
       "2                                               0   \n",
       "3                                               0   \n",
       "4                                               0   \n",
       "\n",
       "   ring:polycycle_tricyclo_[3.5.5]_cyclopropa[cd]pentalene  \\\n",
       "0                                                  0         \n",
       "1                                                  0         \n",
       "2                                                  0         \n",
       "3                                                  0         \n",
       "4                                                  0         \n",
       "\n",
       "   ring:polycycle_tricyclo_[3.7.7]bullvalene  \\\n",
       "0                                          0   \n",
       "1                                          0   \n",
       "2                                          0   \n",
       "3                                          0   \n",
       "4                                          0   \n",
       "\n",
       "   ring:polycycle_tricyclo_[3.7.7]semibullvalene  \\\n",
       "0                                              0   \n",
       "1                                              0   \n",
       "2                                              0   \n",
       "3                                              0   \n",
       "4                                              0   \n",
       "\n",
       "   ring:polycycle_tricyclo_adamantane  ring:polycycle_tricyclo_benzvalene  \\\n",
       "0                                   0                                   0   \n",
       "1                                   0                                   0   \n",
       "2                                   0                                   0   \n",
       "3                                   0                                   0   \n",
       "4                                   0                                   0   \n",
       "\n",
       "   M_COMPOUND_HISTORY_[STRING]  M_CORINA_SYMPHONY_ERRORS_[STRING]  \n",
       "0            Original compound                          No errors  \n",
       "1            Original compound                          No errors  \n",
       "2            Original compound                          No errors  \n",
       "3            Original compound                          No errors  \n",
       "4            Original compound                          No errors  \n",
       "\n",
       "[5 rows x 732 columns]"
      ]
     },
     "execution_count": 32,
     "metadata": {},
     "output_type": "execute_result"
    }
   ],
   "source": [
    "lri_tps.head()"
   ]
  },
  {
   "cell_type": "code",
   "execution_count": 33,
   "metadata": {},
   "outputs": [],
   "source": [
    "lri_tps.rename(columns = {'M_NAME' \t:'DTXSID'},inplace = True)"
   ]
  },
  {
   "cell_type": "code",
   "execution_count": 34,
   "metadata": {},
   "outputs": [
    {
     "data": {
      "text/plain": [
       "0    45037\n",
       "1        1\n",
       "Name: atom:element_main_group, dtype: int64"
      ]
     },
     "execution_count": 34,
     "metadata": {},
     "output_type": "execute_result"
    }
   ],
   "source": [
    "lri_tps['atom:element_main_group'].value_counts(dropna = False)"
   ]
  },
  {
   "cell_type": "code",
   "execution_count": 35,
   "metadata": {},
   "outputs": [],
   "source": [
    "lri_tps = lri_tps.replace(0, np.nan)\n",
    "#lri_tps = lri_tps.dropna(how='all')\n"
   ]
  },
  {
   "cell_type": "code",
   "execution_count": 36,
   "metadata": {},
   "outputs": [
    {
     "data": {
      "text/plain": [
       "1.0    1\n",
       "Name: atom:element_main_group, dtype: int64"
      ]
     },
     "execution_count": 36,
     "metadata": {},
     "output_type": "execute_result"
    }
   ],
   "source": [
    "lri_tps['atom:element_main_group'].value_counts()"
   ]
  },
  {
   "cell_type": "code",
   "execution_count": 37,
   "metadata": {},
   "outputs": [
    {
     "data": {
      "text/html": [
       "<div>\n",
       "<style scoped>\n",
       "    .dataframe tbody tr th:only-of-type {\n",
       "        vertical-align: middle;\n",
       "    }\n",
       "\n",
       "    .dataframe tbody tr th {\n",
       "        vertical-align: top;\n",
       "    }\n",
       "\n",
       "    .dataframe thead th {\n",
       "        text-align: right;\n",
       "    }\n",
       "</style>\n",
       "<table border=\"1\" class=\"dataframe\">\n",
       "  <thead>\n",
       "    <tr style=\"text-align: right;\">\n",
       "      <th></th>\n",
       "      <th>DTXSID</th>\n",
       "      <th>atom:element_main_group</th>\n",
       "      <th>atom:element_metal_group_I_II</th>\n",
       "      <th>atom:element_metal_group_III</th>\n",
       "      <th>atom:element_metal_metalloid</th>\n",
       "      <th>atom:element_metal_poor_metal</th>\n",
       "      <th>atom:element_metal_transistion_metal</th>\n",
       "      <th>atom:element_noble_gas</th>\n",
       "      <th>bond:C#N_cyano_acylcyanide</th>\n",
       "      <th>bond:C#N_cyano_cyanamide</th>\n",
       "      <th>...</th>\n",
       "      <th>ring:polycycle_spiro_[2.5]octane</th>\n",
       "      <th>ring:polycycle_spiro_[4.5]decane</th>\n",
       "      <th>ring:polycycle_spiro_1_4-dioxaspiro[4.5]decane</th>\n",
       "      <th>ring:polycycle_tricyclo_[3.5.5]_cyclopropa[cd]pentalene</th>\n",
       "      <th>ring:polycycle_tricyclo_[3.7.7]bullvalene</th>\n",
       "      <th>ring:polycycle_tricyclo_[3.7.7]semibullvalene</th>\n",
       "      <th>ring:polycycle_tricyclo_adamantane</th>\n",
       "      <th>ring:polycycle_tricyclo_benzvalene</th>\n",
       "      <th>M_COMPOUND_HISTORY_[STRING]</th>\n",
       "      <th>M_CORINA_SYMPHONY_ERRORS_[STRING]</th>\n",
       "    </tr>\n",
       "  </thead>\n",
       "  <tbody>\n",
       "    <tr>\n",
       "      <th>0</th>\n",
       "      <td>DTXSID6020561</td>\n",
       "      <td>NaN</td>\n",
       "      <td>NaN</td>\n",
       "      <td>NaN</td>\n",
       "      <td>NaN</td>\n",
       "      <td>NaN</td>\n",
       "      <td>NaN</td>\n",
       "      <td>NaN</td>\n",
       "      <td>NaN</td>\n",
       "      <td>NaN</td>\n",
       "      <td>...</td>\n",
       "      <td>NaN</td>\n",
       "      <td>NaN</td>\n",
       "      <td>NaN</td>\n",
       "      <td>NaN</td>\n",
       "      <td>NaN</td>\n",
       "      <td>NaN</td>\n",
       "      <td>NaN</td>\n",
       "      <td>NaN</td>\n",
       "      <td>Original compound</td>\n",
       "      <td>No errors</td>\n",
       "    </tr>\n",
       "    <tr>\n",
       "      <th>1</th>\n",
       "      <td>DTXSID9020453</td>\n",
       "      <td>NaN</td>\n",
       "      <td>NaN</td>\n",
       "      <td>NaN</td>\n",
       "      <td>NaN</td>\n",
       "      <td>NaN</td>\n",
       "      <td>NaN</td>\n",
       "      <td>NaN</td>\n",
       "      <td>NaN</td>\n",
       "      <td>NaN</td>\n",
       "      <td>...</td>\n",
       "      <td>NaN</td>\n",
       "      <td>NaN</td>\n",
       "      <td>NaN</td>\n",
       "      <td>NaN</td>\n",
       "      <td>NaN</td>\n",
       "      <td>NaN</td>\n",
       "      <td>NaN</td>\n",
       "      <td>NaN</td>\n",
       "      <td>Original compound</td>\n",
       "      <td>No errors</td>\n",
       "    </tr>\n",
       "    <tr>\n",
       "      <th>2</th>\n",
       "      <td>DTXSID3034456</td>\n",
       "      <td>NaN</td>\n",
       "      <td>NaN</td>\n",
       "      <td>NaN</td>\n",
       "      <td>NaN</td>\n",
       "      <td>NaN</td>\n",
       "      <td>NaN</td>\n",
       "      <td>NaN</td>\n",
       "      <td>NaN</td>\n",
       "      <td>NaN</td>\n",
       "      <td>...</td>\n",
       "      <td>NaN</td>\n",
       "      <td>NaN</td>\n",
       "      <td>NaN</td>\n",
       "      <td>NaN</td>\n",
       "      <td>NaN</td>\n",
       "      <td>NaN</td>\n",
       "      <td>NaN</td>\n",
       "      <td>NaN</td>\n",
       "      <td>Original compound</td>\n",
       "      <td>No errors</td>\n",
       "    </tr>\n",
       "    <tr>\n",
       "      <th>3</th>\n",
       "      <td>DTXSID2024242</td>\n",
       "      <td>NaN</td>\n",
       "      <td>NaN</td>\n",
       "      <td>NaN</td>\n",
       "      <td>NaN</td>\n",
       "      <td>NaN</td>\n",
       "      <td>NaN</td>\n",
       "      <td>NaN</td>\n",
       "      <td>NaN</td>\n",
       "      <td>NaN</td>\n",
       "      <td>...</td>\n",
       "      <td>NaN</td>\n",
       "      <td>NaN</td>\n",
       "      <td>NaN</td>\n",
       "      <td>NaN</td>\n",
       "      <td>NaN</td>\n",
       "      <td>NaN</td>\n",
       "      <td>NaN</td>\n",
       "      <td>NaN</td>\n",
       "      <td>Original compound</td>\n",
       "      <td>No errors</td>\n",
       "    </tr>\n",
       "    <tr>\n",
       "      <th>4</th>\n",
       "      <td>DTXSID4032376</td>\n",
       "      <td>NaN</td>\n",
       "      <td>NaN</td>\n",
       "      <td>NaN</td>\n",
       "      <td>NaN</td>\n",
       "      <td>NaN</td>\n",
       "      <td>NaN</td>\n",
       "      <td>NaN</td>\n",
       "      <td>NaN</td>\n",
       "      <td>NaN</td>\n",
       "      <td>...</td>\n",
       "      <td>NaN</td>\n",
       "      <td>NaN</td>\n",
       "      <td>NaN</td>\n",
       "      <td>NaN</td>\n",
       "      <td>NaN</td>\n",
       "      <td>NaN</td>\n",
       "      <td>NaN</td>\n",
       "      <td>NaN</td>\n",
       "      <td>Original compound</td>\n",
       "      <td>No errors</td>\n",
       "    </tr>\n",
       "  </tbody>\n",
       "</table>\n",
       "<p>5 rows × 732 columns</p>\n",
       "</div>"
      ],
      "text/plain": [
       "          DTXSID  atom:element_main_group  atom:element_metal_group_I_II  \\\n",
       "0  DTXSID6020561                      NaN                            NaN   \n",
       "1  DTXSID9020453                      NaN                            NaN   \n",
       "2  DTXSID3034456                      NaN                            NaN   \n",
       "3  DTXSID2024242                      NaN                            NaN   \n",
       "4  DTXSID4032376                      NaN                            NaN   \n",
       "\n",
       "   atom:element_metal_group_III  atom:element_metal_metalloid  \\\n",
       "0                           NaN                           NaN   \n",
       "1                           NaN                           NaN   \n",
       "2                           NaN                           NaN   \n",
       "3                           NaN                           NaN   \n",
       "4                           NaN                           NaN   \n",
       "\n",
       "   atom:element_metal_poor_metal  atom:element_metal_transistion_metal  \\\n",
       "0                            NaN                                   NaN   \n",
       "1                            NaN                                   NaN   \n",
       "2                            NaN                                   NaN   \n",
       "3                            NaN                                   NaN   \n",
       "4                            NaN                                   NaN   \n",
       "\n",
       "   atom:element_noble_gas  bond:C#N_cyano_acylcyanide  \\\n",
       "0                     NaN                         NaN   \n",
       "1                     NaN                         NaN   \n",
       "2                     NaN                         NaN   \n",
       "3                     NaN                         NaN   \n",
       "4                     NaN                         NaN   \n",
       "\n",
       "   bond:C#N_cyano_cyanamide  ...  ring:polycycle_spiro_[2.5]octane  \\\n",
       "0                       NaN  ...                               NaN   \n",
       "1                       NaN  ...                               NaN   \n",
       "2                       NaN  ...                               NaN   \n",
       "3                       NaN  ...                               NaN   \n",
       "4                       NaN  ...                               NaN   \n",
       "\n",
       "   ring:polycycle_spiro_[4.5]decane  \\\n",
       "0                               NaN   \n",
       "1                               NaN   \n",
       "2                               NaN   \n",
       "3                               NaN   \n",
       "4                               NaN   \n",
       "\n",
       "   ring:polycycle_spiro_1_4-dioxaspiro[4.5]decane  \\\n",
       "0                                             NaN   \n",
       "1                                             NaN   \n",
       "2                                             NaN   \n",
       "3                                             NaN   \n",
       "4                                             NaN   \n",
       "\n",
       "   ring:polycycle_tricyclo_[3.5.5]_cyclopropa[cd]pentalene  \\\n",
       "0                                                NaN         \n",
       "1                                                NaN         \n",
       "2                                                NaN         \n",
       "3                                                NaN         \n",
       "4                                                NaN         \n",
       "\n",
       "   ring:polycycle_tricyclo_[3.7.7]bullvalene  \\\n",
       "0                                        NaN   \n",
       "1                                        NaN   \n",
       "2                                        NaN   \n",
       "3                                        NaN   \n",
       "4                                        NaN   \n",
       "\n",
       "   ring:polycycle_tricyclo_[3.7.7]semibullvalene  \\\n",
       "0                                            NaN   \n",
       "1                                            NaN   \n",
       "2                                            NaN   \n",
       "3                                            NaN   \n",
       "4                                            NaN   \n",
       "\n",
       "   ring:polycycle_tricyclo_adamantane  ring:polycycle_tricyclo_benzvalene  \\\n",
       "0                                 NaN                                 NaN   \n",
       "1                                 NaN                                 NaN   \n",
       "2                                 NaN                                 NaN   \n",
       "3                                 NaN                                 NaN   \n",
       "4                                 NaN                                 NaN   \n",
       "\n",
       "   M_COMPOUND_HISTORY_[STRING]  M_CORINA_SYMPHONY_ERRORS_[STRING]  \n",
       "0            Original compound                          No errors  \n",
       "1            Original compound                          No errors  \n",
       "2            Original compound                          No errors  \n",
       "3            Original compound                          No errors  \n",
       "4            Original compound                          No errors  \n",
       "\n",
       "[5 rows x 732 columns]"
      ]
     },
     "execution_count": 37,
     "metadata": {},
     "output_type": "execute_result"
    }
   ],
   "source": [
    "lri_tps.head()"
   ]
  },
  {
   "cell_type": "code",
   "execution_count": 38,
   "metadata": {},
   "outputs": [],
   "source": [
    "lri_cols = lri_tps.columns.tolist()[1:-2]"
   ]
  },
  {
   "cell_type": "code",
   "execution_count": 39,
   "metadata": {},
   "outputs": [],
   "source": [
    "#lri_cols\n"
   ]
  },
  {
   "cell_type": "code",
   "execution_count": 40,
   "metadata": {},
   "outputs": [],
   "source": [
    "lri_tps_long = pd.melt(lri_tps, id_vars='DTXSID',value_vars= lri_cols)"
   ]
  },
  {
   "cell_type": "code",
   "execution_count": 41,
   "metadata": {},
   "outputs": [
    {
     "data": {
      "text/html": [
       "<div>\n",
       "<style scoped>\n",
       "    .dataframe tbody tr th:only-of-type {\n",
       "        vertical-align: middle;\n",
       "    }\n",
       "\n",
       "    .dataframe tbody tr th {\n",
       "        vertical-align: top;\n",
       "    }\n",
       "\n",
       "    .dataframe thead th {\n",
       "        text-align: right;\n",
       "    }\n",
       "</style>\n",
       "<table border=\"1\" class=\"dataframe\">\n",
       "  <thead>\n",
       "    <tr style=\"text-align: right;\">\n",
       "      <th></th>\n",
       "      <th>DTXSID</th>\n",
       "      <th>variable</th>\n",
       "      <th>value</th>\n",
       "    </tr>\n",
       "  </thead>\n",
       "  <tbody>\n",
       "    <tr>\n",
       "      <th>0</th>\n",
       "      <td>DTXSID6020561</td>\n",
       "      <td>atom:element_main_group</td>\n",
       "      <td>NaN</td>\n",
       "    </tr>\n",
       "    <tr>\n",
       "      <th>1</th>\n",
       "      <td>DTXSID9020453</td>\n",
       "      <td>atom:element_main_group</td>\n",
       "      <td>NaN</td>\n",
       "    </tr>\n",
       "    <tr>\n",
       "      <th>2</th>\n",
       "      <td>DTXSID3034456</td>\n",
       "      <td>atom:element_main_group</td>\n",
       "      <td>NaN</td>\n",
       "    </tr>\n",
       "    <tr>\n",
       "      <th>3</th>\n",
       "      <td>DTXSID2024242</td>\n",
       "      <td>atom:element_main_group</td>\n",
       "      <td>NaN</td>\n",
       "    </tr>\n",
       "    <tr>\n",
       "      <th>4</th>\n",
       "      <td>DTXSID4032376</td>\n",
       "      <td>atom:element_main_group</td>\n",
       "      <td>NaN</td>\n",
       "    </tr>\n",
       "  </tbody>\n",
       "</table>\n",
       "</div>"
      ],
      "text/plain": [
       "          DTXSID                 variable  value\n",
       "0  DTXSID6020561  atom:element_main_group    NaN\n",
       "1  DTXSID9020453  atom:element_main_group    NaN\n",
       "2  DTXSID3034456  atom:element_main_group    NaN\n",
       "3  DTXSID2024242  atom:element_main_group    NaN\n",
       "4  DTXSID4032376  atom:element_main_group    NaN"
      ]
     },
     "execution_count": 41,
     "metadata": {},
     "output_type": "execute_result"
    }
   ],
   "source": [
    "lri_tps_long.head()"
   ]
  },
  {
   "cell_type": "code",
   "execution_count": 42,
   "metadata": {},
   "outputs": [],
   "source": [
    "lri_tps_long = lri_tps_long.dropna(axis = 0, how = 'any')"
   ]
  },
  {
   "cell_type": "code",
   "execution_count": 43,
   "metadata": {},
   "outputs": [
    {
     "data": {
      "text/plain": [
       "(595132, 3)"
      ]
     },
     "execution_count": 43,
     "metadata": {},
     "output_type": "execute_result"
    }
   ],
   "source": [
    "lri_tps_long.shape"
   ]
  },
  {
   "cell_type": "code",
   "execution_count": 44,
   "metadata": {},
   "outputs": [],
   "source": [
    "lri_tps_long.rename(columns={'variable': 'toxprint'}, inplace=True)"
   ]
  },
  {
   "cell_type": "code",
   "execution_count": 45,
   "metadata": {},
   "outputs": [],
   "source": [
    "tag2 = {e:k for e in lri_tps_long['toxprint'] for k,v in level2_dict.items() if e in v}"
   ]
  },
  {
   "cell_type": "code",
   "execution_count": 46,
   "metadata": {},
   "outputs": [],
   "source": [
    "lri_tps_long['aggregate_toxprint'] = lri_tps_long['toxprint']"
   ]
  },
  {
   "cell_type": "code",
   "execution_count": 47,
   "metadata": {},
   "outputs": [],
   "source": [
    "lri_tps_long['aggregate_toxprint'].replace(tag2 , inplace = True)"
   ]
  },
  {
   "cell_type": "code",
   "execution_count": 48,
   "metadata": {},
   "outputs": [],
   "source": [
    "lri_bar = lri_tps_long.aggregate_toxprint.value_counts().reset_index()"
   ]
  },
  {
   "cell_type": "code",
   "execution_count": 49,
   "metadata": {},
   "outputs": [],
   "source": [
    "lri_bar.rename(columns = {'index' : 'Txp', 'aggregate_toxprint' : 'count'}, inplace = True)"
   ]
  },
  {
   "cell_type": "code",
   "execution_count": 50,
   "metadata": {},
   "outputs": [
    {
     "data": {
      "text/html": [
       "<div>\n",
       "<style scoped>\n",
       "    .dataframe tbody tr th:only-of-type {\n",
       "        vertical-align: middle;\n",
       "    }\n",
       "\n",
       "    .dataframe tbody tr th {\n",
       "        vertical-align: top;\n",
       "    }\n",
       "\n",
       "    .dataframe thead th {\n",
       "        text-align: right;\n",
       "    }\n",
       "</style>\n",
       "<table border=\"1\" class=\"dataframe\">\n",
       "  <thead>\n",
       "    <tr style=\"text-align: right;\">\n",
       "      <th></th>\n",
       "      <th>Txp</th>\n",
       "      <th>count</th>\n",
       "    </tr>\n",
       "  </thead>\n",
       "  <tbody>\n",
       "    <tr>\n",
       "      <th>0</th>\n",
       "      <td>ring:hetero</td>\n",
       "      <td>74239</td>\n",
       "    </tr>\n",
       "    <tr>\n",
       "      <th>1</th>\n",
       "      <td>chain:alkaneLinear</td>\n",
       "      <td>65599</td>\n",
       "    </tr>\n",
       "    <tr>\n",
       "      <th>2</th>\n",
       "      <td>bond:CN_amine</td>\n",
       "      <td>53708</td>\n",
       "    </tr>\n",
       "    <tr>\n",
       "      <th>3</th>\n",
       "      <td>bond:COH_alcohol</td>\n",
       "      <td>43410</td>\n",
       "    </tr>\n",
       "    <tr>\n",
       "      <th>4</th>\n",
       "      <td>chain:aromaticAlkane</td>\n",
       "      <td>39827</td>\n",
       "    </tr>\n",
       "  </tbody>\n",
       "</table>\n",
       "</div>"
      ],
      "text/plain": [
       "                    Txp  count\n",
       "0           ring:hetero  74239\n",
       "1    chain:alkaneLinear  65599\n",
       "2         bond:CN_amine  53708\n",
       "3      bond:COH_alcohol  43410\n",
       "4  chain:aromaticAlkane  39827"
      ]
     },
     "execution_count": 50,
     "metadata": {},
     "output_type": "execute_result"
    }
   ],
   "source": [
    "lri_bar.head()"
   ]
  },
  {
   "cell_type": "code",
   "execution_count": 51,
   "metadata": {},
   "outputs": [
    {
     "data": {
      "text/plain": [
       "<matplotlib.axes._subplots.AxesSubplot at 0x7f4d456b24e0>"
      ]
     },
     "execution_count": 51,
     "metadata": {},
     "output_type": "execute_result"
    },
    {
     "data": {
      "image/png": "[encoded data removed]",
      "text/plain": [
       "<Figure size 720x720 with 1 Axes>"
      ]
     },
     "metadata": {},
     "output_type": "display_data"
    }
   ],
   "source": [
    "\n",
    "plt.figure(figsize = (10,10))\n",
    "sns.barplot(y = lri_bar['Txp'], x = lri_bar['count'], data = lri_bar)"
   ]
  },
  {
   "cell_type": "code",
   "execution_count": 52,
   "metadata": {},
   "outputs": [],
   "source": [
    "lri_elise = pd.merge(lri_bar, elise_bar, on = 'Txp' , how = 'outer')"
   ]
  },
  {
   "cell_type": "code",
   "execution_count": 53,
   "metadata": {},
   "outputs": [],
   "source": [
    "lri_elise.rename(columns = {'count_x': 'Lri_count', 'count_y': 'Elise_count'}, inplace = True)"
   ]
  },
  {
   "cell_type": "code",
   "execution_count": 54,
   "metadata": {},
   "outputs": [
    {
     "data": {
      "text/html": [
       "<div>\n",
       "<style scoped>\n",
       "    .dataframe tbody tr th:only-of-type {\n",
       "        vertical-align: middle;\n",
       "    }\n",
       "\n",
       "    .dataframe tbody tr th {\n",
       "        vertical-align: top;\n",
       "    }\n",
       "\n",
       "    .dataframe thead th {\n",
       "        text-align: right;\n",
       "    }\n",
       "</style>\n",
       "<table border=\"1\" class=\"dataframe\">\n",
       "  <thead>\n",
       "    <tr style=\"text-align: right;\">\n",
       "      <th></th>\n",
       "      <th>Txp</th>\n",
       "      <th>Lri_count</th>\n",
       "      <th>Elise_count</th>\n",
       "    </tr>\n",
       "  </thead>\n",
       "  <tbody>\n",
       "    <tr>\n",
       "      <th>0</th>\n",
       "      <td>ring:hetero</td>\n",
       "      <td>74239</td>\n",
       "      <td>206.0</td>\n",
       "    </tr>\n",
       "    <tr>\n",
       "      <th>1</th>\n",
       "      <td>chain:alkaneLinear</td>\n",
       "      <td>65599</td>\n",
       "      <td>1044.0</td>\n",
       "    </tr>\n",
       "    <tr>\n",
       "      <th>2</th>\n",
       "      <td>bond:CN_amine</td>\n",
       "      <td>53708</td>\n",
       "      <td>132.0</td>\n",
       "    </tr>\n",
       "    <tr>\n",
       "      <th>3</th>\n",
       "      <td>bond:COH_alcohol</td>\n",
       "      <td>43410</td>\n",
       "      <td>421.0</td>\n",
       "    </tr>\n",
       "    <tr>\n",
       "      <th>4</th>\n",
       "      <td>chain:aromaticAlkane</td>\n",
       "      <td>39827</td>\n",
       "      <td>485.0</td>\n",
       "    </tr>\n",
       "  </tbody>\n",
       "</table>\n",
       "</div>"
      ],
      "text/plain": [
       "                    Txp  Lri_count  Elise_count\n",
       "0           ring:hetero      74239        206.0\n",
       "1    chain:alkaneLinear      65599       1044.0\n",
       "2         bond:CN_amine      53708        132.0\n",
       "3      bond:COH_alcohol      43410        421.0\n",
       "4  chain:aromaticAlkane      39827        485.0"
      ]
     },
     "execution_count": 54,
     "metadata": {},
     "output_type": "execute_result"
    }
   ],
   "source": [
    "lri_elise.head()"
   ]
  },
  {
   "cell_type": "code",
   "execution_count": 56,
   "metadata": {},
   "outputs": [
    {
     "data": {
      "image/png": "[encoded data removed]",
      "text/plain": [
       "<Figure size 720x1080 with 2 Axes>"
      ]
     },
     "metadata": {},
     "output_type": "display_data"
    }
   ],
   "source": [
    "f,(ax1,ax2) = plt.subplots(1,2, figsize=(10,15), sharey = True)\n",
    "\n",
    "\n",
    "sns.barplot(x = 'Lri_count', y = 'Txp', color = 'b',label = \"lri\", data = lri_elise, ax=ax1)\n",
    "sns.barplot(x = 'Elise_count', y = 'Txp', color = 'g',label = \"Elise\", data = lri_elise, ax = ax2)\n",
    "\n",
    "ax1.set_ylabel('aggregate_toxprint')\n",
    "ax2.set_ylabel('')\n",
    "\n",
    "\n",
    "ax1.set_xlabel('LRI_count')\n",
    "ax2.set_xlabel('ELSIE_count')\n",
    "plt.tight_layout()\n",
    "\n",
    "f.savefig(figures_dir+'toxprints_comparison_140220.png')"
   ]
  },
  {
   "cell_type": "code",
   "execution_count": 57,
   "metadata": {},
   "outputs": [],
   "source": [
    "elise_df = xls.parse('ELISE_txpts_CORINA_270919')"
   ]
  },
  {
   "cell_type": "code",
   "execution_count": 58,
   "metadata": {},
   "outputs": [],
   "source": [
    "elise_txps = elise_txps.set_index('DTXSID')"
   ]
  },
  {
   "cell_type": "code",
   "execution_count": 59,
   "metadata": {},
   "outputs": [],
   "source": [
    "new_elise = elise_txps.iloc[:,8:]"
   ]
  },
  {
   "cell_type": "code",
   "execution_count": 62,
   "metadata": {},
   "outputs": [
    {
     "data": {
      "text/html": [
       "<div>\n",
       "<style scoped>\n",
       "    .dataframe tbody tr th:only-of-type {\n",
       "        vertical-align: middle;\n",
       "    }\n",
       "\n",
       "    .dataframe tbody tr th {\n",
       "        vertical-align: top;\n",
       "    }\n",
       "\n",
       "    .dataframe thead th {\n",
       "        text-align: right;\n",
       "    }\n",
       "</style>\n",
       "<table border=\"1\" class=\"dataframe\">\n",
       "  <thead>\n",
       "    <tr style=\"text-align: right;\">\n",
       "      <th></th>\n",
       "      <th>atom:element_main_group</th>\n",
       "      <th>atom:element_metal_group_I_II</th>\n",
       "      <th>atom:element_metal_group_III</th>\n",
       "      <th>atom:element_metal_metalloid</th>\n",
       "      <th>atom:element_metal_poor_metal</th>\n",
       "      <th>atom:element_metal_transistion_metal</th>\n",
       "      <th>atom:element_noble_gas</th>\n",
       "      <th>bond:C#N_cyano_acylcyanide</th>\n",
       "      <th>bond:C#N_cyano_cyanamide</th>\n",
       "      <th>bond:C#N_cyano_cyanohydrin</th>\n",
       "      <th>...</th>\n",
       "      <th>ring:polycycle_bicyclo_propene</th>\n",
       "      <th>ring:polycycle_spiro_[2.2]pentane</th>\n",
       "      <th>ring:polycycle_spiro_[2.5]octane</th>\n",
       "      <th>ring:polycycle_spiro_[4.5]decane</th>\n",
       "      <th>ring:polycycle_spiro_1_4-dioxaspiro[4.5]decane</th>\n",
       "      <th>ring:polycycle_tricyclo_[3.5.5]_cyclopropa[cd]pentalene</th>\n",
       "      <th>ring:polycycle_tricyclo_[3.7.7]bullvalene</th>\n",
       "      <th>ring:polycycle_tricyclo_[3.7.7]semibullvalene</th>\n",
       "      <th>ring:polycycle_tricyclo_adamantane</th>\n",
       "      <th>ring:polycycle_tricyclo_benzvalene</th>\n",
       "    </tr>\n",
       "    <tr>\n",
       "      <th>DTXSID</th>\n",
       "      <th></th>\n",
       "      <th></th>\n",
       "      <th></th>\n",
       "      <th></th>\n",
       "      <th></th>\n",
       "      <th></th>\n",
       "      <th></th>\n",
       "      <th></th>\n",
       "      <th></th>\n",
       "      <th></th>\n",
       "      <th></th>\n",
       "      <th></th>\n",
       "      <th></th>\n",
       "      <th></th>\n",
       "      <th></th>\n",
       "      <th></th>\n",
       "      <th></th>\n",
       "      <th></th>\n",
       "      <th></th>\n",
       "      <th></th>\n",
       "      <th></th>\n",
       "    </tr>\n",
       "  </thead>\n",
       "  <tbody>\n",
       "    <tr>\n",
       "      <th>DTXSID4029355</th>\n",
       "      <td>NaN</td>\n",
       "      <td>NaN</td>\n",
       "      <td>NaN</td>\n",
       "      <td>NaN</td>\n",
       "      <td>NaN</td>\n",
       "      <td>NaN</td>\n",
       "      <td>NaN</td>\n",
       "      <td>NaN</td>\n",
       "      <td>NaN</td>\n",
       "      <td>NaN</td>\n",
       "      <td>...</td>\n",
       "      <td>NaN</td>\n",
       "      <td>NaN</td>\n",
       "      <td>NaN</td>\n",
       "      <td>NaN</td>\n",
       "      <td>NaN</td>\n",
       "      <td>NaN</td>\n",
       "      <td>NaN</td>\n",
       "      <td>NaN</td>\n",
       "      <td>NaN</td>\n",
       "      <td>NaN</td>\n",
       "    </tr>\n",
       "    <tr>\n",
       "      <th>DTXSID4020240</th>\n",
       "      <td>NaN</td>\n",
       "      <td>NaN</td>\n",
       "      <td>NaN</td>\n",
       "      <td>NaN</td>\n",
       "      <td>NaN</td>\n",
       "      <td>NaN</td>\n",
       "      <td>NaN</td>\n",
       "      <td>NaN</td>\n",
       "      <td>NaN</td>\n",
       "      <td>NaN</td>\n",
       "      <td>...</td>\n",
       "      <td>NaN</td>\n",
       "      <td>NaN</td>\n",
       "      <td>NaN</td>\n",
       "      <td>NaN</td>\n",
       "      <td>NaN</td>\n",
       "      <td>NaN</td>\n",
       "      <td>NaN</td>\n",
       "      <td>NaN</td>\n",
       "      <td>NaN</td>\n",
       "      <td>NaN</td>\n",
       "    </tr>\n",
       "    <tr>\n",
       "      <th>DTXSID0021961</th>\n",
       "      <td>NaN</td>\n",
       "      <td>NaN</td>\n",
       "      <td>NaN</td>\n",
       "      <td>NaN</td>\n",
       "      <td>NaN</td>\n",
       "      <td>NaN</td>\n",
       "      <td>NaN</td>\n",
       "      <td>NaN</td>\n",
       "      <td>NaN</td>\n",
       "      <td>NaN</td>\n",
       "      <td>...</td>\n",
       "      <td>NaN</td>\n",
       "      <td>NaN</td>\n",
       "      <td>NaN</td>\n",
       "      <td>NaN</td>\n",
       "      <td>NaN</td>\n",
       "      <td>NaN</td>\n",
       "      <td>NaN</td>\n",
       "      <td>NaN</td>\n",
       "      <td>NaN</td>\n",
       "      <td>NaN</td>\n",
       "    </tr>\n",
       "    <tr>\n",
       "      <th>DTXSID6027428</th>\n",
       "      <td>NaN</td>\n",
       "      <td>NaN</td>\n",
       "      <td>NaN</td>\n",
       "      <td>NaN</td>\n",
       "      <td>NaN</td>\n",
       "      <td>NaN</td>\n",
       "      <td>NaN</td>\n",
       "      <td>NaN</td>\n",
       "      <td>NaN</td>\n",
       "      <td>NaN</td>\n",
       "      <td>...</td>\n",
       "      <td>NaN</td>\n",
       "      <td>NaN</td>\n",
       "      <td>NaN</td>\n",
       "      <td>NaN</td>\n",
       "      <td>NaN</td>\n",
       "      <td>NaN</td>\n",
       "      <td>NaN</td>\n",
       "      <td>NaN</td>\n",
       "      <td>NaN</td>\n",
       "      <td>NaN</td>\n",
       "    </tr>\n",
       "    <tr>\n",
       "      <th>DTXSID2021781</th>\n",
       "      <td>NaN</td>\n",
       "      <td>NaN</td>\n",
       "      <td>NaN</td>\n",
       "      <td>NaN</td>\n",
       "      <td>NaN</td>\n",
       "      <td>NaN</td>\n",
       "      <td>NaN</td>\n",
       "      <td>NaN</td>\n",
       "      <td>NaN</td>\n",
       "      <td>NaN</td>\n",
       "      <td>...</td>\n",
       "      <td>NaN</td>\n",
       "      <td>NaN</td>\n",
       "      <td>NaN</td>\n",
       "      <td>NaN</td>\n",
       "      <td>NaN</td>\n",
       "      <td>NaN</td>\n",
       "      <td>NaN</td>\n",
       "      <td>NaN</td>\n",
       "      <td>NaN</td>\n",
       "      <td>NaN</td>\n",
       "    </tr>\n",
       "  </tbody>\n",
       "</table>\n",
       "<p>5 rows × 729 columns</p>\n",
       "</div>"
      ],
      "text/plain": [
       "               atom:element_main_group  atom:element_metal_group_I_II  \\\n",
       "DTXSID                                                                  \n",
       "DTXSID4029355                      NaN                            NaN   \n",
       "DTXSID4020240                      NaN                            NaN   \n",
       "DTXSID0021961                      NaN                            NaN   \n",
       "DTXSID6027428                      NaN                            NaN   \n",
       "DTXSID2021781                      NaN                            NaN   \n",
       "\n",
       "               atom:element_metal_group_III  atom:element_metal_metalloid  \\\n",
       "DTXSID                                                                      \n",
       "DTXSID4029355                           NaN                           NaN   \n",
       "DTXSID4020240                           NaN                           NaN   \n",
       "DTXSID0021961                           NaN                           NaN   \n",
       "DTXSID6027428                           NaN                           NaN   \n",
       "DTXSID2021781                           NaN                           NaN   \n",
       "\n",
       "               atom:element_metal_poor_metal  \\\n",
       "DTXSID                                         \n",
       "DTXSID4029355                            NaN   \n",
       "DTXSID4020240                            NaN   \n",
       "DTXSID0021961                            NaN   \n",
       "DTXSID6027428                            NaN   \n",
       "DTXSID2021781                            NaN   \n",
       "\n",
       "               atom:element_metal_transistion_metal  atom:element_noble_gas  \\\n",
       "DTXSID                                                                        \n",
       "DTXSID4029355                                   NaN                     NaN   \n",
       "DTXSID4020240                                   NaN                     NaN   \n",
       "DTXSID0021961                                   NaN                     NaN   \n",
       "DTXSID6027428                                   NaN                     NaN   \n",
       "DTXSID2021781                                   NaN                     NaN   \n",
       "\n",
       "               bond:C#N_cyano_acylcyanide  bond:C#N_cyano_cyanamide  \\\n",
       "DTXSID                                                                \n",
       "DTXSID4029355                         NaN                       NaN   \n",
       "DTXSID4020240                         NaN                       NaN   \n",
       "DTXSID0021961                         NaN                       NaN   \n",
       "DTXSID6027428                         NaN                       NaN   \n",
       "DTXSID2021781                         NaN                       NaN   \n",
       "\n",
       "               bond:C#N_cyano_cyanohydrin  ...  \\\n",
       "DTXSID                                     ...   \n",
       "DTXSID4029355                         NaN  ...   \n",
       "DTXSID4020240                         NaN  ...   \n",
       "DTXSID0021961                         NaN  ...   \n",
       "DTXSID6027428                         NaN  ...   \n",
       "DTXSID2021781                         NaN  ...   \n",
       "\n",
       "               ring:polycycle_bicyclo_propene  \\\n",
       "DTXSID                                          \n",
       "DTXSID4029355                             NaN   \n",
       "DTXSID4020240                             NaN   \n",
       "DTXSID0021961                             NaN   \n",
       "DTXSID6027428                             NaN   \n",
       "DTXSID2021781                             NaN   \n",
       "\n",
       "               ring:polycycle_spiro_[2.2]pentane  \\\n",
       "DTXSID                                             \n",
       "DTXSID4029355                                NaN   \n",
       "DTXSID4020240                                NaN   \n",
       "DTXSID0021961                                NaN   \n",
       "DTXSID6027428                                NaN   \n",
       "DTXSID2021781                                NaN   \n",
       "\n",
       "               ring:polycycle_spiro_[2.5]octane  \\\n",
       "DTXSID                                            \n",
       "DTXSID4029355                               NaN   \n",
       "DTXSID4020240                               NaN   \n",
       "DTXSID0021961                               NaN   \n",
       "DTXSID6027428                               NaN   \n",
       "DTXSID2021781                               NaN   \n",
       "\n",
       "               ring:polycycle_spiro_[4.5]decane  \\\n",
       "DTXSID                                            \n",
       "DTXSID4029355                               NaN   \n",
       "DTXSID4020240                               NaN   \n",
       "DTXSID0021961                               NaN   \n",
       "DTXSID6027428                               NaN   \n",
       "DTXSID2021781                               NaN   \n",
       "\n",
       "               ring:polycycle_spiro_1_4-dioxaspiro[4.5]decane  \\\n",
       "DTXSID                                                          \n",
       "DTXSID4029355                                             NaN   \n",
       "DTXSID4020240                                             NaN   \n",
       "DTXSID0021961                                             NaN   \n",
       "DTXSID6027428                                             NaN   \n",
       "DTXSID2021781                                             NaN   \n",
       "\n",
       "               ring:polycycle_tricyclo_[3.5.5]_cyclopropa[cd]pentalene  \\\n",
       "DTXSID                                                                   \n",
       "DTXSID4029355                                                NaN         \n",
       "DTXSID4020240                                                NaN         \n",
       "DTXSID0021961                                                NaN         \n",
       "DTXSID6027428                                                NaN         \n",
       "DTXSID2021781                                                NaN         \n",
       "\n",
       "               ring:polycycle_tricyclo_[3.7.7]bullvalene  \\\n",
       "DTXSID                                                     \n",
       "DTXSID4029355                                        NaN   \n",
       "DTXSID4020240                                        NaN   \n",
       "DTXSID0021961                                        NaN   \n",
       "DTXSID6027428                                        NaN   \n",
       "DTXSID2021781                                        NaN   \n",
       "\n",
       "               ring:polycycle_tricyclo_[3.7.7]semibullvalene  \\\n",
       "DTXSID                                                         \n",
       "DTXSID4029355                                            NaN   \n",
       "DTXSID4020240                                            NaN   \n",
       "DTXSID0021961                                            NaN   \n",
       "DTXSID6027428                                            NaN   \n",
       "DTXSID2021781                                            NaN   \n",
       "\n",
       "               ring:polycycle_tricyclo_adamantane  \\\n",
       "DTXSID                                              \n",
       "DTXSID4029355                                 NaN   \n",
       "DTXSID4020240                                 NaN   \n",
       "DTXSID0021961                                 NaN   \n",
       "DTXSID6027428                                 NaN   \n",
       "DTXSID2021781                                 NaN   \n",
       "\n",
       "               ring:polycycle_tricyclo_benzvalene  \n",
       "DTXSID                                             \n",
       "DTXSID4029355                                 NaN  \n",
       "DTXSID4020240                                 NaN  \n",
       "DTXSID0021961                                 NaN  \n",
       "DTXSID6027428                                 NaN  \n",
       "DTXSID2021781                                 NaN  \n",
       "\n",
       "[5 rows x 729 columns]"
      ]
     },
     "execution_count": 62,
     "metadata": {},
     "output_type": "execute_result"
    }
   ],
   "source": [
    "new_elise.head()"
   ]
  },
  {
   "cell_type": "code",
   "execution_count": 60,
   "metadata": {},
   "outputs": [],
   "source": [
    "#elise_df_new = elise_df.set_index('DTXSID')"
   ]
  },
  {
   "cell_type": "code",
   "execution_count": 63,
   "metadata": {},
   "outputs": [],
   "source": [
    "#new_elise = elise_df_new.iloc[:,8:]"
   ]
  },
  {
   "cell_type": "code",
   "execution_count": 64,
   "metadata": {},
   "outputs": [],
   "source": [
    "new_elise['Source']= 'ELSIE'"
   ]
  },
  {
   "cell_type": "code",
   "execution_count": 65,
   "metadata": {},
   "outputs": [],
   "source": [
    "lri_tps.drop(['M_COMPOUND_HISTORY_[STRING]', 'M_CORINA_SYMPHONY_ERRORS_[STRING]'],axis = 1,  inplace = True)"
   ]
  },
  {
   "cell_type": "code",
   "execution_count": 66,
   "metadata": {},
   "outputs": [
    {
     "data": {
      "text/html": [
       "<div>\n",
       "<style scoped>\n",
       "    .dataframe tbody tr th:only-of-type {\n",
       "        vertical-align: middle;\n",
       "    }\n",
       "\n",
       "    .dataframe tbody tr th {\n",
       "        vertical-align: top;\n",
       "    }\n",
       "\n",
       "    .dataframe thead th {\n",
       "        text-align: right;\n",
       "    }\n",
       "</style>\n",
       "<table border=\"1\" class=\"dataframe\">\n",
       "  <thead>\n",
       "    <tr style=\"text-align: right;\">\n",
       "      <th></th>\n",
       "      <th>DTXSID</th>\n",
       "      <th>atom:element_main_group</th>\n",
       "      <th>atom:element_metal_group_I_II</th>\n",
       "      <th>atom:element_metal_group_III</th>\n",
       "      <th>atom:element_metal_metalloid</th>\n",
       "      <th>atom:element_metal_poor_metal</th>\n",
       "      <th>atom:element_metal_transistion_metal</th>\n",
       "      <th>atom:element_noble_gas</th>\n",
       "      <th>bond:C#N_cyano_acylcyanide</th>\n",
       "      <th>bond:C#N_cyano_cyanamide</th>\n",
       "      <th>...</th>\n",
       "      <th>ring:polycycle_bicyclo_propene</th>\n",
       "      <th>ring:polycycle_spiro_[2.2]pentane</th>\n",
       "      <th>ring:polycycle_spiro_[2.5]octane</th>\n",
       "      <th>ring:polycycle_spiro_[4.5]decane</th>\n",
       "      <th>ring:polycycle_spiro_1_4-dioxaspiro[4.5]decane</th>\n",
       "      <th>ring:polycycle_tricyclo_[3.5.5]_cyclopropa[cd]pentalene</th>\n",
       "      <th>ring:polycycle_tricyclo_[3.7.7]bullvalene</th>\n",
       "      <th>ring:polycycle_tricyclo_[3.7.7]semibullvalene</th>\n",
       "      <th>ring:polycycle_tricyclo_adamantane</th>\n",
       "      <th>ring:polycycle_tricyclo_benzvalene</th>\n",
       "    </tr>\n",
       "  </thead>\n",
       "  <tbody>\n",
       "    <tr>\n",
       "      <th>0</th>\n",
       "      <td>DTXSID6020561</td>\n",
       "      <td>NaN</td>\n",
       "      <td>NaN</td>\n",
       "      <td>NaN</td>\n",
       "      <td>NaN</td>\n",
       "      <td>NaN</td>\n",
       "      <td>NaN</td>\n",
       "      <td>NaN</td>\n",
       "      <td>NaN</td>\n",
       "      <td>NaN</td>\n",
       "      <td>...</td>\n",
       "      <td>NaN</td>\n",
       "      <td>NaN</td>\n",
       "      <td>NaN</td>\n",
       "      <td>NaN</td>\n",
       "      <td>NaN</td>\n",
       "      <td>NaN</td>\n",
       "      <td>NaN</td>\n",
       "      <td>NaN</td>\n",
       "      <td>NaN</td>\n",
       "      <td>NaN</td>\n",
       "    </tr>\n",
       "    <tr>\n",
       "      <th>1</th>\n",
       "      <td>DTXSID9020453</td>\n",
       "      <td>NaN</td>\n",
       "      <td>NaN</td>\n",
       "      <td>NaN</td>\n",
       "      <td>NaN</td>\n",
       "      <td>NaN</td>\n",
       "      <td>NaN</td>\n",
       "      <td>NaN</td>\n",
       "      <td>NaN</td>\n",
       "      <td>NaN</td>\n",
       "      <td>...</td>\n",
       "      <td>NaN</td>\n",
       "      <td>NaN</td>\n",
       "      <td>NaN</td>\n",
       "      <td>NaN</td>\n",
       "      <td>NaN</td>\n",
       "      <td>NaN</td>\n",
       "      <td>NaN</td>\n",
       "      <td>NaN</td>\n",
       "      <td>NaN</td>\n",
       "      <td>NaN</td>\n",
       "    </tr>\n",
       "    <tr>\n",
       "      <th>2</th>\n",
       "      <td>DTXSID3034456</td>\n",
       "      <td>NaN</td>\n",
       "      <td>NaN</td>\n",
       "      <td>NaN</td>\n",
       "      <td>NaN</td>\n",
       "      <td>NaN</td>\n",
       "      <td>NaN</td>\n",
       "      <td>NaN</td>\n",
       "      <td>NaN</td>\n",
       "      <td>NaN</td>\n",
       "      <td>...</td>\n",
       "      <td>NaN</td>\n",
       "      <td>NaN</td>\n",
       "      <td>NaN</td>\n",
       "      <td>NaN</td>\n",
       "      <td>NaN</td>\n",
       "      <td>NaN</td>\n",
       "      <td>NaN</td>\n",
       "      <td>NaN</td>\n",
       "      <td>NaN</td>\n",
       "      <td>NaN</td>\n",
       "    </tr>\n",
       "    <tr>\n",
       "      <th>3</th>\n",
       "      <td>DTXSID2024242</td>\n",
       "      <td>NaN</td>\n",
       "      <td>NaN</td>\n",
       "      <td>NaN</td>\n",
       "      <td>NaN</td>\n",
       "      <td>NaN</td>\n",
       "      <td>NaN</td>\n",
       "      <td>NaN</td>\n",
       "      <td>NaN</td>\n",
       "      <td>NaN</td>\n",
       "      <td>...</td>\n",
       "      <td>NaN</td>\n",
       "      <td>NaN</td>\n",
       "      <td>NaN</td>\n",
       "      <td>NaN</td>\n",
       "      <td>NaN</td>\n",
       "      <td>NaN</td>\n",
       "      <td>NaN</td>\n",
       "      <td>NaN</td>\n",
       "      <td>NaN</td>\n",
       "      <td>NaN</td>\n",
       "    </tr>\n",
       "    <tr>\n",
       "      <th>4</th>\n",
       "      <td>DTXSID4032376</td>\n",
       "      <td>NaN</td>\n",
       "      <td>NaN</td>\n",
       "      <td>NaN</td>\n",
       "      <td>NaN</td>\n",
       "      <td>NaN</td>\n",
       "      <td>NaN</td>\n",
       "      <td>NaN</td>\n",
       "      <td>NaN</td>\n",
       "      <td>NaN</td>\n",
       "      <td>...</td>\n",
       "      <td>NaN</td>\n",
       "      <td>NaN</td>\n",
       "      <td>NaN</td>\n",
       "      <td>NaN</td>\n",
       "      <td>NaN</td>\n",
       "      <td>NaN</td>\n",
       "      <td>NaN</td>\n",
       "      <td>NaN</td>\n",
       "      <td>NaN</td>\n",
       "      <td>NaN</td>\n",
       "    </tr>\n",
       "  </tbody>\n",
       "</table>\n",
       "<p>5 rows × 730 columns</p>\n",
       "</div>"
      ],
      "text/plain": [
       "          DTXSID  atom:element_main_group  atom:element_metal_group_I_II  \\\n",
       "0  DTXSID6020561                      NaN                            NaN   \n",
       "1  DTXSID9020453                      NaN                            NaN   \n",
       "2  DTXSID3034456                      NaN                            NaN   \n",
       "3  DTXSID2024242                      NaN                            NaN   \n",
       "4  DTXSID4032376                      NaN                            NaN   \n",
       "\n",
       "   atom:element_metal_group_III  atom:element_metal_metalloid  \\\n",
       "0                           NaN                           NaN   \n",
       "1                           NaN                           NaN   \n",
       "2                           NaN                           NaN   \n",
       "3                           NaN                           NaN   \n",
       "4                           NaN                           NaN   \n",
       "\n",
       "   atom:element_metal_poor_metal  atom:element_metal_transistion_metal  \\\n",
       "0                            NaN                                   NaN   \n",
       "1                            NaN                                   NaN   \n",
       "2                            NaN                                   NaN   \n",
       "3                            NaN                                   NaN   \n",
       "4                            NaN                                   NaN   \n",
       "\n",
       "   atom:element_noble_gas  bond:C#N_cyano_acylcyanide  \\\n",
       "0                     NaN                         NaN   \n",
       "1                     NaN                         NaN   \n",
       "2                     NaN                         NaN   \n",
       "3                     NaN                         NaN   \n",
       "4                     NaN                         NaN   \n",
       "\n",
       "   bond:C#N_cyano_cyanamide  ...  ring:polycycle_bicyclo_propene  \\\n",
       "0                       NaN  ...                             NaN   \n",
       "1                       NaN  ...                             NaN   \n",
       "2                       NaN  ...                             NaN   \n",
       "3                       NaN  ...                             NaN   \n",
       "4                       NaN  ...                             NaN   \n",
       "\n",
       "   ring:polycycle_spiro_[2.2]pentane  ring:polycycle_spiro_[2.5]octane  \\\n",
       "0                                NaN                               NaN   \n",
       "1                                NaN                               NaN   \n",
       "2                                NaN                               NaN   \n",
       "3                                NaN                               NaN   \n",
       "4                                NaN                               NaN   \n",
       "\n",
       "   ring:polycycle_spiro_[4.5]decane  \\\n",
       "0                               NaN   \n",
       "1                               NaN   \n",
       "2                               NaN   \n",
       "3                               NaN   \n",
       "4                               NaN   \n",
       "\n",
       "   ring:polycycle_spiro_1_4-dioxaspiro[4.5]decane  \\\n",
       "0                                             NaN   \n",
       "1                                             NaN   \n",
       "2                                             NaN   \n",
       "3                                             NaN   \n",
       "4                                             NaN   \n",
       "\n",
       "   ring:polycycle_tricyclo_[3.5.5]_cyclopropa[cd]pentalene  \\\n",
       "0                                                NaN         \n",
       "1                                                NaN         \n",
       "2                                                NaN         \n",
       "3                                                NaN         \n",
       "4                                                NaN         \n",
       "\n",
       "   ring:polycycle_tricyclo_[3.7.7]bullvalene  \\\n",
       "0                                        NaN   \n",
       "1                                        NaN   \n",
       "2                                        NaN   \n",
       "3                                        NaN   \n",
       "4                                        NaN   \n",
       "\n",
       "   ring:polycycle_tricyclo_[3.7.7]semibullvalene  \\\n",
       "0                                            NaN   \n",
       "1                                            NaN   \n",
       "2                                            NaN   \n",
       "3                                            NaN   \n",
       "4                                            NaN   \n",
       "\n",
       "   ring:polycycle_tricyclo_adamantane  ring:polycycle_tricyclo_benzvalene  \n",
       "0                                 NaN                                 NaN  \n",
       "1                                 NaN                                 NaN  \n",
       "2                                 NaN                                 NaN  \n",
       "3                                 NaN                                 NaN  \n",
       "4                                 NaN                                 NaN  \n",
       "\n",
       "[5 rows x 730 columns]"
      ]
     },
     "execution_count": 66,
     "metadata": {},
     "output_type": "execute_result"
    }
   ],
   "source": [
    "lri_tps.head()"
   ]
  },
  {
   "cell_type": "code",
   "execution_count": 67,
   "metadata": {},
   "outputs": [],
   "source": [
    "lri_tps_df = lri_tps.set_index('DTXSID')"
   ]
  },
  {
   "cell_type": "code",
   "execution_count": 68,
   "metadata": {},
   "outputs": [],
   "source": [
    "lri_tps_df['Source'] = 'LRI'"
   ]
  },
  {
   "cell_type": "code",
   "execution_count": 69,
   "metadata": {},
   "outputs": [],
   "source": [
    "lri_elise_tps = pd.concat([lri_tps_df, new_elise],axis = 0)"
   ]
  },
  {
   "cell_type": "code",
   "execution_count": 70,
   "metadata": {},
   "outputs": [
    {
     "data": {
      "text/html": [
       "<div>\n",
       "<style scoped>\n",
       "    .dataframe tbody tr th:only-of-type {\n",
       "        vertical-align: middle;\n",
       "    }\n",
       "\n",
       "    .dataframe tbody tr th {\n",
       "        vertical-align: top;\n",
       "    }\n",
       "\n",
       "    .dataframe thead th {\n",
       "        text-align: right;\n",
       "    }\n",
       "</style>\n",
       "<table border=\"1\" class=\"dataframe\">\n",
       "  <thead>\n",
       "    <tr style=\"text-align: right;\">\n",
       "      <th></th>\n",
       "      <th>atom:element_main_group</th>\n",
       "      <th>atom:element_metal_group_I_II</th>\n",
       "      <th>atom:element_metal_group_III</th>\n",
       "      <th>atom:element_metal_metalloid</th>\n",
       "      <th>atom:element_metal_poor_metal</th>\n",
       "      <th>atom:element_metal_transistion_metal</th>\n",
       "      <th>atom:element_noble_gas</th>\n",
       "      <th>bond:C#N_cyano_acylcyanide</th>\n",
       "      <th>bond:C#N_cyano_cyanamide</th>\n",
       "      <th>bond:C#N_cyano_cyanohydrin</th>\n",
       "      <th>...</th>\n",
       "      <th>ring:polycycle_spiro_[2.2]pentane</th>\n",
       "      <th>ring:polycycle_spiro_[2.5]octane</th>\n",
       "      <th>ring:polycycle_spiro_[4.5]decane</th>\n",
       "      <th>ring:polycycle_spiro_1_4-dioxaspiro[4.5]decane</th>\n",
       "      <th>ring:polycycle_tricyclo_[3.5.5]_cyclopropa[cd]pentalene</th>\n",
       "      <th>ring:polycycle_tricyclo_[3.7.7]bullvalene</th>\n",
       "      <th>ring:polycycle_tricyclo_[3.7.7]semibullvalene</th>\n",
       "      <th>ring:polycycle_tricyclo_adamantane</th>\n",
       "      <th>ring:polycycle_tricyclo_benzvalene</th>\n",
       "      <th>Source</th>\n",
       "    </tr>\n",
       "    <tr>\n",
       "      <th>DTXSID</th>\n",
       "      <th></th>\n",
       "      <th></th>\n",
       "      <th></th>\n",
       "      <th></th>\n",
       "      <th></th>\n",
       "      <th></th>\n",
       "      <th></th>\n",
       "      <th></th>\n",
       "      <th></th>\n",
       "      <th></th>\n",
       "      <th></th>\n",
       "      <th></th>\n",
       "      <th></th>\n",
       "      <th></th>\n",
       "      <th></th>\n",
       "      <th></th>\n",
       "      <th></th>\n",
       "      <th></th>\n",
       "      <th></th>\n",
       "      <th></th>\n",
       "      <th></th>\n",
       "    </tr>\n",
       "  </thead>\n",
       "  <tbody>\n",
       "    <tr>\n",
       "      <th>DTXSID6020561</th>\n",
       "      <td>NaN</td>\n",
       "      <td>NaN</td>\n",
       "      <td>NaN</td>\n",
       "      <td>NaN</td>\n",
       "      <td>NaN</td>\n",
       "      <td>NaN</td>\n",
       "      <td>NaN</td>\n",
       "      <td>NaN</td>\n",
       "      <td>NaN</td>\n",
       "      <td>NaN</td>\n",
       "      <td>...</td>\n",
       "      <td>NaN</td>\n",
       "      <td>NaN</td>\n",
       "      <td>NaN</td>\n",
       "      <td>NaN</td>\n",
       "      <td>NaN</td>\n",
       "      <td>NaN</td>\n",
       "      <td>NaN</td>\n",
       "      <td>NaN</td>\n",
       "      <td>NaN</td>\n",
       "      <td>LRI</td>\n",
       "    </tr>\n",
       "    <tr>\n",
       "      <th>DTXSID9020453</th>\n",
       "      <td>NaN</td>\n",
       "      <td>NaN</td>\n",
       "      <td>NaN</td>\n",
       "      <td>NaN</td>\n",
       "      <td>NaN</td>\n",
       "      <td>NaN</td>\n",
       "      <td>NaN</td>\n",
       "      <td>NaN</td>\n",
       "      <td>NaN</td>\n",
       "      <td>NaN</td>\n",
       "      <td>...</td>\n",
       "      <td>NaN</td>\n",
       "      <td>NaN</td>\n",
       "      <td>NaN</td>\n",
       "      <td>NaN</td>\n",
       "      <td>NaN</td>\n",
       "      <td>NaN</td>\n",
       "      <td>NaN</td>\n",
       "      <td>NaN</td>\n",
       "      <td>NaN</td>\n",
       "      <td>LRI</td>\n",
       "    </tr>\n",
       "    <tr>\n",
       "      <th>DTXSID3034456</th>\n",
       "      <td>NaN</td>\n",
       "      <td>NaN</td>\n",
       "      <td>NaN</td>\n",
       "      <td>NaN</td>\n",
       "      <td>NaN</td>\n",
       "      <td>NaN</td>\n",
       "      <td>NaN</td>\n",
       "      <td>NaN</td>\n",
       "      <td>NaN</td>\n",
       "      <td>NaN</td>\n",
       "      <td>...</td>\n",
       "      <td>NaN</td>\n",
       "      <td>NaN</td>\n",
       "      <td>NaN</td>\n",
       "      <td>NaN</td>\n",
       "      <td>NaN</td>\n",
       "      <td>NaN</td>\n",
       "      <td>NaN</td>\n",
       "      <td>NaN</td>\n",
       "      <td>NaN</td>\n",
       "      <td>LRI</td>\n",
       "    </tr>\n",
       "    <tr>\n",
       "      <th>DTXSID2024242</th>\n",
       "      <td>NaN</td>\n",
       "      <td>NaN</td>\n",
       "      <td>NaN</td>\n",
       "      <td>NaN</td>\n",
       "      <td>NaN</td>\n",
       "      <td>NaN</td>\n",
       "      <td>NaN</td>\n",
       "      <td>NaN</td>\n",
       "      <td>NaN</td>\n",
       "      <td>NaN</td>\n",
       "      <td>...</td>\n",
       "      <td>NaN</td>\n",
       "      <td>NaN</td>\n",
       "      <td>NaN</td>\n",
       "      <td>NaN</td>\n",
       "      <td>NaN</td>\n",
       "      <td>NaN</td>\n",
       "      <td>NaN</td>\n",
       "      <td>NaN</td>\n",
       "      <td>NaN</td>\n",
       "      <td>LRI</td>\n",
       "    </tr>\n",
       "    <tr>\n",
       "      <th>DTXSID4032376</th>\n",
       "      <td>NaN</td>\n",
       "      <td>NaN</td>\n",
       "      <td>NaN</td>\n",
       "      <td>NaN</td>\n",
       "      <td>NaN</td>\n",
       "      <td>NaN</td>\n",
       "      <td>NaN</td>\n",
       "      <td>NaN</td>\n",
       "      <td>NaN</td>\n",
       "      <td>NaN</td>\n",
       "      <td>...</td>\n",
       "      <td>NaN</td>\n",
       "      <td>NaN</td>\n",
       "      <td>NaN</td>\n",
       "      <td>NaN</td>\n",
       "      <td>NaN</td>\n",
       "      <td>NaN</td>\n",
       "      <td>NaN</td>\n",
       "      <td>NaN</td>\n",
       "      <td>NaN</td>\n",
       "      <td>LRI</td>\n",
       "    </tr>\n",
       "  </tbody>\n",
       "</table>\n",
       "<p>5 rows × 730 columns</p>\n",
       "</div>"
      ],
      "text/plain": [
       "               atom:element_main_group  atom:element_metal_group_I_II  \\\n",
       "DTXSID                                                                  \n",
       "DTXSID6020561                      NaN                            NaN   \n",
       "DTXSID9020453                      NaN                            NaN   \n",
       "DTXSID3034456                      NaN                            NaN   \n",
       "DTXSID2024242                      NaN                            NaN   \n",
       "DTXSID4032376                      NaN                            NaN   \n",
       "\n",
       "               atom:element_metal_group_III  atom:element_metal_metalloid  \\\n",
       "DTXSID                                                                      \n",
       "DTXSID6020561                           NaN                           NaN   \n",
       "DTXSID9020453                           NaN                           NaN   \n",
       "DTXSID3034456                           NaN                           NaN   \n",
       "DTXSID2024242                           NaN                           NaN   \n",
       "DTXSID4032376                           NaN                           NaN   \n",
       "\n",
       "               atom:element_metal_poor_metal  \\\n",
       "DTXSID                                         \n",
       "DTXSID6020561                            NaN   \n",
       "DTXSID9020453                            NaN   \n",
       "DTXSID3034456                            NaN   \n",
       "DTXSID2024242                            NaN   \n",
       "DTXSID4032376                            NaN   \n",
       "\n",
       "               atom:element_metal_transistion_metal  atom:element_noble_gas  \\\n",
       "DTXSID                                                                        \n",
       "DTXSID6020561                                   NaN                     NaN   \n",
       "DTXSID9020453                                   NaN                     NaN   \n",
       "DTXSID3034456                                   NaN                     NaN   \n",
       "DTXSID2024242                                   NaN                     NaN   \n",
       "DTXSID4032376                                   NaN                     NaN   \n",
       "\n",
       "               bond:C#N_cyano_acylcyanide  bond:C#N_cyano_cyanamide  \\\n",
       "DTXSID                                                                \n",
       "DTXSID6020561                         NaN                       NaN   \n",
       "DTXSID9020453                         NaN                       NaN   \n",
       "DTXSID3034456                         NaN                       NaN   \n",
       "DTXSID2024242                         NaN                       NaN   \n",
       "DTXSID4032376                         NaN                       NaN   \n",
       "\n",
       "               bond:C#N_cyano_cyanohydrin  ...  \\\n",
       "DTXSID                                     ...   \n",
       "DTXSID6020561                         NaN  ...   \n",
       "DTXSID9020453                         NaN  ...   \n",
       "DTXSID3034456                         NaN  ...   \n",
       "DTXSID2024242                         NaN  ...   \n",
       "DTXSID4032376                         NaN  ...   \n",
       "\n",
       "               ring:polycycle_spiro_[2.2]pentane  \\\n",
       "DTXSID                                             \n",
       "DTXSID6020561                                NaN   \n",
       "DTXSID9020453                                NaN   \n",
       "DTXSID3034456                                NaN   \n",
       "DTXSID2024242                                NaN   \n",
       "DTXSID4032376                                NaN   \n",
       "\n",
       "               ring:polycycle_spiro_[2.5]octane  \\\n",
       "DTXSID                                            \n",
       "DTXSID6020561                               NaN   \n",
       "DTXSID9020453                               NaN   \n",
       "DTXSID3034456                               NaN   \n",
       "DTXSID2024242                               NaN   \n",
       "DTXSID4032376                               NaN   \n",
       "\n",
       "               ring:polycycle_spiro_[4.5]decane  \\\n",
       "DTXSID                                            \n",
       "DTXSID6020561                               NaN   \n",
       "DTXSID9020453                               NaN   \n",
       "DTXSID3034456                               NaN   \n",
       "DTXSID2024242                               NaN   \n",
       "DTXSID4032376                               NaN   \n",
       "\n",
       "               ring:polycycle_spiro_1_4-dioxaspiro[4.5]decane  \\\n",
       "DTXSID                                                          \n",
       "DTXSID6020561                                             NaN   \n",
       "DTXSID9020453                                             NaN   \n",
       "DTXSID3034456                                             NaN   \n",
       "DTXSID2024242                                             NaN   \n",
       "DTXSID4032376                                             NaN   \n",
       "\n",
       "               ring:polycycle_tricyclo_[3.5.5]_cyclopropa[cd]pentalene  \\\n",
       "DTXSID                                                                   \n",
       "DTXSID6020561                                                NaN         \n",
       "DTXSID9020453                                                NaN         \n",
       "DTXSID3034456                                                NaN         \n",
       "DTXSID2024242                                                NaN         \n",
       "DTXSID4032376                                                NaN         \n",
       "\n",
       "               ring:polycycle_tricyclo_[3.7.7]bullvalene  \\\n",
       "DTXSID                                                     \n",
       "DTXSID6020561                                        NaN   \n",
       "DTXSID9020453                                        NaN   \n",
       "DTXSID3034456                                        NaN   \n",
       "DTXSID2024242                                        NaN   \n",
       "DTXSID4032376                                        NaN   \n",
       "\n",
       "               ring:polycycle_tricyclo_[3.7.7]semibullvalene  \\\n",
       "DTXSID                                                         \n",
       "DTXSID6020561                                            NaN   \n",
       "DTXSID9020453                                            NaN   \n",
       "DTXSID3034456                                            NaN   \n",
       "DTXSID2024242                                            NaN   \n",
       "DTXSID4032376                                            NaN   \n",
       "\n",
       "               ring:polycycle_tricyclo_adamantane  \\\n",
       "DTXSID                                              \n",
       "DTXSID6020561                                 NaN   \n",
       "DTXSID9020453                                 NaN   \n",
       "DTXSID3034456                                 NaN   \n",
       "DTXSID2024242                                 NaN   \n",
       "DTXSID4032376                                 NaN   \n",
       "\n",
       "               ring:polycycle_tricyclo_benzvalene  Source  \n",
       "DTXSID                                                     \n",
       "DTXSID6020561                                 NaN     LRI  \n",
       "DTXSID9020453                                 NaN     LRI  \n",
       "DTXSID3034456                                 NaN     LRI  \n",
       "DTXSID2024242                                 NaN     LRI  \n",
       "DTXSID4032376                                 NaN     LRI  \n",
       "\n",
       "[5 rows x 730 columns]"
      ]
     },
     "execution_count": 70,
     "metadata": {},
     "output_type": "execute_result"
    }
   ],
   "source": [
    "lri_elise_tps.head()"
   ]
  },
  {
   "cell_type": "code",
   "execution_count": 74,
   "metadata": {},
   "outputs": [],
   "source": [
    "lri_elise_tps = lri_elise_tps.fillna(0)"
   ]
  },
  {
   "cell_type": "code",
   "execution_count": 75,
   "metadata": {},
   "outputs": [],
   "source": [
    "lri_elise_tps.to_csv(processed_dir+'lri_elise_tps_df.csv')"
   ]
  },
  {
   "cell_type": "markdown",
   "metadata": {},
   "source": [
    "#### Investigating means of visualising the 729 ToxPrints into 2-3 Dimensions - exploration of t-TSNE approaches"
   ]
  },
  {
   "cell_type": "code",
   "execution_count": 77,
   "metadata": {},
   "outputs": [
    {
     "data": {
      "text/html": [
       "<div>\n",
       "<style scoped>\n",
       "    .dataframe tbody tr th:only-of-type {\n",
       "        vertical-align: middle;\n",
       "    }\n",
       "\n",
       "    .dataframe tbody tr th {\n",
       "        vertical-align: top;\n",
       "    }\n",
       "\n",
       "    .dataframe thead th {\n",
       "        text-align: right;\n",
       "    }\n",
       "</style>\n",
       "<table border=\"1\" class=\"dataframe\">\n",
       "  <thead>\n",
       "    <tr style=\"text-align: right;\">\n",
       "      <th></th>\n",
       "      <th>atom:element_main_group</th>\n",
       "      <th>atom:element_metal_group_I_II</th>\n",
       "      <th>atom:element_metal_group_III</th>\n",
       "      <th>atom:element_metal_metalloid</th>\n",
       "      <th>atom:element_metal_poor_metal</th>\n",
       "      <th>atom:element_metal_transistion_metal</th>\n",
       "      <th>atom:element_noble_gas</th>\n",
       "      <th>bond:C#N_cyano_acylcyanide</th>\n",
       "      <th>bond:C#N_cyano_cyanamide</th>\n",
       "      <th>bond:C#N_cyano_cyanohydrin</th>\n",
       "      <th>...</th>\n",
       "      <th>ring:polycycle_bicyclo_propene</th>\n",
       "      <th>ring:polycycle_spiro_[2.2]pentane</th>\n",
       "      <th>ring:polycycle_spiro_[2.5]octane</th>\n",
       "      <th>ring:polycycle_spiro_[4.5]decane</th>\n",
       "      <th>ring:polycycle_spiro_1_4-dioxaspiro[4.5]decane</th>\n",
       "      <th>ring:polycycle_tricyclo_[3.5.5]_cyclopropa[cd]pentalene</th>\n",
       "      <th>ring:polycycle_tricyclo_[3.7.7]bullvalene</th>\n",
       "      <th>ring:polycycle_tricyclo_[3.7.7]semibullvalene</th>\n",
       "      <th>ring:polycycle_tricyclo_adamantane</th>\n",
       "      <th>ring:polycycle_tricyclo_benzvalene</th>\n",
       "    </tr>\n",
       "    <tr>\n",
       "      <th>DTXSID</th>\n",
       "      <th></th>\n",
       "      <th></th>\n",
       "      <th></th>\n",
       "      <th></th>\n",
       "      <th></th>\n",
       "      <th></th>\n",
       "      <th></th>\n",
       "      <th></th>\n",
       "      <th></th>\n",
       "      <th></th>\n",
       "      <th></th>\n",
       "      <th></th>\n",
       "      <th></th>\n",
       "      <th></th>\n",
       "      <th></th>\n",
       "      <th></th>\n",
       "      <th></th>\n",
       "      <th></th>\n",
       "      <th></th>\n",
       "      <th></th>\n",
       "      <th></th>\n",
       "    </tr>\n",
       "  </thead>\n",
       "  <tbody>\n",
       "    <tr>\n",
       "      <th>DTXSID6020561</th>\n",
       "      <td>0.0</td>\n",
       "      <td>0.0</td>\n",
       "      <td>0.0</td>\n",
       "      <td>0.0</td>\n",
       "      <td>0.0</td>\n",
       "      <td>0.0</td>\n",
       "      <td>0.0</td>\n",
       "      <td>0.0</td>\n",
       "      <td>0.0</td>\n",
       "      <td>0.0</td>\n",
       "      <td>...</td>\n",
       "      <td>0.0</td>\n",
       "      <td>0.0</td>\n",
       "      <td>0.0</td>\n",
       "      <td>0.0</td>\n",
       "      <td>0.0</td>\n",
       "      <td>0.0</td>\n",
       "      <td>0.0</td>\n",
       "      <td>0.0</td>\n",
       "      <td>0.0</td>\n",
       "      <td>0.0</td>\n",
       "    </tr>\n",
       "    <tr>\n",
       "      <th>DTXSID9020453</th>\n",
       "      <td>0.0</td>\n",
       "      <td>0.0</td>\n",
       "      <td>0.0</td>\n",
       "      <td>0.0</td>\n",
       "      <td>0.0</td>\n",
       "      <td>0.0</td>\n",
       "      <td>0.0</td>\n",
       "      <td>0.0</td>\n",
       "      <td>0.0</td>\n",
       "      <td>0.0</td>\n",
       "      <td>...</td>\n",
       "      <td>0.0</td>\n",
       "      <td>0.0</td>\n",
       "      <td>0.0</td>\n",
       "      <td>0.0</td>\n",
       "      <td>0.0</td>\n",
       "      <td>0.0</td>\n",
       "      <td>0.0</td>\n",
       "      <td>0.0</td>\n",
       "      <td>0.0</td>\n",
       "      <td>0.0</td>\n",
       "    </tr>\n",
       "    <tr>\n",
       "      <th>DTXSID3034456</th>\n",
       "      <td>0.0</td>\n",
       "      <td>0.0</td>\n",
       "      <td>0.0</td>\n",
       "      <td>0.0</td>\n",
       "      <td>0.0</td>\n",
       "      <td>0.0</td>\n",
       "      <td>0.0</td>\n",
       "      <td>0.0</td>\n",
       "      <td>0.0</td>\n",
       "      <td>0.0</td>\n",
       "      <td>...</td>\n",
       "      <td>0.0</td>\n",
       "      <td>0.0</td>\n",
       "      <td>0.0</td>\n",
       "      <td>0.0</td>\n",
       "      <td>0.0</td>\n",
       "      <td>0.0</td>\n",
       "      <td>0.0</td>\n",
       "      <td>0.0</td>\n",
       "      <td>0.0</td>\n",
       "      <td>0.0</td>\n",
       "    </tr>\n",
       "    <tr>\n",
       "      <th>DTXSID2024242</th>\n",
       "      <td>0.0</td>\n",
       "      <td>0.0</td>\n",
       "      <td>0.0</td>\n",
       "      <td>0.0</td>\n",
       "      <td>0.0</td>\n",
       "      <td>0.0</td>\n",
       "      <td>0.0</td>\n",
       "      <td>0.0</td>\n",
       "      <td>0.0</td>\n",
       "      <td>0.0</td>\n",
       "      <td>...</td>\n",
       "      <td>0.0</td>\n",
       "      <td>0.0</td>\n",
       "      <td>0.0</td>\n",
       "      <td>0.0</td>\n",
       "      <td>0.0</td>\n",
       "      <td>0.0</td>\n",
       "      <td>0.0</td>\n",
       "      <td>0.0</td>\n",
       "      <td>0.0</td>\n",
       "      <td>0.0</td>\n",
       "    </tr>\n",
       "    <tr>\n",
       "      <th>DTXSID4032376</th>\n",
       "      <td>0.0</td>\n",
       "      <td>0.0</td>\n",
       "      <td>0.0</td>\n",
       "      <td>0.0</td>\n",
       "      <td>0.0</td>\n",
       "      <td>0.0</td>\n",
       "      <td>0.0</td>\n",
       "      <td>0.0</td>\n",
       "      <td>0.0</td>\n",
       "      <td>0.0</td>\n",
       "      <td>...</td>\n",
       "      <td>0.0</td>\n",
       "      <td>0.0</td>\n",
       "      <td>0.0</td>\n",
       "      <td>0.0</td>\n",
       "      <td>0.0</td>\n",
       "      <td>0.0</td>\n",
       "      <td>0.0</td>\n",
       "      <td>0.0</td>\n",
       "      <td>0.0</td>\n",
       "      <td>0.0</td>\n",
       "    </tr>\n",
       "  </tbody>\n",
       "</table>\n",
       "<p>5 rows × 729 columns</p>\n",
       "</div>"
      ],
      "text/plain": [
       "               atom:element_main_group  atom:element_metal_group_I_II  \\\n",
       "DTXSID                                                                  \n",
       "DTXSID6020561                      0.0                            0.0   \n",
       "DTXSID9020453                      0.0                            0.0   \n",
       "DTXSID3034456                      0.0                            0.0   \n",
       "DTXSID2024242                      0.0                            0.0   \n",
       "DTXSID4032376                      0.0                            0.0   \n",
       "\n",
       "               atom:element_metal_group_III  atom:element_metal_metalloid  \\\n",
       "DTXSID                                                                      \n",
       "DTXSID6020561                           0.0                           0.0   \n",
       "DTXSID9020453                           0.0                           0.0   \n",
       "DTXSID3034456                           0.0                           0.0   \n",
       "DTXSID2024242                           0.0                           0.0   \n",
       "DTXSID4032376                           0.0                           0.0   \n",
       "\n",
       "               atom:element_metal_poor_metal  \\\n",
       "DTXSID                                         \n",
       "DTXSID6020561                            0.0   \n",
       "DTXSID9020453                            0.0   \n",
       "DTXSID3034456                            0.0   \n",
       "DTXSID2024242                            0.0   \n",
       "DTXSID4032376                            0.0   \n",
       "\n",
       "               atom:element_metal_transistion_metal  atom:element_noble_gas  \\\n",
       "DTXSID                                                                        \n",
       "DTXSID6020561                                   0.0                     0.0   \n",
       "DTXSID9020453                                   0.0                     0.0   \n",
       "DTXSID3034456                                   0.0                     0.0   \n",
       "DTXSID2024242                                   0.0                     0.0   \n",
       "DTXSID4032376                                   0.0                     0.0   \n",
       "\n",
       "               bond:C#N_cyano_acylcyanide  bond:C#N_cyano_cyanamide  \\\n",
       "DTXSID                                                                \n",
       "DTXSID6020561                         0.0                       0.0   \n",
       "DTXSID9020453                         0.0                       0.0   \n",
       "DTXSID3034456                         0.0                       0.0   \n",
       "DTXSID2024242                         0.0                       0.0   \n",
       "DTXSID4032376                         0.0                       0.0   \n",
       "\n",
       "               bond:C#N_cyano_cyanohydrin  ...  \\\n",
       "DTXSID                                     ...   \n",
       "DTXSID6020561                         0.0  ...   \n",
       "DTXSID9020453                         0.0  ...   \n",
       "DTXSID3034456                         0.0  ...   \n",
       "DTXSID2024242                         0.0  ...   \n",
       "DTXSID4032376                         0.0  ...   \n",
       "\n",
       "               ring:polycycle_bicyclo_propene  \\\n",
       "DTXSID                                          \n",
       "DTXSID6020561                             0.0   \n",
       "DTXSID9020453                             0.0   \n",
       "DTXSID3034456                             0.0   \n",
       "DTXSID2024242                             0.0   \n",
       "DTXSID4032376                             0.0   \n",
       "\n",
       "               ring:polycycle_spiro_[2.2]pentane  \\\n",
       "DTXSID                                             \n",
       "DTXSID6020561                                0.0   \n",
       "DTXSID9020453                                0.0   \n",
       "DTXSID3034456                                0.0   \n",
       "DTXSID2024242                                0.0   \n",
       "DTXSID4032376                                0.0   \n",
       "\n",
       "               ring:polycycle_spiro_[2.5]octane  \\\n",
       "DTXSID                                            \n",
       "DTXSID6020561                               0.0   \n",
       "DTXSID9020453                               0.0   \n",
       "DTXSID3034456                               0.0   \n",
       "DTXSID2024242                               0.0   \n",
       "DTXSID4032376                               0.0   \n",
       "\n",
       "               ring:polycycle_spiro_[4.5]decane  \\\n",
       "DTXSID                                            \n",
       "DTXSID6020561                               0.0   \n",
       "DTXSID9020453                               0.0   \n",
       "DTXSID3034456                               0.0   \n",
       "DTXSID2024242                               0.0   \n",
       "DTXSID4032376                               0.0   \n",
       "\n",
       "               ring:polycycle_spiro_1_4-dioxaspiro[4.5]decane  \\\n",
       "DTXSID                                                          \n",
       "DTXSID6020561                                             0.0   \n",
       "DTXSID9020453                                             0.0   \n",
       "DTXSID3034456                                             0.0   \n",
       "DTXSID2024242                                             0.0   \n",
       "DTXSID4032376                                             0.0   \n",
       "\n",
       "               ring:polycycle_tricyclo_[3.5.5]_cyclopropa[cd]pentalene  \\\n",
       "DTXSID                                                                   \n",
       "DTXSID6020561                                                0.0         \n",
       "DTXSID9020453                                                0.0         \n",
       "DTXSID3034456                                                0.0         \n",
       "DTXSID2024242                                                0.0         \n",
       "DTXSID4032376                                                0.0         \n",
       "\n",
       "               ring:polycycle_tricyclo_[3.7.7]bullvalene  \\\n",
       "DTXSID                                                     \n",
       "DTXSID6020561                                        0.0   \n",
       "DTXSID9020453                                        0.0   \n",
       "DTXSID3034456                                        0.0   \n",
       "DTXSID2024242                                        0.0   \n",
       "DTXSID4032376                                        0.0   \n",
       "\n",
       "               ring:polycycle_tricyclo_[3.7.7]semibullvalene  \\\n",
       "DTXSID                                                         \n",
       "DTXSID6020561                                            0.0   \n",
       "DTXSID9020453                                            0.0   \n",
       "DTXSID3034456                                            0.0   \n",
       "DTXSID2024242                                            0.0   \n",
       "DTXSID4032376                                            0.0   \n",
       "\n",
       "               ring:polycycle_tricyclo_adamantane  \\\n",
       "DTXSID                                              \n",
       "DTXSID6020561                                 0.0   \n",
       "DTXSID9020453                                 0.0   \n",
       "DTXSID3034456                                 0.0   \n",
       "DTXSID2024242                                 0.0   \n",
       "DTXSID4032376                                 0.0   \n",
       "\n",
       "               ring:polycycle_tricyclo_benzvalene  \n",
       "DTXSID                                             \n",
       "DTXSID6020561                                 0.0  \n",
       "DTXSID9020453                                 0.0  \n",
       "DTXSID3034456                                 0.0  \n",
       "DTXSID2024242                                 0.0  \n",
       "DTXSID4032376                                 0.0  \n",
       "\n",
       "[5 rows x 729 columns]"
      ]
     },
     "execution_count": 77,
     "metadata": {},
     "output_type": "execute_result"
    }
   ],
   "source": [
    "lri_elise_tps.iloc[:,0:729].head()"
   ]
  },
  {
   "cell_type": "code",
   "execution_count": 78,
   "metadata": {},
   "outputs": [],
   "source": [
    "from sklearn.feature_selection import VarianceThreshold"
   ]
  },
  {
   "cell_type": "code",
   "execution_count": 79,
   "metadata": {},
   "outputs": [],
   "source": [
    "sel = VarianceThreshold(threshold = (0*(1-0)))\n",
    "X = sel.fit_transform(lri_elise_tps.iloc[:,0:729])"
   ]
  },
  {
   "cell_type": "code",
   "execution_count": 80,
   "metadata": {},
   "outputs": [],
   "source": [
    "X_df = lri_elise_tps.iloc[:,0:729][lri_elise_tps.iloc[:,0:729].columns[sel.get_support(indices=True)]]"
   ]
  },
  {
   "cell_type": "code",
   "execution_count": 81,
   "metadata": {},
   "outputs": [],
   "source": [
    "X_df1 = pd.concat([X_df,lri_elise_tps.iloc[:,729]],axis =1)"
   ]
  },
  {
   "cell_type": "code",
   "execution_count": 82,
   "metadata": {},
   "outputs": [
    {
     "data": {
      "text/plain": [
       "LRI      45038\n",
       "ELSIE      429\n",
       "Name: Source, dtype: int64"
      ]
     },
     "execution_count": 82,
     "metadata": {},
     "output_type": "execute_result"
    }
   ],
   "source": [
    "X_df1.Source.value_counts()"
   ]
  },
  {
   "cell_type": "code",
   "execution_count": 83,
   "metadata": {},
   "outputs": [],
   "source": [
    "from sklearn.model_selection import train_test_split"
   ]
  },
  {
   "cell_type": "code",
   "execution_count": 84,
   "metadata": {},
   "outputs": [],
   "source": [
    "X_train, X_test, y_train, y_test = train_test_split(X_df1.iloc[:,:600], X_df1.iloc[:,600], test_size=0.1, stratify=X_df1.iloc[:,600])"
   ]
  },
  {
   "cell_type": "code",
   "execution_count": 85,
   "metadata": {},
   "outputs": [
    {
     "data": {
      "text/plain": [
       "DTXSID\n",
       "DTXSID9026926     LRI\n",
       "DTXSID30870172    LRI\n",
       "DTXSID3022663     LRI\n",
       "DTXSID70871320    LRI\n",
       "DTXSID70227207    LRI\n",
       "Name: Source, dtype: object"
      ]
     },
     "execution_count": 85,
     "metadata": {},
     "output_type": "execute_result"
    }
   ],
   "source": [
    "y_test.head()"
   ]
  },
  {
   "cell_type": "code",
   "execution_count": 86,
   "metadata": {},
   "outputs": [],
   "source": [
    "from sklearn.manifold import TSNE"
   ]
  },
  {
   "cell_type": "code",
   "execution_count": 87,
   "metadata": {},
   "outputs": [],
   "source": [
    "model_txps = TSNE(learning_rate = 200)"
   ]
  },
  {
   "cell_type": "code",
   "execution_count": 88,
   "metadata": {},
   "outputs": [],
   "source": [
    "tsne_features = model_txps.fit_transform(X_test)"
   ]
  },
  {
   "cell_type": "code",
   "execution_count": 89,
   "metadata": {},
   "outputs": [],
   "source": [
    "tsne_df=pd.concat([pd.DataFrame(tsne_features, index = X_test.index, columns = ['tsne_x', 'tsne_y']), y_test],axis =1)"
   ]
  },
  {
   "cell_type": "code",
   "execution_count": 90,
   "metadata": {},
   "outputs": [
    {
     "data": {
      "text/html": [
       "<div>\n",
       "<style scoped>\n",
       "    .dataframe tbody tr th:only-of-type {\n",
       "        vertical-align: middle;\n",
       "    }\n",
       "\n",
       "    .dataframe tbody tr th {\n",
       "        vertical-align: top;\n",
       "    }\n",
       "\n",
       "    .dataframe thead th {\n",
       "        text-align: right;\n",
       "    }\n",
       "</style>\n",
       "<table border=\"1\" class=\"dataframe\">\n",
       "  <thead>\n",
       "    <tr style=\"text-align: right;\">\n",
       "      <th></th>\n",
       "      <th>tsne_x</th>\n",
       "      <th>tsne_y</th>\n",
       "      <th>Source</th>\n",
       "    </tr>\n",
       "    <tr>\n",
       "      <th>DTXSID</th>\n",
       "      <th></th>\n",
       "      <th></th>\n",
       "      <th></th>\n",
       "    </tr>\n",
       "  </thead>\n",
       "  <tbody>\n",
       "    <tr>\n",
       "      <th>DTXSID9026926</th>\n",
       "      <td>-39.471813</td>\n",
       "      <td>54.424824</td>\n",
       "      <td>LRI</td>\n",
       "    </tr>\n",
       "    <tr>\n",
       "      <th>DTXSID30870172</th>\n",
       "      <td>26.869255</td>\n",
       "      <td>11.978477</td>\n",
       "      <td>LRI</td>\n",
       "    </tr>\n",
       "    <tr>\n",
       "      <th>DTXSID3022663</th>\n",
       "      <td>24.805962</td>\n",
       "      <td>-18.311844</td>\n",
       "      <td>LRI</td>\n",
       "    </tr>\n",
       "    <tr>\n",
       "      <th>DTXSID70871320</th>\n",
       "      <td>26.198479</td>\n",
       "      <td>50.952549</td>\n",
       "      <td>LRI</td>\n",
       "    </tr>\n",
       "    <tr>\n",
       "      <th>DTXSID70227207</th>\n",
       "      <td>2.626054</td>\n",
       "      <td>-24.223028</td>\n",
       "      <td>LRI</td>\n",
       "    </tr>\n",
       "  </tbody>\n",
       "</table>\n",
       "</div>"
      ],
      "text/plain": [
       "                   tsne_x     tsne_y Source\n",
       "DTXSID                                     \n",
       "DTXSID9026926  -39.471813  54.424824    LRI\n",
       "DTXSID30870172  26.869255  11.978477    LRI\n",
       "DTXSID3022663   24.805962 -18.311844    LRI\n",
       "DTXSID70871320  26.198479  50.952549    LRI\n",
       "DTXSID70227207   2.626054 -24.223028    LRI"
      ]
     },
     "execution_count": 90,
     "metadata": {},
     "output_type": "execute_result"
    }
   ],
   "source": [
    "tsne_df.head()"
   ]
  },
  {
   "cell_type": "code",
   "execution_count": 91,
   "metadata": {},
   "outputs": [],
   "source": [
    "tsne_df.to_csv(processed_dir+'TSNE_df_test.csv')"
   ]
  },
  {
   "cell_type": "code",
   "execution_count": 92,
   "metadata": {},
   "outputs": [
    {
     "data": {
      "text/plain": [
       "Text(0, 0.5, 'tsne_y')"
      ]
     },
     "execution_count": 92,
     "metadata": {},
     "output_type": "execute_result"
    },
    {
     "data": {
      "image/png": "[encoded data removed]",
      "text/plain": [
       "<Figure size 432x288 with 1 Axes>"
      ]
     },
     "metadata": {},
     "output_type": "display_data"
    }
   ],
   "source": [
    "#colors = ['#2300A8', '#00A658']\n",
    "#categories = tsne_df.Source.apply(lambda x: 1 if x == 'LRI' else 0)\n",
    "color= ['red' if l == 'ELSIE' else 'green' for l in tsne_df['Source']]\n",
    "fig, ax = plt.subplots()\n",
    "\n",
    "ax.scatter(tsne_df['tsne_x'], tsne_df['tsne_y'],c =color)\n",
    "ax.set_xlabel('tsne_x')\n",
    "ax.set_ylabel('tsne_y')\n",
    "#ax.legend()\n"
   ]
  },
  {
   "cell_type": "code",
   "execution_count": 93,
   "metadata": {},
   "outputs": [
    {
     "data": {
      "image/png": "[encoded data removed]",
      "text/plain": [
       "<Figure size 720x648 with 1 Axes>"
      ]
     },
     "metadata": {},
     "output_type": "display_data"
    }
   ],
   "source": [
    "fig, ax = plt.subplots(figsize = (10,9))\n",
    "\n",
    "colors = {'ELSIE':'red','LRI':'green' }\n",
    "\n",
    "grouped = tsne_df.groupby('Source')\n",
    "for key, group in grouped:\n",
    "    group.plot(ax=ax, kind='scatter', x='tsne_x', y='tsne_y', label=key, color=colors[key])\n",
    "plt.title('2D Visualisation of the ELSIE vs LRI Landscape')\n",
    "plt.savefig(figures_dir+'TxP_2D_Landscape.png')"
   ]
  },
  {
   "cell_type": "markdown",
   "metadata": {},
   "source": [
    "#### Previous analysis of exploring PCA approaches but v little variance explained in the first few principal components"
   ]
  },
  {
   "cell_type": "code",
   "execution_count": 182,
   "metadata": {},
   "outputs": [],
   "source": [
    "X = elise_df.iloc[:,9:].values"
   ]
  },
  {
   "cell_type": "code",
   "execution_count": 183,
   "metadata": {},
   "outputs": [
    {
     "data": {
      "text/plain": [
       "array([[0, 0, 0, ..., 0, 0, 0],\n",
       "       [0, 0, 0, ..., 0, 0, 0],\n",
       "       [0, 0, 0, ..., 0, 0, 0],\n",
       "       ...,\n",
       "       [0, 0, 0, ..., 0, 0, 0],\n",
       "       [0, 0, 0, ..., 0, 0, 0],\n",
       "       [0, 0, 0, ..., 0, 0, 0]])"
      ]
     },
     "execution_count": 183,
     "metadata": {},
     "output_type": "execute_result"
    }
   ],
   "source": [
    "X"
   ]
  },
  {
   "cell_type": "code",
   "execution_count": 184,
   "metadata": {},
   "outputs": [],
   "source": [
    "from sklearn.preprocessing import StandardScaler"
   ]
  },
  {
   "cell_type": "code",
   "execution_count": 211,
   "metadata": {},
   "outputs": [
    {
     "name": "stderr",
     "output_type": "stream",
     "text": [
      "/home/grace/anaconda3/envs/my-mordred/lib/python3.6/site-packages/sklearn/utils/validation.py:475: DataConversionWarning: Data with input dtype int64 was converted to float64 by StandardScaler.\n",
      "  warnings.warn(msg, DataConversionWarning)\n",
      "/home/grace/anaconda3/envs/my-mordred/lib/python3.6/site-packages/sklearn/utils/validation.py:475: DataConversionWarning: Data with input dtype int64 was converted to float64 by StandardScaler.\n",
      "  warnings.warn(msg, DataConversionWarning)\n"
     ]
    }
   ],
   "source": [
    "X_std = StandardScaler().fit_transform(X)"
   ]
  },
  {
   "cell_type": "code",
   "execution_count": 212,
   "metadata": {},
   "outputs": [
    {
     "name": "stdout",
     "output_type": "stream",
     "text": [
      "Covariance matrix \n",
      "[[ 1.00233645 -0.00577028  0.         ...  0.          0.\n",
      "   0.        ]\n",
      " [-0.00577028  1.00233645  0.         ...  0.          0.\n",
      "   0.        ]\n",
      " [ 0.          0.          0.         ...  0.          0.\n",
      "   0.        ]\n",
      " ...\n",
      " [ 0.          0.          0.         ...  0.          0.\n",
      "   0.        ]\n",
      " [ 0.          0.          0.         ...  0.          0.\n",
      "   0.        ]\n",
      " [ 0.          0.          0.         ...  0.          0.\n",
      "   0.        ]]\n"
     ]
    }
   ],
   "source": [
    "mean_vec = np.mean(X_std, axis=0)\n",
    "cov_mat = (X_std - mean_vec).T.dot((X_std - mean_vec)) / (X_std.shape[0]-1)\n",
    "print('Covariance matrix \\n%s' %cov_mat)"
   ]
  },
  {
   "cell_type": "code",
   "execution_count": 213,
   "metadata": {},
   "outputs": [
    {
     "name": "stdout",
     "output_type": "stream",
     "text": [
      "NumPy covariance matrix: \n",
      "[[ 1.00233645 -0.00577028  0.         ...  0.          0.\n",
      "   0.        ]\n",
      " [-0.00577028  1.00233645  0.         ...  0.          0.\n",
      "   0.        ]\n",
      " [ 0.          0.          0.         ...  0.          0.\n",
      "   0.        ]\n",
      " ...\n",
      " [ 0.          0.          0.         ...  0.          0.\n",
      "   0.        ]\n",
      " [ 0.          0.          0.         ...  0.          0.\n",
      "   0.        ]\n",
      " [ 0.          0.          0.         ...  0.          0.\n",
      "   0.        ]]\n"
     ]
    }
   ],
   "source": [
    "print('NumPy covariance matrix: \\n%s' %np.cov(X_std.T))\n"
   ]
  },
  {
   "cell_type": "code",
   "execution_count": 217,
   "metadata": {},
   "outputs": [],
   "source": [
    "cov_mat = np.cov(X_std.T)\n",
    "\n",
    "eig_vals, eig_vecs = np.linalg.eig(cov_mat)\n"
   ]
  },
  {
   "cell_type": "code",
   "execution_count": 218,
   "metadata": {},
   "outputs": [
    {
     "data": {
      "text/plain": [
       "array([[ 0.00578638+0.j, -0.00760714+0.j,  0.00518026+0.j, ...,\n",
       "         0.        +0.j,  0.        +0.j,  0.        +0.j],\n",
       "       [-0.0243137 +0.j,  0.00347203+0.j,  0.00253604+0.j, ...,\n",
       "         0.        +0.j,  0.        +0.j,  0.        +0.j],\n",
       "       [ 0.        +0.j,  0.        +0.j,  0.        +0.j, ...,\n",
       "         0.        +0.j,  0.        +0.j,  0.        +0.j],\n",
       "       ...,\n",
       "       [ 0.        +0.j,  0.        +0.j,  0.        +0.j, ...,\n",
       "         1.        +0.j,  0.        +0.j,  0.        +0.j],\n",
       "       [ 0.        +0.j,  0.        +0.j,  0.        +0.j, ...,\n",
       "         0.        +0.j,  1.        +0.j,  0.        +0.j],\n",
       "       [ 0.        +0.j,  0.        +0.j,  0.        +0.j, ...,\n",
       "         0.        +0.j,  0.        +0.j,  1.        +0.j]])"
      ]
     },
     "execution_count": 218,
     "metadata": {},
     "output_type": "execute_result"
    }
   ],
   "source": [
    "eig_vecs"
   ]
  },
  {
   "cell_type": "code",
   "execution_count": 215,
   "metadata": {},
   "outputs": [],
   "source": [
    "u,s,v = np.linalg.svd(X_std.T)"
   ]
  },
  {
   "cell_type": "code",
   "execution_count": 216,
   "metadata": {},
   "outputs": [
    {
     "data": {
      "text/plain": [
       "array([[ 5.78638329e-03, -7.60713809e-03, -5.18026194e-03, ...,\n",
       "         0.00000000e+00,  0.00000000e+00,  0.00000000e+00],\n",
       "       [-2.43136993e-02,  3.47203164e-03, -2.53604181e-03, ...,\n",
       "         0.00000000e+00,  0.00000000e+00,  0.00000000e+00],\n",
       "       [ 1.43223107e-16,  1.98842678e-16,  1.57426155e-16, ...,\n",
       "         0.00000000e+00,  0.00000000e+00,  0.00000000e+00],\n",
       "       ...,\n",
       "       [ 0.00000000e+00,  0.00000000e+00,  0.00000000e+00, ...,\n",
       "         1.00000000e+00,  0.00000000e+00,  0.00000000e+00],\n",
       "       [ 0.00000000e+00,  0.00000000e+00,  0.00000000e+00, ...,\n",
       "         0.00000000e+00,  1.00000000e+00,  0.00000000e+00],\n",
       "       [ 0.00000000e+00,  0.00000000e+00,  0.00000000e+00, ...,\n",
       "         0.00000000e+00,  0.00000000e+00,  1.00000000e+00]])"
      ]
     },
     "execution_count": 216,
     "metadata": {},
     "output_type": "execute_result"
    }
   ],
   "source": [
    "u"
   ]
  },
  {
   "cell_type": "code",
   "execution_count": 219,
   "metadata": {},
   "outputs": [
    {
     "name": "stdout",
     "output_type": "stream",
     "text": [
      "Everything ok!\n"
     ]
    }
   ],
   "source": [
    "for ev in eig_vecs.T:\n",
    "    np.testing.assert_array_almost_equal(1.0, np.linalg.norm(ev))\n",
    "print('Everything ok!')\n"
   ]
  },
  {
   "cell_type": "code",
   "execution_count": 108,
   "metadata": {},
   "outputs": [],
   "source": [
    "# Make a list of (eigenvalue, eigenvector) tuples\n",
    "#eig_pairs = [(np.abs(eig_vals[i]), eig_vecs[:,i]) for i in range(len(eig_vals))]\n",
    "\n",
    "# Sort the (eigenvalue, eigenvector) tuples from high to low\n",
    "#eig_pairs.sort(key=lambda x: x[0], reverse=True)\n",
    "\n",
    "# Visually confirm that the list is correctly sorted by decreasing eigenvalues\n",
    "#print('Eigenvalues in descending order:')\n",
    "#for i in eig_pairs:\n",
    "    #print(i[0])"
   ]
  },
  {
   "cell_type": "code",
   "execution_count": 239,
   "metadata": {},
   "outputs": [
    {
     "name": "stderr",
     "output_type": "stream",
     "text": [
      "/home/grace/anaconda3/envs/my-mordred/lib/python3.6/site-packages/matplotlib/transforms.py:841: ComplexWarning: Casting complex values to real discards the imaginary part\n",
      "  points = np.array(args, dtype=float).reshape(2, 2)\n",
      "/home/grace/anaconda3/envs/my-mordred/lib/python3.6/site-packages/numpy/core/numeric.py:492: ComplexWarning: Casting complex values to real discards the imaginary part\n",
      "  return array(a, dtype, copy=False, order=order)\n"
     ]
    },
    {
     "data": {
      "image/png": "[encoded data removed]",
      "text/plain": [
       "<Figure size 432x288 with 1 Axes>"
      ]
     },
     "metadata": {},
     "output_type": "display_data"
    }
   ],
   "source": [
    "with plt.style.context('seaborn-whitegrid'):\n",
    "    plt.figure(figsize=(6, 4))\n",
    "\n",
    "    plt.bar(range(729), var_exp, alpha=0.5, align='center',\n",
    "            label='individual explained variance')\n",
    "    plt.step(range(729), cum_var_exp, where='mid',\n",
    "             label='cumulative explained variance')\n",
    "    plt.ylabel('Explained variance ratio')\n",
    "    plt.xlabel('Principal components')\n",
    "    plt.legend(loc='best')\n",
    "    plt.tight_layout()\n"
   ]
  },
  {
   "cell_type": "code",
   "execution_count": 240,
   "metadata": {},
   "outputs": [
    {
     "name": "stdout",
     "output_type": "stream",
     "text": [
      "Matrix W:\n",
      " [[ 0.00578638+0.j -0.00760714+0.j]\n",
      " [-0.0243137 +0.j  0.00347203+0.j]\n",
      " [ 0.        +0.j  0.        +0.j]\n",
      " ...\n",
      " [ 0.        +0.j  0.        +0.j]\n",
      " [ 0.        +0.j  0.        +0.j]\n",
      " [ 0.        +0.j  0.        +0.j]]\n"
     ]
    }
   ],
   "source": [
    "matrix_w = np.hstack((eig_pairs[0][1].reshape(729,1),\n",
    "                      eig_pairs[1][1].reshape(729,1)))\n",
    "\n",
    "print('Matrix W:\\n', matrix_w)\n"
   ]
  },
  {
   "cell_type": "code",
   "execution_count": 241,
   "metadata": {},
   "outputs": [],
   "source": [
    "Y = X_std.dot(matrix_w)\n"
   ]
  },
  {
   "cell_type": "code",
   "execution_count": 251,
   "metadata": {},
   "outputs": [
    {
     "data": {
      "text/plain": [
       "array([[ 5.97646242+0.j,  4.71204697+0.j],\n",
       "       [ 0.29856075+0.j, -0.99487399+0.j],\n",
       "       [ 2.85484727+0.j,  1.24285565+0.j],\n",
       "       [ 2.68950115+0.j,  6.44268971+0.j],\n",
       "       [-0.62803087+0.j,  0.04008861+0.j],\n",
       "       [ 1.58243257+0.j,  0.2758    +0.j],\n",
       "       [ 1.49802016+0.j, -0.32177474+0.j],\n",
       "       [ 1.12586524+0.j,  1.91690859+0.j],\n",
       "       [-5.62626555+0.j, -2.46005383+0.j],\n",
       "       [ 0.84221295+0.j, -0.11905907+0.j]])"
      ]
     },
     "execution_count": 251,
     "metadata": {},
     "output_type": "execute_result"
    }
   ],
   "source": [
    "Y[:10]"
   ]
  },
  {
   "cell_type": "code",
   "execution_count": 248,
   "metadata": {},
   "outputs": [],
   "source": [
    "from sklearn.decomposition import PCA as sklearnPCA\n",
    "sklearn_pca = sklearnPCA(n_components=2)\n",
    "Y_sklearn = sklearn_pca.fit_transform(X_std)\n"
   ]
  },
  {
   "cell_type": "code",
   "execution_count": 252,
   "metadata": {},
   "outputs": [
    {
     "data": {
      "text/plain": [
       "array([[-5.98022641,  4.72152574],\n",
       "       [-0.29634036, -1.00985031],\n",
       "       [-2.85877047,  1.23696431],\n",
       "       [-2.69095003,  6.44285964],\n",
       "       [ 0.62770173,  0.03903822],\n",
       "       [-1.57654832,  0.27194695],\n",
       "       [-1.49725565, -0.32425159],\n",
       "       [-1.12631577,  1.91344241],\n",
       "       [ 5.63008851, -2.45356008],\n",
       "       [-0.8421492 , -0.12100528]])"
      ]
     },
     "execution_count": 252,
     "metadata": {},
     "output_type": "execute_result"
    }
   ],
   "source": [
    "Y_sklearn[:10]"
   ]
  },
  {
   "cell_type": "code",
   "execution_count": null,
   "metadata": {},
   "outputs": [],
   "source": []
  },
  {
   "cell_type": "code",
   "execution_count": null,
   "metadata": {},
   "outputs": [],
   "source": []
  },
  {
   "cell_type": "code",
   "execution_count": null,
   "metadata": {},
   "outputs": [],
   "source": []
  },
  {
   "cell_type": "code",
   "execution_count": null,
   "metadata": {},
   "outputs": [],
   "source": []
  },
  {
   "cell_type": "code",
   "execution_count": null,
   "metadata": {},
   "outputs": [],
   "source": []
  },
  {
   "cell_type": "code",
   "execution_count": null,
   "metadata": {},
   "outputs": [],
   "source": []
  },
  {
   "cell_type": "code",
   "execution_count": null,
   "metadata": {},
   "outputs": [],
   "source": []
  },
  {
   "cell_type": "code",
   "execution_count": null,
   "metadata": {},
   "outputs": [],
   "source": []
  },
  {
   "cell_type": "code",
   "execution_count": null,
   "metadata": {},
   "outputs": [],
   "source": []
  }
 ],
 "metadata": {
  "kernelspec": {
   "display_name": "chem",
   "language": "python",
   "name": "chem"
  },
  "language_info": {
   "codemirror_mode": {
    "name": "ipython",
    "version": 3
   },
   "file_extension": ".py",
   "mimetype": "text/x-python",
   "name": "python",
   "nbconvert_exporter": "python",
   "pygments_lexer": "ipython3",
   "version": "3.6.10"
  }
 },
 "nbformat": 4,
 "nbformat_minor": 4
}
