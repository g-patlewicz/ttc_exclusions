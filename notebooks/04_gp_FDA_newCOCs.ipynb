{
 "cells": [
  {
   "cell_type": "code",
   "execution_count": 1,
   "metadata": {},
   "outputs": [],
   "source": [
    "import pandas as pd\n",
    "import numpy as np\n",
    "from rdkit import Chem\n",
    "from rdkit.Chem import AllChem\n",
    "from rdkit.Chem import Draw\n",
    "from rdkit.Chem.Draw import IPythonConsole\n",
    "import openpyxl\n",
    "import os"
   ]
  },
  {
   "cell_type": "markdown",
   "metadata": {},
   "source": [
    "#### Section 4.4 Reprofiling the LRI dataset using the revised workflow"
   ]
  },
  {
   "cell_type": "markdown",
   "metadata": {},
   "source": [
    "Prepared by: G Patlewicz <br>\n",
    "Revised: 15th August 2022 <br>\n",
    "Revised to address and clarify connection to associated manuscript"
   ]
  },
  {
   "cell_type": "code",
   "execution_count": 2,
   "metadata": {},
   "outputs": [],
   "source": [
    "import matplotlib.pyplot as plt\n",
    "import seaborn as sns\n",
    "%matplotlib inline"
   ]
  },
  {
   "cell_type": "code",
   "execution_count": 3,
   "metadata": {},
   "outputs": [],
   "source": [
    "TOP = os.getcwd().replace('notebooks', '')\n",
    "raw_dir = TOP + 'data/raw/'\n",
    "interim_dir = TOP + 'data/interim/'\n",
    "external_dir = TOP + 'data/external/'\n",
    "figures_dir = TOP + 'reports/figures/'"
   ]
  },
  {
   "cell_type": "markdown",
   "metadata": {},
   "source": [
    "Accessing the LRI dataset of 45000 substances"
   ]
  },
  {
   "cell_type": "code",
   "execution_count": 28,
   "metadata": {},
   "outputs": [],
   "source": [
    "lri = pd.read_csv(raw_dir+'LRI_TTC_updated_180719.csv')"
   ]
  },
  {
   "cell_type": "code",
   "execution_count": 29,
   "metadata": {},
   "outputs": [
    {
     "data": {
      "text/html": [
       "<div>\n",
       "<style scoped>\n",
       "    .dataframe tbody tr th:only-of-type {\n",
       "        vertical-align: middle;\n",
       "    }\n",
       "\n",
       "    .dataframe tbody tr th {\n",
       "        vertical-align: top;\n",
       "    }\n",
       "\n",
       "    .dataframe thead th {\n",
       "        text-align: right;\n",
       "    }\n",
       "</style>\n",
       "<table border=\"1\" class=\"dataframe\">\n",
       "  <thead>\n",
       "    <tr style=\"text-align: right;\">\n",
       "      <th></th>\n",
       "      <th>casrn</th>\n",
       "      <th>DTXSID</th>\n",
       "      <th>name</th>\n",
       "      <th>smiles</th>\n",
       "      <th>daily_intake</th>\n",
       "      <th>iris_noael</th>\n",
       "      <th>tox_cast_oed_5th</th>\n",
       "      <th>tox_cast_oed_median</th>\n",
       "      <th>tox_tree_ttc</th>\n",
       "      <th>ttc_class</th>\n",
       "      <th>kroes_decision</th>\n",
       "      <th>small_httk</th>\n",
       "      <th>large_cerapp</th>\n",
       "      <th>mark_ttc_class</th>\n",
       "      <th>reason_for_NA</th>\n",
       "      <th>old_ttc_class</th>\n",
       "    </tr>\n",
       "  </thead>\n",
       "  <tbody>\n",
       "    <tr>\n",
       "      <th>0</th>\n",
       "      <td>72-20-8</td>\n",
       "      <td>DTXSID6020561</td>\n",
       "      <td>Endrin</td>\n",
       "      <td>ClC1=C(Cl)C2(Cl)C3C4CC(C5OC45)C3C1(Cl)C2(Cl)Cl</td>\n",
       "      <td>99</td>\n",
       "      <td>NaN</td>\n",
       "      <td>0.000291</td>\n",
       "      <td>0.002280</td>\n",
       "      <td>0.000003</td>\n",
       "      <td>Genotoxicity Alert</td>\n",
       "      <td>Negligible risk (low probability of a life-tim...</td>\n",
       "      <td>YES</td>\n",
       "      <td>NO</td>\n",
       "      <td>Genotoxicity Alert</td>\n",
       "      <td>NaN</td>\n",
       "      <td>Genotoxicity Alert</td>\n",
       "    </tr>\n",
       "    <tr>\n",
       "      <th>1</th>\n",
       "      <td>60-57-1</td>\n",
       "      <td>DTXSID9020453</td>\n",
       "      <td>Dieldrin</td>\n",
       "      <td>ClC1=C(Cl)C2(Cl)C3C4CC(C5OC45)C3C1(Cl)C2(Cl)Cl</td>\n",
       "      <td>99</td>\n",
       "      <td>NaN</td>\n",
       "      <td>0.000553</td>\n",
       "      <td>0.009572</td>\n",
       "      <td>0.000003</td>\n",
       "      <td>Genotoxicity Alert</td>\n",
       "      <td>Negligible risk (low probability of a life-tim...</td>\n",
       "      <td>YES</td>\n",
       "      <td>NO</td>\n",
       "      <td>Genotoxicity Alert</td>\n",
       "      <td>NaN</td>\n",
       "      <td>Genotoxicity Alert</td>\n",
       "    </tr>\n",
       "    <tr>\n",
       "      <th>2</th>\n",
       "      <td>87818-31-3</td>\n",
       "      <td>DTXSID3034456</td>\n",
       "      <td>Cinmethylin</td>\n",
       "      <td>CC(C)C12CCC(C)(O1)C(C2)OCC1=C(C)C=CC=C1</td>\n",
       "      <td>99</td>\n",
       "      <td>NaN</td>\n",
       "      <td>0.050130</td>\n",
       "      <td>0.445990</td>\n",
       "      <td>0.001500</td>\n",
       "      <td>Cramer Class III</td>\n",
       "      <td>Substance would not be expected to be a safety...</td>\n",
       "      <td>YES</td>\n",
       "      <td>NO</td>\n",
       "      <td>Class III</td>\n",
       "      <td>NaN</td>\n",
       "      <td>Class III</td>\n",
       "    </tr>\n",
       "    <tr>\n",
       "      <th>3</th>\n",
       "      <td>76738-62-0</td>\n",
       "      <td>DTXSID2024242</td>\n",
       "      <td>Paclobutrazol</td>\n",
       "      <td>CC(C)(C)C(O)C(CC1=CC=C(Cl)C=C1)N1C=NC=N1</td>\n",
       "      <td>99</td>\n",
       "      <td>NaN</td>\n",
       "      <td>0.239110</td>\n",
       "      <td>2.872300</td>\n",
       "      <td>0.001500</td>\n",
       "      <td>Cramer Class III</td>\n",
       "      <td>Substance would not be expected to be a safety...</td>\n",
       "      <td>YES</td>\n",
       "      <td>NO</td>\n",
       "      <td>Class III</td>\n",
       "      <td>NaN</td>\n",
       "      <td>Class III</td>\n",
       "    </tr>\n",
       "    <tr>\n",
       "      <th>4</th>\n",
       "      <td>87674-68-8</td>\n",
       "      <td>DTXSID4032376</td>\n",
       "      <td>Dimethenamid</td>\n",
       "      <td>COCC(C)N(C(=O)CCl)C1=C(C)SC=C1C</td>\n",
       "      <td>99</td>\n",
       "      <td>NaN</td>\n",
       "      <td>1.564200</td>\n",
       "      <td>15.084000</td>\n",
       "      <td>0.000003</td>\n",
       "      <td>Genotoxicity Alert</td>\n",
       "      <td>Negligible risk (low probability of a life-tim...</td>\n",
       "      <td>YES</td>\n",
       "      <td>NO</td>\n",
       "      <td>Genotoxicity Alert</td>\n",
       "      <td>NaN</td>\n",
       "      <td>Genotoxicity Alert</td>\n",
       "    </tr>\n",
       "  </tbody>\n",
       "</table>\n",
       "</div>"
      ],
      "text/plain": [
       "        casrn         DTXSID           name  \\\n",
       "0     72-20-8  DTXSID6020561         Endrin   \n",
       "1     60-57-1  DTXSID9020453       Dieldrin   \n",
       "2  87818-31-3  DTXSID3034456    Cinmethylin   \n",
       "3  76738-62-0  DTXSID2024242  Paclobutrazol   \n",
       "4  87674-68-8  DTXSID4032376   Dimethenamid   \n",
       "\n",
       "                                           smiles  daily_intake  iris_noael  \\\n",
       "0  ClC1=C(Cl)C2(Cl)C3C4CC(C5OC45)C3C1(Cl)C2(Cl)Cl            99         NaN   \n",
       "1  ClC1=C(Cl)C2(Cl)C3C4CC(C5OC45)C3C1(Cl)C2(Cl)Cl            99         NaN   \n",
       "2         CC(C)C12CCC(C)(O1)C(C2)OCC1=C(C)C=CC=C1            99         NaN   \n",
       "3        CC(C)(C)C(O)C(CC1=CC=C(Cl)C=C1)N1C=NC=N1            99         NaN   \n",
       "4                 COCC(C)N(C(=O)CCl)C1=C(C)SC=C1C            99         NaN   \n",
       "\n",
       "   tox_cast_oed_5th  tox_cast_oed_median  tox_tree_ttc           ttc_class  \\\n",
       "0          0.000291             0.002280      0.000003  Genotoxicity Alert   \n",
       "1          0.000553             0.009572      0.000003  Genotoxicity Alert   \n",
       "2          0.050130             0.445990      0.001500    Cramer Class III   \n",
       "3          0.239110             2.872300      0.001500    Cramer Class III   \n",
       "4          1.564200            15.084000      0.000003  Genotoxicity Alert   \n",
       "\n",
       "                                      kroes_decision small_httk large_cerapp  \\\n",
       "0  Negligible risk (low probability of a life-tim...        YES           NO   \n",
       "1  Negligible risk (low probability of a life-tim...        YES           NO   \n",
       "2  Substance would not be expected to be a safety...        YES           NO   \n",
       "3  Substance would not be expected to be a safety...        YES           NO   \n",
       "4  Negligible risk (low probability of a life-tim...        YES           NO   \n",
       "\n",
       "       mark_ttc_class reason_for_NA       old_ttc_class  \n",
       "0  Genotoxicity Alert           NaN  Genotoxicity Alert  \n",
       "1  Genotoxicity Alert           NaN  Genotoxicity Alert  \n",
       "2           Class III           NaN           Class III  \n",
       "3           Class III           NaN           Class III  \n",
       "4  Genotoxicity Alert           NaN  Genotoxicity Alert  "
      ]
     },
     "execution_count": 29,
     "metadata": {},
     "output_type": "execute_result"
    }
   ],
   "source": [
    "lri.head()"
   ]
  },
  {
   "cell_type": "markdown",
   "metadata": {},
   "source": [
    "Creating a dict of the IDs and the smiles to prepare a dict of molecules using RDkit"
   ]
  },
  {
   "cell_type": "code",
   "execution_count": 30,
   "metadata": {},
   "outputs": [],
   "source": [
    "lri_dict = { k:v for (k,v) in zip(lri['DTXSID'], lri['smiles'])}"
   ]
  },
  {
   "cell_type": "code",
   "execution_count": 31,
   "metadata": {},
   "outputs": [
    {
     "data": {
      "text/plain": [
       "45038"
      ]
     },
     "execution_count": 31,
     "metadata": {},
     "output_type": "execute_result"
    }
   ],
   "source": [
    "len(lri_dict)"
   ]
  },
  {
   "cell_type": "code",
   "execution_count": 32,
   "metadata": {},
   "outputs": [
    {
     "name": "stderr",
     "output_type": "stream",
     "text": [
      "RDKit WARNING: [17:09:04] WARNING: not removing hydrogen atom without neighbors\n",
      "RDKit WARNING: [17:09:04] WARNING: not removing hydrogen atom without neighbors\n",
      "RDKit WARNING: [17:09:05] WARNING: not removing hydrogen atom without neighbors\n",
      "RDKit WARNING: [17:09:05] WARNING: not removing hydrogen atom without neighbors\n",
      "RDKit WARNING: [17:09:05] WARNING: not removing hydrogen atom without neighbors\n",
      "RDKit WARNING: [17:09:05] WARNING: not removing hydrogen atom without neighbors\n",
      "RDKit WARNING: [17:09:05] WARNING: not removing hydrogen atom without neighbors\n",
      "RDKit WARNING: [17:09:05] WARNING: not removing hydrogen atom without neighbors\n",
      "RDKit WARNING: [17:09:05] WARNING: not removing hydrogen atom without neighbors\n",
      "RDKit WARNING: [17:09:05] WARNING: not removing hydrogen atom without neighbors\n",
      "RDKit WARNING: [17:09:05] WARNING: not removing hydrogen atom without neighbors\n",
      "RDKit WARNING: [17:09:05] WARNING: not removing hydrogen atom without neighbors\n",
      "RDKit WARNING: [17:09:05] WARNING: not removing hydrogen atom without neighbors\n",
      "RDKit WARNING: [17:09:05] WARNING: not removing hydrogen atom without neighbors\n",
      "RDKit WARNING: [17:09:05] WARNING: not removing hydrogen atom without neighbors\n",
      "RDKit WARNING: [17:09:05] WARNING: not removing hydrogen atom without neighbors\n",
      "RDKit WARNING: [17:09:05] WARNING: not removing hydrogen atom without neighbors\n",
      "RDKit WARNING: [17:09:05] WARNING: not removing hydrogen atom without neighbors\n",
      "RDKit WARNING: [17:09:05] WARNING: not removing hydrogen atom without neighbors\n",
      "RDKit WARNING: [17:09:05] WARNING: not removing hydrogen atom without neighbors\n",
      "RDKit WARNING: [17:09:05] WARNING: not removing hydrogen atom without neighbors\n",
      "RDKit WARNING: [17:09:05] WARNING: not removing hydrogen atom without neighbors\n",
      "RDKit WARNING: [17:09:05] WARNING: not removing hydrogen atom without neighbors\n",
      "RDKit WARNING: [17:09:05] WARNING: not removing hydrogen atom without neighbors\n",
      "RDKit WARNING: [17:09:05] WARNING: not removing hydrogen atom without neighbors\n",
      "RDKit WARNING: [17:09:05] WARNING: not removing hydrogen atom without neighbors\n",
      "RDKit WARNING: [17:09:05] WARNING: not removing hydrogen atom without neighbors\n",
      "RDKit WARNING: [17:09:05] WARNING: not removing hydrogen atom without neighbors\n",
      "RDKit WARNING: [17:09:05] WARNING: not removing hydrogen atom without neighbors\n",
      "RDKit WARNING: [17:09:05] WARNING: not removing hydrogen atom without neighbors\n",
      "RDKit WARNING: [17:09:05] WARNING: not removing hydrogen atom without neighbors\n",
      "RDKit WARNING: [17:09:05] WARNING: not removing hydrogen atom without neighbors\n",
      "RDKit WARNING: [17:09:05] WARNING: not removing hydrogen atom without neighbors\n",
      "RDKit WARNING: [17:09:05] WARNING: not removing hydrogen atom without neighbors\n",
      "RDKit WARNING: [17:09:05] WARNING: not removing hydrogen atom without neighbors\n",
      "RDKit WARNING: [17:09:05] WARNING: not removing hydrogen atom without neighbors\n",
      "RDKit WARNING: [17:09:05] WARNING: not removing hydrogen atom without neighbors\n",
      "RDKit WARNING: [17:09:05] WARNING: not removing hydrogen atom without neighbors\n",
      "RDKit WARNING: [17:09:05] WARNING: not removing hydrogen atom without neighbors\n",
      "RDKit WARNING: [17:09:05] WARNING: not removing hydrogen atom without neighbors\n",
      "RDKit WARNING: [17:09:05] WARNING: not removing hydrogen atom without neighbors\n",
      "RDKit WARNING: [17:09:05] WARNING: not removing hydrogen atom without neighbors\n",
      "RDKit WARNING: [17:09:05] WARNING: not removing hydrogen atom without neighbors\n",
      "RDKit WARNING: [17:09:05] WARNING: not removing hydrogen atom without neighbors\n",
      "RDKit WARNING: [17:09:05] WARNING: not removing hydrogen atom without neighbors\n",
      "RDKit WARNING: [17:09:05] WARNING: not removing hydrogen atom without neighbors\n",
      "RDKit WARNING: [17:09:05] WARNING: not removing hydrogen atom without neighbors\n",
      "RDKit WARNING: [17:09:06] WARNING: not removing hydrogen atom without neighbors\n",
      "RDKit WARNING: [17:09:07] WARNING: not removing hydrogen atom without neighbors\n",
      "RDKit WARNING: [17:09:07] WARNING: not removing hydrogen atom without neighbors\n",
      "RDKit ERROR: [17:09:07] Explicit valence for atom # 2 Br, 3, is greater than permitted\n",
      "RDKit WARNING: [17:09:07] WARNING: not removing hydrogen atom without neighbors\n",
      "RDKit WARNING: [17:09:07] WARNING: not removing hydrogen atom without neighbors\n",
      "RDKit WARNING: [17:09:07] WARNING: not removing hydrogen atom without neighbors\n",
      "RDKit WARNING: [17:09:07] WARNING: not removing hydrogen atom without neighbors\n",
      "RDKit WARNING: [17:09:07] WARNING: not removing hydrogen atom without neighbors\n"
     ]
    }
   ],
   "source": [
    "lri_smiles = {k:Chem.MolFromSmiles(v) for k,v in lri_dict.items()}"
   ]
  },
  {
   "cell_type": "code",
   "execution_count": 36,
   "metadata": {},
   "outputs": [],
   "source": [
    "lri_smi = {k:v for k,v in lri_smiles.items() if v is not None}"
   ]
  },
  {
   "cell_type": "code",
   "execution_count": 37,
   "metadata": {},
   "outputs": [
    {
     "data": {
      "text/plain": [
       "45037"
      ]
     },
     "execution_count": 37,
     "metadata": {},
     "output_type": "execute_result"
    }
   ],
   "source": [
    "len(lri_smi)"
   ]
  },
  {
   "cell_type": "markdown",
   "metadata": {},
   "source": [
    "Accessing the cohort of concern that is specified in FDA's SOP - this includes the usual COC that are outlined in the Kroes workflow plus several others. Compiled a list based on the Enoch et al (2011) DNA alerts and the Benigni Bossa alerts in addition to a handful of additional SMARTs either reflected in the Kroes workflow or added by me for dioxin like substances"
   ]
  },
  {
   "cell_type": "code",
   "execution_count": 39,
   "metadata": {},
   "outputs": [],
   "source": [
    "fda_coc = pd.read_excel(raw_dir+'FDA_COC.xlsx', sheet_name = 'FDA_COC')"
   ]
  },
  {
   "cell_type": "code",
   "execution_count": 42,
   "metadata": {},
   "outputs": [],
   "source": [
    "fda_coc = fda_coc.iloc[:, :5]"
   ]
  },
  {
   "cell_type": "code",
   "execution_count": 43,
   "metadata": {},
   "outputs": [],
   "source": [
    "fda_dict = {}\n",
    "for i,group in fda_coc.groupby('COC'):\n",
    "    key = [name for name in group['COC'] if name!=' '][0]\n",
    "    value = set(group['SMARTS'])\n",
    "    fda_dict[key]=value"
   ]
  },
  {
   "cell_type": "code",
   "execution_count": 44,
   "metadata": {},
   "outputs": [
    {
     "data": {
      "text/plain": [
       "17"
      ]
     },
     "execution_count": 44,
     "metadata": {},
     "output_type": "execute_result"
    }
   ],
   "source": [
    "len(fda_dict)"
   ]
  },
  {
   "cell_type": "code",
   "execution_count": 45,
   "metadata": {},
   "outputs": [
    {
     "name": "stderr",
     "output_type": "stream",
     "text": [
      "RDKit ERROR: [17:14:23] SMARTS Parse Error: syntax error while parsing: [$([NX3H2][NX3]([#1,#6;!$([CX3](=[OX1])[#1,#6])_100])[#1,#6;!$([CX3](=[OX1])[#1,#6])_100 show full SMARTS\n",
      "RDKit ERROR: [17:14:23] SMARTS Parse Error: Failed parsing SMARTS '[$([NX3H2][NX3]([#1,#6;!$([CX3](=[OX1])[#1,#6])_100])[#1,#6;!$([CX3](=[OX1])[#1,#6])_100 show full SMARTS' for input: '[$([NX3H2][NX3]([#1,#6;!$([CX3](=[OX1])[#1,#6])])[#1,#6;!$([CX3](=[OX1])[#1,#6]) show full SMARTS'\n",
      "RDKit ERROR: [17:14:23] SMARTS Parse Error: syntax error while parsing: [OX2]1[CX4]([#1,c,$([CH3])_100,$([CH2][CH3])_101,$([CH2][CH2][CH3])_102,$([CH]([CH3])[CH3])_103, show full SMARTS\n",
      "RDKit ERROR: [17:14:23] SMARTS Parse Error: Failed parsing SMARTS '[OX2]1[CX4]([#1,c,$([CH3])_100,$([CH2][CH3])_101,$([CH2][CH2][CH3])_102,$([CH]([CH3])[CH3])_103, show full SMARTS' for input: '[OX2]1[CX4]([#1,c,$([CH3]),$([CH2][CH3]),$([CH2][CH2][CH3]),$([CH]([CH3])[CH3]), show full SMARTS'\n"
     ]
    }
   ],
   "source": [
    "fda_smarts = {k:[Chem.MolFromSmarts(e) for e in v] for k,v in fda_dict.items()}"
   ]
  },
  {
   "cell_type": "code",
   "execution_count": 47,
   "metadata": {},
   "outputs": [
    {
     "data": {
      "text/plain": [
       "dict_keys(['Aflatoxin', 'Azo', 'Azoxy', 'Benzidine', 'Hydrazine', 'Metals_other', 'Nitroso', 'OPs', 'Polycyclic_amines', 'Steroid', 'Triazines', 'alpha_nitro_furyl', 'biphenyl', 'carbamates', 'dibenzodioxin', 'dibenzofuran', 'strained_heteronuclear_rings'])"
      ]
     },
     "execution_count": 47,
     "metadata": {},
     "output_type": "execute_result"
    }
   ],
   "source": [
    "fda_smarts.keys()"
   ]
  },
  {
   "cell_type": "code",
   "execution_count": 52,
   "metadata": {},
   "outputs": [],
   "source": [
    "SA_with_errors = []\n",
    "for k,v in fda_smarts.items():\n",
    "    if None in fda_smarts[k]:\n",
    "        SA_with_errors.append(k)\n",
    "        \n"
   ]
  },
  {
   "cell_type": "code",
   "execution_count": 53,
   "metadata": {},
   "outputs": [
    {
     "data": {
      "text/plain": [
       "['Hydrazine', 'strained_heteronuclear_rings']"
      ]
     },
     "execution_count": 53,
     "metadata": {},
     "output_type": "execute_result"
    }
   ],
   "source": [
    "SA_with_errors"
   ]
  },
  {
   "cell_type": "markdown",
   "metadata": {},
   "source": [
    "Some errors in translation from SMARTS to RDKit - removed value elements that are None to avoid later problems in processing"
   ]
  },
  {
   "cell_type": "code",
   "execution_count": 104,
   "metadata": {},
   "outputs": [],
   "source": [
    "fda_sms = {k:list(filter(None, fda_smarts[k])) for k,v in fda_smarts.items() }"
   ]
  },
  {
   "cell_type": "markdown",
   "metadata": {},
   "source": [
    "First use one of three new filters to remove metals but not salts that contain one of several essential metals"
   ]
  },
  {
   "cell_type": "markdown",
   "metadata": {},
   "source": [
    "Also tag OPs that are inorganic"
   ]
  },
  {
   "cell_type": "code",
   "execution_count": 110,
   "metadata": {},
   "outputs": [],
   "source": [
    "def has_metal_atom(smiles):\n",
    "    metal_dict = {'Na': 11 , 'Mg': 12, 'Si': 14, 'K':19, 'Ca':20, 'Mn':25, 'Fe':26, 'Cu':29, 'Zn':30, 'Co':27, 'Ni':28, 'As': 33, 'Cr':24, 'Hg':80, 'Pb':82, 'V':23, 'Al':13, 'Ag':47, 'Cd':48, 'B':5, 'Ti': 22, 'Se': 34, 'Sn': 50, 'Sb':51, 'Be': 4, 'Zr': 40, 'Nb': 41, 'Mo': 42, 'Te':52, 'Ba':56, 'W':74, 'Au': 79, 'Bi': 83}\n",
    "    essential_metal_dict = {'Na': 11 , 'K':19,'Mg': 12,  'Ca':20, 'Fe':26,  'Mn':25, 'Co':27, 'Cu':29, 'Zn':30, 'Mo': 42}\n",
    "    mol = Chem.MolFromSmiles(smiles)\n",
    "    if mol  is None:\n",
    "        return False\n",
    "    return any(atom for atom in mol.GetAtoms() if atom.GetAtomicNum() in list(metal_dict.values()))"
   ]
  },
  {
   "cell_type": "code",
   "execution_count": 111,
   "metadata": {},
   "outputs": [],
   "source": [
    "def metal_ions(smiles):\n",
    "    essential_metal = ['[Na+]', '[K+]', '[Mg++]',  '[Ca++]', '[Fe+3]',  '[Mn++]', '[Co+]', '[Cu++]', '[Zn++]', '[Mo++]']\n",
    "    mol = Chem.MolFromSmiles(smiles)\n",
    "    if mol  is None:\n",
    "        return False\n",
    "    return any(mol.HasSubstructMatch(Chem.MolFromSmarts(e)) for e in essential_metal)"
   ]
  },
  {
   "cell_type": "code",
   "execution_count": 112,
   "metadata": {},
   "outputs": [],
   "source": [
    "def P_inorg(smiles):\n",
    "    mol = Chem.MolFromSmiles(smiles)\n",
    "    if mol  is None:\n",
    "        return False\n",
    "    return mol.HasSubstructMatch(Chem.MolFromSmarts('[OH]P(=[O])([OH])[OH]'))"
   ]
  },
  {
   "cell_type": "code",
   "execution_count": 113,
   "metadata": {},
   "outputs": [
    {
     "name": "stderr",
     "output_type": "stream",
     "text": [
      "RDKit WARNING: [17:45:21] WARNING: not removing hydrogen atom without neighbors\n",
      "RDKit WARNING: [17:45:21] WARNING: not removing hydrogen atom without neighbors\n",
      "RDKit WARNING: [17:45:23] WARNING: not removing hydrogen atom without neighbors\n",
      "RDKit WARNING: [17:45:23] WARNING: not removing hydrogen atom without neighbors\n",
      "RDKit WARNING: [17:45:24] WARNING: not removing hydrogen atom without neighbors\n",
      "RDKit WARNING: [17:45:24] WARNING: not removing hydrogen atom without neighbors\n",
      "RDKit WARNING: [17:45:24] WARNING: not removing hydrogen atom without neighbors\n",
      "RDKit WARNING: [17:45:24] WARNING: not removing hydrogen atom without neighbors\n",
      "RDKit WARNING: [17:45:24] WARNING: not removing hydrogen atom without neighbors\n",
      "RDKit WARNING: [17:45:24] WARNING: not removing hydrogen atom without neighbors\n",
      "RDKit WARNING: [17:45:24] WARNING: not removing hydrogen atom without neighbors\n",
      "RDKit WARNING: [17:45:24] WARNING: not removing hydrogen atom without neighbors\n",
      "RDKit WARNING: [17:45:24] WARNING: not removing hydrogen atom without neighbors\n",
      "RDKit WARNING: [17:45:24] WARNING: not removing hydrogen atom without neighbors\n",
      "RDKit WARNING: [17:45:24] WARNING: not removing hydrogen atom without neighbors\n",
      "RDKit WARNING: [17:45:24] WARNING: not removing hydrogen atom without neighbors\n",
      "RDKit WARNING: [17:45:24] WARNING: not removing hydrogen atom without neighbors\n",
      "RDKit WARNING: [17:45:24] WARNING: not removing hydrogen atom without neighbors\n",
      "RDKit WARNING: [17:45:24] WARNING: not removing hydrogen atom without neighbors\n",
      "RDKit WARNING: [17:45:24] WARNING: not removing hydrogen atom without neighbors\n",
      "RDKit WARNING: [17:45:24] WARNING: not removing hydrogen atom without neighbors\n",
      "RDKit WARNING: [17:45:24] WARNING: not removing hydrogen atom without neighbors\n",
      "RDKit WARNING: [17:45:24] WARNING: not removing hydrogen atom without neighbors\n",
      "RDKit WARNING: [17:45:24] WARNING: not removing hydrogen atom without neighbors\n",
      "RDKit WARNING: [17:45:24] WARNING: not removing hydrogen atom without neighbors\n",
      "RDKit WARNING: [17:45:24] WARNING: not removing hydrogen atom without neighbors\n",
      "RDKit WARNING: [17:45:24] WARNING: not removing hydrogen atom without neighbors\n",
      "RDKit WARNING: [17:45:24] WARNING: not removing hydrogen atom without neighbors\n",
      "RDKit WARNING: [17:45:24] WARNING: not removing hydrogen atom without neighbors\n",
      "RDKit WARNING: [17:45:24] WARNING: not removing hydrogen atom without neighbors\n",
      "RDKit WARNING: [17:45:24] WARNING: not removing hydrogen atom without neighbors\n",
      "RDKit WARNING: [17:45:24] WARNING: not removing hydrogen atom without neighbors\n",
      "RDKit WARNING: [17:45:24] WARNING: not removing hydrogen atom without neighbors\n",
      "RDKit WARNING: [17:45:24] WARNING: not removing hydrogen atom without neighbors\n",
      "RDKit WARNING: [17:45:24] WARNING: not removing hydrogen atom without neighbors\n",
      "RDKit WARNING: [17:45:24] WARNING: not removing hydrogen atom without neighbors\n",
      "RDKit WARNING: [17:45:24] WARNING: not removing hydrogen atom without neighbors\n",
      "RDKit WARNING: [17:45:24] WARNING: not removing hydrogen atom without neighbors\n",
      "RDKit WARNING: [17:45:24] WARNING: not removing hydrogen atom without neighbors\n",
      "RDKit WARNING: [17:45:24] WARNING: not removing hydrogen atom without neighbors\n",
      "RDKit WARNING: [17:45:24] WARNING: not removing hydrogen atom without neighbors\n",
      "RDKit WARNING: [17:45:24] WARNING: not removing hydrogen atom without neighbors\n",
      "RDKit WARNING: [17:45:24] WARNING: not removing hydrogen atom without neighbors\n",
      "RDKit WARNING: [17:45:25] WARNING: not removing hydrogen atom without neighbors\n",
      "RDKit WARNING: [17:45:25] WARNING: not removing hydrogen atom without neighbors\n",
      "RDKit WARNING: [17:45:25] WARNING: not removing hydrogen atom without neighbors\n",
      "RDKit WARNING: [17:45:25] WARNING: not removing hydrogen atom without neighbors\n",
      "RDKit WARNING: [17:45:26] WARNING: not removing hydrogen atom without neighbors\n",
      "RDKit WARNING: [17:45:27] WARNING: not removing hydrogen atom without neighbors\n",
      "RDKit WARNING: [17:45:28] WARNING: not removing hydrogen atom without neighbors\n",
      "RDKit ERROR: [17:45:28] Explicit valence for atom # 2 Br, 3, is greater than permitted\n",
      "RDKit WARNING: [17:45:28] WARNING: not removing hydrogen atom without neighbors\n",
      "RDKit WARNING: [17:45:28] WARNING: not removing hydrogen atom without neighbors\n",
      "RDKit WARNING: [17:45:28] WARNING: not removing hydrogen atom without neighbors\n",
      "RDKit WARNING: [17:45:28] WARNING: not removing hydrogen atom without neighbors\n",
      "RDKit WARNING: [17:45:28] WARNING: not removing hydrogen atom without neighbors\n"
     ]
    }
   ],
   "source": [
    "metal_salt = []\n",
    "for x in lri['smiles']:\n",
    "    is_metal_salt = metal_ions(x)\n",
    "    metal_salt.append(is_metal_salt)\n",
    "lri['metal_salts'] = metal_salt"
   ]
  },
  {
   "cell_type": "code",
   "execution_count": 114,
   "metadata": {},
   "outputs": [
    {
     "name": "stderr",
     "output_type": "stream",
     "text": [
      "RDKit WARNING: [17:45:31] WARNING: not removing hydrogen atom without neighbors\n",
      "RDKit WARNING: [17:45:31] WARNING: not removing hydrogen atom without neighbors\n",
      "RDKit WARNING: [17:45:34] WARNING: not removing hydrogen atom without neighbors\n",
      "RDKit WARNING: [17:45:34] WARNING: not removing hydrogen atom without neighbors\n",
      "RDKit WARNING: [17:45:35] WARNING: not removing hydrogen atom without neighbors\n",
      "RDKit WARNING: [17:45:35] WARNING: not removing hydrogen atom without neighbors\n",
      "RDKit WARNING: [17:45:35] WARNING: not removing hydrogen atom without neighbors\n",
      "RDKit WARNING: [17:45:35] WARNING: not removing hydrogen atom without neighbors\n",
      "RDKit WARNING: [17:45:35] WARNING: not removing hydrogen atom without neighbors\n",
      "RDKit WARNING: [17:45:35] WARNING: not removing hydrogen atom without neighbors\n",
      "RDKit WARNING: [17:45:35] WARNING: not removing hydrogen atom without neighbors\n",
      "RDKit WARNING: [17:45:35] WARNING: not removing hydrogen atom without neighbors\n",
      "RDKit WARNING: [17:45:35] WARNING: not removing hydrogen atom without neighbors\n",
      "RDKit WARNING: [17:45:35] WARNING: not removing hydrogen atom without neighbors\n",
      "RDKit WARNING: [17:45:35] WARNING: not removing hydrogen atom without neighbors\n",
      "RDKit WARNING: [17:45:35] WARNING: not removing hydrogen atom without neighbors\n",
      "RDKit WARNING: [17:45:35] WARNING: not removing hydrogen atom without neighbors\n",
      "RDKit WARNING: [17:45:35] WARNING: not removing hydrogen atom without neighbors\n",
      "RDKit WARNING: [17:45:35] WARNING: not removing hydrogen atom without neighbors\n",
      "RDKit WARNING: [17:45:35] WARNING: not removing hydrogen atom without neighbors\n",
      "RDKit WARNING: [17:45:35] WARNING: not removing hydrogen atom without neighbors\n",
      "RDKit WARNING: [17:45:35] WARNING: not removing hydrogen atom without neighbors\n",
      "RDKit WARNING: [17:45:35] WARNING: not removing hydrogen atom without neighbors\n",
      "RDKit WARNING: [17:45:35] WARNING: not removing hydrogen atom without neighbors\n",
      "RDKit WARNING: [17:45:36] WARNING: not removing hydrogen atom without neighbors\n",
      "RDKit WARNING: [17:45:36] WARNING: not removing hydrogen atom without neighbors\n",
      "RDKit WARNING: [17:45:36] WARNING: not removing hydrogen atom without neighbors\n",
      "RDKit WARNING: [17:45:36] WARNING: not removing hydrogen atom without neighbors\n",
      "RDKit WARNING: [17:45:36] WARNING: not removing hydrogen atom without neighbors\n",
      "RDKit WARNING: [17:45:36] WARNING: not removing hydrogen atom without neighbors\n",
      "RDKit WARNING: [17:45:36] WARNING: not removing hydrogen atom without neighbors\n",
      "RDKit WARNING: [17:45:36] WARNING: not removing hydrogen atom without neighbors\n",
      "RDKit WARNING: [17:45:36] WARNING: not removing hydrogen atom without neighbors\n",
      "RDKit WARNING: [17:45:36] WARNING: not removing hydrogen atom without neighbors\n",
      "RDKit WARNING: [17:45:36] WARNING: not removing hydrogen atom without neighbors\n",
      "RDKit WARNING: [17:45:36] WARNING: not removing hydrogen atom without neighbors\n",
      "RDKit WARNING: [17:45:36] WARNING: not removing hydrogen atom without neighbors\n",
      "RDKit WARNING: [17:45:36] WARNING: not removing hydrogen atom without neighbors\n",
      "RDKit WARNING: [17:45:36] WARNING: not removing hydrogen atom without neighbors\n",
      "RDKit WARNING: [17:45:36] WARNING: not removing hydrogen atom without neighbors\n",
      "RDKit WARNING: [17:45:36] WARNING: not removing hydrogen atom without neighbors\n",
      "RDKit WARNING: [17:45:36] WARNING: not removing hydrogen atom without neighbors\n",
      "RDKit WARNING: [17:45:36] WARNING: not removing hydrogen atom without neighbors\n",
      "RDKit WARNING: [17:45:36] WARNING: not removing hydrogen atom without neighbors\n",
      "RDKit WARNING: [17:45:36] WARNING: not removing hydrogen atom without neighbors\n",
      "RDKit WARNING: [17:45:36] WARNING: not removing hydrogen atom without neighbors\n",
      "RDKit WARNING: [17:45:36] WARNING: not removing hydrogen atom without neighbors\n",
      "RDKit WARNING: [17:45:38] WARNING: not removing hydrogen atom without neighbors\n",
      "RDKit WARNING: [17:45:40] WARNING: not removing hydrogen atom without neighbors\n",
      "RDKit WARNING: [17:45:41] WARNING: not removing hydrogen atom without neighbors\n",
      "RDKit ERROR: [17:45:41] Explicit valence for atom # 2 Br, 3, is greater than permitted\n",
      "RDKit WARNING: [17:45:42] WARNING: not removing hydrogen atom without neighbors\n",
      "RDKit WARNING: [17:45:42] WARNING: not removing hydrogen atom without neighbors\n",
      "RDKit WARNING: [17:45:42] WARNING: not removing hydrogen atom without neighbors\n",
      "RDKit WARNING: [17:45:42] WARNING: not removing hydrogen atom without neighbors\n",
      "RDKit WARNING: [17:45:42] WARNING: not removing hydrogen atom without neighbors\n"
     ]
    }
   ],
   "source": [
    "metals = []\n",
    "for x in lri['smiles']:\n",
    "    is_inorg = has_metal_atom(x)\n",
    "    metals.append(is_inorg)\n",
    "lri['inorgs'] = metals"
   ]
  },
  {
   "cell_type": "code",
   "execution_count": 115,
   "metadata": {},
   "outputs": [
    {
     "name": "stderr",
     "output_type": "stream",
     "text": [
      "RDKit WARNING: [17:45:48] WARNING: not removing hydrogen atom without neighbors\n",
      "RDKit WARNING: [17:45:48] WARNING: not removing hydrogen atom without neighbors\n",
      "RDKit WARNING: [17:45:50] WARNING: not removing hydrogen atom without neighbors\n",
      "RDKit WARNING: [17:45:50] WARNING: not removing hydrogen atom without neighbors\n",
      "RDKit WARNING: [17:45:50] WARNING: not removing hydrogen atom without neighbors\n",
      "RDKit WARNING: [17:45:50] WARNING: not removing hydrogen atom without neighbors\n",
      "RDKit WARNING: [17:45:50] WARNING: not removing hydrogen atom without neighbors\n",
      "RDKit WARNING: [17:45:50] WARNING: not removing hydrogen atom without neighbors\n",
      "RDKit WARNING: [17:45:50] WARNING: not removing hydrogen atom without neighbors\n",
      "RDKit WARNING: [17:45:50] WARNING: not removing hydrogen atom without neighbors\n",
      "RDKit WARNING: [17:45:50] WARNING: not removing hydrogen atom without neighbors\n",
      "RDKit WARNING: [17:45:50] WARNING: not removing hydrogen atom without neighbors\n",
      "RDKit WARNING: [17:45:50] WARNING: not removing hydrogen atom without neighbors\n",
      "RDKit WARNING: [17:45:50] WARNING: not removing hydrogen atom without neighbors\n",
      "RDKit WARNING: [17:45:50] WARNING: not removing hydrogen atom without neighbors\n",
      "RDKit WARNING: [17:45:50] WARNING: not removing hydrogen atom without neighbors\n",
      "RDKit WARNING: [17:45:50] WARNING: not removing hydrogen atom without neighbors\n",
      "RDKit WARNING: [17:45:50] WARNING: not removing hydrogen atom without neighbors\n",
      "RDKit WARNING: [17:45:50] WARNING: not removing hydrogen atom without neighbors\n",
      "RDKit WARNING: [17:45:50] WARNING: not removing hydrogen atom without neighbors\n",
      "RDKit WARNING: [17:45:50] WARNING: not removing hydrogen atom without neighbors\n",
      "RDKit WARNING: [17:45:50] WARNING: not removing hydrogen atom without neighbors\n",
      "RDKit WARNING: [17:45:50] WARNING: not removing hydrogen atom without neighbors\n",
      "RDKit WARNING: [17:45:50] WARNING: not removing hydrogen atom without neighbors\n",
      "RDKit WARNING: [17:45:50] WARNING: not removing hydrogen atom without neighbors\n",
      "RDKit WARNING: [17:45:50] WARNING: not removing hydrogen atom without neighbors\n",
      "RDKit WARNING: [17:45:50] WARNING: not removing hydrogen atom without neighbors\n",
      "RDKit WARNING: [17:45:50] WARNING: not removing hydrogen atom without neighbors\n",
      "RDKit WARNING: [17:45:50] WARNING: not removing hydrogen atom without neighbors\n",
      "RDKit WARNING: [17:45:50] WARNING: not removing hydrogen atom without neighbors\n",
      "RDKit WARNING: [17:45:50] WARNING: not removing hydrogen atom without neighbors\n",
      "RDKit WARNING: [17:45:50] WARNING: not removing hydrogen atom without neighbors\n",
      "RDKit WARNING: [17:45:50] WARNING: not removing hydrogen atom without neighbors\n",
      "RDKit WARNING: [17:45:50] WARNING: not removing hydrogen atom without neighbors\n",
      "RDKit WARNING: [17:45:50] WARNING: not removing hydrogen atom without neighbors\n",
      "RDKit WARNING: [17:45:50] WARNING: not removing hydrogen atom without neighbors\n",
      "RDKit WARNING: [17:45:50] WARNING: not removing hydrogen atom without neighbors\n",
      "RDKit WARNING: [17:45:50] WARNING: not removing hydrogen atom without neighbors\n",
      "RDKit WARNING: [17:45:50] WARNING: not removing hydrogen atom without neighbors\n",
      "RDKit WARNING: [17:45:50] WARNING: not removing hydrogen atom without neighbors\n",
      "RDKit WARNING: [17:45:50] WARNING: not removing hydrogen atom without neighbors\n",
      "RDKit WARNING: [17:45:50] WARNING: not removing hydrogen atom without neighbors\n",
      "RDKit WARNING: [17:45:50] WARNING: not removing hydrogen atom without neighbors\n",
      "RDKit WARNING: [17:45:51] WARNING: not removing hydrogen atom without neighbors\n",
      "RDKit WARNING: [17:45:51] WARNING: not removing hydrogen atom without neighbors\n",
      "RDKit WARNING: [17:45:51] WARNING: not removing hydrogen atom without neighbors\n",
      "RDKit WARNING: [17:45:51] WARNING: not removing hydrogen atom without neighbors\n",
      "RDKit WARNING: [17:45:52] WARNING: not removing hydrogen atom without neighbors\n",
      "RDKit WARNING: [17:45:52] WARNING: not removing hydrogen atom without neighbors\n",
      "RDKit WARNING: [17:45:53] WARNING: not removing hydrogen atom without neighbors\n",
      "RDKit ERROR: [17:45:53] Explicit valence for atom # 2 Br, 3, is greater than permitted\n",
      "RDKit WARNING: [17:45:53] WARNING: not removing hydrogen atom without neighbors\n",
      "RDKit WARNING: [17:45:53] WARNING: not removing hydrogen atom without neighbors\n",
      "RDKit WARNING: [17:45:53] WARNING: not removing hydrogen atom without neighbors\n",
      "RDKit WARNING: [17:45:53] WARNING: not removing hydrogen atom without neighbors\n",
      "RDKit WARNING: [17:45:53] WARNING: not removing hydrogen atom without neighbors\n"
     ]
    }
   ],
   "source": [
    "isP_inorg = []\n",
    "for x in lri['smiles']:\n",
    "    is_P = P_inorg(x)\n",
    "    isP_inorg.append(is_P)\n",
    "lri['inorgP'] = isP_inorg"
   ]
  },
  {
   "cell_type": "markdown",
   "metadata": {},
   "source": [
    "Create a decision logic to tag all Lri substances as to whether it is inorganic and should be excluded from consideration of TTC"
   ]
  },
  {
   "cell_type": "code",
   "execution_count": 116,
   "metadata": {},
   "outputs": [],
   "source": [
    "inorg_filter = []\n",
    "for x, y, z in list(zip(lri['metal_salts'], lri['inorgs'], lri['inorgP'])):\n",
    "    if x is True:\n",
    "        inorg_filter.append('metal_salt')\n",
    "    elif x is False and y is True:\n",
    "        inorg_filter.append('inorganic')\n",
    "    elif z is True:\n",
    "        inorg_filter.append('inorganic')\n",
    "    else:\n",
    "        inorg_filter.append('TTC_NA')\n",
    "lri['inorg_filter'] = inorg_filter"
   ]
  },
  {
   "cell_type": "code",
   "execution_count": 153,
   "metadata": {},
   "outputs": [
    {
     "data": {
      "text/plain": [
       "TTC_NA        41638\n",
       "metal_salt     2388\n",
       "inorganic      1012\n",
       "Name: inorg_filter, dtype: int64"
      ]
     },
     "execution_count": 153,
     "metadata": {},
     "output_type": "execute_result"
    }
   ],
   "source": [
    "lri.inorg_filter.value_counts()"
   ]
  },
  {
   "cell_type": "markdown",
   "metadata": {},
   "source": [
    "Next step profile the LRI substances on the basis of the COC Smarts. Needed to filter to remove 1 None value where the Smiles had not beem converted by RDKit"
   ]
  },
  {
   "cell_type": "code",
   "execution_count": 117,
   "metadata": {},
   "outputs": [],
   "source": [
    "lri_smi = {k:v for k,v in lri_smiles.items() if v is not None}"
   ]
  },
  {
   "cell_type": "code",
   "execution_count": 118,
   "metadata": {},
   "outputs": [],
   "source": [
    "FDA_COC = {x:[k for k, v in fda_sms.items() if any([y.HasSubstructMatch(e) for e in v])] for x,y in lri_smi.items()}"
   ]
  },
  {
   "cell_type": "code",
   "execution_count": 119,
   "metadata": {},
   "outputs": [],
   "source": [
    "fda_coc_df = pd.DataFrame(list(FDA_COC.items()), columns = ['DTXSID', 'COC'])"
   ]
  },
  {
   "cell_type": "code",
   "execution_count": 120,
   "metadata": {},
   "outputs": [],
   "source": [
    "alerts = []\n",
    "for x in fda_coc_df['COC']:\n",
    "    if x !=[]:\n",
    "        alerts.append(1)\n",
    "    else:\n",
    "        alerts.append(0)\n",
    "fda_coc_df['COC_Alerts'] = alerts"
   ]
  },
  {
   "cell_type": "code",
   "execution_count": 121,
   "metadata": {},
   "outputs": [
    {
     "data": {
      "text/html": [
       "<div>\n",
       "<style scoped>\n",
       "    .dataframe tbody tr th:only-of-type {\n",
       "        vertical-align: middle;\n",
       "    }\n",
       "\n",
       "    .dataframe tbody tr th {\n",
       "        vertical-align: top;\n",
       "    }\n",
       "\n",
       "    .dataframe thead th {\n",
       "        text-align: right;\n",
       "    }\n",
       "</style>\n",
       "<table border=\"1\" class=\"dataframe\">\n",
       "  <thead>\n",
       "    <tr style=\"text-align: right;\">\n",
       "      <th></th>\n",
       "      <th>DTXSID</th>\n",
       "      <th>COC</th>\n",
       "      <th>COC_Alerts</th>\n",
       "    </tr>\n",
       "  </thead>\n",
       "  <tbody>\n",
       "    <tr>\n",
       "      <th>0</th>\n",
       "      <td>DTXSID6020561</td>\n",
       "      <td>[strained_heteronuclear_rings]</td>\n",
       "      <td>1</td>\n",
       "    </tr>\n",
       "    <tr>\n",
       "      <th>1</th>\n",
       "      <td>DTXSID9020453</td>\n",
       "      <td>[strained_heteronuclear_rings]</td>\n",
       "      <td>1</td>\n",
       "    </tr>\n",
       "    <tr>\n",
       "      <th>2</th>\n",
       "      <td>DTXSID3034456</td>\n",
       "      <td>[]</td>\n",
       "      <td>0</td>\n",
       "    </tr>\n",
       "    <tr>\n",
       "      <th>3</th>\n",
       "      <td>DTXSID2024242</td>\n",
       "      <td>[]</td>\n",
       "      <td>0</td>\n",
       "    </tr>\n",
       "    <tr>\n",
       "      <th>4</th>\n",
       "      <td>DTXSID4032376</td>\n",
       "      <td>[]</td>\n",
       "      <td>0</td>\n",
       "    </tr>\n",
       "  </tbody>\n",
       "</table>\n",
       "</div>"
      ],
      "text/plain": [
       "          DTXSID                             COC  COC_Alerts\n",
       "0  DTXSID6020561  [strained_heteronuclear_rings]           1\n",
       "1  DTXSID9020453  [strained_heteronuclear_rings]           1\n",
       "2  DTXSID3034456                              []           0\n",
       "3  DTXSID2024242                              []           0\n",
       "4  DTXSID4032376                              []           0"
      ]
     },
     "execution_count": 121,
     "metadata": {},
     "output_type": "execute_result"
    }
   ],
   "source": [
    "fda_coc_df.head()"
   ]
  },
  {
   "cell_type": "code",
   "execution_count": 122,
   "metadata": {},
   "outputs": [
    {
     "data": {
      "text/plain": [
       "45037"
      ]
     },
     "execution_count": 122,
     "metadata": {},
     "output_type": "execute_result"
    }
   ],
   "source": [
    "len(fda_coc_df)"
   ]
  },
  {
   "cell_type": "code",
   "execution_count": 155,
   "metadata": {},
   "outputs": [
    {
     "data": {
      "text/plain": [
       "0    39917\n",
       "1     5120\n",
       "Name: COC_Alerts, dtype: int64"
      ]
     },
     "execution_count": 155,
     "metadata": {},
     "output_type": "execute_result"
    }
   ],
   "source": [
    "fda_coc_df.COC_Alerts.value_counts()"
   ]
  },
  {
   "cell_type": "code",
   "execution_count": 123,
   "metadata": {},
   "outputs": [
    {
     "data": {
      "text/html": [
       "<div>\n",
       "<style scoped>\n",
       "    .dataframe tbody tr th:only-of-type {\n",
       "        vertical-align: middle;\n",
       "    }\n",
       "\n",
       "    .dataframe tbody tr th {\n",
       "        vertical-align: top;\n",
       "    }\n",
       "\n",
       "    .dataframe thead th {\n",
       "        text-align: right;\n",
       "    }\n",
       "</style>\n",
       "<table border=\"1\" class=\"dataframe\">\n",
       "  <thead>\n",
       "    <tr style=\"text-align: right;\">\n",
       "      <th></th>\n",
       "      <th>casrn</th>\n",
       "      <th>DTXSID</th>\n",
       "      <th>name</th>\n",
       "      <th>smiles</th>\n",
       "      <th>daily_intake</th>\n",
       "      <th>iris_noael</th>\n",
       "      <th>tox_cast_oed_5th</th>\n",
       "      <th>tox_cast_oed_median</th>\n",
       "      <th>tox_tree_ttc</th>\n",
       "      <th>ttc_class</th>\n",
       "      <th>kroes_decision</th>\n",
       "      <th>small_httk</th>\n",
       "      <th>large_cerapp</th>\n",
       "      <th>mark_ttc_class</th>\n",
       "      <th>reason_for_NA</th>\n",
       "      <th>old_ttc_class</th>\n",
       "      <th>metal_salts</th>\n",
       "      <th>inorgs</th>\n",
       "      <th>inorgP</th>\n",
       "      <th>inorg_filter</th>\n",
       "    </tr>\n",
       "  </thead>\n",
       "  <tbody>\n",
       "    <tr>\n",
       "      <th>0</th>\n",
       "      <td>72-20-8</td>\n",
       "      <td>DTXSID6020561</td>\n",
       "      <td>Endrin</td>\n",
       "      <td>ClC1=C(Cl)C2(Cl)C3C4CC(C5OC45)C3C1(Cl)C2(Cl)Cl</td>\n",
       "      <td>99</td>\n",
       "      <td>NaN</td>\n",
       "      <td>0.000291</td>\n",
       "      <td>0.002280</td>\n",
       "      <td>0.000003</td>\n",
       "      <td>Genotoxicity Alert</td>\n",
       "      <td>Negligible risk (low probability of a life-tim...</td>\n",
       "      <td>YES</td>\n",
       "      <td>NO</td>\n",
       "      <td>Genotoxicity Alert</td>\n",
       "      <td>NaN</td>\n",
       "      <td>Genotoxicity Alert</td>\n",
       "      <td>False</td>\n",
       "      <td>False</td>\n",
       "      <td>False</td>\n",
       "      <td>TTC_NA</td>\n",
       "    </tr>\n",
       "    <tr>\n",
       "      <th>1</th>\n",
       "      <td>60-57-1</td>\n",
       "      <td>DTXSID9020453</td>\n",
       "      <td>Dieldrin</td>\n",
       "      <td>ClC1=C(Cl)C2(Cl)C3C4CC(C5OC45)C3C1(Cl)C2(Cl)Cl</td>\n",
       "      <td>99</td>\n",
       "      <td>NaN</td>\n",
       "      <td>0.000553</td>\n",
       "      <td>0.009572</td>\n",
       "      <td>0.000003</td>\n",
       "      <td>Genotoxicity Alert</td>\n",
       "      <td>Negligible risk (low probability of a life-tim...</td>\n",
       "      <td>YES</td>\n",
       "      <td>NO</td>\n",
       "      <td>Genotoxicity Alert</td>\n",
       "      <td>NaN</td>\n",
       "      <td>Genotoxicity Alert</td>\n",
       "      <td>False</td>\n",
       "      <td>False</td>\n",
       "      <td>False</td>\n",
       "      <td>TTC_NA</td>\n",
       "    </tr>\n",
       "    <tr>\n",
       "      <th>2</th>\n",
       "      <td>87818-31-3</td>\n",
       "      <td>DTXSID3034456</td>\n",
       "      <td>Cinmethylin</td>\n",
       "      <td>CC(C)C12CCC(C)(O1)C(C2)OCC1=C(C)C=CC=C1</td>\n",
       "      <td>99</td>\n",
       "      <td>NaN</td>\n",
       "      <td>0.050130</td>\n",
       "      <td>0.445990</td>\n",
       "      <td>0.001500</td>\n",
       "      <td>Cramer Class III</td>\n",
       "      <td>Substance would not be expected to be a safety...</td>\n",
       "      <td>YES</td>\n",
       "      <td>NO</td>\n",
       "      <td>Class III</td>\n",
       "      <td>NaN</td>\n",
       "      <td>Class III</td>\n",
       "      <td>False</td>\n",
       "      <td>False</td>\n",
       "      <td>False</td>\n",
       "      <td>TTC_NA</td>\n",
       "    </tr>\n",
       "    <tr>\n",
       "      <th>3</th>\n",
       "      <td>76738-62-0</td>\n",
       "      <td>DTXSID2024242</td>\n",
       "      <td>Paclobutrazol</td>\n",
       "      <td>CC(C)(C)C(O)C(CC1=CC=C(Cl)C=C1)N1C=NC=N1</td>\n",
       "      <td>99</td>\n",
       "      <td>NaN</td>\n",
       "      <td>0.239110</td>\n",
       "      <td>2.872300</td>\n",
       "      <td>0.001500</td>\n",
       "      <td>Cramer Class III</td>\n",
       "      <td>Substance would not be expected to be a safety...</td>\n",
       "      <td>YES</td>\n",
       "      <td>NO</td>\n",
       "      <td>Class III</td>\n",
       "      <td>NaN</td>\n",
       "      <td>Class III</td>\n",
       "      <td>False</td>\n",
       "      <td>False</td>\n",
       "      <td>False</td>\n",
       "      <td>TTC_NA</td>\n",
       "    </tr>\n",
       "    <tr>\n",
       "      <th>4</th>\n",
       "      <td>87674-68-8</td>\n",
       "      <td>DTXSID4032376</td>\n",
       "      <td>Dimethenamid</td>\n",
       "      <td>COCC(C)N(C(=O)CCl)C1=C(C)SC=C1C</td>\n",
       "      <td>99</td>\n",
       "      <td>NaN</td>\n",
       "      <td>1.564200</td>\n",
       "      <td>15.084000</td>\n",
       "      <td>0.000003</td>\n",
       "      <td>Genotoxicity Alert</td>\n",
       "      <td>Negligible risk (low probability of a life-tim...</td>\n",
       "      <td>YES</td>\n",
       "      <td>NO</td>\n",
       "      <td>Genotoxicity Alert</td>\n",
       "      <td>NaN</td>\n",
       "      <td>Genotoxicity Alert</td>\n",
       "      <td>False</td>\n",
       "      <td>False</td>\n",
       "      <td>False</td>\n",
       "      <td>TTC_NA</td>\n",
       "    </tr>\n",
       "  </tbody>\n",
       "</table>\n",
       "</div>"
      ],
      "text/plain": [
       "        casrn         DTXSID           name  \\\n",
       "0     72-20-8  DTXSID6020561         Endrin   \n",
       "1     60-57-1  DTXSID9020453       Dieldrin   \n",
       "2  87818-31-3  DTXSID3034456    Cinmethylin   \n",
       "3  76738-62-0  DTXSID2024242  Paclobutrazol   \n",
       "4  87674-68-8  DTXSID4032376   Dimethenamid   \n",
       "\n",
       "                                           smiles  daily_intake  iris_noael  \\\n",
       "0  ClC1=C(Cl)C2(Cl)C3C4CC(C5OC45)C3C1(Cl)C2(Cl)Cl            99         NaN   \n",
       "1  ClC1=C(Cl)C2(Cl)C3C4CC(C5OC45)C3C1(Cl)C2(Cl)Cl            99         NaN   \n",
       "2         CC(C)C12CCC(C)(O1)C(C2)OCC1=C(C)C=CC=C1            99         NaN   \n",
       "3        CC(C)(C)C(O)C(CC1=CC=C(Cl)C=C1)N1C=NC=N1            99         NaN   \n",
       "4                 COCC(C)N(C(=O)CCl)C1=C(C)SC=C1C            99         NaN   \n",
       "\n",
       "   tox_cast_oed_5th  tox_cast_oed_median  tox_tree_ttc           ttc_class  \\\n",
       "0          0.000291             0.002280      0.000003  Genotoxicity Alert   \n",
       "1          0.000553             0.009572      0.000003  Genotoxicity Alert   \n",
       "2          0.050130             0.445990      0.001500    Cramer Class III   \n",
       "3          0.239110             2.872300      0.001500    Cramer Class III   \n",
       "4          1.564200            15.084000      0.000003  Genotoxicity Alert   \n",
       "\n",
       "                                      kroes_decision small_httk large_cerapp  \\\n",
       "0  Negligible risk (low probability of a life-tim...        YES           NO   \n",
       "1  Negligible risk (low probability of a life-tim...        YES           NO   \n",
       "2  Substance would not be expected to be a safety...        YES           NO   \n",
       "3  Substance would not be expected to be a safety...        YES           NO   \n",
       "4  Negligible risk (low probability of a life-tim...        YES           NO   \n",
       "\n",
       "       mark_ttc_class reason_for_NA       old_ttc_class  metal_salts  inorgs  \\\n",
       "0  Genotoxicity Alert           NaN  Genotoxicity Alert        False   False   \n",
       "1  Genotoxicity Alert           NaN  Genotoxicity Alert        False   False   \n",
       "2           Class III           NaN           Class III        False   False   \n",
       "3           Class III           NaN           Class III        False   False   \n",
       "4  Genotoxicity Alert           NaN  Genotoxicity Alert        False   False   \n",
       "\n",
       "   inorgP inorg_filter  \n",
       "0   False       TTC_NA  \n",
       "1   False       TTC_NA  \n",
       "2   False       TTC_NA  \n",
       "3   False       TTC_NA  \n",
       "4   False       TTC_NA  "
      ]
     },
     "execution_count": 123,
     "metadata": {},
     "output_type": "execute_result"
    }
   ],
   "source": [
    "lri.head()"
   ]
  },
  {
   "cell_type": "code",
   "execution_count": 124,
   "metadata": {},
   "outputs": [],
   "source": [
    "lri_coc = pd.merge(lri, fda_coc_df, on = 'DTXSID', how = 'left')"
   ]
  },
  {
   "cell_type": "code",
   "execution_count": 125,
   "metadata": {},
   "outputs": [
    {
     "data": {
      "text/html": [
       "<div>\n",
       "<style scoped>\n",
       "    .dataframe tbody tr th:only-of-type {\n",
       "        vertical-align: middle;\n",
       "    }\n",
       "\n",
       "    .dataframe tbody tr th {\n",
       "        vertical-align: top;\n",
       "    }\n",
       "\n",
       "    .dataframe thead th {\n",
       "        text-align: right;\n",
       "    }\n",
       "</style>\n",
       "<table border=\"1\" class=\"dataframe\">\n",
       "  <thead>\n",
       "    <tr style=\"text-align: right;\">\n",
       "      <th></th>\n",
       "      <th>casrn</th>\n",
       "      <th>DTXSID</th>\n",
       "      <th>name</th>\n",
       "      <th>smiles</th>\n",
       "      <th>daily_intake</th>\n",
       "      <th>iris_noael</th>\n",
       "      <th>tox_cast_oed_5th</th>\n",
       "      <th>tox_cast_oed_median</th>\n",
       "      <th>tox_tree_ttc</th>\n",
       "      <th>ttc_class</th>\n",
       "      <th>...</th>\n",
       "      <th>large_cerapp</th>\n",
       "      <th>mark_ttc_class</th>\n",
       "      <th>reason_for_NA</th>\n",
       "      <th>old_ttc_class</th>\n",
       "      <th>metal_salts</th>\n",
       "      <th>inorgs</th>\n",
       "      <th>inorgP</th>\n",
       "      <th>inorg_filter</th>\n",
       "      <th>COC</th>\n",
       "      <th>COC_Alerts</th>\n",
       "    </tr>\n",
       "  </thead>\n",
       "  <tbody>\n",
       "    <tr>\n",
       "      <th>0</th>\n",
       "      <td>72-20-8</td>\n",
       "      <td>DTXSID6020561</td>\n",
       "      <td>Endrin</td>\n",
       "      <td>ClC1=C(Cl)C2(Cl)C3C4CC(C5OC45)C3C1(Cl)C2(Cl)Cl</td>\n",
       "      <td>99</td>\n",
       "      <td>NaN</td>\n",
       "      <td>0.000291</td>\n",
       "      <td>0.002280</td>\n",
       "      <td>0.000003</td>\n",
       "      <td>Genotoxicity Alert</td>\n",
       "      <td>...</td>\n",
       "      <td>NO</td>\n",
       "      <td>Genotoxicity Alert</td>\n",
       "      <td>NaN</td>\n",
       "      <td>Genotoxicity Alert</td>\n",
       "      <td>False</td>\n",
       "      <td>False</td>\n",
       "      <td>False</td>\n",
       "      <td>TTC_NA</td>\n",
       "      <td>[strained_heteronuclear_rings]</td>\n",
       "      <td>1.0</td>\n",
       "    </tr>\n",
       "    <tr>\n",
       "      <th>1</th>\n",
       "      <td>60-57-1</td>\n",
       "      <td>DTXSID9020453</td>\n",
       "      <td>Dieldrin</td>\n",
       "      <td>ClC1=C(Cl)C2(Cl)C3C4CC(C5OC45)C3C1(Cl)C2(Cl)Cl</td>\n",
       "      <td>99</td>\n",
       "      <td>NaN</td>\n",
       "      <td>0.000553</td>\n",
       "      <td>0.009572</td>\n",
       "      <td>0.000003</td>\n",
       "      <td>Genotoxicity Alert</td>\n",
       "      <td>...</td>\n",
       "      <td>NO</td>\n",
       "      <td>Genotoxicity Alert</td>\n",
       "      <td>NaN</td>\n",
       "      <td>Genotoxicity Alert</td>\n",
       "      <td>False</td>\n",
       "      <td>False</td>\n",
       "      <td>False</td>\n",
       "      <td>TTC_NA</td>\n",
       "      <td>[strained_heteronuclear_rings]</td>\n",
       "      <td>1.0</td>\n",
       "    </tr>\n",
       "    <tr>\n",
       "      <th>2</th>\n",
       "      <td>87818-31-3</td>\n",
       "      <td>DTXSID3034456</td>\n",
       "      <td>Cinmethylin</td>\n",
       "      <td>CC(C)C12CCC(C)(O1)C(C2)OCC1=C(C)C=CC=C1</td>\n",
       "      <td>99</td>\n",
       "      <td>NaN</td>\n",
       "      <td>0.050130</td>\n",
       "      <td>0.445990</td>\n",
       "      <td>0.001500</td>\n",
       "      <td>Cramer Class III</td>\n",
       "      <td>...</td>\n",
       "      <td>NO</td>\n",
       "      <td>Class III</td>\n",
       "      <td>NaN</td>\n",
       "      <td>Class III</td>\n",
       "      <td>False</td>\n",
       "      <td>False</td>\n",
       "      <td>False</td>\n",
       "      <td>TTC_NA</td>\n",
       "      <td>[]</td>\n",
       "      <td>0.0</td>\n",
       "    </tr>\n",
       "    <tr>\n",
       "      <th>3</th>\n",
       "      <td>76738-62-0</td>\n",
       "      <td>DTXSID2024242</td>\n",
       "      <td>Paclobutrazol</td>\n",
       "      <td>CC(C)(C)C(O)C(CC1=CC=C(Cl)C=C1)N1C=NC=N1</td>\n",
       "      <td>99</td>\n",
       "      <td>NaN</td>\n",
       "      <td>0.239110</td>\n",
       "      <td>2.872300</td>\n",
       "      <td>0.001500</td>\n",
       "      <td>Cramer Class III</td>\n",
       "      <td>...</td>\n",
       "      <td>NO</td>\n",
       "      <td>Class III</td>\n",
       "      <td>NaN</td>\n",
       "      <td>Class III</td>\n",
       "      <td>False</td>\n",
       "      <td>False</td>\n",
       "      <td>False</td>\n",
       "      <td>TTC_NA</td>\n",
       "      <td>[]</td>\n",
       "      <td>0.0</td>\n",
       "    </tr>\n",
       "    <tr>\n",
       "      <th>4</th>\n",
       "      <td>87674-68-8</td>\n",
       "      <td>DTXSID4032376</td>\n",
       "      <td>Dimethenamid</td>\n",
       "      <td>COCC(C)N(C(=O)CCl)C1=C(C)SC=C1C</td>\n",
       "      <td>99</td>\n",
       "      <td>NaN</td>\n",
       "      <td>1.564200</td>\n",
       "      <td>15.084000</td>\n",
       "      <td>0.000003</td>\n",
       "      <td>Genotoxicity Alert</td>\n",
       "      <td>...</td>\n",
       "      <td>NO</td>\n",
       "      <td>Genotoxicity Alert</td>\n",
       "      <td>NaN</td>\n",
       "      <td>Genotoxicity Alert</td>\n",
       "      <td>False</td>\n",
       "      <td>False</td>\n",
       "      <td>False</td>\n",
       "      <td>TTC_NA</td>\n",
       "      <td>[]</td>\n",
       "      <td>0.0</td>\n",
       "    </tr>\n",
       "  </tbody>\n",
       "</table>\n",
       "<p>5 rows × 22 columns</p>\n",
       "</div>"
      ],
      "text/plain": [
       "        casrn         DTXSID           name  \\\n",
       "0     72-20-8  DTXSID6020561         Endrin   \n",
       "1     60-57-1  DTXSID9020453       Dieldrin   \n",
       "2  87818-31-3  DTXSID3034456    Cinmethylin   \n",
       "3  76738-62-0  DTXSID2024242  Paclobutrazol   \n",
       "4  87674-68-8  DTXSID4032376   Dimethenamid   \n",
       "\n",
       "                                           smiles  daily_intake  iris_noael  \\\n",
       "0  ClC1=C(Cl)C2(Cl)C3C4CC(C5OC45)C3C1(Cl)C2(Cl)Cl            99         NaN   \n",
       "1  ClC1=C(Cl)C2(Cl)C3C4CC(C5OC45)C3C1(Cl)C2(Cl)Cl            99         NaN   \n",
       "2         CC(C)C12CCC(C)(O1)C(C2)OCC1=C(C)C=CC=C1            99         NaN   \n",
       "3        CC(C)(C)C(O)C(CC1=CC=C(Cl)C=C1)N1C=NC=N1            99         NaN   \n",
       "4                 COCC(C)N(C(=O)CCl)C1=C(C)SC=C1C            99         NaN   \n",
       "\n",
       "   tox_cast_oed_5th  tox_cast_oed_median  tox_tree_ttc           ttc_class  \\\n",
       "0          0.000291             0.002280      0.000003  Genotoxicity Alert   \n",
       "1          0.000553             0.009572      0.000003  Genotoxicity Alert   \n",
       "2          0.050130             0.445990      0.001500    Cramer Class III   \n",
       "3          0.239110             2.872300      0.001500    Cramer Class III   \n",
       "4          1.564200            15.084000      0.000003  Genotoxicity Alert   \n",
       "\n",
       "   ... large_cerapp      mark_ttc_class reason_for_NA       old_ttc_class  \\\n",
       "0  ...           NO  Genotoxicity Alert           NaN  Genotoxicity Alert   \n",
       "1  ...           NO  Genotoxicity Alert           NaN  Genotoxicity Alert   \n",
       "2  ...           NO           Class III           NaN           Class III   \n",
       "3  ...           NO           Class III           NaN           Class III   \n",
       "4  ...           NO  Genotoxicity Alert           NaN  Genotoxicity Alert   \n",
       "\n",
       "  metal_salts inorgs  inorgP  inorg_filter                             COC  \\\n",
       "0       False  False   False        TTC_NA  [strained_heteronuclear_rings]   \n",
       "1       False  False   False        TTC_NA  [strained_heteronuclear_rings]   \n",
       "2       False  False   False        TTC_NA                              []   \n",
       "3       False  False   False        TTC_NA                              []   \n",
       "4       False  False   False        TTC_NA                              []   \n",
       "\n",
       "  COC_Alerts  \n",
       "0        1.0  \n",
       "1        1.0  \n",
       "2        0.0  \n",
       "3        0.0  \n",
       "4        0.0  \n",
       "\n",
       "[5 rows x 22 columns]"
      ]
     },
     "execution_count": 125,
     "metadata": {},
     "output_type": "execute_result"
    }
   ],
   "source": [
    "lri_coc.head()"
   ]
  },
  {
   "cell_type": "code",
   "execution_count": 128,
   "metadata": {},
   "outputs": [],
   "source": [
    "genetox = pd.read_excel(raw_dir+'genetox_structural_alerts_201021.xlsx', sheet_name = 'Final')"
   ]
  },
  {
   "cell_type": "code",
   "execution_count": 129,
   "metadata": {},
   "outputs": [
    {
     "data": {
      "text/html": [
       "<div>\n",
       "<style scoped>\n",
       "    .dataframe tbody tr th:only-of-type {\n",
       "        vertical-align: middle;\n",
       "    }\n",
       "\n",
       "    .dataframe tbody tr th {\n",
       "        vertical-align: top;\n",
       "    }\n",
       "\n",
       "    .dataframe thead th {\n",
       "        text-align: right;\n",
       "    }\n",
       "</style>\n",
       "<table border=\"1\" class=\"dataframe\">\n",
       "  <thead>\n",
       "    <tr style=\"text-align: right;\">\n",
       "      <th></th>\n",
       "      <th>Name</th>\n",
       "      <th>SMARTS</th>\n",
       "      <th>Source</th>\n",
       "      <th>Domain</th>\n",
       "      <th>ID</th>\n",
       "      <th>Unnamed: 5</th>\n",
       "    </tr>\n",
       "  </thead>\n",
       "  <tbody>\n",
       "    <tr>\n",
       "      <th>0</th>\n",
       "      <td>Acyl-halide</td>\n",
       "      <td>[CH,$(C(=O)[#6])](=O)[F,Cl,Br,I]</td>\n",
       "      <td>Enoch</td>\n",
       "      <td>AC</td>\n",
       "      <td>Acyl-halide-(AC)</td>\n",
       "      <td>NaN</td>\n",
       "    </tr>\n",
       "    <tr>\n",
       "      <th>1</th>\n",
       "      <td>Alkyl-carbamyl-halides</td>\n",
       "      <td>[NH2,$([NH](C=O)[#6]),$(N(C=O)([#6])[#6])]C(=O...</td>\n",
       "      <td>Enoch</td>\n",
       "      <td>AC</td>\n",
       "      <td>Alkyl-carbamyl-halides-(AC)</td>\n",
       "      <td>NaN</td>\n",
       "    </tr>\n",
       "    <tr>\n",
       "      <th>2</th>\n",
       "      <td>Isocyanates</td>\n",
       "      <td>[NH,$(N(=C=O)[#6])]=C=O</td>\n",
       "      <td>Enoch</td>\n",
       "      <td>AC</td>\n",
       "      <td>Isocyanates-(AC)</td>\n",
       "      <td>NaN</td>\n",
       "    </tr>\n",
       "    <tr>\n",
       "      <th>3</th>\n",
       "      <td>Isothiocyanates</td>\n",
       "      <td>[NH,$(N(=C=[SX1])[#6])]=C=[SX1]</td>\n",
       "      <td>Enoch</td>\n",
       "      <td>AC</td>\n",
       "      <td>Isothiocyanates-(AC)</td>\n",
       "      <td>NaN</td>\n",
       "    </tr>\n",
       "    <tr>\n",
       "      <th>4</th>\n",
       "      <td>Thiazolidinediones</td>\n",
       "      <td>C1C(=O)[NH]C(=O)S1</td>\n",
       "      <td>Enoch</td>\n",
       "      <td>AC</td>\n",
       "      <td>Thiazolidinediones-(AC)</td>\n",
       "      <td>NaN</td>\n",
       "    </tr>\n",
       "  </tbody>\n",
       "</table>\n",
       "</div>"
      ],
      "text/plain": [
       "                     Name                                             SMARTS  \\\n",
       "0             Acyl-halide                   [CH,$(C(=O)[#6])](=O)[F,Cl,Br,I]   \n",
       "1  Alkyl-carbamyl-halides  [NH2,$([NH](C=O)[#6]),$(N(C=O)([#6])[#6])]C(=O...   \n",
       "2             Isocyanates                            [NH,$(N(=C=O)[#6])]=C=O   \n",
       "3         Isothiocyanates                    [NH,$(N(=C=[SX1])[#6])]=C=[SX1]   \n",
       "4      Thiazolidinediones                                 C1C(=O)[NH]C(=O)S1   \n",
       "\n",
       "  Source Domain                           ID  Unnamed: 5  \n",
       "0  Enoch     AC             Acyl-halide-(AC)         NaN  \n",
       "1  Enoch     AC  Alkyl-carbamyl-halides-(AC)         NaN  \n",
       "2  Enoch     AC             Isocyanates-(AC)         NaN  \n",
       "3  Enoch     AC         Isothiocyanates-(AC)         NaN  \n",
       "4  Enoch     AC      Thiazolidinediones-(AC)         NaN  "
      ]
     },
     "execution_count": 129,
     "metadata": {},
     "output_type": "execute_result"
    }
   ],
   "source": [
    "genetox.head()"
   ]
  },
  {
   "cell_type": "code",
   "execution_count": 130,
   "metadata": {},
   "outputs": [
    {
     "data": {
      "text/plain": [
       "207"
      ]
     },
     "execution_count": 130,
     "metadata": {},
     "output_type": "execute_result"
    }
   ],
   "source": [
    "len(genetox)"
   ]
  },
  {
   "cell_type": "markdown",
   "metadata": {},
   "source": [
    "Remove any SMARTS that are duplicates"
   ]
  },
  {
   "cell_type": "code",
   "execution_count": 131,
   "metadata": {},
   "outputs": [],
   "source": [
    "genetox = genetox.drop_duplicates(['SMARTS'], keep = 'first')"
   ]
  },
  {
   "cell_type": "markdown",
   "metadata": {},
   "source": [
    "Looking to see how many alerts exist per ID"
   ]
  },
  {
   "cell_type": "code",
   "execution_count": 132,
   "metadata": {},
   "outputs": [
    {
     "data": {
      "text/plain": [
       "PAHs-(SN1)                 11\n",
       "Nitrosos-(SN2)             10\n",
       "Aromatic-amines-(SN1)       8\n",
       "Azo-(SN1)                   7\n",
       "Aliphatic-halide-(SN2)      7\n",
       "                           ..\n",
       "Nitrite-(SN2)               1\n",
       "Aromatic halide             1\n",
       "Quinone-methides-(MA)       1\n",
       "Aromatic_ring_N-oxides      1\n",
       "Heterocyclic-azos-(SN1)     1\n",
       "Name: ID, Length: 109, dtype: int64"
      ]
     },
     "execution_count": 132,
     "metadata": {},
     "output_type": "execute_result"
    }
   ],
   "source": [
    "genetox.ID.value_counts()"
   ]
  },
  {
   "cell_type": "code",
   "execution_count": 133,
   "metadata": {},
   "outputs": [],
   "source": [
    "genetox_dict = {}\n",
    "for i,group in genetox.groupby('ID'):\n",
    "    key = [name for name in group['ID'] if name!=' '][0]\n",
    "    value = set(group['SMARTS'])\n",
    "    genetox_dict[key]=value"
   ]
  },
  {
   "cell_type": "code",
   "execution_count": 134,
   "metadata": {},
   "outputs": [
    {
     "data": {
      "text/plain": [
       "109"
      ]
     },
     "execution_count": 134,
     "metadata": {},
     "output_type": "execute_result"
    }
   ],
   "source": [
    "len(genetox_dict)"
   ]
  },
  {
   "cell_type": "code",
   "execution_count": 135,
   "metadata": {},
   "outputs": [
    {
     "name": "stderr",
     "output_type": "stream",
     "text": [
      "RDKit ERROR: [19:59:21] SMARTS Parse Error: syntax error while parsing: NOT [!CX4!#1!F!Cl!Br!I] AND [CX4!R0][F,Cl,Br,I]\n",
      "RDKit ERROR: [19:59:21] SMARTS Parse Error: Failed parsing SMARTS 'NOT [!CX4!#1!F!Cl!Br!I] AND [CX4!R0][F,Cl,Br,I]' for input: 'NOT [!CX4!#1!F!Cl!Br!I] AND [CX4!R0][F,Cl,Br,I]'\n",
      "RDKit ERROR: [19:59:21] SMARTS Parse Error: syntax error while parsing: [$([CX4]([$([OH])_100,$(C=O)_101,$([NX3])_102])([!F!Cl!Br!I!C])([*!$(C)_103])[CH2][F,Cl,Br,I])_104,$ show full SMARTS\n",
      "RDKit ERROR: [19:59:21] SMARTS Parse Error: Failed parsing SMARTS '[$([CX4]([$([OH])_100,$(C=O)_101,$([NX3])_102])([!F!Cl!Br!I!C])([*!$(C)_103])[CH2][F,Cl,Br,I])_104,$ show full SMARTS' for input: '[$([CX4]([$([OH]),$(C=O),$([NX3])])([!F!Cl!Br!I!C])([*!$(C)])[CH2][F,Cl,Br,I]),$ show full SMARTS'\n",
      "RDKit ERROR: [19:59:21] SMARTS Parse Error: syntax error while parsing: [a!r0][$([NH2])_100;!$([NH2]aa[$(C(F)(F)F)_101,$(S(=O)(=O)[NX3]([#6,#1])[#6,#1])_102,$(S(=O) show full SMARTS\n",
      "RDKit ERROR: [19:59:21] SMARTS Parse Error: Failed parsing SMARTS '[a!r0][$([NH2])_100;!$([NH2]aa[$(C(F)(F)F)_101,$(S(=O)(=O)[NX3]([#6,#1])[#6,#1])_102,$(S(=O) show full SMARTS' for input: '[a!r0][$([NH2]);!$([NH2]aa[$(C(F)(F)F),$(S(=O)(=O)[NX3]([#6,#1])[#6,#1]),$(S(=O) show full SMARTS'\n",
      "RDKit ERROR: [19:59:21] SMARTS Parse Error: syntax error while parsing: [a!r0][$([NH2])_100,$([NX3][OX2H1])_101,$([NX3][OX2][CX3H1](=[OX1]))_102,$([NX2]=[CH2])_103,$([N show full SMARTS\n",
      "RDKit ERROR: [19:59:21] SMARTS Parse Error: Failed parsing SMARTS '[a!r0][$([NH2])_100,$([NX3][OX2H1])_101,$([NX3][OX2][CX3H1](=[OX1]))_102,$([NX2]=[CH2])_103,$([N show full SMARTS' for input: '[a!r0][$([NH2]),$([NX3][OX2H1]),$([NX3][OX2][CX3H1](=[OX1])),$([NX2]=[CH2]),$([N show full SMARTS'\n",
      "RDKit ERROR: [19:59:21] SMARTS Parse Error: syntax error while parsing: [a!r0][$([NX3+](=[OX1])[O-])_100,$([NX3](=[OX1])=[OX1])_101;!$([NX3]aa-[$(C(F)(F)F)_102,$(S( show full SMARTS\n",
      "RDKit ERROR: [19:59:21] SMARTS Parse Error: Failed parsing SMARTS '[a!r0][$([NX3+](=[OX1])[O-])_100,$([NX3](=[OX1])=[OX1])_101;!$([NX3]aa-[$(C(F)(F)F)_102,$(S( show full SMARTS' for input: '[a!r0][$([NX3+](=[OX1])[O-]),$([NX3](=[OX1])=[OX1]);!$([NX3]aa-[$(C(F)(F)F),$(S( show full SMARTS'\n",
      "RDKit ERROR: [19:59:21] SMARTS Parse Error: syntax error while parsing: [a!r0][$([NX3+](=[OX1])[O-])_100,$([NX3](=[OX1])=[OX1])_101;!$([NX3]a(a-[!#1])a-[!#1])_102;! show full SMARTS\n",
      "RDKit ERROR: [19:59:21] SMARTS Parse Error: Failed parsing SMARTS '[a!r0][$([NX3+](=[OX1])[O-])_100,$([NX3](=[OX1])=[OX1])_101;!$([NX3]a(a-[!#1])a-[!#1])_102;! show full SMARTS' for input: '[a!r0][$([NX3+](=[OX1])[O-]),$([NX3](=[OX1])=[OX1]);!$([NX3]a(a-[!#1])a-[!#1]);! show full SMARTS'\n",
      "RDKit ERROR: [19:59:21] SMARTS Parse Error: syntax error while parsing: [a!r0][$([NX3;H1])_100,$([NX3][CH3])_101;!$([NX3]a(a-[!#1])a-[!#1])_102;!$([NX3]aa-C(=[OX1]) show full SMARTS\n",
      "RDKit ERROR: [19:59:21] SMARTS Parse Error: Failed parsing SMARTS '[a!r0][$([NX3;H1])_100,$([NX3][CH3])_101;!$([NX3]a(a-[!#1])a-[!#1])_102;!$([NX3]aa-C(=[OX1]) show full SMARTS' for input: '[a!r0][$([NX3;H1]),$([NX3][CH3]);!$([NX3]a(a-[!#1])a-[!#1]);!$([NX3]aa-C(=[OX1]) show full SMARTS'\n",
      "RDKit ERROR: [19:59:21] SMARTS Parse Error: syntax error while parsing: [a!r0][$([NX3;H1][CH3])_100,$([NX3;H1][CH2][CH3])_101,$([NX3]([CH3])[CH3])_102,$([NX3]([CH3] show full SMARTS\n",
      "RDKit ERROR: [19:59:21] SMARTS Parse Error: Failed parsing SMARTS '[a!r0][$([NX3;H1][CH3])_100,$([NX3;H1][CH2][CH3])_101,$([NX3]([CH3])[CH3])_102,$([NX3]([CH3] show full SMARTS' for input: '[a!r0][$([NX3;H1][CH3]),$([NX3;H1][CH2][CH3]),$([NX3]([CH3])[CH3]),$([NX3]([CH3] show full SMARTS'\n",
      "RDKit ERROR: [19:59:21] SMARTS Parse Error: syntax error while parsing: [$([$([CX4]([*!C])([*!C])([*!C]))_100,$([CX4]([*!C])([*!C])([*!C])[CX4]([*!C])([*!C] show full SMARTS\n",
      "RDKit ERROR: [19:59:21] SMARTS Parse Error: Failed parsing SMARTS '[$([$([CX4]([*!C])([*!C])([*!C]))_100,$([CX4]([*!C])([*!C])([*!C])[CX4]([*!C])([*!C] show full SMARTS' for input: '[$([$([CX4]([*!C])([*!C])([*!C])),$([CX4]([*!C])([*!C])([*!C])[CX4]([*!C])([*!C] show full SMARTS'\n",
      "RDKit ERROR: [19:59:21] SMARTS Parse Error: syntax error while parsing: [$([NX2]([a!r0])=[NX2][a!r0])_100;!$([NX2](aaS(=O)(=O)[OH])=[NX2]aaS(=O)(=O)[OH])_101;!$ show full SMARTS\n",
      "RDKit ERROR: [19:59:21] SMARTS Parse Error: Failed parsing SMARTS '[$([NX2]([a!r0])=[NX2][a!r0])_100;!$([NX2](aaS(=O)(=O)[OH])=[NX2]aaS(=O)(=O)[OH])_101;!$ show full SMARTS' for input: '[$([NX2]([a!r0])=[NX2][a!r0]);!$([NX2](aaS(=O)(=O)[OH])=[NX2]aaS(=O)(=O)[OH]);!$ show full SMARTS'\n",
      "RDKit ERROR: [19:59:21] SMARTS Parse Error: syntax error while parsing: [$([$([aR3])_100,$([$([aR2]([aR])([aR])([aR]))_101].[$([aR2]([aR])([aR])([aR]))_101].[$([aR2 show full SMARTS\n",
      "RDKit ERROR: [19:59:21] SMARTS Parse Error: Failed parsing SMARTS '[$([$([aR3])_100,$([$([aR2]([aR])([aR])([aR]))_101].[$([aR2]([aR])([aR])([aR]))_101].[$([aR2 show full SMARTS' for input: '[$([$([aR3]),$([$([aR2]([aR])([aR])([aR]))].[$([aR2]([aR])([aR])([aR]))].[$([aR2 show full SMARTS'\n",
      "RDKit ERROR: [19:59:21] SMARTS Parse Error: syntax error while parsing: [$([cX3R3])_100,$([cX3;R1,R2,R3]1[cX3;R1,R2,R3][cX3;R1,R2,R3][cX3;R1,R2,R3][cX3;R2,R show full SMARTS\n",
      "RDKit ERROR: [19:59:21] SMARTS Parse Error: Failed parsing SMARTS '[$([cX3R3])_100,$([cX3;R1,R2,R3]1[cX3;R1,R2,R3][cX3;R1,R2,R3][cX3;R1,R2,R3][cX3;R2,R show full SMARTS' for input: '[$([cX3R3]),$([cX3;R1,R2,R3]1[cX3;R1,R2,R3][cX3;R1,R2,R3][cX3;R1,R2,R3][cX3;R2,R show full SMARTS'\n",
      "RDKit ERROR: [19:59:21] SMARTS Parse Error: syntax error while parsing: [$([Sv6X4;!$([Sv6X4][OH])_100;!$([Sv6X4][SH])_101;!$([Sv6X4][O-])_102;!$([Sv6X4][S-])_103](=[OX1 show full SMARTS\n",
      "RDKit ERROR: [19:59:21] SMARTS Parse Error: Failed parsing SMARTS '[$([Sv6X4;!$([Sv6X4][OH])_100;!$([Sv6X4][SH])_101;!$([Sv6X4][O-])_102;!$([Sv6X4][S-])_103](=[OX1 show full SMARTS' for input: '[$([Sv6X4;!$([Sv6X4][OH]);!$([Sv6X4][SH]);!$([Sv6X4][O-]);!$([Sv6X4][S-])](=[OX1 show full SMARTS'\n",
      "RDKit ERROR: [19:59:21] SMARTS Parse Error: syntax error while parsing: [$([NX3H2][#7])_100,$([NX3H2][#8])_101,$([OX2H1][#7])_102,$([OX2H1][#8])_103;!$([NH2][#7][$([OX2 show full SMARTS\n",
      "RDKit ERROR: [19:59:21] SMARTS Parse Error: Failed parsing SMARTS '[$([NX3H2][#7])_100,$([NX3H2][#8])_101,$([OX2H1][#7])_102,$([OX2H1][#8])_103;!$([NH2][#7][$([OX2 show full SMARTS' for input: '[$([NX3H2][#7]),$([NX3H2][#8]),$([OX2H1][#7]),$([OX2H1][#8]);!$([NH2][#7][$([OX2 show full SMARTS'\n",
      "RDKit ERROR: [19:59:21] SMARTS Parse Error: syntax error while parsing: [CX3]([!$([OH])_100;!$([O-])_101])(=[OX1])[CX3H1]=[CX3]([$([CH3])_102,$([CH2][CH3])_103,$([CH2][ show full SMARTS\n",
      "RDKit ERROR: [19:59:21] SMARTS Parse Error: Failed parsing SMARTS '[CX3]([!$([OH])_100;!$([O-])_101])(=[OX1])[CX3H1]=[CX3]([$([CH3])_102,$([CH2][CH3])_103,$([CH2][ show full SMARTS' for input: '[CX3]([!$([OH]);!$([O-])])(=[OX1])[CX3H1]=[CX3]([$([CH3]),$([CH2][CH3]),$([CH2][ show full SMARTS'\n"
     ]
    }
   ],
   "source": [
    "genetox_smarts = {k:[Chem.MolFromSmarts(e) for e in v] for k,v in genetox_dict.items()}"
   ]
  },
  {
   "cell_type": "code",
   "execution_count": 136,
   "metadata": {},
   "outputs": [],
   "source": [
    "genetox_smarts = {k: list(filter(None, genetox_smarts[k])) for k,v in genetox_smarts.items()}"
   ]
  },
  {
   "cell_type": "code",
   "execution_count": 138,
   "metadata": {},
   "outputs": [
    {
     "data": {
      "text/plain": [
       "109"
      ]
     },
     "execution_count": 138,
     "metadata": {},
     "output_type": "execute_result"
    }
   ],
   "source": [
    "len(genetox_smarts)"
   ]
  },
  {
   "cell_type": "code",
   "execution_count": 137,
   "metadata": {},
   "outputs": [],
   "source": [
    "genetox_matches = {x:[k for k, v in genetox_smarts.items() if any([y.HasSubstructMatch(e) for e in v])] for x,y in lri_smi.items()}"
   ]
  },
  {
   "cell_type": "markdown",
   "metadata": {},
   "source": [
    "Looking to see what matches with genetox alerts compiled from Benigni, Bailey, Kazius and Enoch"
   ]
  },
  {
   "cell_type": "code",
   "execution_count": 139,
   "metadata": {},
   "outputs": [],
   "source": [
    "genetox_df = pd.DataFrame(list(genetox_matches.items()), columns = ['DTXSID', 'Genetox_Alert'])"
   ]
  },
  {
   "cell_type": "code",
   "execution_count": 140,
   "metadata": {},
   "outputs": [
    {
     "data": {
      "text/html": [
       "<div>\n",
       "<style scoped>\n",
       "    .dataframe tbody tr th:only-of-type {\n",
       "        vertical-align: middle;\n",
       "    }\n",
       "\n",
       "    .dataframe tbody tr th {\n",
       "        vertical-align: top;\n",
       "    }\n",
       "\n",
       "    .dataframe thead th {\n",
       "        text-align: right;\n",
       "    }\n",
       "</style>\n",
       "<table border=\"1\" class=\"dataframe\">\n",
       "  <thead>\n",
       "    <tr style=\"text-align: right;\">\n",
       "      <th></th>\n",
       "      <th>DTXSID</th>\n",
       "      <th>Genetox_Alert</th>\n",
       "    </tr>\n",
       "  </thead>\n",
       "  <tbody>\n",
       "    <tr>\n",
       "      <th>0</th>\n",
       "      <td>DTXSID6020561</td>\n",
       "      <td>[Aliphatic-halide-(SN2), Epoxides-(SN2), Epoxi...</td>\n",
       "    </tr>\n",
       "    <tr>\n",
       "      <th>1</th>\n",
       "      <td>DTXSID9020453</td>\n",
       "      <td>[Aliphatic-halide-(SN2), Epoxides-(SN2), Epoxi...</td>\n",
       "    </tr>\n",
       "    <tr>\n",
       "      <th>2</th>\n",
       "      <td>DTXSID3034456</td>\n",
       "      <td>[Arenes-(MA)]</td>\n",
       "    </tr>\n",
       "    <tr>\n",
       "      <th>3</th>\n",
       "      <td>DTXSID2024242</td>\n",
       "      <td>[Aromatic halide]</td>\n",
       "    </tr>\n",
       "    <tr>\n",
       "      <th>4</th>\n",
       "      <td>DTXSID4032376</td>\n",
       "      <td>[Aliphatic-halide-(SN2), a,b-Unsaturated-carbo...</td>\n",
       "    </tr>\n",
       "  </tbody>\n",
       "</table>\n",
       "</div>"
      ],
      "text/plain": [
       "          DTXSID                                      Genetox_Alert\n",
       "0  DTXSID6020561  [Aliphatic-halide-(SN2), Epoxides-(SN2), Epoxi...\n",
       "1  DTXSID9020453  [Aliphatic-halide-(SN2), Epoxides-(SN2), Epoxi...\n",
       "2  DTXSID3034456                                      [Arenes-(MA)]\n",
       "3  DTXSID2024242                                  [Aromatic halide]\n",
       "4  DTXSID4032376  [Aliphatic-halide-(SN2), a,b-Unsaturated-carbo..."
      ]
     },
     "execution_count": 140,
     "metadata": {},
     "output_type": "execute_result"
    }
   ],
   "source": [
    "genetox_df.head()"
   ]
  },
  {
   "cell_type": "code",
   "execution_count": 141,
   "metadata": {},
   "outputs": [],
   "source": [
    "genetox_alerts = []\n",
    "for x in genetox_df['Genetox_Alert']:\n",
    "    if x !=[]:\n",
    "        genetox_alerts.append(1)\n",
    "    else:\n",
    "        genetox_alerts.append(0)\n",
    "genetox_df['Genetox_Alert'] = genetox_alerts"
   ]
  },
  {
   "cell_type": "code",
   "execution_count": 142,
   "metadata": {},
   "outputs": [
    {
     "data": {
      "text/html": [
       "<div>\n",
       "<style scoped>\n",
       "    .dataframe tbody tr th:only-of-type {\n",
       "        vertical-align: middle;\n",
       "    }\n",
       "\n",
       "    .dataframe tbody tr th {\n",
       "        vertical-align: top;\n",
       "    }\n",
       "\n",
       "    .dataframe thead th {\n",
       "        text-align: right;\n",
       "    }\n",
       "</style>\n",
       "<table border=\"1\" class=\"dataframe\">\n",
       "  <thead>\n",
       "    <tr style=\"text-align: right;\">\n",
       "      <th></th>\n",
       "      <th>DTXSID</th>\n",
       "      <th>Genetox_Alert</th>\n",
       "    </tr>\n",
       "  </thead>\n",
       "  <tbody>\n",
       "    <tr>\n",
       "      <th>0</th>\n",
       "      <td>DTXSID6020561</td>\n",
       "      <td>1</td>\n",
       "    </tr>\n",
       "    <tr>\n",
       "      <th>1</th>\n",
       "      <td>DTXSID9020453</td>\n",
       "      <td>1</td>\n",
       "    </tr>\n",
       "    <tr>\n",
       "      <th>2</th>\n",
       "      <td>DTXSID3034456</td>\n",
       "      <td>1</td>\n",
       "    </tr>\n",
       "    <tr>\n",
       "      <th>3</th>\n",
       "      <td>DTXSID2024242</td>\n",
       "      <td>1</td>\n",
       "    </tr>\n",
       "    <tr>\n",
       "      <th>4</th>\n",
       "      <td>DTXSID4032376</td>\n",
       "      <td>1</td>\n",
       "    </tr>\n",
       "  </tbody>\n",
       "</table>\n",
       "</div>"
      ],
      "text/plain": [
       "          DTXSID  Genetox_Alert\n",
       "0  DTXSID6020561              1\n",
       "1  DTXSID9020453              1\n",
       "2  DTXSID3034456              1\n",
       "3  DTXSID2024242              1\n",
       "4  DTXSID4032376              1"
      ]
     },
     "execution_count": 142,
     "metadata": {},
     "output_type": "execute_result"
    }
   ],
   "source": [
    "genetox_df.head()"
   ]
  },
  {
   "cell_type": "code",
   "execution_count": 156,
   "metadata": {},
   "outputs": [
    {
     "data": {
      "text/plain": [
       "1    26600\n",
       "0    18437\n",
       "Name: Genetox_Alert, dtype: int64"
      ]
     },
     "execution_count": 156,
     "metadata": {},
     "output_type": "execute_result"
    }
   ],
   "source": [
    "genetox_df.Genetox_Alert.value_counts()"
   ]
  },
  {
   "cell_type": "code",
   "execution_count": 143,
   "metadata": {},
   "outputs": [],
   "source": [
    "lri_coc_genetox = pd.merge(lri_coc, genetox_df, on = 'DTXSID', how = 'left')"
   ]
  },
  {
   "cell_type": "code",
   "execution_count": 144,
   "metadata": {},
   "outputs": [
    {
     "data": {
      "text/html": [
       "<div>\n",
       "<style scoped>\n",
       "    .dataframe tbody tr th:only-of-type {\n",
       "        vertical-align: middle;\n",
       "    }\n",
       "\n",
       "    .dataframe tbody tr th {\n",
       "        vertical-align: top;\n",
       "    }\n",
       "\n",
       "    .dataframe thead th {\n",
       "        text-align: right;\n",
       "    }\n",
       "</style>\n",
       "<table border=\"1\" class=\"dataframe\">\n",
       "  <thead>\n",
       "    <tr style=\"text-align: right;\">\n",
       "      <th></th>\n",
       "      <th>casrn</th>\n",
       "      <th>DTXSID</th>\n",
       "      <th>name</th>\n",
       "      <th>smiles</th>\n",
       "      <th>daily_intake</th>\n",
       "      <th>iris_noael</th>\n",
       "      <th>tox_cast_oed_5th</th>\n",
       "      <th>tox_cast_oed_median</th>\n",
       "      <th>tox_tree_ttc</th>\n",
       "      <th>ttc_class</th>\n",
       "      <th>...</th>\n",
       "      <th>mark_ttc_class</th>\n",
       "      <th>reason_for_NA</th>\n",
       "      <th>old_ttc_class</th>\n",
       "      <th>metal_salts</th>\n",
       "      <th>inorgs</th>\n",
       "      <th>inorgP</th>\n",
       "      <th>inorg_filter</th>\n",
       "      <th>COC</th>\n",
       "      <th>COC_Alerts</th>\n",
       "      <th>Genetox_Alert</th>\n",
       "    </tr>\n",
       "  </thead>\n",
       "  <tbody>\n",
       "    <tr>\n",
       "      <th>0</th>\n",
       "      <td>72-20-8</td>\n",
       "      <td>DTXSID6020561</td>\n",
       "      <td>Endrin</td>\n",
       "      <td>ClC1=C(Cl)C2(Cl)C3C4CC(C5OC45)C3C1(Cl)C2(Cl)Cl</td>\n",
       "      <td>99</td>\n",
       "      <td>NaN</td>\n",
       "      <td>0.000291</td>\n",
       "      <td>0.002280</td>\n",
       "      <td>0.000003</td>\n",
       "      <td>Genotoxicity Alert</td>\n",
       "      <td>...</td>\n",
       "      <td>Genotoxicity Alert</td>\n",
       "      <td>NaN</td>\n",
       "      <td>Genotoxicity Alert</td>\n",
       "      <td>False</td>\n",
       "      <td>False</td>\n",
       "      <td>False</td>\n",
       "      <td>TTC_NA</td>\n",
       "      <td>[strained_heteronuclear_rings]</td>\n",
       "      <td>1.0</td>\n",
       "      <td>1.0</td>\n",
       "    </tr>\n",
       "    <tr>\n",
       "      <th>1</th>\n",
       "      <td>60-57-1</td>\n",
       "      <td>DTXSID9020453</td>\n",
       "      <td>Dieldrin</td>\n",
       "      <td>ClC1=C(Cl)C2(Cl)C3C4CC(C5OC45)C3C1(Cl)C2(Cl)Cl</td>\n",
       "      <td>99</td>\n",
       "      <td>NaN</td>\n",
       "      <td>0.000553</td>\n",
       "      <td>0.009572</td>\n",
       "      <td>0.000003</td>\n",
       "      <td>Genotoxicity Alert</td>\n",
       "      <td>...</td>\n",
       "      <td>Genotoxicity Alert</td>\n",
       "      <td>NaN</td>\n",
       "      <td>Genotoxicity Alert</td>\n",
       "      <td>False</td>\n",
       "      <td>False</td>\n",
       "      <td>False</td>\n",
       "      <td>TTC_NA</td>\n",
       "      <td>[strained_heteronuclear_rings]</td>\n",
       "      <td>1.0</td>\n",
       "      <td>1.0</td>\n",
       "    </tr>\n",
       "    <tr>\n",
       "      <th>2</th>\n",
       "      <td>87818-31-3</td>\n",
       "      <td>DTXSID3034456</td>\n",
       "      <td>Cinmethylin</td>\n",
       "      <td>CC(C)C12CCC(C)(O1)C(C2)OCC1=C(C)C=CC=C1</td>\n",
       "      <td>99</td>\n",
       "      <td>NaN</td>\n",
       "      <td>0.050130</td>\n",
       "      <td>0.445990</td>\n",
       "      <td>0.001500</td>\n",
       "      <td>Cramer Class III</td>\n",
       "      <td>...</td>\n",
       "      <td>Class III</td>\n",
       "      <td>NaN</td>\n",
       "      <td>Class III</td>\n",
       "      <td>False</td>\n",
       "      <td>False</td>\n",
       "      <td>False</td>\n",
       "      <td>TTC_NA</td>\n",
       "      <td>[]</td>\n",
       "      <td>0.0</td>\n",
       "      <td>1.0</td>\n",
       "    </tr>\n",
       "    <tr>\n",
       "      <th>3</th>\n",
       "      <td>76738-62-0</td>\n",
       "      <td>DTXSID2024242</td>\n",
       "      <td>Paclobutrazol</td>\n",
       "      <td>CC(C)(C)C(O)C(CC1=CC=C(Cl)C=C1)N1C=NC=N1</td>\n",
       "      <td>99</td>\n",
       "      <td>NaN</td>\n",
       "      <td>0.239110</td>\n",
       "      <td>2.872300</td>\n",
       "      <td>0.001500</td>\n",
       "      <td>Cramer Class III</td>\n",
       "      <td>...</td>\n",
       "      <td>Class III</td>\n",
       "      <td>NaN</td>\n",
       "      <td>Class III</td>\n",
       "      <td>False</td>\n",
       "      <td>False</td>\n",
       "      <td>False</td>\n",
       "      <td>TTC_NA</td>\n",
       "      <td>[]</td>\n",
       "      <td>0.0</td>\n",
       "      <td>1.0</td>\n",
       "    </tr>\n",
       "    <tr>\n",
       "      <th>4</th>\n",
       "      <td>87674-68-8</td>\n",
       "      <td>DTXSID4032376</td>\n",
       "      <td>Dimethenamid</td>\n",
       "      <td>COCC(C)N(C(=O)CCl)C1=C(C)SC=C1C</td>\n",
       "      <td>99</td>\n",
       "      <td>NaN</td>\n",
       "      <td>1.564200</td>\n",
       "      <td>15.084000</td>\n",
       "      <td>0.000003</td>\n",
       "      <td>Genotoxicity Alert</td>\n",
       "      <td>...</td>\n",
       "      <td>Genotoxicity Alert</td>\n",
       "      <td>NaN</td>\n",
       "      <td>Genotoxicity Alert</td>\n",
       "      <td>False</td>\n",
       "      <td>False</td>\n",
       "      <td>False</td>\n",
       "      <td>TTC_NA</td>\n",
       "      <td>[]</td>\n",
       "      <td>0.0</td>\n",
       "      <td>1.0</td>\n",
       "    </tr>\n",
       "  </tbody>\n",
       "</table>\n",
       "<p>5 rows × 23 columns</p>\n",
       "</div>"
      ],
      "text/plain": [
       "        casrn         DTXSID           name  \\\n",
       "0     72-20-8  DTXSID6020561         Endrin   \n",
       "1     60-57-1  DTXSID9020453       Dieldrin   \n",
       "2  87818-31-3  DTXSID3034456    Cinmethylin   \n",
       "3  76738-62-0  DTXSID2024242  Paclobutrazol   \n",
       "4  87674-68-8  DTXSID4032376   Dimethenamid   \n",
       "\n",
       "                                           smiles  daily_intake  iris_noael  \\\n",
       "0  ClC1=C(Cl)C2(Cl)C3C4CC(C5OC45)C3C1(Cl)C2(Cl)Cl            99         NaN   \n",
       "1  ClC1=C(Cl)C2(Cl)C3C4CC(C5OC45)C3C1(Cl)C2(Cl)Cl            99         NaN   \n",
       "2         CC(C)C12CCC(C)(O1)C(C2)OCC1=C(C)C=CC=C1            99         NaN   \n",
       "3        CC(C)(C)C(O)C(CC1=CC=C(Cl)C=C1)N1C=NC=N1            99         NaN   \n",
       "4                 COCC(C)N(C(=O)CCl)C1=C(C)SC=C1C            99         NaN   \n",
       "\n",
       "   tox_cast_oed_5th  tox_cast_oed_median  tox_tree_ttc           ttc_class  \\\n",
       "0          0.000291             0.002280      0.000003  Genotoxicity Alert   \n",
       "1          0.000553             0.009572      0.000003  Genotoxicity Alert   \n",
       "2          0.050130             0.445990      0.001500    Cramer Class III   \n",
       "3          0.239110             2.872300      0.001500    Cramer Class III   \n",
       "4          1.564200            15.084000      0.000003  Genotoxicity Alert   \n",
       "\n",
       "   ...      mark_ttc_class reason_for_NA       old_ttc_class metal_salts  \\\n",
       "0  ...  Genotoxicity Alert           NaN  Genotoxicity Alert       False   \n",
       "1  ...  Genotoxicity Alert           NaN  Genotoxicity Alert       False   \n",
       "2  ...           Class III           NaN           Class III       False   \n",
       "3  ...           Class III           NaN           Class III       False   \n",
       "4  ...  Genotoxicity Alert           NaN  Genotoxicity Alert       False   \n",
       "\n",
       "  inorgs inorgP  inorg_filter                             COC  COC_Alerts  \\\n",
       "0  False  False        TTC_NA  [strained_heteronuclear_rings]         1.0   \n",
       "1  False  False        TTC_NA  [strained_heteronuclear_rings]         1.0   \n",
       "2  False  False        TTC_NA                              []         0.0   \n",
       "3  False  False        TTC_NA                              []         0.0   \n",
       "4  False  False        TTC_NA                              []         0.0   \n",
       "\n",
       "  Genetox_Alert  \n",
       "0           1.0  \n",
       "1           1.0  \n",
       "2           1.0  \n",
       "3           1.0  \n",
       "4           1.0  \n",
       "\n",
       "[5 rows x 23 columns]"
      ]
     },
     "execution_count": 144,
     "metadata": {},
     "output_type": "execute_result"
    }
   ],
   "source": [
    "lri_coc_genetox.head()"
   ]
  },
  {
   "cell_type": "code",
   "execution_count": 145,
   "metadata": {},
   "outputs": [],
   "source": [
    "temp = lri_coc_genetox.copy()"
   ]
  },
  {
   "cell_type": "markdown",
   "metadata": {},
   "source": [
    "Creat a copy of the df from which to process the final bins of substances into their respective categories"
   ]
  },
  {
   "cell_type": "code",
   "execution_count": 146,
   "metadata": {},
   "outputs": [
    {
     "data": {
      "text/plain": [
       "0.0    39917\n",
       "1.0     5120\n",
       "NaN        1\n",
       "Name: COC_Alerts, dtype: int64"
      ]
     },
     "execution_count": 146,
     "metadata": {},
     "output_type": "execute_result"
    }
   ],
   "source": [
    "temp.COC_Alerts.value_counts(dropna = False)"
   ]
  },
  {
   "cell_type": "code",
   "execution_count": 147,
   "metadata": {},
   "outputs": [],
   "source": [
    "temp3 = temp.replace(np.nan, 'None')"
   ]
  },
  {
   "cell_type": "code",
   "execution_count": 148,
   "metadata": {},
   "outputs": [
    {
     "data": {
      "text/plain": [
       "0.0     39917\n",
       "1.0      5120\n",
       "None        1\n",
       "Name: COC_Alerts, dtype: int64"
      ]
     },
     "execution_count": 148,
     "metadata": {},
     "output_type": "execute_result"
    }
   ],
   "source": [
    "temp3.COC_Alerts.value_counts(dropna = False)"
   ]
  },
  {
   "cell_type": "code",
   "execution_count": 149,
   "metadata": {},
   "outputs": [
    {
     "data": {
      "text/html": [
       "<div>\n",
       "<style scoped>\n",
       "    .dataframe tbody tr th:only-of-type {\n",
       "        vertical-align: middle;\n",
       "    }\n",
       "\n",
       "    .dataframe tbody tr th {\n",
       "        vertical-align: top;\n",
       "    }\n",
       "\n",
       "    .dataframe thead th {\n",
       "        text-align: right;\n",
       "    }\n",
       "</style>\n",
       "<table border=\"1\" class=\"dataframe\">\n",
       "  <thead>\n",
       "    <tr style=\"text-align: right;\">\n",
       "      <th></th>\n",
       "      <th>casrn</th>\n",
       "      <th>DTXSID</th>\n",
       "      <th>name</th>\n",
       "      <th>smiles</th>\n",
       "      <th>daily_intake</th>\n",
       "      <th>iris_noael</th>\n",
       "      <th>tox_cast_oed_5th</th>\n",
       "      <th>tox_cast_oed_median</th>\n",
       "      <th>tox_tree_ttc</th>\n",
       "      <th>ttc_class</th>\n",
       "      <th>...</th>\n",
       "      <th>mark_ttc_class</th>\n",
       "      <th>reason_for_NA</th>\n",
       "      <th>old_ttc_class</th>\n",
       "      <th>metal_salts</th>\n",
       "      <th>inorgs</th>\n",
       "      <th>inorgP</th>\n",
       "      <th>inorg_filter</th>\n",
       "      <th>COC</th>\n",
       "      <th>COC_Alerts</th>\n",
       "      <th>Genetox_Alert</th>\n",
       "    </tr>\n",
       "  </thead>\n",
       "  <tbody>\n",
       "    <tr>\n",
       "      <th>0</th>\n",
       "      <td>72-20-8</td>\n",
       "      <td>DTXSID6020561</td>\n",
       "      <td>Endrin</td>\n",
       "      <td>ClC1=C(Cl)C2(Cl)C3C4CC(C5OC45)C3C1(Cl)C2(Cl)Cl</td>\n",
       "      <td>99</td>\n",
       "      <td>None</td>\n",
       "      <td>0.000291</td>\n",
       "      <td>0.00228</td>\n",
       "      <td>0.000003</td>\n",
       "      <td>Genotoxicity Alert</td>\n",
       "      <td>...</td>\n",
       "      <td>Genotoxicity Alert</td>\n",
       "      <td>None</td>\n",
       "      <td>Genotoxicity Alert</td>\n",
       "      <td>False</td>\n",
       "      <td>False</td>\n",
       "      <td>False</td>\n",
       "      <td>TTC_NA</td>\n",
       "      <td>[strained_heteronuclear_rings]</td>\n",
       "      <td>1.0</td>\n",
       "      <td>1.0</td>\n",
       "    </tr>\n",
       "    <tr>\n",
       "      <th>1</th>\n",
       "      <td>60-57-1</td>\n",
       "      <td>DTXSID9020453</td>\n",
       "      <td>Dieldrin</td>\n",
       "      <td>ClC1=C(Cl)C2(Cl)C3C4CC(C5OC45)C3C1(Cl)C2(Cl)Cl</td>\n",
       "      <td>99</td>\n",
       "      <td>None</td>\n",
       "      <td>0.000553</td>\n",
       "      <td>0.009572</td>\n",
       "      <td>0.000003</td>\n",
       "      <td>Genotoxicity Alert</td>\n",
       "      <td>...</td>\n",
       "      <td>Genotoxicity Alert</td>\n",
       "      <td>None</td>\n",
       "      <td>Genotoxicity Alert</td>\n",
       "      <td>False</td>\n",
       "      <td>False</td>\n",
       "      <td>False</td>\n",
       "      <td>TTC_NA</td>\n",
       "      <td>[strained_heteronuclear_rings]</td>\n",
       "      <td>1.0</td>\n",
       "      <td>1.0</td>\n",
       "    </tr>\n",
       "    <tr>\n",
       "      <th>2</th>\n",
       "      <td>87818-31-3</td>\n",
       "      <td>DTXSID3034456</td>\n",
       "      <td>Cinmethylin</td>\n",
       "      <td>CC(C)C12CCC(C)(O1)C(C2)OCC1=C(C)C=CC=C1</td>\n",
       "      <td>99</td>\n",
       "      <td>None</td>\n",
       "      <td>0.05013</td>\n",
       "      <td>0.44599</td>\n",
       "      <td>0.001500</td>\n",
       "      <td>Cramer Class III</td>\n",
       "      <td>...</td>\n",
       "      <td>Class III</td>\n",
       "      <td>None</td>\n",
       "      <td>Class III</td>\n",
       "      <td>False</td>\n",
       "      <td>False</td>\n",
       "      <td>False</td>\n",
       "      <td>TTC_NA</td>\n",
       "      <td>[]</td>\n",
       "      <td>0.0</td>\n",
       "      <td>1.0</td>\n",
       "    </tr>\n",
       "    <tr>\n",
       "      <th>3</th>\n",
       "      <td>76738-62-0</td>\n",
       "      <td>DTXSID2024242</td>\n",
       "      <td>Paclobutrazol</td>\n",
       "      <td>CC(C)(C)C(O)C(CC1=CC=C(Cl)C=C1)N1C=NC=N1</td>\n",
       "      <td>99</td>\n",
       "      <td>None</td>\n",
       "      <td>0.23911</td>\n",
       "      <td>2.8723</td>\n",
       "      <td>0.001500</td>\n",
       "      <td>Cramer Class III</td>\n",
       "      <td>...</td>\n",
       "      <td>Class III</td>\n",
       "      <td>None</td>\n",
       "      <td>Class III</td>\n",
       "      <td>False</td>\n",
       "      <td>False</td>\n",
       "      <td>False</td>\n",
       "      <td>TTC_NA</td>\n",
       "      <td>[]</td>\n",
       "      <td>0.0</td>\n",
       "      <td>1.0</td>\n",
       "    </tr>\n",
       "    <tr>\n",
       "      <th>4</th>\n",
       "      <td>87674-68-8</td>\n",
       "      <td>DTXSID4032376</td>\n",
       "      <td>Dimethenamid</td>\n",
       "      <td>COCC(C)N(C(=O)CCl)C1=C(C)SC=C1C</td>\n",
       "      <td>99</td>\n",
       "      <td>None</td>\n",
       "      <td>1.5642</td>\n",
       "      <td>15.084</td>\n",
       "      <td>0.000003</td>\n",
       "      <td>Genotoxicity Alert</td>\n",
       "      <td>...</td>\n",
       "      <td>Genotoxicity Alert</td>\n",
       "      <td>None</td>\n",
       "      <td>Genotoxicity Alert</td>\n",
       "      <td>False</td>\n",
       "      <td>False</td>\n",
       "      <td>False</td>\n",
       "      <td>TTC_NA</td>\n",
       "      <td>[]</td>\n",
       "      <td>0.0</td>\n",
       "      <td>1.0</td>\n",
       "    </tr>\n",
       "  </tbody>\n",
       "</table>\n",
       "<p>5 rows × 23 columns</p>\n",
       "</div>"
      ],
      "text/plain": [
       "        casrn         DTXSID           name  \\\n",
       "0     72-20-8  DTXSID6020561         Endrin   \n",
       "1     60-57-1  DTXSID9020453       Dieldrin   \n",
       "2  87818-31-3  DTXSID3034456    Cinmethylin   \n",
       "3  76738-62-0  DTXSID2024242  Paclobutrazol   \n",
       "4  87674-68-8  DTXSID4032376   Dimethenamid   \n",
       "\n",
       "                                           smiles  daily_intake iris_noael  \\\n",
       "0  ClC1=C(Cl)C2(Cl)C3C4CC(C5OC45)C3C1(Cl)C2(Cl)Cl            99       None   \n",
       "1  ClC1=C(Cl)C2(Cl)C3C4CC(C5OC45)C3C1(Cl)C2(Cl)Cl            99       None   \n",
       "2         CC(C)C12CCC(C)(O1)C(C2)OCC1=C(C)C=CC=C1            99       None   \n",
       "3        CC(C)(C)C(O)C(CC1=CC=C(Cl)C=C1)N1C=NC=N1            99       None   \n",
       "4                 COCC(C)N(C(=O)CCl)C1=C(C)SC=C1C            99       None   \n",
       "\n",
       "  tox_cast_oed_5th tox_cast_oed_median  tox_tree_ttc           ttc_class  ...  \\\n",
       "0         0.000291             0.00228      0.000003  Genotoxicity Alert  ...   \n",
       "1         0.000553            0.009572      0.000003  Genotoxicity Alert  ...   \n",
       "2          0.05013             0.44599      0.001500    Cramer Class III  ...   \n",
       "3          0.23911              2.8723      0.001500    Cramer Class III  ...   \n",
       "4           1.5642              15.084      0.000003  Genotoxicity Alert  ...   \n",
       "\n",
       "       mark_ttc_class reason_for_NA       old_ttc_class metal_salts inorgs  \\\n",
       "0  Genotoxicity Alert          None  Genotoxicity Alert       False  False   \n",
       "1  Genotoxicity Alert          None  Genotoxicity Alert       False  False   \n",
       "2           Class III          None           Class III       False  False   \n",
       "3           Class III          None           Class III       False  False   \n",
       "4  Genotoxicity Alert          None  Genotoxicity Alert       False  False   \n",
       "\n",
       "  inorgP  inorg_filter                             COC  COC_Alerts  \\\n",
       "0  False        TTC_NA  [strained_heteronuclear_rings]         1.0   \n",
       "1  False        TTC_NA  [strained_heteronuclear_rings]         1.0   \n",
       "2  False        TTC_NA                              []         0.0   \n",
       "3  False        TTC_NA                              []         0.0   \n",
       "4  False        TTC_NA                              []         0.0   \n",
       "\n",
       "  Genetox_Alert  \n",
       "0           1.0  \n",
       "1           1.0  \n",
       "2           1.0  \n",
       "3           1.0  \n",
       "4           1.0  \n",
       "\n",
       "[5 rows x 23 columns]"
      ]
     },
     "execution_count": 149,
     "metadata": {},
     "output_type": "execute_result"
    }
   ],
   "source": [
    "temp3.head()"
   ]
  },
  {
   "cell_type": "code",
   "execution_count": 150,
   "metadata": {},
   "outputs": [],
   "source": [
    "final_outcome = []\n",
    "for a,b,c in list(zip(temp3['inorg_filter'], temp3['COC_Alerts'], temp3['Genetox_Alert'] )):\n",
    "    if a == 'inorganic':\n",
    "        final_outcome.append('inorganic')\n",
    "    elif (a != 'inorganic') & (b == 1):\n",
    "        final_outcome.append('COC')\n",
    "    elif (a != 'inorganic') & (b == 'None') | (b == 0) & (c == 1):\n",
    "        final_outcome.append('Genotoxicity Alert')\n",
    "    elif (a != 'inorganic') & (b == 'None') | (b == 0) & (c == 0):\n",
    "        final_outcome.append('Cramer_class_applicable')\n",
    "temp3['final_TTC_category'] = final_outcome    "
   ]
  },
  {
   "cell_type": "code",
   "execution_count": 151,
   "metadata": {},
   "outputs": [
    {
     "data": {
      "image/png": "[encoded data removed]",
      "text/plain": [
       "<Figure size 432x288 with 1 Axes>"
      ]
     },
     "metadata": {
      "needs_background": "light"
     },
     "output_type": "display_data"
    }
   ],
   "source": [
    "\n",
    "temp3.final_TTC_category.value_counts(dropna = True).plot.bar()\n",
    "\n",
    "plt.tight_layout()\n",
    "plt.savefig(figures_dir+ 'new_TTC_category_counts_201021.png')\n"
   ]
  },
  {
   "cell_type": "markdown",
   "metadata": {},
   "source": [
    "#### Table 5: Re-profiled substances from the LRI dataset"
   ]
  },
  {
   "cell_type": "code",
   "execution_count": 152,
   "metadata": {},
   "outputs": [
    {
     "data": {
      "text/plain": [
       "Genotoxicity Alert         22093\n",
       "Cramer_class_applicable    16940\n",
       "COC                         4993\n",
       "inorganic                   1012\n",
       "Name: final_TTC_category, dtype: int64"
      ]
     },
     "execution_count": 152,
     "metadata": {},
     "output_type": "execute_result"
    }
   ],
   "source": [
    "temp3.final_TTC_category.value_counts(dropna = True)"
   ]
  },
  {
   "cell_type": "code",
   "execution_count": 157,
   "metadata": {},
   "outputs": [],
   "source": [
    "writer = pd.ExcelWriter(interim_dir+ 'LRI_201021.xlsx', engine='xlsxwriter')\n",
    "\n",
    "# Convert the dataframe to an XlsxWriter Excel object.\n",
    "\n",
    "temp3.to_excel(writer, sheet_name = 'final')\n",
    "\n",
    "\n",
    "\n",
    "writer.save()"
   ]
  },
  {
   "cell_type": "code",
   "execution_count": null,
   "metadata": {},
   "outputs": [],
   "source": []
  },
  {
   "cell_type": "code",
   "execution_count": null,
   "metadata": {},
   "outputs": [],
   "source": []
  },
  {
   "cell_type": "code",
   "execution_count": null,
   "metadata": {},
   "outputs": [],
   "source": []
  },
  {
   "cell_type": "code",
   "execution_count": null,
   "metadata": {},
   "outputs": [],
   "source": []
  }
 ],
 "metadata": {
  "kernelspec": {
   "display_name": "pfas_dap",
   "language": "python",
   "name": "pfas_dap"
  },
  "language_info": {
   "codemirror_mode": {
    "name": "ipython",
    "version": 3
   },
   "file_extension": ".py",
   "mimetype": "text/x-python",
   "name": "python",
   "nbconvert_exporter": "python",
   "pygments_lexer": "ipython3",
   "version": "3.8.6"
  }
 },
 "nbformat": 4,
 "nbformat_minor": 4
}
