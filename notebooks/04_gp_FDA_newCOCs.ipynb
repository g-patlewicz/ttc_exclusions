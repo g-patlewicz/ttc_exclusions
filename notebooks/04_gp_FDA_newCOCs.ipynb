{
 "cells": [
  {
   "cell_type": "code",
   "execution_count": 1,
   "metadata": {},
   "outputs": [],
   "source": [
    "import pandas as pd\n",
    "import numpy as np\n",
    "from rdkit import Chem\n",
    "from rdkit.Chem import AllChem\n",
    "from rdkit.Chem import Draw\n",
    "from rdkit.Chem.Draw import IPythonConsole"
   ]
  },
  {
   "cell_type": "code",
   "execution_count": 2,
   "metadata": {},
   "outputs": [],
   "source": [
    "import matplotlib.pyplot as plt\n",
    "import seaborn as sns\n",
    "%matplotlib inline"
   ]
  },
  {
   "cell_type": "markdown",
   "metadata": {},
   "source": [
    "Changing direction to access input files"
   ]
  },
  {
   "cell_type": "code",
   "execution_count": 1,
   "metadata": {},
   "outputs": [
    {
     "data": {
      "text/plain": [
       "'/home/grace/Documents/python/ttc_exclusions/notebooks'"
      ]
     },
     "execution_count": 1,
     "metadata": {},
     "output_type": "execute_result"
    }
   ],
   "source": [
    "pwd"
   ]
  },
  {
   "cell_type": "code",
   "execution_count": 2,
   "metadata": {},
   "outputs": [],
   "source": [
    "raw_dir = '/home/grace/Documents/python/ttc_exclusions/data/raw/'\n",
    "processed_dir = '/home/grace/Documents/python/ttc_exclusions/data/processed/'\n",
    "figures_dir = '/home/grace/Documents/python/ttc_exclusions/reports/figures/'"
   ]
  },
  {
   "cell_type": "markdown",
   "metadata": {},
   "source": [
    "Accessing the LRI dataset of 45000 substances"
   ]
  },
  {
   "cell_type": "code",
   "execution_count": 5,
   "metadata": {},
   "outputs": [],
   "source": [
    "lri = pd.read_csv(raw_dir+'LRI_TTC_updated_180719.csv')"
   ]
  },
  {
   "cell_type": "code",
   "execution_count": 7,
   "metadata": {},
   "outputs": [
    {
     "data": {
      "text/html": [
       "<div>\n",
       "<style scoped>\n",
       "    .dataframe tbody tr th:only-of-type {\n",
       "        vertical-align: middle;\n",
       "    }\n",
       "\n",
       "    .dataframe tbody tr th {\n",
       "        vertical-align: top;\n",
       "    }\n",
       "\n",
       "    .dataframe thead th {\n",
       "        text-align: right;\n",
       "    }\n",
       "</style>\n",
       "<table border=\"1\" class=\"dataframe\">\n",
       "  <thead>\n",
       "    <tr style=\"text-align: right;\">\n",
       "      <th></th>\n",
       "      <th>casrn</th>\n",
       "      <th>DTXSID</th>\n",
       "      <th>name</th>\n",
       "      <th>smiles</th>\n",
       "      <th>daily_intake</th>\n",
       "      <th>iris_noael</th>\n",
       "      <th>tox_cast_oed_5th</th>\n",
       "      <th>tox_cast_oed_median</th>\n",
       "      <th>tox_tree_ttc</th>\n",
       "      <th>ttc_class</th>\n",
       "      <th>kroes_decision</th>\n",
       "      <th>small_httk</th>\n",
       "      <th>large_cerapp</th>\n",
       "      <th>mark_ttc_class</th>\n",
       "      <th>reason_for_NA</th>\n",
       "      <th>old_ttc_class</th>\n",
       "    </tr>\n",
       "  </thead>\n",
       "  <tbody>\n",
       "    <tr>\n",
       "      <th>0</th>\n",
       "      <td>72-20-8</td>\n",
       "      <td>DTXSID6020561</td>\n",
       "      <td>Endrin</td>\n",
       "      <td>ClC1=C(Cl)C2(Cl)C3C4CC(C5OC45)C3C1(Cl)C2(Cl)Cl</td>\n",
       "      <td>99</td>\n",
       "      <td>NaN</td>\n",
       "      <td>0.000291</td>\n",
       "      <td>0.002280</td>\n",
       "      <td>0.000003</td>\n",
       "      <td>Genotoxicity Alert</td>\n",
       "      <td>Negligible risk (low probability of a life-tim...</td>\n",
       "      <td>YES</td>\n",
       "      <td>NO</td>\n",
       "      <td>Genotoxicity Alert</td>\n",
       "      <td>NaN</td>\n",
       "      <td>Genotoxicity Alert</td>\n",
       "    </tr>\n",
       "    <tr>\n",
       "      <th>1</th>\n",
       "      <td>60-57-1</td>\n",
       "      <td>DTXSID9020453</td>\n",
       "      <td>Dieldrin</td>\n",
       "      <td>ClC1=C(Cl)C2(Cl)C3C4CC(C5OC45)C3C1(Cl)C2(Cl)Cl</td>\n",
       "      <td>99</td>\n",
       "      <td>NaN</td>\n",
       "      <td>0.000553</td>\n",
       "      <td>0.009572</td>\n",
       "      <td>0.000003</td>\n",
       "      <td>Genotoxicity Alert</td>\n",
       "      <td>Negligible risk (low probability of a life-tim...</td>\n",
       "      <td>YES</td>\n",
       "      <td>NO</td>\n",
       "      <td>Genotoxicity Alert</td>\n",
       "      <td>NaN</td>\n",
       "      <td>Genotoxicity Alert</td>\n",
       "    </tr>\n",
       "    <tr>\n",
       "      <th>2</th>\n",
       "      <td>87818-31-3</td>\n",
       "      <td>DTXSID3034456</td>\n",
       "      <td>Cinmethylin</td>\n",
       "      <td>CC(C)C12CCC(C)(O1)C(C2)OCC1=C(C)C=CC=C1</td>\n",
       "      <td>99</td>\n",
       "      <td>NaN</td>\n",
       "      <td>0.050130</td>\n",
       "      <td>0.445990</td>\n",
       "      <td>0.001500</td>\n",
       "      <td>Cramer Class III</td>\n",
       "      <td>Substance would not be expected to be a safety...</td>\n",
       "      <td>YES</td>\n",
       "      <td>NO</td>\n",
       "      <td>Class III</td>\n",
       "      <td>NaN</td>\n",
       "      <td>Class III</td>\n",
       "    </tr>\n",
       "    <tr>\n",
       "      <th>3</th>\n",
       "      <td>76738-62-0</td>\n",
       "      <td>DTXSID2024242</td>\n",
       "      <td>Paclobutrazol</td>\n",
       "      <td>CC(C)(C)C(O)C(CC1=CC=C(Cl)C=C1)N1C=NC=N1</td>\n",
       "      <td>99</td>\n",
       "      <td>NaN</td>\n",
       "      <td>0.239110</td>\n",
       "      <td>2.872300</td>\n",
       "      <td>0.001500</td>\n",
       "      <td>Cramer Class III</td>\n",
       "      <td>Substance would not be expected to be a safety...</td>\n",
       "      <td>YES</td>\n",
       "      <td>NO</td>\n",
       "      <td>Class III</td>\n",
       "      <td>NaN</td>\n",
       "      <td>Class III</td>\n",
       "    </tr>\n",
       "    <tr>\n",
       "      <th>4</th>\n",
       "      <td>87674-68-8</td>\n",
       "      <td>DTXSID4032376</td>\n",
       "      <td>Dimethenamid</td>\n",
       "      <td>COCC(C)N(C(=O)CCl)C1=C(C)SC=C1C</td>\n",
       "      <td>99</td>\n",
       "      <td>NaN</td>\n",
       "      <td>1.564200</td>\n",
       "      <td>15.084000</td>\n",
       "      <td>0.000003</td>\n",
       "      <td>Genotoxicity Alert</td>\n",
       "      <td>Negligible risk (low probability of a life-tim...</td>\n",
       "      <td>YES</td>\n",
       "      <td>NO</td>\n",
       "      <td>Genotoxicity Alert</td>\n",
       "      <td>NaN</td>\n",
       "      <td>Genotoxicity Alert</td>\n",
       "    </tr>\n",
       "  </tbody>\n",
       "</table>\n",
       "</div>"
      ],
      "text/plain": [
       "        casrn         DTXSID           name  \\\n",
       "0     72-20-8  DTXSID6020561         Endrin   \n",
       "1     60-57-1  DTXSID9020453       Dieldrin   \n",
       "2  87818-31-3  DTXSID3034456    Cinmethylin   \n",
       "3  76738-62-0  DTXSID2024242  Paclobutrazol   \n",
       "4  87674-68-8  DTXSID4032376   Dimethenamid   \n",
       "\n",
       "                                           smiles  daily_intake  iris_noael  \\\n",
       "0  ClC1=C(Cl)C2(Cl)C3C4CC(C5OC45)C3C1(Cl)C2(Cl)Cl            99         NaN   \n",
       "1  ClC1=C(Cl)C2(Cl)C3C4CC(C5OC45)C3C1(Cl)C2(Cl)Cl            99         NaN   \n",
       "2         CC(C)C12CCC(C)(O1)C(C2)OCC1=C(C)C=CC=C1            99         NaN   \n",
       "3        CC(C)(C)C(O)C(CC1=CC=C(Cl)C=C1)N1C=NC=N1            99         NaN   \n",
       "4                 COCC(C)N(C(=O)CCl)C1=C(C)SC=C1C            99         NaN   \n",
       "\n",
       "   tox_cast_oed_5th  tox_cast_oed_median  tox_tree_ttc           ttc_class  \\\n",
       "0          0.000291             0.002280      0.000003  Genotoxicity Alert   \n",
       "1          0.000553             0.009572      0.000003  Genotoxicity Alert   \n",
       "2          0.050130             0.445990      0.001500    Cramer Class III   \n",
       "3          0.239110             2.872300      0.001500    Cramer Class III   \n",
       "4          1.564200            15.084000      0.000003  Genotoxicity Alert   \n",
       "\n",
       "                                      kroes_decision small_httk large_cerapp  \\\n",
       "0  Negligible risk (low probability of a life-tim...        YES           NO   \n",
       "1  Negligible risk (low probability of a life-tim...        YES           NO   \n",
       "2  Substance would not be expected to be a safety...        YES           NO   \n",
       "3  Substance would not be expected to be a safety...        YES           NO   \n",
       "4  Negligible risk (low probability of a life-tim...        YES           NO   \n",
       "\n",
       "       mark_ttc_class reason_for_NA       old_ttc_class  \n",
       "0  Genotoxicity Alert           NaN  Genotoxicity Alert  \n",
       "1  Genotoxicity Alert           NaN  Genotoxicity Alert  \n",
       "2           Class III           NaN           Class III  \n",
       "3           Class III           NaN           Class III  \n",
       "4  Genotoxicity Alert           NaN  Genotoxicity Alert  "
      ]
     },
     "execution_count": 7,
     "metadata": {},
     "output_type": "execute_result"
    }
   ],
   "source": [
    "lri.head()"
   ]
  },
  {
   "cell_type": "markdown",
   "metadata": {},
   "source": [
    "Creating a dict of the IDs and the smiles to prepare a dict of molecules using RDkit"
   ]
  },
  {
   "cell_type": "code",
   "execution_count": 12,
   "metadata": {},
   "outputs": [],
   "source": [
    "lri_dict = { k:v for (k,v) in zip(lri['DTXSID'], lri['smiles'])}"
   ]
  },
  {
   "cell_type": "code",
   "execution_count": 17,
   "metadata": {},
   "outputs": [
    {
     "data": {
      "text/plain": [
       "45038"
      ]
     },
     "execution_count": 17,
     "metadata": {},
     "output_type": "execute_result"
    }
   ],
   "source": [
    "len(lri_dict)"
   ]
  },
  {
   "cell_type": "code",
   "execution_count": 14,
   "metadata": {},
   "outputs": [
    {
     "name": "stderr",
     "output_type": "stream",
     "text": [
      "RDKit ERROR: [18:32:28] Explicit valence for atom # 2 Br, 3, is greater than permitted\n"
     ]
    }
   ],
   "source": [
    "lri_smiles = {k:Chem.MolFromSmiles(v) for k,v in lri_dict.items()}"
   ]
  },
  {
   "cell_type": "code",
   "execution_count": 16,
   "metadata": {},
   "outputs": [
    {
     "data": {
      "text/plain": [
       "45038"
      ]
     },
     "execution_count": 16,
     "metadata": {},
     "output_type": "execute_result"
    }
   ],
   "source": [
    "len(lri_smiles)"
   ]
  },
  {
   "cell_type": "markdown",
   "metadata": {},
   "source": [
    "Accessing the cohort of concern that is specified in FDA's SOP - this includes the usual COC that are outlined in the Kroes workflow plus several others. Compiled a list based on the Enoch et al (2011) DNA alerts and the Benigni Bossa alerts in addition to a handful of additional SMARTs either reflected in the Kroes workflow or added by me for dioxin like substances"
   ]
  },
  {
   "cell_type": "code",
   "execution_count": 8,
   "metadata": {},
   "outputs": [],
   "source": [
    "coc = pd.ExcelFile(raw_dir+'FDA_COC.xlsx')"
   ]
  },
  {
   "cell_type": "code",
   "execution_count": 9,
   "metadata": {},
   "outputs": [
    {
     "data": {
      "text/plain": [
       "['FDA_COC']"
      ]
     },
     "execution_count": 9,
     "metadata": {},
     "output_type": "execute_result"
    }
   ],
   "source": [
    "coc.sheet_names"
   ]
  },
  {
   "cell_type": "code",
   "execution_count": 10,
   "metadata": {},
   "outputs": [],
   "source": [
    "fda_coc = coc.parse('FDA_COC')"
   ]
  },
  {
   "cell_type": "code",
   "execution_count": 11,
   "metadata": {},
   "outputs": [
    {
     "data": {
      "text/html": [
       "<div>\n",
       "<style scoped>\n",
       "    .dataframe tbody tr th:only-of-type {\n",
       "        vertical-align: middle;\n",
       "    }\n",
       "\n",
       "    .dataframe tbody tr th {\n",
       "        vertical-align: top;\n",
       "    }\n",
       "\n",
       "    .dataframe thead th {\n",
       "        text-align: right;\n",
       "    }\n",
       "</style>\n",
       "<table border=\"1\" class=\"dataframe\">\n",
       "  <thead>\n",
       "    <tr style=\"text-align: right;\">\n",
       "      <th></th>\n",
       "      <th>COC</th>\n",
       "      <th>SMARTS</th>\n",
       "      <th>Name</th>\n",
       "      <th>Source</th>\n",
       "      <th>TTC_Cat</th>\n",
       "    </tr>\n",
       "  </thead>\n",
       "  <tbody>\n",
       "    <tr>\n",
       "      <th>0</th>\n",
       "      <td>Triazines</td>\n",
       "      <td>c1nc([F,Cl,Br,I,$(N(=O)=O)])ncn1</td>\n",
       "      <td>Halo- or nitro s-triazines</td>\n",
       "      <td>ochem</td>\n",
       "      <td>New_COC</td>\n",
       "    </tr>\n",
       "    <tr>\n",
       "      <th>1</th>\n",
       "      <td>Triazines</td>\n",
       "      <td>[N]=[N]-[N]</td>\n",
       "      <td>Azide and triazene groups</td>\n",
       "      <td>SA22_gen</td>\n",
       "      <td>New_COC</td>\n",
       "    </tr>\n",
       "    <tr>\n",
       "      <th>2</th>\n",
       "      <td>Triazines</td>\n",
       "      <td>[N]=[N]=[N]</td>\n",
       "      <td>Azide and triazene groups</td>\n",
       "      <td>SA22_gen</td>\n",
       "      <td>New_COC</td>\n",
       "    </tr>\n",
       "    <tr>\n",
       "      <th>3</th>\n",
       "      <td>Triazines</td>\n",
       "      <td>[NH2,$([NH](N=N)[#6]),$(N(N=N)([#6])[#6])]N=N[...</td>\n",
       "      <td>NaN</td>\n",
       "      <td>Triazines-(SN1)</td>\n",
       "      <td>New_COC</td>\n",
       "    </tr>\n",
       "    <tr>\n",
       "      <th>4</th>\n",
       "      <td>Triazines</td>\n",
       "      <td>[$([NX2!R]=[NX2!R][NX3!R]),$([NX2]=[NX2+]=[NX1...</td>\n",
       "      <td>NaN</td>\n",
       "      <td>ochem</td>\n",
       "      <td>New_COC</td>\n",
       "    </tr>\n",
       "  </tbody>\n",
       "</table>\n",
       "</div>"
      ],
      "text/plain": [
       "         COC                                             SMARTS  \\\n",
       "0  Triazines                   c1nc([F,Cl,Br,I,$(N(=O)=O)])ncn1   \n",
       "1  Triazines                                        [N]=[N]-[N]   \n",
       "2  Triazines                                        [N]=[N]=[N]   \n",
       "3  Triazines  [NH2,$([NH](N=N)[#6]),$(N(N=N)([#6])[#6])]N=N[...   \n",
       "4  Triazines  [$([NX2!R]=[NX2!R][NX3!R]),$([NX2]=[NX2+]=[NX1...   \n",
       "\n",
       "                         Name           Source  TTC_Cat  \n",
       "0  Halo- or nitro s-triazines            ochem  New_COC  \n",
       "1   Azide and triazene groups         SA22_gen  New_COC  \n",
       "2   Azide and triazene groups         SA22_gen  New_COC  \n",
       "3                         NaN  Triazines-(SN1)  New_COC  \n",
       "4                         NaN            ochem  New_COC  "
      ]
     },
     "execution_count": 11,
     "metadata": {},
     "output_type": "execute_result"
    }
   ],
   "source": [
    "fda_coc.head()"
   ]
  },
  {
   "cell_type": "code",
   "execution_count": 20,
   "metadata": {},
   "outputs": [],
   "source": [
    "fda_dict = {}\n",
    "for i,group in fda_coc.groupby('COC'):\n",
    "    key = [name for name in group['COC'] if name!=' '][0]\n",
    "    value = set(group['SMARTS'])\n",
    "    fda_dict[key]=value"
   ]
  },
  {
   "cell_type": "code",
   "execution_count": 23,
   "metadata": {},
   "outputs": [
    {
     "data": {
      "text/plain": [
       "17"
      ]
     },
     "execution_count": 23,
     "metadata": {},
     "output_type": "execute_result"
    }
   ],
   "source": [
    "len(fda_dict)"
   ]
  },
  {
   "cell_type": "code",
   "execution_count": 22,
   "metadata": {},
   "outputs": [
    {
     "name": "stderr",
     "output_type": "stream",
     "text": [
      "RDKit ERROR: [18:39:41] \n",
      "RDKit ERROR: \n",
      "RDKit ERROR: ****\n",
      "RDKit ERROR: Range Error\n",
      "RDKit ERROR: tgt\n",
      "RDKit ERROR: Violation occurred on line 155 in file /opt/conda/conda-bld/rdkit_1528088207908/work/Code/GraphMol/QueryOps.cpp\n",
      "RDKit ERROR: Failed Expression: 3 <= 0 <= 20\n",
      "RDKit ERROR: ****\n",
      "RDKit ERROR: \n",
      "RDKit ERROR: [18:39:41] \n",
      "RDKit ERROR: \n",
      "RDKit ERROR: ****\n",
      "RDKit ERROR: Range Error\n",
      "RDKit ERROR: tgt\n",
      "RDKit ERROR: Violation occurred on line 155 in file /opt/conda/conda-bld/rdkit_1528088207908/work/Code/GraphMol/QueryOps.cpp\n",
      "RDKit ERROR: Failed Expression: 3 <= 0 <= 20\n",
      "RDKit ERROR: ****\n",
      "RDKit ERROR: \n",
      "RDKit ERROR: [18:39:41] \n",
      "RDKit ERROR: \n",
      "RDKit ERROR: ****\n",
      "RDKit ERROR: Range Error\n",
      "RDKit ERROR: tgt\n",
      "RDKit ERROR: Violation occurred on line 155 in file /opt/conda/conda-bld/rdkit_1528088207908/work/Code/GraphMol/QueryOps.cpp\n",
      "RDKit ERROR: Failed Expression: 3 <= 0 <= 20\n",
      "RDKit ERROR: ****\n",
      "RDKit ERROR: \n",
      "RDKit ERROR: [18:39:41] \n",
      "RDKit ERROR: \n",
      "RDKit ERROR: ****\n",
      "RDKit ERROR: Range Error\n",
      "RDKit ERROR: tgt\n",
      "RDKit ERROR: Violation occurred on line 155 in file /opt/conda/conda-bld/rdkit_1528088207908/work/Code/GraphMol/QueryOps.cpp\n",
      "RDKit ERROR: Failed Expression: 3 <= 0 <= 20\n",
      "RDKit ERROR: ****\n",
      "RDKit ERROR: \n",
      "RDKit ERROR: [18:39:41] \n",
      "RDKit ERROR: \n",
      "RDKit ERROR: ****\n",
      "RDKit ERROR: Range Error\n",
      "RDKit ERROR: tgt\n",
      "RDKit ERROR: Violation occurred on line 155 in file /opt/conda/conda-bld/rdkit_1528088207908/work/Code/GraphMol/QueryOps.cpp\n",
      "RDKit ERROR: Failed Expression: 3 <= 0 <= 20\n",
      "RDKit ERROR: ****\n",
      "RDKit ERROR: \n",
      "RDKit ERROR: [18:39:41] \n",
      "RDKit ERROR: \n",
      "RDKit ERROR: ****\n",
      "RDKit ERROR: Range Error\n",
      "RDKit ERROR: tgt\n",
      "RDKit ERROR: Violation occurred on line 155 in file /opt/conda/conda-bld/rdkit_1528088207908/work/Code/GraphMol/QueryOps.cpp\n",
      "RDKit ERROR: Failed Expression: 3 <= 0 <= 20\n",
      "RDKit ERROR: ****\n",
      "RDKit ERROR: \n",
      "RDKit ERROR: [18:39:41] SMARTS Parse Error: syntax error for input: 'OP(=[O])([O,S])N[C&!R, #1]'\n",
      "RDKit ERROR: [18:39:41] SMARTS Parse Error: syntax error for input: '[NX3]([CX4&!R,#1, S])([CX4&!R,#1])C(=[O,S])[O,S][#6,N,#1]'\n"
     ]
    }
   ],
   "source": [
    "fda_smarts = {k:[Chem.MolFromSmarts(e) for e in v] for k,v in fda_dict.items()}"
   ]
  },
  {
   "cell_type": "code",
   "execution_count": 68,
   "metadata": {},
   "outputs": [
    {
     "data": {
      "text/plain": [
       "[<rdkit.Chem.rdchem.Mol at 0x7f39f51456c0>,\n",
       " <rdkit.Chem.rdchem.Mol at 0x7f39f5145710>,\n",
       " <rdkit.Chem.rdchem.Mol at 0x7f39f5145760>,\n",
       " <rdkit.Chem.rdchem.Mol at 0x7f39f51457b0>,\n",
       " <rdkit.Chem.rdchem.Mol at 0x7f39f5145800>,\n",
       " <rdkit.Chem.rdchem.Mol at 0x7f39f5145850>,\n",
       " <rdkit.Chem.rdchem.Mol at 0x7f39f51458a0>]"
      ]
     },
     "execution_count": 68,
     "metadata": {},
     "output_type": "execute_result"
    }
   ],
   "source": [
    "#list(filter(None, fda_smarts['OPs']))\n"
   ]
  },
  {
   "cell_type": "markdown",
   "metadata": {},
   "source": [
    "Some errors in translation from SMARTS to RDKit - removed value elements that are None to avoid later problems in processing"
   ]
  },
  {
   "cell_type": "code",
   "execution_count": 75,
   "metadata": {},
   "outputs": [],
   "source": [
    "fda_sms = {k:list(filter(None, fda_smarts[k])) for k,v in fda_smarts.items() }"
   ]
  },
  {
   "cell_type": "markdown",
   "metadata": {},
   "source": [
    "First use one of three new filters to remove metals but not salts that contain one of several essential metals"
   ]
  },
  {
   "cell_type": "markdown",
   "metadata": {},
   "source": [
    "Also tag OPs that are inorganic"
   ]
  },
  {
   "cell_type": "code",
   "execution_count": 76,
   "metadata": {},
   "outputs": [],
   "source": [
    "def has_metal_atom(smiles):\n",
    "    metal_dict = {'Na': 11 , 'Mg': 12, 'Si': 14, 'K':19, 'Ca':20, 'Mn':25, 'Fe':26, 'Cu':29, 'Zn':30, 'Co':27, 'Ni':28, 'As': 33, 'Cr':24, 'Hg':80, 'Pb':82, 'V':23, 'Al':13, 'Ag':47, 'Cd':48, 'B':5, 'Ti': 22, 'Se': 34, 'Sn': 50, 'Sb':51, 'Be': 4, 'Zr': 40, 'Nb': 41, 'Mo': 42, 'Te':52, 'Ba':56, 'W':74, 'Au': 79, 'Bi': 83}\n",
    "    essential_metal_dict = {'Na': 11 , 'K':19,'Mg': 12,  'Ca':20, 'Fe':26,  'Mn':25, 'Co':27, 'Cu':29, 'Zn':30, 'Mo': 42}\n",
    "    mol = Chem.MolFromSmiles(smiles)\n",
    "    if mol  is None:\n",
    "        return False\n",
    "    return any(atom for atom in mol.GetAtoms() if atom.GetAtomicNum() in list(metal_dict.values()))"
   ]
  },
  {
   "cell_type": "code",
   "execution_count": 77,
   "metadata": {},
   "outputs": [],
   "source": [
    "def metal_ions(smiles):\n",
    "    essential_metal = ['[Na+]', '[K+]', '[Mg++]',  '[Ca++]', '[Fe+3]',  '[Mn++]', '[Co+]', '[Cu++]', '[Zn++]', '[Mo++]']\n",
    "    mol = Chem.MolFromSmiles(smiles)\n",
    "    if mol  is None:\n",
    "        return False\n",
    "    return any(mol.HasSubstructMatch(Chem.MolFromSmarts(e)) for e in essential_metal)"
   ]
  },
  {
   "cell_type": "code",
   "execution_count": 78,
   "metadata": {},
   "outputs": [],
   "source": [
    "def P_inorg(smiles):\n",
    "    mol = Chem.MolFromSmiles(smiles)\n",
    "    if mol  is None:\n",
    "        return False\n",
    "    return mol.HasSubstructMatch(Chem.MolFromSmarts('[OH]P(=[O])([OH])[OH]'))"
   ]
  },
  {
   "cell_type": "code",
   "execution_count": 80,
   "metadata": {},
   "outputs": [
    {
     "name": "stderr",
     "output_type": "stream",
     "text": [
      "RDKit ERROR: [18:16:25] Explicit valence for atom # 2 Br, 3, is greater than permitted\n"
     ]
    }
   ],
   "source": [
    "metal_salt = []\n",
    "for x in lri['smiles']:\n",
    "    is_metal_salt = metal_ions(x)\n",
    "    metal_salt.append(is_metal_salt)\n",
    "lri['metal_salts'] = metal_salt"
   ]
  },
  {
   "cell_type": "code",
   "execution_count": 81,
   "metadata": {},
   "outputs": [
    {
     "name": "stderr",
     "output_type": "stream",
     "text": [
      "RDKit ERROR: [18:17:03] Explicit valence for atom # 2 Br, 3, is greater than permitted\n"
     ]
    }
   ],
   "source": [
    "metals = []\n",
    "for x in lri['smiles']:\n",
    "    is_inorg = has_metal_atom(x)\n",
    "    metals.append(is_inorg)\n",
    "lri['inorgs'] = metals"
   ]
  },
  {
   "cell_type": "code",
   "execution_count": 82,
   "metadata": {},
   "outputs": [
    {
     "name": "stderr",
     "output_type": "stream",
     "text": [
      "RDKit ERROR: [18:17:17] Explicit valence for atom # 2 Br, 3, is greater than permitted\n"
     ]
    }
   ],
   "source": [
    "isP_inorg = []\n",
    "for x in lri['smiles']:\n",
    "    is_P = P_inorg(x)\n",
    "    isP_inorg.append(is_P)\n",
    "lri['inorgP'] = isP_inorg"
   ]
  },
  {
   "cell_type": "markdown",
   "metadata": {},
   "source": [
    "Create a decision logic to tag all Lri substances as to whether it is inorganic and should be excluded from consideration of TTC"
   ]
  },
  {
   "cell_type": "code",
   "execution_count": 83,
   "metadata": {},
   "outputs": [],
   "source": [
    "inorg_filter = []\n",
    "for x, y, z in list(zip(lri['metal_salts'], lri['inorgs'], lri['inorgP'])):\n",
    "    if x is True:\n",
    "        inorg_filter.append('metal_salt')\n",
    "    elif x is False and y is True:\n",
    "        inorg_filter.append('inorganic')\n",
    "    elif z is True:\n",
    "        inorg_filter.append('inorganic')\n",
    "    else:\n",
    "        inorg_filter.append('TTC_NA')\n",
    "lri['inorg_filter'] = inorg_filter"
   ]
  },
  {
   "cell_type": "markdown",
   "metadata": {},
   "source": [
    "Next step profile the LRI substances on the basis of the COC Smarts. Needed to filter to remove 1 None value where the Smiles had not beem converted by RDKit"
   ]
  },
  {
   "cell_type": "code",
   "execution_count": 92,
   "metadata": {},
   "outputs": [],
   "source": [
    "lri_smi = {k:v for k,v in lri_smiles.items() if v is not None}"
   ]
  },
  {
   "cell_type": "code",
   "execution_count": 93,
   "metadata": {},
   "outputs": [],
   "source": [
    "FDA_COC = {x:[k for k, v in fda_sms.items() if any([y.HasSubstructMatch(e) for e in v])] for x,y in lri_smi.items()}"
   ]
  },
  {
   "cell_type": "code",
   "execution_count": 96,
   "metadata": {},
   "outputs": [],
   "source": [
    "fda_coc_df = pd.DataFrame(list(FDA_COC.items()), columns = ['DTXSID', 'COC'])"
   ]
  },
  {
   "cell_type": "code",
   "execution_count": 105,
   "metadata": {},
   "outputs": [],
   "source": [
    "alerts = []\n",
    "for x in fda_coc_df['COC']:\n",
    "    if x !=[]:\n",
    "        alerts.append(1)\n",
    "    else:\n",
    "        alerts.append(0)\n",
    "fda_coc_df['COC_Alerts'] = alerts"
   ]
  },
  {
   "cell_type": "code",
   "execution_count": 106,
   "metadata": {},
   "outputs": [
    {
     "data": {
      "text/html": [
       "<div>\n",
       "<style scoped>\n",
       "    .dataframe tbody tr th:only-of-type {\n",
       "        vertical-align: middle;\n",
       "    }\n",
       "\n",
       "    .dataframe tbody tr th {\n",
       "        vertical-align: top;\n",
       "    }\n",
       "\n",
       "    .dataframe thead th {\n",
       "        text-align: right;\n",
       "    }\n",
       "</style>\n",
       "<table border=\"1\" class=\"dataframe\">\n",
       "  <thead>\n",
       "    <tr style=\"text-align: right;\">\n",
       "      <th></th>\n",
       "      <th>DTXSID</th>\n",
       "      <th>COC</th>\n",
       "      <th>COC_Alerts</th>\n",
       "    </tr>\n",
       "  </thead>\n",
       "  <tbody>\n",
       "    <tr>\n",
       "      <th>0</th>\n",
       "      <td>DTXSID6020561</td>\n",
       "      <td>[strained_heteronuclear_rings]</td>\n",
       "      <td>1</td>\n",
       "    </tr>\n",
       "    <tr>\n",
       "      <th>1</th>\n",
       "      <td>DTXSID9020453</td>\n",
       "      <td>[strained_heteronuclear_rings]</td>\n",
       "      <td>1</td>\n",
       "    </tr>\n",
       "    <tr>\n",
       "      <th>2</th>\n",
       "      <td>DTXSID3034456</td>\n",
       "      <td>[]</td>\n",
       "      <td>0</td>\n",
       "    </tr>\n",
       "    <tr>\n",
       "      <th>3</th>\n",
       "      <td>DTXSID2024242</td>\n",
       "      <td>[]</td>\n",
       "      <td>0</td>\n",
       "    </tr>\n",
       "    <tr>\n",
       "      <th>4</th>\n",
       "      <td>DTXSID4032376</td>\n",
       "      <td>[]</td>\n",
       "      <td>0</td>\n",
       "    </tr>\n",
       "  </tbody>\n",
       "</table>\n",
       "</div>"
      ],
      "text/plain": [
       "          DTXSID                             COC  COC_Alerts\n",
       "0  DTXSID6020561  [strained_heteronuclear_rings]           1\n",
       "1  DTXSID9020453  [strained_heteronuclear_rings]           1\n",
       "2  DTXSID3034456                              []           0\n",
       "3  DTXSID2024242                              []           0\n",
       "4  DTXSID4032376                              []           0"
      ]
     },
     "execution_count": 106,
     "metadata": {},
     "output_type": "execute_result"
    }
   ],
   "source": [
    "fda_coc_df.head()"
   ]
  },
  {
   "cell_type": "code",
   "execution_count": 107,
   "metadata": {},
   "outputs": [
    {
     "data": {
      "text/plain": [
       "45037"
      ]
     },
     "execution_count": 107,
     "metadata": {},
     "output_type": "execute_result"
    }
   ],
   "source": [
    "len(fda_coc_df)"
   ]
  },
  {
   "cell_type": "code",
   "execution_count": 110,
   "metadata": {},
   "outputs": [
    {
     "data": {
      "text/html": [
       "<div>\n",
       "<style scoped>\n",
       "    .dataframe tbody tr th:only-of-type {\n",
       "        vertical-align: middle;\n",
       "    }\n",
       "\n",
       "    .dataframe tbody tr th {\n",
       "        vertical-align: top;\n",
       "    }\n",
       "\n",
       "    .dataframe thead th {\n",
       "        text-align: right;\n",
       "    }\n",
       "</style>\n",
       "<table border=\"1\" class=\"dataframe\">\n",
       "  <thead>\n",
       "    <tr style=\"text-align: right;\">\n",
       "      <th></th>\n",
       "      <th>casrn</th>\n",
       "      <th>DTXSID</th>\n",
       "      <th>name</th>\n",
       "      <th>smiles</th>\n",
       "      <th>daily_intake</th>\n",
       "      <th>iris_noael</th>\n",
       "      <th>tox_cast_oed_5th</th>\n",
       "      <th>tox_cast_oed_median</th>\n",
       "      <th>tox_tree_ttc</th>\n",
       "      <th>ttc_class</th>\n",
       "      <th>kroes_decision</th>\n",
       "      <th>small_httk</th>\n",
       "      <th>large_cerapp</th>\n",
       "      <th>mark_ttc_class</th>\n",
       "      <th>reason_for_NA</th>\n",
       "      <th>old_ttc_class</th>\n",
       "      <th>metal_salts</th>\n",
       "      <th>inorgs</th>\n",
       "      <th>inorgP</th>\n",
       "      <th>inorg_filter</th>\n",
       "    </tr>\n",
       "  </thead>\n",
       "  <tbody>\n",
       "    <tr>\n",
       "      <th>0</th>\n",
       "      <td>72-20-8</td>\n",
       "      <td>DTXSID6020561</td>\n",
       "      <td>Endrin</td>\n",
       "      <td>ClC1=C(Cl)C2(Cl)C3C4CC(C5OC45)C3C1(Cl)C2(Cl)Cl</td>\n",
       "      <td>99</td>\n",
       "      <td>NaN</td>\n",
       "      <td>0.000291</td>\n",
       "      <td>0.002280</td>\n",
       "      <td>0.000003</td>\n",
       "      <td>Genotoxicity Alert</td>\n",
       "      <td>Negligible risk (low probability of a life-tim...</td>\n",
       "      <td>YES</td>\n",
       "      <td>NO</td>\n",
       "      <td>Genotoxicity Alert</td>\n",
       "      <td>NaN</td>\n",
       "      <td>Genotoxicity Alert</td>\n",
       "      <td>False</td>\n",
       "      <td>False</td>\n",
       "      <td>False</td>\n",
       "      <td>TTC_NA</td>\n",
       "    </tr>\n",
       "    <tr>\n",
       "      <th>1</th>\n",
       "      <td>60-57-1</td>\n",
       "      <td>DTXSID9020453</td>\n",
       "      <td>Dieldrin</td>\n",
       "      <td>ClC1=C(Cl)C2(Cl)C3C4CC(C5OC45)C3C1(Cl)C2(Cl)Cl</td>\n",
       "      <td>99</td>\n",
       "      <td>NaN</td>\n",
       "      <td>0.000553</td>\n",
       "      <td>0.009572</td>\n",
       "      <td>0.000003</td>\n",
       "      <td>Genotoxicity Alert</td>\n",
       "      <td>Negligible risk (low probability of a life-tim...</td>\n",
       "      <td>YES</td>\n",
       "      <td>NO</td>\n",
       "      <td>Genotoxicity Alert</td>\n",
       "      <td>NaN</td>\n",
       "      <td>Genotoxicity Alert</td>\n",
       "      <td>False</td>\n",
       "      <td>False</td>\n",
       "      <td>False</td>\n",
       "      <td>TTC_NA</td>\n",
       "    </tr>\n",
       "    <tr>\n",
       "      <th>2</th>\n",
       "      <td>87818-31-3</td>\n",
       "      <td>DTXSID3034456</td>\n",
       "      <td>Cinmethylin</td>\n",
       "      <td>CC(C)C12CCC(C)(O1)C(C2)OCC1=C(C)C=CC=C1</td>\n",
       "      <td>99</td>\n",
       "      <td>NaN</td>\n",
       "      <td>0.050130</td>\n",
       "      <td>0.445990</td>\n",
       "      <td>0.001500</td>\n",
       "      <td>Cramer Class III</td>\n",
       "      <td>Substance would not be expected to be a safety...</td>\n",
       "      <td>YES</td>\n",
       "      <td>NO</td>\n",
       "      <td>Class III</td>\n",
       "      <td>NaN</td>\n",
       "      <td>Class III</td>\n",
       "      <td>False</td>\n",
       "      <td>False</td>\n",
       "      <td>False</td>\n",
       "      <td>TTC_NA</td>\n",
       "    </tr>\n",
       "    <tr>\n",
       "      <th>3</th>\n",
       "      <td>76738-62-0</td>\n",
       "      <td>DTXSID2024242</td>\n",
       "      <td>Paclobutrazol</td>\n",
       "      <td>CC(C)(C)C(O)C(CC1=CC=C(Cl)C=C1)N1C=NC=N1</td>\n",
       "      <td>99</td>\n",
       "      <td>NaN</td>\n",
       "      <td>0.239110</td>\n",
       "      <td>2.872300</td>\n",
       "      <td>0.001500</td>\n",
       "      <td>Cramer Class III</td>\n",
       "      <td>Substance would not be expected to be a safety...</td>\n",
       "      <td>YES</td>\n",
       "      <td>NO</td>\n",
       "      <td>Class III</td>\n",
       "      <td>NaN</td>\n",
       "      <td>Class III</td>\n",
       "      <td>False</td>\n",
       "      <td>False</td>\n",
       "      <td>False</td>\n",
       "      <td>TTC_NA</td>\n",
       "    </tr>\n",
       "    <tr>\n",
       "      <th>4</th>\n",
       "      <td>87674-68-8</td>\n",
       "      <td>DTXSID4032376</td>\n",
       "      <td>Dimethenamid</td>\n",
       "      <td>COCC(C)N(C(=O)CCl)C1=C(C)SC=C1C</td>\n",
       "      <td>99</td>\n",
       "      <td>NaN</td>\n",
       "      <td>1.564200</td>\n",
       "      <td>15.084000</td>\n",
       "      <td>0.000003</td>\n",
       "      <td>Genotoxicity Alert</td>\n",
       "      <td>Negligible risk (low probability of a life-tim...</td>\n",
       "      <td>YES</td>\n",
       "      <td>NO</td>\n",
       "      <td>Genotoxicity Alert</td>\n",
       "      <td>NaN</td>\n",
       "      <td>Genotoxicity Alert</td>\n",
       "      <td>False</td>\n",
       "      <td>False</td>\n",
       "      <td>False</td>\n",
       "      <td>TTC_NA</td>\n",
       "    </tr>\n",
       "  </tbody>\n",
       "</table>\n",
       "</div>"
      ],
      "text/plain": [
       "        casrn         DTXSID           name  \\\n",
       "0     72-20-8  DTXSID6020561         Endrin   \n",
       "1     60-57-1  DTXSID9020453       Dieldrin   \n",
       "2  87818-31-3  DTXSID3034456    Cinmethylin   \n",
       "3  76738-62-0  DTXSID2024242  Paclobutrazol   \n",
       "4  87674-68-8  DTXSID4032376   Dimethenamid   \n",
       "\n",
       "                                           smiles  daily_intake  iris_noael  \\\n",
       "0  ClC1=C(Cl)C2(Cl)C3C4CC(C5OC45)C3C1(Cl)C2(Cl)Cl            99         NaN   \n",
       "1  ClC1=C(Cl)C2(Cl)C3C4CC(C5OC45)C3C1(Cl)C2(Cl)Cl            99         NaN   \n",
       "2         CC(C)C12CCC(C)(O1)C(C2)OCC1=C(C)C=CC=C1            99         NaN   \n",
       "3        CC(C)(C)C(O)C(CC1=CC=C(Cl)C=C1)N1C=NC=N1            99         NaN   \n",
       "4                 COCC(C)N(C(=O)CCl)C1=C(C)SC=C1C            99         NaN   \n",
       "\n",
       "   tox_cast_oed_5th  tox_cast_oed_median  tox_tree_ttc           ttc_class  \\\n",
       "0          0.000291             0.002280      0.000003  Genotoxicity Alert   \n",
       "1          0.000553             0.009572      0.000003  Genotoxicity Alert   \n",
       "2          0.050130             0.445990      0.001500    Cramer Class III   \n",
       "3          0.239110             2.872300      0.001500    Cramer Class III   \n",
       "4          1.564200            15.084000      0.000003  Genotoxicity Alert   \n",
       "\n",
       "                                      kroes_decision small_httk large_cerapp  \\\n",
       "0  Negligible risk (low probability of a life-tim...        YES           NO   \n",
       "1  Negligible risk (low probability of a life-tim...        YES           NO   \n",
       "2  Substance would not be expected to be a safety...        YES           NO   \n",
       "3  Substance would not be expected to be a safety...        YES           NO   \n",
       "4  Negligible risk (low probability of a life-tim...        YES           NO   \n",
       "\n",
       "       mark_ttc_class reason_for_NA       old_ttc_class  metal_salts  inorgs  \\\n",
       "0  Genotoxicity Alert           NaN  Genotoxicity Alert        False   False   \n",
       "1  Genotoxicity Alert           NaN  Genotoxicity Alert        False   False   \n",
       "2           Class III           NaN           Class III        False   False   \n",
       "3           Class III           NaN           Class III        False   False   \n",
       "4  Genotoxicity Alert           NaN  Genotoxicity Alert        False   False   \n",
       "\n",
       "   inorgP inorg_filter  \n",
       "0   False       TTC_NA  \n",
       "1   False       TTC_NA  \n",
       "2   False       TTC_NA  \n",
       "3   False       TTC_NA  \n",
       "4   False       TTC_NA  "
      ]
     },
     "execution_count": 110,
     "metadata": {},
     "output_type": "execute_result"
    }
   ],
   "source": [
    "lri.head()"
   ]
  },
  {
   "cell_type": "code",
   "execution_count": 112,
   "metadata": {},
   "outputs": [],
   "source": [
    "lri_coc = pd.merge(lri, fda_coc_df, on = 'DTXSID', how = 'left')"
   ]
  },
  {
   "cell_type": "code",
   "execution_count": 113,
   "metadata": {},
   "outputs": [
    {
     "data": {
      "text/html": [
       "<div>\n",
       "<style scoped>\n",
       "    .dataframe tbody tr th:only-of-type {\n",
       "        vertical-align: middle;\n",
       "    }\n",
       "\n",
       "    .dataframe tbody tr th {\n",
       "        vertical-align: top;\n",
       "    }\n",
       "\n",
       "    .dataframe thead th {\n",
       "        text-align: right;\n",
       "    }\n",
       "</style>\n",
       "<table border=\"1\" class=\"dataframe\">\n",
       "  <thead>\n",
       "    <tr style=\"text-align: right;\">\n",
       "      <th></th>\n",
       "      <th>casrn</th>\n",
       "      <th>DTXSID</th>\n",
       "      <th>name</th>\n",
       "      <th>smiles</th>\n",
       "      <th>daily_intake</th>\n",
       "      <th>iris_noael</th>\n",
       "      <th>tox_cast_oed_5th</th>\n",
       "      <th>tox_cast_oed_median</th>\n",
       "      <th>tox_tree_ttc</th>\n",
       "      <th>ttc_class</th>\n",
       "      <th>...</th>\n",
       "      <th>large_cerapp</th>\n",
       "      <th>mark_ttc_class</th>\n",
       "      <th>reason_for_NA</th>\n",
       "      <th>old_ttc_class</th>\n",
       "      <th>metal_salts</th>\n",
       "      <th>inorgs</th>\n",
       "      <th>inorgP</th>\n",
       "      <th>inorg_filter</th>\n",
       "      <th>COC</th>\n",
       "      <th>COC_Alerts</th>\n",
       "    </tr>\n",
       "  </thead>\n",
       "  <tbody>\n",
       "    <tr>\n",
       "      <th>0</th>\n",
       "      <td>72-20-8</td>\n",
       "      <td>DTXSID6020561</td>\n",
       "      <td>Endrin</td>\n",
       "      <td>ClC1=C(Cl)C2(Cl)C3C4CC(C5OC45)C3C1(Cl)C2(Cl)Cl</td>\n",
       "      <td>99</td>\n",
       "      <td>NaN</td>\n",
       "      <td>0.000291</td>\n",
       "      <td>0.002280</td>\n",
       "      <td>0.000003</td>\n",
       "      <td>Genotoxicity Alert</td>\n",
       "      <td>...</td>\n",
       "      <td>NO</td>\n",
       "      <td>Genotoxicity Alert</td>\n",
       "      <td>NaN</td>\n",
       "      <td>Genotoxicity Alert</td>\n",
       "      <td>False</td>\n",
       "      <td>False</td>\n",
       "      <td>False</td>\n",
       "      <td>TTC_NA</td>\n",
       "      <td>[strained_heteronuclear_rings]</td>\n",
       "      <td>1.0</td>\n",
       "    </tr>\n",
       "    <tr>\n",
       "      <th>1</th>\n",
       "      <td>60-57-1</td>\n",
       "      <td>DTXSID9020453</td>\n",
       "      <td>Dieldrin</td>\n",
       "      <td>ClC1=C(Cl)C2(Cl)C3C4CC(C5OC45)C3C1(Cl)C2(Cl)Cl</td>\n",
       "      <td>99</td>\n",
       "      <td>NaN</td>\n",
       "      <td>0.000553</td>\n",
       "      <td>0.009572</td>\n",
       "      <td>0.000003</td>\n",
       "      <td>Genotoxicity Alert</td>\n",
       "      <td>...</td>\n",
       "      <td>NO</td>\n",
       "      <td>Genotoxicity Alert</td>\n",
       "      <td>NaN</td>\n",
       "      <td>Genotoxicity Alert</td>\n",
       "      <td>False</td>\n",
       "      <td>False</td>\n",
       "      <td>False</td>\n",
       "      <td>TTC_NA</td>\n",
       "      <td>[strained_heteronuclear_rings]</td>\n",
       "      <td>1.0</td>\n",
       "    </tr>\n",
       "    <tr>\n",
       "      <th>2</th>\n",
       "      <td>87818-31-3</td>\n",
       "      <td>DTXSID3034456</td>\n",
       "      <td>Cinmethylin</td>\n",
       "      <td>CC(C)C12CCC(C)(O1)C(C2)OCC1=C(C)C=CC=C1</td>\n",
       "      <td>99</td>\n",
       "      <td>NaN</td>\n",
       "      <td>0.050130</td>\n",
       "      <td>0.445990</td>\n",
       "      <td>0.001500</td>\n",
       "      <td>Cramer Class III</td>\n",
       "      <td>...</td>\n",
       "      <td>NO</td>\n",
       "      <td>Class III</td>\n",
       "      <td>NaN</td>\n",
       "      <td>Class III</td>\n",
       "      <td>False</td>\n",
       "      <td>False</td>\n",
       "      <td>False</td>\n",
       "      <td>TTC_NA</td>\n",
       "      <td>[]</td>\n",
       "      <td>0.0</td>\n",
       "    </tr>\n",
       "    <tr>\n",
       "      <th>3</th>\n",
       "      <td>76738-62-0</td>\n",
       "      <td>DTXSID2024242</td>\n",
       "      <td>Paclobutrazol</td>\n",
       "      <td>CC(C)(C)C(O)C(CC1=CC=C(Cl)C=C1)N1C=NC=N1</td>\n",
       "      <td>99</td>\n",
       "      <td>NaN</td>\n",
       "      <td>0.239110</td>\n",
       "      <td>2.872300</td>\n",
       "      <td>0.001500</td>\n",
       "      <td>Cramer Class III</td>\n",
       "      <td>...</td>\n",
       "      <td>NO</td>\n",
       "      <td>Class III</td>\n",
       "      <td>NaN</td>\n",
       "      <td>Class III</td>\n",
       "      <td>False</td>\n",
       "      <td>False</td>\n",
       "      <td>False</td>\n",
       "      <td>TTC_NA</td>\n",
       "      <td>[]</td>\n",
       "      <td>0.0</td>\n",
       "    </tr>\n",
       "    <tr>\n",
       "      <th>4</th>\n",
       "      <td>87674-68-8</td>\n",
       "      <td>DTXSID4032376</td>\n",
       "      <td>Dimethenamid</td>\n",
       "      <td>COCC(C)N(C(=O)CCl)C1=C(C)SC=C1C</td>\n",
       "      <td>99</td>\n",
       "      <td>NaN</td>\n",
       "      <td>1.564200</td>\n",
       "      <td>15.084000</td>\n",
       "      <td>0.000003</td>\n",
       "      <td>Genotoxicity Alert</td>\n",
       "      <td>...</td>\n",
       "      <td>NO</td>\n",
       "      <td>Genotoxicity Alert</td>\n",
       "      <td>NaN</td>\n",
       "      <td>Genotoxicity Alert</td>\n",
       "      <td>False</td>\n",
       "      <td>False</td>\n",
       "      <td>False</td>\n",
       "      <td>TTC_NA</td>\n",
       "      <td>[]</td>\n",
       "      <td>0.0</td>\n",
       "    </tr>\n",
       "  </tbody>\n",
       "</table>\n",
       "<p>5 rows × 22 columns</p>\n",
       "</div>"
      ],
      "text/plain": [
       "        casrn         DTXSID           name  \\\n",
       "0     72-20-8  DTXSID6020561         Endrin   \n",
       "1     60-57-1  DTXSID9020453       Dieldrin   \n",
       "2  87818-31-3  DTXSID3034456    Cinmethylin   \n",
       "3  76738-62-0  DTXSID2024242  Paclobutrazol   \n",
       "4  87674-68-8  DTXSID4032376   Dimethenamid   \n",
       "\n",
       "                                           smiles  daily_intake  iris_noael  \\\n",
       "0  ClC1=C(Cl)C2(Cl)C3C4CC(C5OC45)C3C1(Cl)C2(Cl)Cl            99         NaN   \n",
       "1  ClC1=C(Cl)C2(Cl)C3C4CC(C5OC45)C3C1(Cl)C2(Cl)Cl            99         NaN   \n",
       "2         CC(C)C12CCC(C)(O1)C(C2)OCC1=C(C)C=CC=C1            99         NaN   \n",
       "3        CC(C)(C)C(O)C(CC1=CC=C(Cl)C=C1)N1C=NC=N1            99         NaN   \n",
       "4                 COCC(C)N(C(=O)CCl)C1=C(C)SC=C1C            99         NaN   \n",
       "\n",
       "   tox_cast_oed_5th  tox_cast_oed_median  tox_tree_ttc           ttc_class  \\\n",
       "0          0.000291             0.002280      0.000003  Genotoxicity Alert   \n",
       "1          0.000553             0.009572      0.000003  Genotoxicity Alert   \n",
       "2          0.050130             0.445990      0.001500    Cramer Class III   \n",
       "3          0.239110             2.872300      0.001500    Cramer Class III   \n",
       "4          1.564200            15.084000      0.000003  Genotoxicity Alert   \n",
       "\n",
       "     ...     large_cerapp      mark_ttc_class reason_for_NA  \\\n",
       "0    ...               NO  Genotoxicity Alert           NaN   \n",
       "1    ...               NO  Genotoxicity Alert           NaN   \n",
       "2    ...               NO           Class III           NaN   \n",
       "3    ...               NO           Class III           NaN   \n",
       "4    ...               NO  Genotoxicity Alert           NaN   \n",
       "\n",
       "        old_ttc_class metal_salts inorgs  inorgP  inorg_filter  \\\n",
       "0  Genotoxicity Alert       False  False   False        TTC_NA   \n",
       "1  Genotoxicity Alert       False  False   False        TTC_NA   \n",
       "2           Class III       False  False   False        TTC_NA   \n",
       "3           Class III       False  False   False        TTC_NA   \n",
       "4  Genotoxicity Alert       False  False   False        TTC_NA   \n",
       "\n",
       "                              COC COC_Alerts  \n",
       "0  [strained_heteronuclear_rings]        1.0  \n",
       "1  [strained_heteronuclear_rings]        1.0  \n",
       "2                              []        0.0  \n",
       "3                              []        0.0  \n",
       "4                              []        0.0  \n",
       "\n",
       "[5 rows x 22 columns]"
      ]
     },
     "execution_count": 113,
     "metadata": {},
     "output_type": "execute_result"
    }
   ],
   "source": [
    "lri_coc.head()"
   ]
  },
  {
   "cell_type": "code",
   "execution_count": 114,
   "metadata": {},
   "outputs": [
    {
     "name": "stdout",
     "output_type": "stream",
     "text": [
      "ELSIE Uploaded Compound List (March 2019.doc\n",
      "Exclusions_Dashboard_100619.xlsx\n",
      "Exclusions_FDA_100619.csv\n",
      "FDA_COC.xlsx\n",
      "HPC_230719.xlsx\n",
      "ISO_TS_21726_2019.pdf\n",
      "ISS_carc.csv\n",
      "kroes_gentox_alerts_120619.xlsx\n",
      "LRIexclusions_180719_4toxtree_outputgentox.csv\n",
      "LRI_TTC_updated_090719.csv\n",
      "LRI_TTC_updated_180719.csv\n"
     ]
    }
   ],
   "source": [
    "ls"
   ]
  },
  {
   "cell_type": "code",
   "execution_count": 115,
   "metadata": {},
   "outputs": [],
   "source": [
    "xls2 = pd.ExcelFile(raw_dir+'genetox_structural_alerts_140819.xlsx')"
   ]
  },
  {
   "cell_type": "code",
   "execution_count": 116,
   "metadata": {},
   "outputs": [
    {
     "data": {
      "text/plain": [
       "['All', 'Sheet2']"
      ]
     },
     "execution_count": 116,
     "metadata": {},
     "output_type": "execute_result"
    }
   ],
   "source": [
    "xls2.sheet_names"
   ]
  },
  {
   "cell_type": "code",
   "execution_count": 117,
   "metadata": {},
   "outputs": [],
   "source": [
    "genetox = xls2.parse('All')"
   ]
  },
  {
   "cell_type": "code",
   "execution_count": 118,
   "metadata": {},
   "outputs": [
    {
     "data": {
      "text/html": [
       "<div>\n",
       "<style scoped>\n",
       "    .dataframe tbody tr th:only-of-type {\n",
       "        vertical-align: middle;\n",
       "    }\n",
       "\n",
       "    .dataframe tbody tr th {\n",
       "        vertical-align: top;\n",
       "    }\n",
       "\n",
       "    .dataframe thead th {\n",
       "        text-align: right;\n",
       "    }\n",
       "</style>\n",
       "<table border=\"1\" class=\"dataframe\">\n",
       "  <thead>\n",
       "    <tr style=\"text-align: right;\">\n",
       "      <th></th>\n",
       "      <th>Name</th>\n",
       "      <th>SMARTS</th>\n",
       "      <th>Unnamed: 2</th>\n",
       "      <th>Unnamed: 3</th>\n",
       "      <th>Author</th>\n",
       "      <th>Source</th>\n",
       "      <th>ID</th>\n",
       "      <th>Mech_Domain</th>\n",
       "    </tr>\n",
       "  </thead>\n",
       "  <tbody>\n",
       "    <tr>\n",
       "      <th>0</th>\n",
       "      <td>Aromatic nitro (general)</td>\n",
       "      <td>[a!r0][$([NX3+](=[OX1])([O-])),$([NX3](=O)=O)]</td>\n",
       "      <td>NaN</td>\n",
       "      <td>NaN</td>\n",
       "      <td>Kazius</td>\n",
       "      <td>ochem</td>\n",
       "      <td>Aromatic-nitros-(SN1)</td>\n",
       "      <td>SN1</td>\n",
       "    </tr>\n",
       "    <tr>\n",
       "      <th>1</th>\n",
       "      <td>Aromatic amine (general)</td>\n",
       "      <td>[a!r0][NX3H2]</td>\n",
       "      <td>NaN</td>\n",
       "      <td>NaN</td>\n",
       "      <td>Kazius</td>\n",
       "      <td>ochem</td>\n",
       "      <td>Aromatic-amines-(SN1)</td>\n",
       "      <td>SN1</td>\n",
       "    </tr>\n",
       "    <tr>\n",
       "      <th>2</th>\n",
       "      <td>Three-membered heterocycles (general)</td>\n",
       "      <td>[NX3H1,SX2,OX2]1[CX4][CX4]1</td>\n",
       "      <td>NaN</td>\n",
       "      <td>NaN</td>\n",
       "      <td>Kazius</td>\n",
       "      <td>ochem</td>\n",
       "      <td>strained-ring-(SN2)</td>\n",
       "      <td>SN2</td>\n",
       "    </tr>\n",
       "    <tr>\n",
       "      <th>3</th>\n",
       "      <td>Nitroso (general)</td>\n",
       "      <td>[NX2]=[OX1]</td>\n",
       "      <td>NaN</td>\n",
       "      <td>NaN</td>\n",
       "      <td>Kazius</td>\n",
       "      <td>ochem</td>\n",
       "      <td>Nitrosos-(SN2)</td>\n",
       "      <td>SN2</td>\n",
       "    </tr>\n",
       "    <tr>\n",
       "      <th>4</th>\n",
       "      <td>Unsubstituted heteroatom-bonded heteroatom (ge...</td>\n",
       "      <td>[$([NX3H2]-[#7]),$([NX3H2]-[#8]),$([OX2H1]-[#7...</td>\n",
       "      <td>NaN</td>\n",
       "      <td>NaN</td>\n",
       "      <td>Kazius</td>\n",
       "      <td>ochem</td>\n",
       "      <td>Unsubstituted_heteroatom-bonded_heteroatom</td>\n",
       "      <td>Other</td>\n",
       "    </tr>\n",
       "  </tbody>\n",
       "</table>\n",
       "</div>"
      ],
      "text/plain": [
       "                                                Name  \\\n",
       "0                           Aromatic nitro (general)   \n",
       "1                           Aromatic amine (general)   \n",
       "2              Three-membered heterocycles (general)   \n",
       "3                                  Nitroso (general)   \n",
       "4  Unsubstituted heteroatom-bonded heteroatom (ge...   \n",
       "\n",
       "                                              SMARTS  Unnamed: 2  Unnamed: 3  \\\n",
       "0     [a!r0][$([NX3+](=[OX1])([O-])),$([NX3](=O)=O)]         NaN         NaN   \n",
       "1                                      [a!r0][NX3H2]         NaN         NaN   \n",
       "2                        [NX3H1,SX2,OX2]1[CX4][CX4]1         NaN         NaN   \n",
       "3                                        [NX2]=[OX1]         NaN         NaN   \n",
       "4  [$([NX3H2]-[#7]),$([NX3H2]-[#8]),$([OX2H1]-[#7...         NaN         NaN   \n",
       "\n",
       "   Author Source                                          ID Mech_Domain  \n",
       "0  Kazius  ochem                       Aromatic-nitros-(SN1)         SN1  \n",
       "1  Kazius  ochem                       Aromatic-amines-(SN1)         SN1  \n",
       "2  Kazius  ochem                         strained-ring-(SN2)         SN2  \n",
       "3  Kazius  ochem                              Nitrosos-(SN2)         SN2  \n",
       "4  Kazius  ochem  Unsubstituted_heteroatom-bonded_heteroatom       Other  "
      ]
     },
     "execution_count": 118,
     "metadata": {},
     "output_type": "execute_result"
    }
   ],
   "source": [
    "genetox.head()"
   ]
  },
  {
   "cell_type": "code",
   "execution_count": 119,
   "metadata": {},
   "outputs": [
    {
     "data": {
      "text/plain": [
       "202"
      ]
     },
     "execution_count": 119,
     "metadata": {},
     "output_type": "execute_result"
    }
   ],
   "source": [
    "len(genetox)"
   ]
  },
  {
   "cell_type": "markdown",
   "metadata": {},
   "source": [
    "Remove any SMARTS that are duplicates"
   ]
  },
  {
   "cell_type": "code",
   "execution_count": 122,
   "metadata": {},
   "outputs": [],
   "source": [
    "genetox = genetox.drop_duplicates(['SMARTS'], keep = 'first')"
   ]
  },
  {
   "cell_type": "markdown",
   "metadata": {},
   "source": [
    "Looking to see how many alerts exist per ID"
   ]
  },
  {
   "cell_type": "code",
   "execution_count": 126,
   "metadata": {},
   "outputs": [
    {
     "data": {
      "text/plain": [
       "Nitroso-(SN1)                          11\n",
       "Aromatic-amines-(SN1)                   9\n",
       "PAHs-(SN1)                              9\n",
       "Aliphatic-halide-(SN2)                  6\n",
       "Hydrazine-(SN1)                         5\n",
       "Aromatic-nitros-(SN1)                   5\n",
       "a,b-Unsaturated-carbonyl-(MA)           4\n",
       "Azo-(SN1)                               4\n",
       "Acyl-halide-(AC)                        3\n",
       "Aromatic-N-hydroxylamines-(SN1)         3\n",
       "Mustards-(SN2)                          3\n",
       "Triazines-(SN1)                         3\n",
       "Mono-aldehydes-(SB)                     3\n",
       "Aliphatic-N-nitro-(SN1)                 3\n",
       "Epoxides-(SN2)                          3\n",
       "N-methylol-derivatives-(SB)             3\n",
       "Nitrosos-(SN2)                          2\n",
       "Tertiary-aromatic-amines-(SN1)          2\n",
       "Coumarins-(SN2)                         2\n",
       "Lactones-(SN2)                          2\n",
       "Epoxides-Aziridines-(SN2)               2\n",
       "Aromatic-nitrosos-(SN1)                 2\n",
       "a-Halo-ethers-(SN1)                     2\n",
       "Quinones-(MA)                           2\n",
       "a,b-Unsaturated-aldehydes-(MA)          2\n",
       "Carbamates-(SN1)-(AC)                   2\n",
       "Ethanolamines-(SB)                      2\n",
       "Isocyanates-(AC)                        2\n",
       "Formamides-(AC)                         2\n",
       "Aromatic-azos-(SN1)                     2\n",
       "                                       ..\n",
       "a,b-Dicarbonyl-(SB)                     1\n",
       "Isocyanates-Isothiocyanates-(AC)        1\n",
       "Primary-heterocyclic-amines-(SN1)       1\n",
       "Quinone-methides-(MA)                   1\n",
       "a,b-Unsaturated-ketones-(MA)            1\n",
       "Heterocyclic-N-hydroxylamines-(SN1)     1\n",
       "Thioureas-(AC)                          1\n",
       "Sulfates-(SN2)                          1\n",
       "Ethylenediamines-(SB)                   1\n",
       "Secondary-heterocyclic-amines-(SN1)     1\n",
       "Sulfonylureas-(AC)                      1\n",
       "Heterocyclic-phenylureas-(SN1)          1\n",
       "Aromatic-phenylureas-(SN1)              1\n",
       "3-Methylindoles-(MA)                    1\n",
       "Thiazolidinediones-(AC)                 1\n",
       "Aromatic_ring_N-oxides                  1\n",
       "a,b-Unsaturated-amides-(MA)             1\n",
       "Thiophenes-(MA)                         1\n",
       "Azide-(MA)-(noncov)                     1\n",
       "Allylic_halides-(SN2)                   1\n",
       "Haloamines                              1\n",
       "5-Alkoxyindoles-(MA)                    1\n",
       "N-chloroamines                          1\n",
       "Furans-(MA)                             1\n",
       "Sultones-(SN2)                          1\n",
       "Phosphonic-esters-(SN2)                 1\n",
       "Diazoalkanes-(SN1)                      1\n",
       "PAHs-(MA)                               1\n",
       "Heterocyclic-azos-(SN1)                 1\n",
       "Azocarbonamides-(MA)                    1\n",
       "Name: ID, Length: 110, dtype: int64"
      ]
     },
     "execution_count": 126,
     "metadata": {},
     "output_type": "execute_result"
    }
   ],
   "source": [
    "genetox.ID.value_counts()"
   ]
  },
  {
   "cell_type": "code",
   "execution_count": 127,
   "metadata": {},
   "outputs": [],
   "source": [
    "genetox_dict = {}\n",
    "for i,group in genetox.groupby('ID'):\n",
    "    key = [name for name in group['ID'] if name!=' '][0]\n",
    "    value = set(group['SMARTS'])\n",
    "    genetox_dict[key]=value"
   ]
  },
  {
   "cell_type": "code",
   "execution_count": 129,
   "metadata": {},
   "outputs": [
    {
     "data": {
      "text/plain": [
       "110"
      ]
     },
     "execution_count": 129,
     "metadata": {},
     "output_type": "execute_result"
    }
   ],
   "source": [
    "len(genetox_dict)"
   ]
  },
  {
   "cell_type": "code",
   "execution_count": 128,
   "metadata": {},
   "outputs": [
    {
     "name": "stderr",
     "output_type": "stream",
     "text": [
      "RDKit ERROR: [12:30:56] \n",
      "RDKit ERROR: \n",
      "RDKit ERROR: ****\n",
      "RDKit ERROR: Range Error\n",
      "RDKit ERROR: tgt\n",
      "RDKit ERROR: Violation occurred on line 155 in file /opt/conda/conda-bld/rdkit_1528088207908/work/Code/GraphMol/QueryOps.cpp\n",
      "RDKit ERROR: Failed Expression: 3 <= 0 <= 20\n",
      "RDKit ERROR: ****\n",
      "RDKit ERROR: \n",
      "RDKit ERROR: [12:30:56] \n",
      "RDKit ERROR: \n",
      "RDKit ERROR: ****\n",
      "RDKit ERROR: Range Error\n",
      "RDKit ERROR: tgt\n",
      "RDKit ERROR: Violation occurred on line 155 in file /opt/conda/conda-bld/rdkit_1528088207908/work/Code/GraphMol/QueryOps.cpp\n",
      "RDKit ERROR: Failed Expression: 3 <= 0 <= 20\n",
      "RDKit ERROR: ****\n",
      "RDKit ERROR: \n",
      "RDKit ERROR: [12:30:56] \n",
      "RDKit ERROR: \n",
      "RDKit ERROR: ****\n",
      "RDKit ERROR: Range Error\n",
      "RDKit ERROR: tgt\n",
      "RDKit ERROR: Violation occurred on line 155 in file /opt/conda/conda-bld/rdkit_1528088207908/work/Code/GraphMol/QueryOps.cpp\n",
      "RDKit ERROR: Failed Expression: 3 <= 0 <= 20\n",
      "RDKit ERROR: ****\n",
      "RDKit ERROR: \n",
      "RDKit ERROR: [12:30:56] \n",
      "RDKit ERROR: \n",
      "RDKit ERROR: ****\n",
      "RDKit ERROR: Range Error\n",
      "RDKit ERROR: tgt\n",
      "RDKit ERROR: Violation occurred on line 155 in file /opt/conda/conda-bld/rdkit_1528088207908/work/Code/GraphMol/QueryOps.cpp\n",
      "RDKit ERROR: Failed Expression: 3 <= 0 <= 20\n",
      "RDKit ERROR: ****\n",
      "RDKit ERROR: \n",
      "RDKit ERROR: [12:30:56] \n",
      "RDKit ERROR: \n",
      "RDKit ERROR: ****\n",
      "RDKit ERROR: Range Error\n",
      "RDKit ERROR: tgt\n",
      "RDKit ERROR: Violation occurred on line 155 in file /opt/conda/conda-bld/rdkit_1528088207908/work/Code/GraphMol/QueryOps.cpp\n",
      "RDKit ERROR: Failed Expression: 3 <= 0 <= 20\n",
      "RDKit ERROR: ****\n",
      "RDKit ERROR: \n",
      "RDKit ERROR: [12:30:56] \n",
      "RDKit ERROR: \n",
      "RDKit ERROR: ****\n",
      "RDKit ERROR: Range Error\n",
      "RDKit ERROR: tgt\n",
      "RDKit ERROR: Violation occurred on line 155 in file /opt/conda/conda-bld/rdkit_1528088207908/work/Code/GraphMol/QueryOps.cpp\n",
      "RDKit ERROR: Failed Expression: 3 <= 0 <= 20\n",
      "RDKit ERROR: ****\n",
      "RDKit ERROR: \n",
      "RDKit ERROR: [12:30:56] \n",
      "RDKit ERROR: \n",
      "RDKit ERROR: ****\n",
      "RDKit ERROR: Range Error\n",
      "RDKit ERROR: tgt\n",
      "RDKit ERROR: Violation occurred on line 155 in file /opt/conda/conda-bld/rdkit_1528088207908/work/Code/GraphMol/QueryOps.cpp\n",
      "RDKit ERROR: Failed Expression: 3 <= 0 <= 20\n",
      "RDKit ERROR: ****\n",
      "RDKit ERROR: \n",
      "RDKit ERROR: [12:30:56] \n",
      "RDKit ERROR: \n",
      "RDKit ERROR: ****\n",
      "RDKit ERROR: Range Error\n",
      "RDKit ERROR: tgt\n",
      "RDKit ERROR: Violation occurred on line 155 in file /opt/conda/conda-bld/rdkit_1528088207908/work/Code/GraphMol/QueryOps.cpp\n",
      "RDKit ERROR: Failed Expression: 3 <= 0 <= 20\n",
      "RDKit ERROR: ****\n",
      "RDKit ERROR: \n",
      "RDKit ERROR: [12:30:56] \n",
      "RDKit ERROR: \n",
      "RDKit ERROR: ****\n",
      "RDKit ERROR: Range Error\n",
      "RDKit ERROR: tgt\n",
      "RDKit ERROR: Violation occurred on line 155 in file /opt/conda/conda-bld/rdkit_1528088207908/work/Code/GraphMol/QueryOps.cpp\n",
      "RDKit ERROR: Failed Expression: 3 <= 0 <= 20\n",
      "RDKit ERROR: ****\n",
      "RDKit ERROR: \n",
      "RDKit ERROR: [12:30:56] \n",
      "RDKit ERROR: \n",
      "RDKit ERROR: ****\n",
      "RDKit ERROR: Range Error\n",
      "RDKit ERROR: tgt\n",
      "RDKit ERROR: Violation occurred on line 155 in file /opt/conda/conda-bld/rdkit_1528088207908/work/Code/GraphMol/QueryOps.cpp\n",
      "RDKit ERROR: Failed Expression: 3 <= 0 <= 20\n",
      "RDKit ERROR: ****\n",
      "RDKit ERROR: \n",
      "RDKit ERROR: [12:30:56] \n",
      "RDKit ERROR: \n",
      "RDKit ERROR: ****\n",
      "RDKit ERROR: Range Error\n",
      "RDKit ERROR: tgt\n",
      "RDKit ERROR: Violation occurred on line 155 in file /opt/conda/conda-bld/rdkit_1528088207908/work/Code/GraphMol/QueryOps.cpp\n",
      "RDKit ERROR: Failed Expression: 3 <= 0 <= 20\n",
      "RDKit ERROR: ****\n",
      "RDKit ERROR: \n",
      "RDKit ERROR: [12:30:56] \n",
      "RDKit ERROR: \n",
      "RDKit ERROR: ****\n",
      "RDKit ERROR: Range Error\n",
      "RDKit ERROR: tgt\n",
      "RDKit ERROR: Violation occurred on line 155 in file /opt/conda/conda-bld/rdkit_1528088207908/work/Code/GraphMol/QueryOps.cpp\n",
      "RDKit ERROR: Failed Expression: 3 <= 0 <= 20\n",
      "RDKit ERROR: ****\n",
      "RDKit ERROR: \n",
      "RDKit ERROR: [12:30:56] \n",
      "RDKit ERROR: \n",
      "RDKit ERROR: ****\n",
      "RDKit ERROR: Range Error\n",
      "RDKit ERROR: tgt\n",
      "RDKit ERROR: Violation occurred on line 155 in file /opt/conda/conda-bld/rdkit_1528088207908/work/Code/GraphMol/QueryOps.cpp\n",
      "RDKit ERROR: Failed Expression: 3 <= 0 <= 20\n",
      "RDKit ERROR: ****\n",
      "RDKit ERROR: \n",
      "RDKit ERROR: [12:30:56] \n",
      "RDKit ERROR: \n",
      "RDKit ERROR: ****\n",
      "RDKit ERROR: Range Error\n",
      "RDKit ERROR: tgt\n",
      "RDKit ERROR: Violation occurred on line 155 in file /opt/conda/conda-bld/rdkit_1528088207908/work/Code/GraphMol/QueryOps.cpp\n",
      "RDKit ERROR: Failed Expression: 3 <= 0 <= 20\n",
      "RDKit ERROR: ****\n",
      "RDKit ERROR: \n",
      "RDKit ERROR: [12:30:56] \n",
      "RDKit ERROR: \n",
      "RDKit ERROR: ****\n",
      "RDKit ERROR: Range Error\n",
      "RDKit ERROR: tgt\n",
      "RDKit ERROR: Violation occurred on line 155 in file /opt/conda/conda-bld/rdkit_1528088207908/work/Code/GraphMol/QueryOps.cpp\n",
      "RDKit ERROR: Failed Expression: 3 <= 0 <= 20\n",
      "RDKit ERROR: ****\n",
      "RDKit ERROR: \n",
      "RDKit ERROR: [12:30:56] \n",
      "RDKit ERROR: \n",
      "RDKit ERROR: ****\n",
      "RDKit ERROR: Range Error\n",
      "RDKit ERROR: tgt\n",
      "RDKit ERROR: Violation occurred on line 155 in file /opt/conda/conda-bld/rdkit_1528088207908/work/Code/GraphMol/QueryOps.cpp\n",
      "RDKit ERROR: Failed Expression: 3 <= 0 <= 20\n",
      "RDKit ERROR: ****\n",
      "RDKit ERROR: \n",
      "RDKit ERROR: [12:30:56] \n",
      "RDKit ERROR: \n",
      "RDKit ERROR: ****\n",
      "RDKit ERROR: Range Error\n",
      "RDKit ERROR: tgt\n",
      "RDKit ERROR: Violation occurred on line 155 in file /opt/conda/conda-bld/rdkit_1528088207908/work/Code/GraphMol/QueryOps.cpp\n",
      "RDKit ERROR: Failed Expression: 3 <= 0 <= 20\n",
      "RDKit ERROR: ****\n",
      "RDKit ERROR: \n",
      "RDKit ERROR: [12:30:56] \n",
      "RDKit ERROR: \n",
      "RDKit ERROR: ****\n",
      "RDKit ERROR: Range Error\n",
      "RDKit ERROR: tgt\n",
      "RDKit ERROR: Violation occurred on line 155 in file /opt/conda/conda-bld/rdkit_1528088207908/work/Code/GraphMol/QueryOps.cpp\n",
      "RDKit ERROR: Failed Expression: 3 <= 0 <= 20\n",
      "RDKit ERROR: ****\n",
      "RDKit ERROR: \n",
      "RDKit ERROR: [12:30:56] \n",
      "RDKit ERROR: \n",
      "RDKit ERROR: ****\n",
      "RDKit ERROR: Range Error\n",
      "RDKit ERROR: tgt\n",
      "RDKit ERROR: Violation occurred on line 155 in file /opt/conda/conda-bld/rdkit_1528088207908/work/Code/GraphMol/QueryOps.cpp\n",
      "RDKit ERROR: Failed Expression: 3 <= 0 <= 20\n",
      "RDKit ERROR: ****\n",
      "RDKit ERROR: \n",
      "RDKit ERROR: [12:30:56] \n",
      "RDKit ERROR: \n",
      "RDKit ERROR: ****\n",
      "RDKit ERROR: Range Error\n",
      "RDKit ERROR: tgt\n",
      "RDKit ERROR: Violation occurred on line 155 in file /opt/conda/conda-bld/rdkit_1528088207908/work/Code/GraphMol/QueryOps.cpp\n",
      "RDKit ERROR: Failed Expression: 3 <= 0 <= 20\n",
      "RDKit ERROR: ****\n",
      "RDKit ERROR: \n",
      "RDKit ERROR: [12:30:56] \n",
      "RDKit ERROR: \n",
      "RDKit ERROR: ****\n",
      "RDKit ERROR: Range Error\n",
      "RDKit ERROR: tgt\n",
      "RDKit ERROR: Violation occurred on line 155 in file /opt/conda/conda-bld/rdkit_1528088207908/work/Code/GraphMol/QueryOps.cpp\n",
      "RDKit ERROR: Failed Expression: 3 <= 0 <= 20\n",
      "RDKit ERROR: ****\n",
      "RDKit ERROR: \n",
      "RDKit ERROR: [12:30:56] \n",
      "RDKit ERROR: \n",
      "RDKit ERROR: ****\n",
      "RDKit ERROR: Range Error\n",
      "RDKit ERROR: tgt\n",
      "RDKit ERROR: Violation occurred on line 155 in file /opt/conda/conda-bld/rdkit_1528088207908/work/Code/GraphMol/QueryOps.cpp\n",
      "RDKit ERROR: Failed Expression: 3 <= 0 <= 20\n",
      "RDKit ERROR: ****\n",
      "RDKit ERROR: \n",
      "RDKit ERROR: [12:30:56] \n",
      "RDKit ERROR: \n",
      "RDKit ERROR: ****\n",
      "RDKit ERROR: Range Error\n",
      "RDKit ERROR: tgt\n"
     ]
    }
   ],
   "source": [
    "genetox_smarts = {k:[Chem.MolFromSmarts(e) for e in v] for k,v in genetox_dict.items()}"
   ]
  },
  {
   "cell_type": "code",
   "execution_count": 135,
   "metadata": {},
   "outputs": [],
   "source": [
    "genetox_smarts = {k: list(filter(None, genetox_smarts[k])) for k,v in genetox_smarts.items()}"
   ]
  },
  {
   "cell_type": "code",
   "execution_count": 137,
   "metadata": {},
   "outputs": [],
   "source": [
    "genetox_matches = {x:[k for k, v in genetox_smarts.items() if any([y.HasSubstructMatch(e) for e in v])] for x,y in lri_smi.items()}"
   ]
  },
  {
   "cell_type": "markdown",
   "metadata": {},
   "source": [
    "Looking to see what matches with genetox alerts compiled from Benigni, Bailey, Kazius and Enoch"
   ]
  },
  {
   "cell_type": "code",
   "execution_count": 139,
   "metadata": {},
   "outputs": [],
   "source": [
    "genetox_df = pd.DataFrame(list(genetox_matches.items()), columns = ['DTXSID', 'Genetox_Alert'])"
   ]
  },
  {
   "cell_type": "code",
   "execution_count": 140,
   "metadata": {},
   "outputs": [
    {
     "data": {
      "text/html": [
       "<div>\n",
       "<style scoped>\n",
       "    .dataframe tbody tr th:only-of-type {\n",
       "        vertical-align: middle;\n",
       "    }\n",
       "\n",
       "    .dataframe tbody tr th {\n",
       "        vertical-align: top;\n",
       "    }\n",
       "\n",
       "    .dataframe thead th {\n",
       "        text-align: right;\n",
       "    }\n",
       "</style>\n",
       "<table border=\"1\" class=\"dataframe\">\n",
       "  <thead>\n",
       "    <tr style=\"text-align: right;\">\n",
       "      <th></th>\n",
       "      <th>DTXSID</th>\n",
       "      <th>Genetox_Alert</th>\n",
       "    </tr>\n",
       "  </thead>\n",
       "  <tbody>\n",
       "    <tr>\n",
       "      <th>0</th>\n",
       "      <td>DTXSID6020561</td>\n",
       "      <td>[Aliphatic-halide-(SN2), Epoxides-(SN2), Epoxi...</td>\n",
       "    </tr>\n",
       "    <tr>\n",
       "      <th>1</th>\n",
       "      <td>DTXSID9020453</td>\n",
       "      <td>[Aliphatic-halide-(SN2), Epoxides-(SN2), Epoxi...</td>\n",
       "    </tr>\n",
       "    <tr>\n",
       "      <th>2</th>\n",
       "      <td>DTXSID3034456</td>\n",
       "      <td>[Arenes-(MA)]</td>\n",
       "    </tr>\n",
       "    <tr>\n",
       "      <th>3</th>\n",
       "      <td>DTXSID2024242</td>\n",
       "      <td>[]</td>\n",
       "    </tr>\n",
       "    <tr>\n",
       "      <th>4</th>\n",
       "      <td>DTXSID4032376</td>\n",
       "      <td>[Aliphatic-halide-(SN2), Halocarbonyl]</td>\n",
       "    </tr>\n",
       "  </tbody>\n",
       "</table>\n",
       "</div>"
      ],
      "text/plain": [
       "          DTXSID                                      Genetox_Alert\n",
       "0  DTXSID6020561  [Aliphatic-halide-(SN2), Epoxides-(SN2), Epoxi...\n",
       "1  DTXSID9020453  [Aliphatic-halide-(SN2), Epoxides-(SN2), Epoxi...\n",
       "2  DTXSID3034456                                      [Arenes-(MA)]\n",
       "3  DTXSID2024242                                                 []\n",
       "4  DTXSID4032376             [Aliphatic-halide-(SN2), Halocarbonyl]"
      ]
     },
     "execution_count": 140,
     "metadata": {},
     "output_type": "execute_result"
    }
   ],
   "source": [
    "genetox_df.head()"
   ]
  },
  {
   "cell_type": "code",
   "execution_count": 141,
   "metadata": {},
   "outputs": [],
   "source": [
    "genetox_alerts = []\n",
    "for x in genetox_df['Genetox_Alert']:\n",
    "    if x !=[]:\n",
    "        genetox_alerts.append(1)\n",
    "    else:\n",
    "        genetox_alerts.append(0)\n",
    "genetox_df['Genetox_Alert'] = genetox_alerts"
   ]
  },
  {
   "cell_type": "code",
   "execution_count": 142,
   "metadata": {},
   "outputs": [
    {
     "data": {
      "text/html": [
       "<div>\n",
       "<style scoped>\n",
       "    .dataframe tbody tr th:only-of-type {\n",
       "        vertical-align: middle;\n",
       "    }\n",
       "\n",
       "    .dataframe tbody tr th {\n",
       "        vertical-align: top;\n",
       "    }\n",
       "\n",
       "    .dataframe thead th {\n",
       "        text-align: right;\n",
       "    }\n",
       "</style>\n",
       "<table border=\"1\" class=\"dataframe\">\n",
       "  <thead>\n",
       "    <tr style=\"text-align: right;\">\n",
       "      <th></th>\n",
       "      <th>DTXSID</th>\n",
       "      <th>Genetox_Alert</th>\n",
       "    </tr>\n",
       "  </thead>\n",
       "  <tbody>\n",
       "    <tr>\n",
       "      <th>0</th>\n",
       "      <td>DTXSID6020561</td>\n",
       "      <td>1</td>\n",
       "    </tr>\n",
       "    <tr>\n",
       "      <th>1</th>\n",
       "      <td>DTXSID9020453</td>\n",
       "      <td>1</td>\n",
       "    </tr>\n",
       "    <tr>\n",
       "      <th>2</th>\n",
       "      <td>DTXSID3034456</td>\n",
       "      <td>1</td>\n",
       "    </tr>\n",
       "    <tr>\n",
       "      <th>3</th>\n",
       "      <td>DTXSID2024242</td>\n",
       "      <td>0</td>\n",
       "    </tr>\n",
       "    <tr>\n",
       "      <th>4</th>\n",
       "      <td>DTXSID4032376</td>\n",
       "      <td>1</td>\n",
       "    </tr>\n",
       "  </tbody>\n",
       "</table>\n",
       "</div>"
      ],
      "text/plain": [
       "          DTXSID  Genetox_Alert\n",
       "0  DTXSID6020561              1\n",
       "1  DTXSID9020453              1\n",
       "2  DTXSID3034456              1\n",
       "3  DTXSID2024242              0\n",
       "4  DTXSID4032376              1"
      ]
     },
     "execution_count": 142,
     "metadata": {},
     "output_type": "execute_result"
    }
   ],
   "source": [
    "genetox_df.head()"
   ]
  },
  {
   "cell_type": "code",
   "execution_count": 144,
   "metadata": {},
   "outputs": [],
   "source": [
    "lri_coc_genetox = pd.merge(lri_coc, genetox_df, on = 'DTXSID', how = 'left')"
   ]
  },
  {
   "cell_type": "code",
   "execution_count": 145,
   "metadata": {},
   "outputs": [
    {
     "data": {
      "text/html": [
       "<div>\n",
       "<style scoped>\n",
       "    .dataframe tbody tr th:only-of-type {\n",
       "        vertical-align: middle;\n",
       "    }\n",
       "\n",
       "    .dataframe tbody tr th {\n",
       "        vertical-align: top;\n",
       "    }\n",
       "\n",
       "    .dataframe thead th {\n",
       "        text-align: right;\n",
       "    }\n",
       "</style>\n",
       "<table border=\"1\" class=\"dataframe\">\n",
       "  <thead>\n",
       "    <tr style=\"text-align: right;\">\n",
       "      <th></th>\n",
       "      <th>casrn</th>\n",
       "      <th>DTXSID</th>\n",
       "      <th>name</th>\n",
       "      <th>smiles</th>\n",
       "      <th>daily_intake</th>\n",
       "      <th>iris_noael</th>\n",
       "      <th>tox_cast_oed_5th</th>\n",
       "      <th>tox_cast_oed_median</th>\n",
       "      <th>tox_tree_ttc</th>\n",
       "      <th>ttc_class</th>\n",
       "      <th>...</th>\n",
       "      <th>mark_ttc_class</th>\n",
       "      <th>reason_for_NA</th>\n",
       "      <th>old_ttc_class</th>\n",
       "      <th>metal_salts</th>\n",
       "      <th>inorgs</th>\n",
       "      <th>inorgP</th>\n",
       "      <th>inorg_filter</th>\n",
       "      <th>COC</th>\n",
       "      <th>COC_Alerts</th>\n",
       "      <th>Genetox_Alert</th>\n",
       "    </tr>\n",
       "  </thead>\n",
       "  <tbody>\n",
       "    <tr>\n",
       "      <th>0</th>\n",
       "      <td>72-20-8</td>\n",
       "      <td>DTXSID6020561</td>\n",
       "      <td>Endrin</td>\n",
       "      <td>ClC1=C(Cl)C2(Cl)C3C4CC(C5OC45)C3C1(Cl)C2(Cl)Cl</td>\n",
       "      <td>99</td>\n",
       "      <td>NaN</td>\n",
       "      <td>0.000291</td>\n",
       "      <td>0.002280</td>\n",
       "      <td>0.000003</td>\n",
       "      <td>Genotoxicity Alert</td>\n",
       "      <td>...</td>\n",
       "      <td>Genotoxicity Alert</td>\n",
       "      <td>NaN</td>\n",
       "      <td>Genotoxicity Alert</td>\n",
       "      <td>False</td>\n",
       "      <td>False</td>\n",
       "      <td>False</td>\n",
       "      <td>TTC_NA</td>\n",
       "      <td>[strained_heteronuclear_rings]</td>\n",
       "      <td>1.0</td>\n",
       "      <td>1.0</td>\n",
       "    </tr>\n",
       "    <tr>\n",
       "      <th>1</th>\n",
       "      <td>60-57-1</td>\n",
       "      <td>DTXSID9020453</td>\n",
       "      <td>Dieldrin</td>\n",
       "      <td>ClC1=C(Cl)C2(Cl)C3C4CC(C5OC45)C3C1(Cl)C2(Cl)Cl</td>\n",
       "      <td>99</td>\n",
       "      <td>NaN</td>\n",
       "      <td>0.000553</td>\n",
       "      <td>0.009572</td>\n",
       "      <td>0.000003</td>\n",
       "      <td>Genotoxicity Alert</td>\n",
       "      <td>...</td>\n",
       "      <td>Genotoxicity Alert</td>\n",
       "      <td>NaN</td>\n",
       "      <td>Genotoxicity Alert</td>\n",
       "      <td>False</td>\n",
       "      <td>False</td>\n",
       "      <td>False</td>\n",
       "      <td>TTC_NA</td>\n",
       "      <td>[strained_heteronuclear_rings]</td>\n",
       "      <td>1.0</td>\n",
       "      <td>1.0</td>\n",
       "    </tr>\n",
       "    <tr>\n",
       "      <th>2</th>\n",
       "      <td>87818-31-3</td>\n",
       "      <td>DTXSID3034456</td>\n",
       "      <td>Cinmethylin</td>\n",
       "      <td>CC(C)C12CCC(C)(O1)C(C2)OCC1=C(C)C=CC=C1</td>\n",
       "      <td>99</td>\n",
       "      <td>NaN</td>\n",
       "      <td>0.050130</td>\n",
       "      <td>0.445990</td>\n",
       "      <td>0.001500</td>\n",
       "      <td>Cramer Class III</td>\n",
       "      <td>...</td>\n",
       "      <td>Class III</td>\n",
       "      <td>NaN</td>\n",
       "      <td>Class III</td>\n",
       "      <td>False</td>\n",
       "      <td>False</td>\n",
       "      <td>False</td>\n",
       "      <td>TTC_NA</td>\n",
       "      <td>[]</td>\n",
       "      <td>0.0</td>\n",
       "      <td>1.0</td>\n",
       "    </tr>\n",
       "    <tr>\n",
       "      <th>3</th>\n",
       "      <td>76738-62-0</td>\n",
       "      <td>DTXSID2024242</td>\n",
       "      <td>Paclobutrazol</td>\n",
       "      <td>CC(C)(C)C(O)C(CC1=CC=C(Cl)C=C1)N1C=NC=N1</td>\n",
       "      <td>99</td>\n",
       "      <td>NaN</td>\n",
       "      <td>0.239110</td>\n",
       "      <td>2.872300</td>\n",
       "      <td>0.001500</td>\n",
       "      <td>Cramer Class III</td>\n",
       "      <td>...</td>\n",
       "      <td>Class III</td>\n",
       "      <td>NaN</td>\n",
       "      <td>Class III</td>\n",
       "      <td>False</td>\n",
       "      <td>False</td>\n",
       "      <td>False</td>\n",
       "      <td>TTC_NA</td>\n",
       "      <td>[]</td>\n",
       "      <td>0.0</td>\n",
       "      <td>0.0</td>\n",
       "    </tr>\n",
       "    <tr>\n",
       "      <th>4</th>\n",
       "      <td>87674-68-8</td>\n",
       "      <td>DTXSID4032376</td>\n",
       "      <td>Dimethenamid</td>\n",
       "      <td>COCC(C)N(C(=O)CCl)C1=C(C)SC=C1C</td>\n",
       "      <td>99</td>\n",
       "      <td>NaN</td>\n",
       "      <td>1.564200</td>\n",
       "      <td>15.084000</td>\n",
       "      <td>0.000003</td>\n",
       "      <td>Genotoxicity Alert</td>\n",
       "      <td>...</td>\n",
       "      <td>Genotoxicity Alert</td>\n",
       "      <td>NaN</td>\n",
       "      <td>Genotoxicity Alert</td>\n",
       "      <td>False</td>\n",
       "      <td>False</td>\n",
       "      <td>False</td>\n",
       "      <td>TTC_NA</td>\n",
       "      <td>[]</td>\n",
       "      <td>0.0</td>\n",
       "      <td>1.0</td>\n",
       "    </tr>\n",
       "  </tbody>\n",
       "</table>\n",
       "<p>5 rows × 23 columns</p>\n",
       "</div>"
      ],
      "text/plain": [
       "        casrn         DTXSID           name  \\\n",
       "0     72-20-8  DTXSID6020561         Endrin   \n",
       "1     60-57-1  DTXSID9020453       Dieldrin   \n",
       "2  87818-31-3  DTXSID3034456    Cinmethylin   \n",
       "3  76738-62-0  DTXSID2024242  Paclobutrazol   \n",
       "4  87674-68-8  DTXSID4032376   Dimethenamid   \n",
       "\n",
       "                                           smiles  daily_intake  iris_noael  \\\n",
       "0  ClC1=C(Cl)C2(Cl)C3C4CC(C5OC45)C3C1(Cl)C2(Cl)Cl            99         NaN   \n",
       "1  ClC1=C(Cl)C2(Cl)C3C4CC(C5OC45)C3C1(Cl)C2(Cl)Cl            99         NaN   \n",
       "2         CC(C)C12CCC(C)(O1)C(C2)OCC1=C(C)C=CC=C1            99         NaN   \n",
       "3        CC(C)(C)C(O)C(CC1=CC=C(Cl)C=C1)N1C=NC=N1            99         NaN   \n",
       "4                 COCC(C)N(C(=O)CCl)C1=C(C)SC=C1C            99         NaN   \n",
       "\n",
       "   tox_cast_oed_5th  tox_cast_oed_median  tox_tree_ttc           ttc_class  \\\n",
       "0          0.000291             0.002280      0.000003  Genotoxicity Alert   \n",
       "1          0.000553             0.009572      0.000003  Genotoxicity Alert   \n",
       "2          0.050130             0.445990      0.001500    Cramer Class III   \n",
       "3          0.239110             2.872300      0.001500    Cramer Class III   \n",
       "4          1.564200            15.084000      0.000003  Genotoxicity Alert   \n",
       "\n",
       "       ...           mark_ttc_class reason_for_NA       old_ttc_class  \\\n",
       "0      ...       Genotoxicity Alert           NaN  Genotoxicity Alert   \n",
       "1      ...       Genotoxicity Alert           NaN  Genotoxicity Alert   \n",
       "2      ...                Class III           NaN           Class III   \n",
       "3      ...                Class III           NaN           Class III   \n",
       "4      ...       Genotoxicity Alert           NaN  Genotoxicity Alert   \n",
       "\n",
       "  metal_salts inorgs inorgP  inorg_filter                             COC  \\\n",
       "0       False  False  False        TTC_NA  [strained_heteronuclear_rings]   \n",
       "1       False  False  False        TTC_NA  [strained_heteronuclear_rings]   \n",
       "2       False  False  False        TTC_NA                              []   \n",
       "3       False  False  False        TTC_NA                              []   \n",
       "4       False  False  False        TTC_NA                              []   \n",
       "\n",
       "   COC_Alerts Genetox_Alert  \n",
       "0         1.0           1.0  \n",
       "1         1.0           1.0  \n",
       "2         0.0           1.0  \n",
       "3         0.0           0.0  \n",
       "4         0.0           1.0  \n",
       "\n",
       "[5 rows x 23 columns]"
      ]
     },
     "execution_count": 145,
     "metadata": {},
     "output_type": "execute_result"
    }
   ],
   "source": [
    "lri_coc_genetox.head()"
   ]
  },
  {
   "cell_type": "code",
   "execution_count": 152,
   "metadata": {},
   "outputs": [],
   "source": [
    "temp = lri_coc_genetox.copy()"
   ]
  },
  {
   "cell_type": "markdown",
   "metadata": {},
   "source": [
    "Creat a copy of the df from which to process the final bins of substances into their respective categories"
   ]
  },
  {
   "cell_type": "code",
   "execution_count": 149,
   "metadata": {},
   "outputs": [
    {
     "data": {
      "text/plain": [
       " 0.0    40513\n",
       " 1.0     4524\n",
       "NaN         1\n",
       "Name: COC_Alerts, dtype: int64"
      ]
     },
     "execution_count": 149,
     "metadata": {},
     "output_type": "execute_result"
    }
   ],
   "source": [
    "temp.COC_Alerts.value_counts(dropna = False)"
   ]
  },
  {
   "cell_type": "code",
   "execution_count": 154,
   "metadata": {},
   "outputs": [],
   "source": [
    "temp3 = temp.replace(np.nan, 'None')"
   ]
  },
  {
   "cell_type": "code",
   "execution_count": 157,
   "metadata": {},
   "outputs": [
    {
     "data": {
      "text/plain": [
       "0.0     40513\n",
       "1.0      4524\n",
       "None        1\n",
       "Name: COC_Alerts, dtype: int64"
      ]
     },
     "execution_count": 157,
     "metadata": {},
     "output_type": "execute_result"
    }
   ],
   "source": [
    "temp3.COC_Alerts.value_counts(dropna = False)"
   ]
  },
  {
   "cell_type": "code",
   "execution_count": 155,
   "metadata": {},
   "outputs": [
    {
     "data": {
      "text/html": [
       "<div>\n",
       "<style scoped>\n",
       "    .dataframe tbody tr th:only-of-type {\n",
       "        vertical-align: middle;\n",
       "    }\n",
       "\n",
       "    .dataframe tbody tr th {\n",
       "        vertical-align: top;\n",
       "    }\n",
       "\n",
       "    .dataframe thead th {\n",
       "        text-align: right;\n",
       "    }\n",
       "</style>\n",
       "<table border=\"1\" class=\"dataframe\">\n",
       "  <thead>\n",
       "    <tr style=\"text-align: right;\">\n",
       "      <th></th>\n",
       "      <th>casrn</th>\n",
       "      <th>DTXSID</th>\n",
       "      <th>name</th>\n",
       "      <th>smiles</th>\n",
       "      <th>daily_intake</th>\n",
       "      <th>iris_noael</th>\n",
       "      <th>tox_cast_oed_5th</th>\n",
       "      <th>tox_cast_oed_median</th>\n",
       "      <th>tox_tree_ttc</th>\n",
       "      <th>ttc_class</th>\n",
       "      <th>...</th>\n",
       "      <th>mark_ttc_class</th>\n",
       "      <th>reason_for_NA</th>\n",
       "      <th>old_ttc_class</th>\n",
       "      <th>metal_salts</th>\n",
       "      <th>inorgs</th>\n",
       "      <th>inorgP</th>\n",
       "      <th>inorg_filter</th>\n",
       "      <th>COC</th>\n",
       "      <th>COC_Alerts</th>\n",
       "      <th>Genetox_Alert</th>\n",
       "    </tr>\n",
       "  </thead>\n",
       "  <tbody>\n",
       "    <tr>\n",
       "      <th>0</th>\n",
       "      <td>72-20-8</td>\n",
       "      <td>DTXSID6020561</td>\n",
       "      <td>Endrin</td>\n",
       "      <td>ClC1=C(Cl)C2(Cl)C3C4CC(C5OC45)C3C1(Cl)C2(Cl)Cl</td>\n",
       "      <td>99</td>\n",
       "      <td>None</td>\n",
       "      <td>0.000291</td>\n",
       "      <td>0.00228</td>\n",
       "      <td>0.000003</td>\n",
       "      <td>Genotoxicity Alert</td>\n",
       "      <td>...</td>\n",
       "      <td>Genotoxicity Alert</td>\n",
       "      <td>None</td>\n",
       "      <td>Genotoxicity Alert</td>\n",
       "      <td>False</td>\n",
       "      <td>False</td>\n",
       "      <td>False</td>\n",
       "      <td>TTC_NA</td>\n",
       "      <td>[strained_heteronuclear_rings]</td>\n",
       "      <td>1</td>\n",
       "      <td>1</td>\n",
       "    </tr>\n",
       "    <tr>\n",
       "      <th>1</th>\n",
       "      <td>60-57-1</td>\n",
       "      <td>DTXSID9020453</td>\n",
       "      <td>Dieldrin</td>\n",
       "      <td>ClC1=C(Cl)C2(Cl)C3C4CC(C5OC45)C3C1(Cl)C2(Cl)Cl</td>\n",
       "      <td>99</td>\n",
       "      <td>None</td>\n",
       "      <td>0.000553</td>\n",
       "      <td>0.0095723</td>\n",
       "      <td>0.000003</td>\n",
       "      <td>Genotoxicity Alert</td>\n",
       "      <td>...</td>\n",
       "      <td>Genotoxicity Alert</td>\n",
       "      <td>None</td>\n",
       "      <td>Genotoxicity Alert</td>\n",
       "      <td>False</td>\n",
       "      <td>False</td>\n",
       "      <td>False</td>\n",
       "      <td>TTC_NA</td>\n",
       "      <td>[strained_heteronuclear_rings]</td>\n",
       "      <td>1</td>\n",
       "      <td>1</td>\n",
       "    </tr>\n",
       "    <tr>\n",
       "      <th>2</th>\n",
       "      <td>87818-31-3</td>\n",
       "      <td>DTXSID3034456</td>\n",
       "      <td>Cinmethylin</td>\n",
       "      <td>CC(C)C12CCC(C)(O1)C(C2)OCC1=C(C)C=CC=C1</td>\n",
       "      <td>99</td>\n",
       "      <td>None</td>\n",
       "      <td>0.05013</td>\n",
       "      <td>0.44599</td>\n",
       "      <td>0.001500</td>\n",
       "      <td>Cramer Class III</td>\n",
       "      <td>...</td>\n",
       "      <td>Class III</td>\n",
       "      <td>None</td>\n",
       "      <td>Class III</td>\n",
       "      <td>False</td>\n",
       "      <td>False</td>\n",
       "      <td>False</td>\n",
       "      <td>TTC_NA</td>\n",
       "      <td>[]</td>\n",
       "      <td>0</td>\n",
       "      <td>1</td>\n",
       "    </tr>\n",
       "    <tr>\n",
       "      <th>3</th>\n",
       "      <td>76738-62-0</td>\n",
       "      <td>DTXSID2024242</td>\n",
       "      <td>Paclobutrazol</td>\n",
       "      <td>CC(C)(C)C(O)C(CC1=CC=C(Cl)C=C1)N1C=NC=N1</td>\n",
       "      <td>99</td>\n",
       "      <td>None</td>\n",
       "      <td>0.23911</td>\n",
       "      <td>2.8723</td>\n",
       "      <td>0.001500</td>\n",
       "      <td>Cramer Class III</td>\n",
       "      <td>...</td>\n",
       "      <td>Class III</td>\n",
       "      <td>None</td>\n",
       "      <td>Class III</td>\n",
       "      <td>False</td>\n",
       "      <td>False</td>\n",
       "      <td>False</td>\n",
       "      <td>TTC_NA</td>\n",
       "      <td>[]</td>\n",
       "      <td>0</td>\n",
       "      <td>0</td>\n",
       "    </tr>\n",
       "    <tr>\n",
       "      <th>4</th>\n",
       "      <td>87674-68-8</td>\n",
       "      <td>DTXSID4032376</td>\n",
       "      <td>Dimethenamid</td>\n",
       "      <td>COCC(C)N(C(=O)CCl)C1=C(C)SC=C1C</td>\n",
       "      <td>99</td>\n",
       "      <td>None</td>\n",
       "      <td>1.5642</td>\n",
       "      <td>15.084</td>\n",
       "      <td>0.000003</td>\n",
       "      <td>Genotoxicity Alert</td>\n",
       "      <td>...</td>\n",
       "      <td>Genotoxicity Alert</td>\n",
       "      <td>None</td>\n",
       "      <td>Genotoxicity Alert</td>\n",
       "      <td>False</td>\n",
       "      <td>False</td>\n",
       "      <td>False</td>\n",
       "      <td>TTC_NA</td>\n",
       "      <td>[]</td>\n",
       "      <td>0</td>\n",
       "      <td>1</td>\n",
       "    </tr>\n",
       "  </tbody>\n",
       "</table>\n",
       "<p>5 rows × 23 columns</p>\n",
       "</div>"
      ],
      "text/plain": [
       "        casrn         DTXSID           name  \\\n",
       "0     72-20-8  DTXSID6020561         Endrin   \n",
       "1     60-57-1  DTXSID9020453       Dieldrin   \n",
       "2  87818-31-3  DTXSID3034456    Cinmethylin   \n",
       "3  76738-62-0  DTXSID2024242  Paclobutrazol   \n",
       "4  87674-68-8  DTXSID4032376   Dimethenamid   \n",
       "\n",
       "                                           smiles  daily_intake iris_noael  \\\n",
       "0  ClC1=C(Cl)C2(Cl)C3C4CC(C5OC45)C3C1(Cl)C2(Cl)Cl            99       None   \n",
       "1  ClC1=C(Cl)C2(Cl)C3C4CC(C5OC45)C3C1(Cl)C2(Cl)Cl            99       None   \n",
       "2         CC(C)C12CCC(C)(O1)C(C2)OCC1=C(C)C=CC=C1            99       None   \n",
       "3        CC(C)(C)C(O)C(CC1=CC=C(Cl)C=C1)N1C=NC=N1            99       None   \n",
       "4                 COCC(C)N(C(=O)CCl)C1=C(C)SC=C1C            99       None   \n",
       "\n",
       "  tox_cast_oed_5th tox_cast_oed_median  tox_tree_ttc           ttc_class  \\\n",
       "0         0.000291             0.00228      0.000003  Genotoxicity Alert   \n",
       "1         0.000553           0.0095723      0.000003  Genotoxicity Alert   \n",
       "2          0.05013             0.44599      0.001500    Cramer Class III   \n",
       "3          0.23911              2.8723      0.001500    Cramer Class III   \n",
       "4           1.5642              15.084      0.000003  Genotoxicity Alert   \n",
       "\n",
       "       ...           mark_ttc_class reason_for_NA       old_ttc_class  \\\n",
       "0      ...       Genotoxicity Alert          None  Genotoxicity Alert   \n",
       "1      ...       Genotoxicity Alert          None  Genotoxicity Alert   \n",
       "2      ...                Class III          None           Class III   \n",
       "3      ...                Class III          None           Class III   \n",
       "4      ...       Genotoxicity Alert          None  Genotoxicity Alert   \n",
       "\n",
       "  metal_salts inorgs inorgP  inorg_filter                             COC  \\\n",
       "0       False  False  False        TTC_NA  [strained_heteronuclear_rings]   \n",
       "1       False  False  False        TTC_NA  [strained_heteronuclear_rings]   \n",
       "2       False  False  False        TTC_NA                              []   \n",
       "3       False  False  False        TTC_NA                              []   \n",
       "4       False  False  False        TTC_NA                              []   \n",
       "\n",
       "   COC_Alerts Genetox_Alert  \n",
       "0           1             1  \n",
       "1           1             1  \n",
       "2           0             1  \n",
       "3           0             0  \n",
       "4           0             1  \n",
       "\n",
       "[5 rows x 23 columns]"
      ]
     },
     "execution_count": 155,
     "metadata": {},
     "output_type": "execute_result"
    }
   ],
   "source": [
    "temp3.head()"
   ]
  },
  {
   "cell_type": "code",
   "execution_count": 161,
   "metadata": {},
   "outputs": [],
   "source": [
    "final_outcome = []\n",
    "for a,b,c in list(zip(temp3['inorg_filter'], temp3['COC_Alerts'], temp3['Genetox_Alert'] )):\n",
    "    if a == 'inorganic':\n",
    "        final_outcome.append('inorganic')\n",
    "    elif (a != 'inorganic') & (b == 1):\n",
    "        final_outcome.append('COC')\n",
    "    elif (a != 'inorganic') & (b == 'None') | (b == 0) & (c == 1):\n",
    "        final_outcome.append('Genotoxicity Alert')\n",
    "    elif (a != 'inorganic') & (b == 'None') | (b == 0) & (c == 0):\n",
    "        final_outcome.append('Cramer_class_applicable')\n",
    "temp3['final_TTC_category'] = final_outcome    "
   ]
  },
  {
   "cell_type": "code",
   "execution_count": 168,
   "metadata": {},
   "outputs": [
    {
     "data": {
      "image/png": "[encoded data removed]",
      "text/plain": [
       "<Figure size 432x288 with 1 Axes>"
      ]
     },
     "metadata": {},
     "output_type": "display_data"
    }
   ],
   "source": [
    "plt.style.use('dark_background')\n",
    "temp3.final_TTC_category.value_counts(dropna = True).plot.bar()\n",
    "\n",
    "plt.tight_layout()\n",
    "plt.savefig('/share/home3/gpatlewi/python/Unilever/FDA/Output/new_TTC_category_counts.png')\n"
   ]
  },
  {
   "cell_type": "code",
   "execution_count": 169,
   "metadata": {},
   "outputs": [],
   "source": [
    "writer = pd.ExcelWriter('/share/home3/gpatlewi/python/Unilever/FDA/Output/LRI_150819.xlsx', engine='xlsxwriter')\n",
    "\n",
    "# Convert the dataframe to an XlsxWriter Excel object.\n",
    "\n",
    "temp3.to_excel(writer, sheet_name = 'final')\n",
    "\n",
    "\n",
    "\n",
    "writer.save()"
   ]
  },
  {
   "cell_type": "code",
   "execution_count": null,
   "metadata": {},
   "outputs": [],
   "source": []
  },
  {
   "cell_type": "code",
   "execution_count": null,
   "metadata": {},
   "outputs": [],
   "source": []
  },
  {
   "cell_type": "code",
   "execution_count": null,
   "metadata": {},
   "outputs": [],
   "source": []
  },
  {
   "cell_type": "code",
   "execution_count": null,
   "metadata": {},
   "outputs": [],
   "source": []
  }
 ],
 "metadata": {
  "kernelspec": {
   "display_name": "Python 3",
   "language": "python",
   "name": "python3"
  },
  "language_info": {
   "codemirror_mode": {
    "name": "ipython",
    "version": 3
   },
   "file_extension": ".py",
   "mimetype": "text/x-python",
   "name": "python",
   "nbconvert_exporter": "python",
   "pygments_lexer": "ipython3",
   "version": "3.7.6"
  }
 },
 "nbformat": 4,
 "nbformat_minor": 4
}
