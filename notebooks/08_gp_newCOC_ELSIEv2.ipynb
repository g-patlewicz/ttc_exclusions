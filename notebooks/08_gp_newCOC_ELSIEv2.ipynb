{
 "cells": [
  {
   "cell_type": "code",
   "execution_count": 1,
   "metadata": {},
   "outputs": [],
   "source": [
    "import pandas as pd\n",
    "import numpy as np\n",
    "from rdkit import Chem\n",
    "from rdkit.Chem import AllChem\n",
    "from rdkit.Chem import Draw\n",
    "from rdkit.Chem.Draw import IPythonConsole\n",
    "import openpyxl\n",
    "import os\n"
   ]
  },
  {
   "cell_type": "code",
   "execution_count": 2,
   "metadata": {},
   "outputs": [],
   "source": [
    "import matplotlib.pyplot as plt\n",
    "import seaborn as sns\n",
    "%matplotlib inline"
   ]
  },
  {
   "cell_type": "code",
   "execution_count": 19,
   "metadata": {},
   "outputs": [],
   "source": [
    "TOP = os.getcwd().replace('notebooks', '')\n",
    "raw_dir = TOP + 'data/raw/'\n",
    "interim_dir = TOP + 'data/interim/'\n",
    "processed_dir = TOP + 'data/processed/'\n",
    "external_dir = TOP + 'data/external/'\n",
    "figures_dir = TOP + 'reports/figures/'"
   ]
  },
  {
   "cell_type": "code",
   "execution_count": 36,
   "metadata": {},
   "outputs": [],
   "source": [
    "elsie = pd.read_excel(raw_dir+'CCD-Batch-Search_2022-03-28_09_38_13.xlsx', sheet_name = 'Main Data')"
   ]
  },
  {
   "cell_type": "code",
   "execution_count": 37,
   "metadata": {},
   "outputs": [
    {
     "data": {
      "text/plain": [
       "(457, 23)"
      ]
     },
     "execution_count": 37,
     "metadata": {},
     "output_type": "execute_result"
    }
   ],
   "source": [
    "elsie.shape"
   ]
  },
  {
   "cell_type": "code",
   "execution_count": 44,
   "metadata": {},
   "outputs": [],
   "source": [
    "elsie = elsie[(elsie['SMILES'] != ' ') & (~elsie['SMILES'].str.contains('\\*'))]"
   ]
  },
  {
   "cell_type": "code",
   "execution_count": 45,
   "metadata": {},
   "outputs": [
    {
     "data": {
      "text/plain": [
       "(416, 23)"
      ]
     },
     "execution_count": 45,
     "metadata": {},
     "output_type": "execute_result"
    }
   ],
   "source": [
    "elsie.shape"
   ]
  },
  {
   "cell_type": "code",
   "execution_count": 46,
   "metadata": {},
   "outputs": [],
   "source": [
    "elise_dict ={k:Chem.MolFromSmiles(v) for k,v in zip(elsie['DTXSID'],elsie['SMILES'])}"
   ]
  },
  {
   "cell_type": "code",
   "execution_count": 48,
   "metadata": {},
   "outputs": [],
   "source": [
    "#elise_dict"
   ]
  },
  {
   "cell_type": "code",
   "execution_count": 49,
   "metadata": {},
   "outputs": [],
   "source": [
    "elise_dict_v1 = {k: v for k, v in elise_dict.items() if v is not None}"
   ]
  },
  {
   "cell_type": "code",
   "execution_count": 50,
   "metadata": {},
   "outputs": [],
   "source": [
    "elise_dict_smi ={k:v for k,v in zip(elsie['DTXSID'],elsie['SMILES']) if v is not None}"
   ]
  },
  {
   "cell_type": "code",
   "execution_count": 51,
   "metadata": {},
   "outputs": [
    {
     "data": {
      "text/plain": [
       "416"
      ]
     },
     "execution_count": 51,
     "metadata": {},
     "output_type": "execute_result"
    }
   ],
   "source": [
    "len(elise_dict_v1)"
   ]
  },
  {
   "cell_type": "code",
   "execution_count": 52,
   "metadata": {},
   "outputs": [],
   "source": [
    "#elise_dict_smi"
   ]
  },
  {
   "cell_type": "markdown",
   "metadata": {},
   "source": [
    "FDA COC listing"
   ]
  },
  {
   "cell_type": "code",
   "execution_count": 53,
   "metadata": {},
   "outputs": [],
   "source": [
    "fda_coc = pd.read_excel(raw_dir+'FDA_COC.xlsx', sheet_name = 'FDA_COC')\n",
    "\n",
    "fda_coc = fda_coc.iloc[:, :5]\n"
   ]
  },
  {
   "cell_type": "code",
   "execution_count": 54,
   "metadata": {},
   "outputs": [],
   "source": [
    "fda_dict = {}\n",
    "for i,group in fda_coc.groupby('COC'):\n",
    "    key = [name for name in group['COC'] if name!=' '][0]\n",
    "    value = set(group['SMARTS'])\n",
    "    fda_dict[key]=value"
   ]
  },
  {
   "cell_type": "code",
   "execution_count": 55,
   "metadata": {},
   "outputs": [
    {
     "name": "stderr",
     "output_type": "stream",
     "text": [
      "RDKit ERROR: [15:40:53] SMARTS Parse Error: syntax error while parsing: [$([NX3H2][NX3]([#1,#6;!$([CX3](=[OX1])[#1,#6])_100])[#1,#6;!$([CX3](=[OX1])[#1,#6])_100 show full SMARTS\n",
      "RDKit ERROR: [15:40:53] SMARTS Parse Error: Failed parsing SMARTS '[$([NX3H2][NX3]([#1,#6;!$([CX3](=[OX1])[#1,#6])_100])[#1,#6;!$([CX3](=[OX1])[#1,#6])_100 show full SMARTS' for input: '[$([NX3H2][NX3]([#1,#6;!$([CX3](=[OX1])[#1,#6])])[#1,#6;!$([CX3](=[OX1])[#1,#6]) show full SMARTS'\n",
      "RDKit ERROR: [15:40:53] SMARTS Parse Error: syntax error while parsing: [OX2]1[CX4]([#1,c,$([CH3])_100,$([CH2][CH3])_101,$([CH2][CH2][CH3])_102,$([CH]([CH3])[CH3])_103\n",
      "RDKit ERROR: [15:40:53] SMARTS Parse Error: Failed parsing SMARTS '[OX2]1[CX4]([#1,c,$([CH3])_100,$([CH2][CH3])_101,$([CH2][CH2][CH3])_102,$([CH]([CH3])[CH3])_103' for input: '[OX2]1[CX4]([#1,c,$([CH3]),$([CH2][CH3]),$([CH2][CH2][CH3]),$([CH]([CH3])[CH3])'\n"
     ]
    }
   ],
   "source": [
    "fda_smarts = {k:[Chem.MolFromSmarts(e) for e in v] for k,v in fda_dict.items()}\n",
    "fda_sms = {k:list(filter(None, fda_smarts[k])) for k,v in fda_smarts.items() }"
   ]
  },
  {
   "cell_type": "code",
   "execution_count": 56,
   "metadata": {},
   "outputs": [],
   "source": [
    "#fda_sms"
   ]
  },
  {
   "cell_type": "markdown",
   "metadata": {},
   "source": [
    "Inorganic filter functions"
   ]
  },
  {
   "cell_type": "code",
   "execution_count": 57,
   "metadata": {},
   "outputs": [],
   "source": [
    "def has_metal_atom(smiles):\n",
    "    metal_dict = {'Na': 11 , 'Mg': 12, 'Si': 14, 'K':19, 'Ca':20, 'Mn':25, 'Fe':26, 'Cu':29, 'Zn':30, 'Co':27, 'Ni':28, 'As': 33, 'Cr':24, 'Hg':80, 'Pb':82, 'V':23, 'Al':13, 'Ag':47, 'Cd':48, 'B':5, 'Ti': 22, 'Se': 34, 'Sn': 50, 'Sb':51, 'Be': 4, 'Zr': 40, 'Nb': 41, 'Mo': 42, 'Te':52, 'Ba':56, 'W':74, 'Au': 79, 'Bi': 83}\n",
    "    essential_metal_dict = {'Na': 11 , 'K':19,'Mg': 12,  'Ca':20, 'Fe':26,  'Mn':25, 'Co':27, 'Cu':29, 'Zn':30, 'Mo': 42}\n",
    "    mol = Chem.MolFromSmiles(smiles)\n",
    "    if mol  is None:\n",
    "        return False\n",
    "    return any(atom for atom in mol.GetAtoms() if atom.GetAtomicNum() in list(metal_dict.values()))"
   ]
  },
  {
   "cell_type": "code",
   "execution_count": 58,
   "metadata": {},
   "outputs": [],
   "source": [
    "def metal_ions(smiles):\n",
    "    essential_metal = ['[Na+]', '[K+]', '[Mg++]',  '[Ca++]', '[Fe+3]',  '[Mn++]', '[Co+]', '[Cu++]', '[Zn++]', '[Mo++]']\n",
    "    mol = Chem.MolFromSmiles(smiles)\n",
    "    if mol  is None:\n",
    "        return False\n",
    "    return any(mol.HasSubstructMatch(Chem.MolFromSmarts(e)) for e in essential_metal)"
   ]
  },
  {
   "cell_type": "code",
   "execution_count": 59,
   "metadata": {},
   "outputs": [],
   "source": [
    "def P_inorg(smiles):\n",
    "    mol = Chem.MolFromSmiles(smiles)\n",
    "    if mol  is None:\n",
    "        return False\n",
    "    return mol.HasSubstructMatch(Chem.MolFromSmarts('[OH]P(=[O])([OH])[OH]'))"
   ]
  },
  {
   "cell_type": "markdown",
   "metadata": {},
   "source": [
    "Genotoxicity alerts"
   ]
  },
  {
   "cell_type": "code",
   "execution_count": 60,
   "metadata": {},
   "outputs": [],
   "source": [
    "genetox = pd.read_excel(raw_dir+'genetox_structural_alerts_201021.xlsx', sheet_name = 'Final')\n",
    "genetox = genetox.drop_duplicates(['SMARTS'], keep = 'first')"
   ]
  },
  {
   "cell_type": "code",
   "execution_count": 61,
   "metadata": {},
   "outputs": [],
   "source": [
    "genetox_dict = {}\n",
    "for i,group in genetox.groupby('ID'):\n",
    "    key = [name for name in group['ID'] if name!=' '][0]\n",
    "    value = set(group['SMARTS'])\n",
    "    genetox_dict[key]=value"
   ]
  },
  {
   "cell_type": "code",
   "execution_count": 62,
   "metadata": {},
   "outputs": [
    {
     "name": "stderr",
     "output_type": "stream",
     "text": [
      "RDKit ERROR: [15:41:25] SMARTS Parse Error: syntax error while parsing: [$([CX4]([$([OH])_100,$(C=O)_101,$([NX3])_102])([!F!Cl!Br!I!C])([*!$(C)_103])[CH2][F,Cl,Br,I])_104,$ show full SMARTS\n",
      "RDKit ERROR: [15:41:25] SMARTS Parse Error: Failed parsing SMARTS '[$([CX4]([$([OH])_100,$(C=O)_101,$([NX3])_102])([!F!Cl!Br!I!C])([*!$(C)_103])[CH2][F,Cl,Br,I])_104,$ show full SMARTS' for input: '[$([CX4]([$([OH]),$(C=O),$([NX3])])([!F!Cl!Br!I!C])([*!$(C)])[CH2][F,Cl,Br,I]),$ show full SMARTS'\n",
      "RDKit ERROR: [15:41:25] SMARTS Parse Error: syntax error while parsing: NOT [!CX4!#1!F!Cl!Br!I] AND [CX4!R0][F,Cl,Br,I]\n",
      "RDKit ERROR: [15:41:25] SMARTS Parse Error: Failed parsing SMARTS 'NOT [!CX4!#1!F!Cl!Br!I] AND [CX4!R0][F,Cl,Br,I]' for input: 'NOT [!CX4!#1!F!Cl!Br!I] AND [CX4!R0][F,Cl,Br,I]'\n",
      "RDKit ERROR: [15:41:25] SMARTS Parse Error: syntax error while parsing: [a!r0][$([NH2])_100;!$([NH2]aa[$(C(F)(F)F)_101,$(S(=O)(=O)[NX3]([#6,#1])[#6,#1])_102,$(S(=O) show full SMARTS\n",
      "RDKit ERROR: [15:41:25] SMARTS Parse Error: Failed parsing SMARTS '[a!r0][$([NH2])_100;!$([NH2]aa[$(C(F)(F)F)_101,$(S(=O)(=O)[NX3]([#6,#1])[#6,#1])_102,$(S(=O) show full SMARTS' for input: '[a!r0][$([NH2]);!$([NH2]aa[$(C(F)(F)F),$(S(=O)(=O)[NX3]([#6,#1])[#6,#1]),$(S(=O) show full SMARTS'\n",
      "RDKit ERROR: [15:41:25] SMARTS Parse Error: syntax error while parsing: [a!r0][$([NH2])_100,$([NX3][OX2H1])_101,$([NX3][OX2][CX3H1](=[OX1]))_102,$([NX2]=[CH2])_103,$([N show full SMARTS\n",
      "RDKit ERROR: [15:41:25] SMARTS Parse Error: Failed parsing SMARTS '[a!r0][$([NH2])_100,$([NX3][OX2H1])_101,$([NX3][OX2][CX3H1](=[OX1]))_102,$([NX2]=[CH2])_103,$([N show full SMARTS' for input: '[a!r0][$([NH2]),$([NX3][OX2H1]),$([NX3][OX2][CX3H1](=[OX1])),$([NX2]=[CH2]),$([N show full SMARTS'\n",
      "RDKit ERROR: [15:41:25] SMARTS Parse Error: syntax error while parsing: [a!r0][$([NX3+](=[OX1])[O-])_100,$([NX3](=[OX1])=[OX1])_101;!$([NX3]aa-[$(C(F)(F)F)_102,$(S( show full SMARTS\n",
      "RDKit ERROR: [15:41:25] SMARTS Parse Error: Failed parsing SMARTS '[a!r0][$([NX3+](=[OX1])[O-])_100,$([NX3](=[OX1])=[OX1])_101;!$([NX3]aa-[$(C(F)(F)F)_102,$(S( show full SMARTS' for input: '[a!r0][$([NX3+](=[OX1])[O-]),$([NX3](=[OX1])=[OX1]);!$([NX3]aa-[$(C(F)(F)F),$(S( show full SMARTS'\n",
      "RDKit ERROR: [15:41:25] SMARTS Parse Error: syntax error while parsing: [a!r0][$([NX3+](=[OX1])[O-])_100,$([NX3](=[OX1])=[OX1])_101;!$([NX3]a(a-[!#1])a-[!#1])_102;! show full SMARTS\n",
      "RDKit ERROR: [15:41:25] SMARTS Parse Error: Failed parsing SMARTS '[a!r0][$([NX3+](=[OX1])[O-])_100,$([NX3](=[OX1])=[OX1])_101;!$([NX3]a(a-[!#1])a-[!#1])_102;! show full SMARTS' for input: '[a!r0][$([NX3+](=[OX1])[O-]),$([NX3](=[OX1])=[OX1]);!$([NX3]a(a-[!#1])a-[!#1]);! show full SMARTS'\n",
      "RDKit ERROR: [15:41:25] SMARTS Parse Error: syntax error while parsing: [a!r0][$([NX3;H1])_100,$([NX3][CH3])_101;!$([NX3]a(a-[!#1])a-[!#1])_102;!$([NX3]aa-C(=[OX1]) show full SMARTS\n",
      "RDKit ERROR: [15:41:25] SMARTS Parse Error: Failed parsing SMARTS '[a!r0][$([NX3;H1])_100,$([NX3][CH3])_101;!$([NX3]a(a-[!#1])a-[!#1])_102;!$([NX3]aa-C(=[OX1]) show full SMARTS' for input: '[a!r0][$([NX3;H1]),$([NX3][CH3]);!$([NX3]a(a-[!#1])a-[!#1]);!$([NX3]aa-C(=[OX1]) show full SMARTS'\n",
      "RDKit ERROR: [15:41:25] SMARTS Parse Error: syntax error while parsing: [$([NX2]([a!r0])=[NX2][a!r0])_100;!$([NX2](aaS(=O)(=O)[OH])=[NX2]aaS(=O)(=O)[OH])_101;!$ show full SMARTS\n",
      "RDKit ERROR: [15:41:25] SMARTS Parse Error: Failed parsing SMARTS '[$([NX2]([a!r0])=[NX2][a!r0])_100;!$([NX2](aaS(=O)(=O)[OH])=[NX2]aaS(=O)(=O)[OH])_101;!$ show full SMARTS' for input: '[$([NX2]([a!r0])=[NX2][a!r0]);!$([NX2](aaS(=O)(=O)[OH])=[NX2]aaS(=O)(=O)[OH]);!$ show full SMARTS'\n",
      "RDKit ERROR: [15:41:25] SMARTS Parse Error: syntax error while parsing: [$([$([CX4]([*!C])([*!C])([*!C]))_100,$([CX4]([*!C])([*!C])([*!C])[CX4]([*!C])([*!C] show full SMARTS\n",
      "RDKit ERROR: [15:41:25] SMARTS Parse Error: Failed parsing SMARTS '[$([$([CX4]([*!C])([*!C])([*!C]))_100,$([CX4]([*!C])([*!C])([*!C])[CX4]([*!C])([*!C] show full SMARTS' for input: '[$([$([CX4]([*!C])([*!C])([*!C])),$([CX4]([*!C])([*!C])([*!C])[CX4]([*!C])([*!C] show full SMARTS'\n",
      "RDKit ERROR: [15:41:25] SMARTS Parse Error: syntax error while parsing: [a!r0][$([NX3;H1][CH3])_100,$([NX3;H1][CH2][CH3])_101,$([NX3]([CH3])[CH3])_102,$([NX3]([CH3] show full SMARTS\n",
      "RDKit ERROR: [15:41:25] SMARTS Parse Error: Failed parsing SMARTS '[a!r0][$([NX3;H1][CH3])_100,$([NX3;H1][CH2][CH3])_101,$([NX3]([CH3])[CH3])_102,$([NX3]([CH3] show full SMARTS' for input: '[a!r0][$([NX3;H1][CH3]),$([NX3;H1][CH2][CH3]),$([NX3]([CH3])[CH3]),$([NX3]([CH3] show full SMARTS'\n",
      "RDKit ERROR: [15:41:25] SMARTS Parse Error: syntax error while parsing: [$([cX3R3])_100,$([cX3;R1,R2,R3]1[cX3;R1,R2,R3][cX3;R1,R2,R3][cX3;R1,R2,R3][cX3;R2,R show full SMARTS\n",
      "RDKit ERROR: [15:41:25] SMARTS Parse Error: Failed parsing SMARTS '[$([cX3R3])_100,$([cX3;R1,R2,R3]1[cX3;R1,R2,R3][cX3;R1,R2,R3][cX3;R1,R2,R3][cX3;R2,R show full SMARTS' for input: '[$([cX3R3]),$([cX3;R1,R2,R3]1[cX3;R1,R2,R3][cX3;R1,R2,R3][cX3;R1,R2,R3][cX3;R2,R show full SMARTS'\n",
      "RDKit ERROR: [15:41:25] SMARTS Parse Error: syntax error while parsing: [$([$([aR3])_100,$([$([aR2]([aR])([aR])([aR]))_101].[$([aR2]([aR])([aR])([aR]))_101].[$([aR2 show full SMARTS\n",
      "RDKit ERROR: [15:41:25] SMARTS Parse Error: Failed parsing SMARTS '[$([$([aR3])_100,$([$([aR2]([aR])([aR])([aR]))_101].[$([aR2]([aR])([aR])([aR]))_101].[$([aR2 show full SMARTS' for input: '[$([$([aR3]),$([$([aR2]([aR])([aR])([aR]))].[$([aR2]([aR])([aR])([aR]))].[$([aR2 show full SMARTS'\n",
      "RDKit ERROR: [15:41:25] SMARTS Parse Error: syntax error while parsing: [$([Sv6X4;!$([Sv6X4][OH])_100;!$([Sv6X4][SH])_101;!$([Sv6X4][O-])_102;!$([Sv6X4][S-])_103](=[OX1 show full SMARTS\n",
      "RDKit ERROR: [15:41:25] SMARTS Parse Error: Failed parsing SMARTS '[$([Sv6X4;!$([Sv6X4][OH])_100;!$([Sv6X4][SH])_101;!$([Sv6X4][O-])_102;!$([Sv6X4][S-])_103](=[OX1 show full SMARTS' for input: '[$([Sv6X4;!$([Sv6X4][OH]);!$([Sv6X4][SH]);!$([Sv6X4][O-]);!$([Sv6X4][S-])](=[OX1 show full SMARTS'\n",
      "RDKit ERROR: [15:41:25] SMARTS Parse Error: syntax error while parsing: [$([NX3H2][#7])_100,$([NX3H2][#8])_101,$([OX2H1][#7])_102,$([OX2H1][#8])_103;!$([NH2][#7][$([OX2 show full SMARTS\n",
      "RDKit ERROR: [15:41:25] SMARTS Parse Error: Failed parsing SMARTS '[$([NX3H2][#7])_100,$([NX3H2][#8])_101,$([OX2H1][#7])_102,$([OX2H1][#8])_103;!$([NH2][#7][$([OX2 show full SMARTS' for input: '[$([NX3H2][#7]),$([NX3H2][#8]),$([OX2H1][#7]),$([OX2H1][#8]);!$([NH2][#7][$([OX2 show full SMARTS'\n",
      "RDKit ERROR: [15:41:25] SMARTS Parse Error: syntax error while parsing: [CX3]([!$([OH])_100;!$([O-])_101])(=[OX1])[CX3H1]=[CX3]([$([CH3])_102,$([CH2][CH3])_103,$([CH2][ show full SMARTS\n",
      "RDKit ERROR: [15:41:25] SMARTS Parse Error: Failed parsing SMARTS '[CX3]([!$([OH])_100;!$([O-])_101])(=[OX1])[CX3H1]=[CX3]([$([CH3])_102,$([CH2][CH3])_103,$([CH2][ show full SMARTS' for input: '[CX3]([!$([OH]);!$([O-])])(=[OX1])[CX3H1]=[CX3]([$([CH3]),$([CH2][CH3]),$([CH2][ show full SMARTS'\n"
     ]
    }
   ],
   "source": [
    "genetox_smarts = {k:[Chem.MolFromSmarts(e) for e in v] for k,v in genetox_dict.items()}\n",
    "genetox_smarts = {k: list(filter(None, genetox_smarts[k])) for k,v in genetox_smarts.items()}"
   ]
  },
  {
   "cell_type": "code",
   "execution_count": 63,
   "metadata": {},
   "outputs": [],
   "source": [
    "def inorgs(df):\n",
    "    df['metal_salts'] = [metal_ions(x) for x in df['SMILES']]\n",
    "    df['inorgs'] = [has_metal_atom(x) for x in df['SMILES']]\n",
    "    df['inorgP'] = [P_inorg(x) for x in df['SMILES']]\n",
    "    return df"
   ]
  },
  {
   "cell_type": "code",
   "execution_count": 64,
   "metadata": {},
   "outputs": [
    {
     "name": "stderr",
     "output_type": "stream",
     "text": [
      "<ipython-input-63-244e5973cabc>:2: SettingWithCopyWarning: \n",
      "A value is trying to be set on a copy of a slice from a DataFrame.\n",
      "Try using .loc[row_indexer,col_indexer] = value instead\n",
      "\n",
      "See the caveats in the documentation: https://pandas.pydata.org/pandas-docs/stable/user_guide/indexing.html#returning-a-view-versus-a-copy\n",
      "  df['metal_salts'] = [metal_ions(x) for x in df['SMILES']]\n",
      "<ipython-input-63-244e5973cabc>:3: SettingWithCopyWarning: \n",
      "A value is trying to be set on a copy of a slice from a DataFrame.\n",
      "Try using .loc[row_indexer,col_indexer] = value instead\n",
      "\n",
      "See the caveats in the documentation: https://pandas.pydata.org/pandas-docs/stable/user_guide/indexing.html#returning-a-view-versus-a-copy\n",
      "  df['inorgs'] = [has_metal_atom(x) for x in df['SMILES']]\n",
      "<ipython-input-63-244e5973cabc>:4: SettingWithCopyWarning: \n",
      "A value is trying to be set on a copy of a slice from a DataFrame.\n",
      "Try using .loc[row_indexer,col_indexer] = value instead\n",
      "\n",
      "See the caveats in the documentation: https://pandas.pydata.org/pandas-docs/stable/user_guide/indexing.html#returning-a-view-versus-a-copy\n",
      "  df['inorgP'] = [P_inorg(x) for x in df['SMILES']]\n"
     ]
    }
   ],
   "source": [
    "elsie = inorgs(elsie)"
   ]
  },
  {
   "cell_type": "code",
   "execution_count": 65,
   "metadata": {},
   "outputs": [],
   "source": [
    "def inorg_filter(df):\n",
    "    inorg_filter = []\n",
    "    for x, y, z in list(zip(df['metal_salts'], df['inorgs'], df['inorgP'])):\n",
    "        if x is True:\n",
    "            inorg_filter.append('metal_salt')\n",
    "        elif x is False and y is True:\n",
    "            inorg_filter.append('inorganic')\n",
    "        elif z is True:\n",
    "            inorg_filter.append('inorganic')\n",
    "        else:\n",
    "            inorg_filter.append('TTC_NA')\n",
    "    df['inorg_filter'] = inorg_filter\n",
    "    return df"
   ]
  },
  {
   "cell_type": "code",
   "execution_count": 80,
   "metadata": {},
   "outputs": [
    {
     "name": "stderr",
     "output_type": "stream",
     "text": [
      "<ipython-input-65-9413b3d1b03f>:12: SettingWithCopyWarning: \n",
      "A value is trying to be set on a copy of a slice from a DataFrame.\n",
      "Try using .loc[row_indexer,col_indexer] = value instead\n",
      "\n",
      "See the caveats in the documentation: https://pandas.pydata.org/pandas-docs/stable/user_guide/indexing.html#returning-a-view-versus-a-copy\n",
      "  df['inorg_filter'] = inorg_filter\n"
     ]
    }
   ],
   "source": [
    "elsie = inorg_filter(elsie)"
   ]
  },
  {
   "cell_type": "code",
   "execution_count": 81,
   "metadata": {},
   "outputs": [
    {
     "data": {
      "text/html": [
       "<div>\n",
       "<style scoped>\n",
       "    .dataframe tbody tr th:only-of-type {\n",
       "        vertical-align: middle;\n",
       "    }\n",
       "\n",
       "    .dataframe tbody tr th {\n",
       "        vertical-align: top;\n",
       "    }\n",
       "\n",
       "    .dataframe thead th {\n",
       "        text-align: right;\n",
       "    }\n",
       "</style>\n",
       "<table border=\"1\" class=\"dataframe\">\n",
       "  <thead>\n",
       "    <tr style=\"text-align: right;\">\n",
       "      <th></th>\n",
       "      <th>INPUT</th>\n",
       "      <th>FOUND_BY</th>\n",
       "      <th>DTXSID</th>\n",
       "      <th>PREFERRED_NAME</th>\n",
       "      <th>CASRN</th>\n",
       "      <th>INCHIKEY</th>\n",
       "      <th>IUPAC_NAME</th>\n",
       "      <th>SMILES</th>\n",
       "      <th>QSAR_READY_SMILES</th>\n",
       "      <th>ATMOSPHERIC_HYDROXYLATION_RATE_(AOH)_CM3/MOLECULE*SEC_OPERA_PRED</th>\n",
       "      <th>...</th>\n",
       "      <th>OCTANOL_WATER_PARTITION_LOGP_OPERA_PRED</th>\n",
       "      <th>MELTING_POINT_DEGC_OPERA_PRED</th>\n",
       "      <th>OPERA_PKAA_OPERA_PRED</th>\n",
       "      <th>OPERA_PKAB_OPERA_PRED</th>\n",
       "      <th>VAPOR_PRESSURE_MMHG_OPERA_PRED</th>\n",
       "      <th>WATER_SOLUBILITY_MOL/L_OPERA_PRED</th>\n",
       "      <th>metal_salts</th>\n",
       "      <th>inorgs</th>\n",
       "      <th>inorgP</th>\n",
       "      <th>inorg_filter</th>\n",
       "    </tr>\n",
       "  </thead>\n",
       "  <tbody>\n",
       "    <tr>\n",
       "      <th>0</th>\n",
       "      <td>DTXSID2066561</td>\n",
       "      <td>DSSTox_Substance_Id</td>\n",
       "      <td>DTXSID2066561</td>\n",
       "      <td>Fenozan</td>\n",
       "      <td>20170-32-5</td>\n",
       "      <td>WPMYUUITDBHVQZ-UHFFFAOYSA-N</td>\n",
       "      <td>3-(3,5-Di-tert-butyl-4-hydroxyphenyl)propanoic...</td>\n",
       "      <td>CC(C)(C)C1=CC(CCC(O)=O)=CC(=C1O)C(C)(C)C</td>\n",
       "      <td>CC(C)(C)C1=CC(CCC(O)=O)=CC(=C1O)C(C)(C)C</td>\n",
       "      <td>0.0</td>\n",
       "      <td>...</td>\n",
       "      <td>4.57702</td>\n",
       "      <td>155.655</td>\n",
       "      <td></td>\n",
       "      <td></td>\n",
       "      <td>0.0</td>\n",
       "      <td>0.000058</td>\n",
       "      <td>False</td>\n",
       "      <td>False</td>\n",
       "      <td>False</td>\n",
       "      <td>TTC_NA</td>\n",
       "    </tr>\n",
       "    <tr>\n",
       "      <th>1</th>\n",
       "      <td>DTXSID3067815</td>\n",
       "      <td>DSSTox_Substance_Id</td>\n",
       "      <td>DTXSID3067815</td>\n",
       "      <td>(2,4,6-Trioxo-1,3,5-triazine-1,3,5(2H,4H,6H)-t...</td>\n",
       "      <td>34137-09-2</td>\n",
       "      <td>MQRCHVBRBGNZGJ-UHFFFAOYSA-N</td>\n",
       "      <td>(2,4,6-Trioxo-1,3,5-triazinane-1,3,5-triyl)tri...</td>\n",
       "      <td>CC(C)(C)C1=CC(CCC(=O)OCCN2C(=O)N(CCOC(=O)CCC3=...</td>\n",
       "      <td>CC(C)(C)C1=CC(CCC(=O)OCCN2C(=O)N(CCOC(=O)CCC3=...</td>\n",
       "      <td></td>\n",
       "      <td>...</td>\n",
       "      <td></td>\n",
       "      <td>168.793</td>\n",
       "      <td></td>\n",
       "      <td></td>\n",
       "      <td>0.0</td>\n",
       "      <td></td>\n",
       "      <td>False</td>\n",
       "      <td>False</td>\n",
       "      <td>False</td>\n",
       "      <td>TTC_NA</td>\n",
       "    </tr>\n",
       "    <tr>\n",
       "      <th>2</th>\n",
       "      <td>DTXSID3026564</td>\n",
       "      <td>DSSTox_Substance_Id</td>\n",
       "      <td>DTXSID3026564</td>\n",
       "      <td>Triethylene glycol bis(2-ethylhexanoate)</td>\n",
       "      <td>94-28-0</td>\n",
       "      <td>FRQDZJMEHSJOPU-UHFFFAOYSA-N</td>\n",
       "      <td>[(Ethane-1,2-diyl)bis(oxy)ethane-2,1-diyl] bis...</td>\n",
       "      <td>CCCCC(CC)C(=O)OCCOCCOCCOC(=O)C(CC)CCCC</td>\n",
       "      <td>CCCCC(CC)C(=O)OCCOCCOCCOC(=O)C(CC)CCCC</td>\n",
       "      <td>0.0</td>\n",
       "      <td>...</td>\n",
       "      <td>3.59995</td>\n",
       "      <td>-20.3986</td>\n",
       "      <td></td>\n",
       "      <td></td>\n",
       "      <td>0.0</td>\n",
       "      <td>0.000039</td>\n",
       "      <td>False</td>\n",
       "      <td>False</td>\n",
       "      <td>False</td>\n",
       "      <td>TTC_NA</td>\n",
       "    </tr>\n",
       "    <tr>\n",
       "      <th>3</th>\n",
       "      <td>DTXSID4024696</td>\n",
       "      <td>DSSTox_Substance_Id</td>\n",
       "      <td>DTXSID4024696</td>\n",
       "      <td>Butyl methacrylate</td>\n",
       "      <td>97-88-1</td>\n",
       "      <td>SOGAXMICEFXMKE-UHFFFAOYSA-N</td>\n",
       "      <td>Butyl 2-methylprop-2-enoate</td>\n",
       "      <td>CCCCOC(=O)C(C)=C</td>\n",
       "      <td>CCCCOC(=O)C(C)=C</td>\n",
       "      <td>0.0</td>\n",
       "      <td>...</td>\n",
       "      <td>2.8773</td>\n",
       "      <td>-74.8169</td>\n",
       "      <td></td>\n",
       "      <td></td>\n",
       "      <td>2.12457</td>\n",
       "      <td>0.005684</td>\n",
       "      <td>False</td>\n",
       "      <td>False</td>\n",
       "      <td>False</td>\n",
       "      <td>TTC_NA</td>\n",
       "    </tr>\n",
       "    <tr>\n",
       "      <th>4</th>\n",
       "      <td>DTXSID9021847</td>\n",
       "      <td>DSSTox_Substance_Id</td>\n",
       "      <td>DTXSID9021847</td>\n",
       "      <td>Diphenyl oxide</td>\n",
       "      <td>101-84-8</td>\n",
       "      <td>USIUVYZYUHIAEV-UHFFFAOYSA-N</td>\n",
       "      <td>1,1'-Oxydibenzene</td>\n",
       "      <td>O(C1=CC=CC=C1)C1=CC=CC=C1</td>\n",
       "      <td>O(C1=CC=CC=C1)C1=CC=CC=C1</td>\n",
       "      <td>0.0</td>\n",
       "      <td>...</td>\n",
       "      <td>4.13044</td>\n",
       "      <td>27.1481</td>\n",
       "      <td></td>\n",
       "      <td></td>\n",
       "      <td>0.019946</td>\n",
       "      <td>0.000133</td>\n",
       "      <td>False</td>\n",
       "      <td>False</td>\n",
       "      <td>False</td>\n",
       "      <td>TTC_NA</td>\n",
       "    </tr>\n",
       "    <tr>\n",
       "      <th>...</th>\n",
       "      <td>...</td>\n",
       "      <td>...</td>\n",
       "      <td>...</td>\n",
       "      <td>...</td>\n",
       "      <td>...</td>\n",
       "      <td>...</td>\n",
       "      <td>...</td>\n",
       "      <td>...</td>\n",
       "      <td>...</td>\n",
       "      <td>...</td>\n",
       "      <td>...</td>\n",
       "      <td>...</td>\n",
       "      <td>...</td>\n",
       "      <td>...</td>\n",
       "      <td>...</td>\n",
       "      <td>...</td>\n",
       "      <td>...</td>\n",
       "      <td>...</td>\n",
       "      <td>...</td>\n",
       "      <td>...</td>\n",
       "      <td>...</td>\n",
       "    </tr>\n",
       "    <tr>\n",
       "      <th>450</th>\n",
       "      <td>DTXSID5042328</td>\n",
       "      <td>DSSTox_Substance_Id</td>\n",
       "      <td>DTXSID5042328</td>\n",
       "      <td>Dimethyl (p-methoxybenzylidene)malonate</td>\n",
       "      <td>7443-25-6</td>\n",
       "      <td>JMFYZMAVUHNCPW-UHFFFAOYSA-N</td>\n",
       "      <td>Dimethyl [(4-methoxyphenyl)methylidene]propane...</td>\n",
       "      <td>COC(=O)C(=CC1=CC=C(OC)C=C1)C(=O)OC</td>\n",
       "      <td>COC(=O)C(=CC1=CC=C(OC)C=C1)C(=O)OC</td>\n",
       "      <td>0.0</td>\n",
       "      <td>...</td>\n",
       "      <td>2.43083</td>\n",
       "      <td>46.0152</td>\n",
       "      <td></td>\n",
       "      <td></td>\n",
       "      <td>0.000063</td>\n",
       "      <td>0.001334</td>\n",
       "      <td>False</td>\n",
       "      <td>False</td>\n",
       "      <td>False</td>\n",
       "      <td>TTC_NA</td>\n",
       "    </tr>\n",
       "    <tr>\n",
       "      <th>452</th>\n",
       "      <td>DTXSID40864845</td>\n",
       "      <td>DSSTox_Substance_Id</td>\n",
       "      <td>DTXSID40864845</td>\n",
       "      <td>4H-3,1-Benzoxazin-4-one, 2,2'-(1,4-phenylene)bis-</td>\n",
       "      <td>18600-59-4</td>\n",
       "      <td>BBITXNWQALLODC-UHFFFAOYSA-N</td>\n",
       "      <td>2,2'-(1,4-Phenylene)di(4H-3,1-benzoxazin-4-one)</td>\n",
       "      <td>O=C1OC(=NC2=CC=CC=C12)C1=CC=C(C=C1)C1=NC2=CC=C...</td>\n",
       "      <td>O=C1OC(=NC2=CC=CC=C12)C1=CC=C(C=C1)C1=NC2=CC=C...</td>\n",
       "      <td>0.0</td>\n",
       "      <td>...</td>\n",
       "      <td>3.06757</td>\n",
       "      <td>144.209</td>\n",
       "      <td></td>\n",
       "      <td></td>\n",
       "      <td>0.0</td>\n",
       "      <td>0.0</td>\n",
       "      <td>False</td>\n",
       "      <td>False</td>\n",
       "      <td>False</td>\n",
       "      <td>TTC_NA</td>\n",
       "    </tr>\n",
       "    <tr>\n",
       "      <th>453</th>\n",
       "      <td>DTXSID4027286</td>\n",
       "      <td>DSSTox_Substance_Id</td>\n",
       "      <td>DTXSID4027286</td>\n",
       "      <td>1-Docosanol</td>\n",
       "      <td>661-19-8</td>\n",
       "      <td>NOPFSRXAKWQILS-UHFFFAOYSA-N</td>\n",
       "      <td>Docosan-1-ol</td>\n",
       "      <td>CCCCCCCCCCCCCCCCCCCCCCO</td>\n",
       "      <td>CCCCCCCCCCCCCCCCCCCCCCO</td>\n",
       "      <td>0.0</td>\n",
       "      <td>...</td>\n",
       "      <td>9.35723</td>\n",
       "      <td>72.305</td>\n",
       "      <td></td>\n",
       "      <td></td>\n",
       "      <td>0.0</td>\n",
       "      <td>0.0</td>\n",
       "      <td>False</td>\n",
       "      <td>False</td>\n",
       "      <td>False</td>\n",
       "      <td>TTC_NA</td>\n",
       "    </tr>\n",
       "    <tr>\n",
       "      <th>454</th>\n",
       "      <td>DTXSID0038883</td>\n",
       "      <td>DSSTox_Substance_Id</td>\n",
       "      <td>DTXSID0038883</td>\n",
       "      <td>Phenol, 4,4',4''-(1-methyl-1-propanyl-3-yliden...</td>\n",
       "      <td>1843-03-4</td>\n",
       "      <td>PRWJPWSKLXYEPD-UHFFFAOYSA-N</td>\n",
       "      <td>4,4',4''-(Butane-1,1,3-triyl)tris(2-tert-butyl...</td>\n",
       "      <td>CC(CC(C1=CC(=C(O)C=C1C)C(C)(C)C)C1=CC(=C(O)C=C...</td>\n",
       "      <td>CC(CC(C1=CC(=C(O)C=C1C)C(C)(C)C)C1=CC(=C(O)C=C...</td>\n",
       "      <td>0.0</td>\n",
       "      <td>...</td>\n",
       "      <td>10.0003</td>\n",
       "      <td>186.464</td>\n",
       "      <td></td>\n",
       "      <td></td>\n",
       "      <td>0.0</td>\n",
       "      <td>0.0</td>\n",
       "      <td>False</td>\n",
       "      <td>False</td>\n",
       "      <td>False</td>\n",
       "      <td>TTC_NA</td>\n",
       "    </tr>\n",
       "    <tr>\n",
       "      <th>455</th>\n",
       "      <td>DTXSID50862872</td>\n",
       "      <td>DSSTox_Substance_Id</td>\n",
       "      <td>DTXSID50862872</td>\n",
       "      <td>1,1'-[1,3-Phenylenebis(1-methylethylidene)]bis...</td>\n",
       "      <td>2212-81-9</td>\n",
       "      <td>UBRWPVTUQDJKCC-UHFFFAOYSA-N</td>\n",
       "      <td>1,3-Bis[2-(tert-butylperoxy)propan-2-yl]benzene</td>\n",
       "      <td>CC(C)(C)OOC(C)(C)C1=CC(=CC=C1)C(C)(C)OOC(C)(C)C</td>\n",
       "      <td>CC(C)(C)OOC(C)(C)C1=CC(=CC=C1)C(C)(C)OOC(C)(C)C</td>\n",
       "      <td>0.0</td>\n",
       "      <td>...</td>\n",
       "      <td>5.80619</td>\n",
       "      <td>0.342877</td>\n",
       "      <td></td>\n",
       "      <td></td>\n",
       "      <td>0.000022</td>\n",
       "      <td>0.000003</td>\n",
       "      <td>False</td>\n",
       "      <td>False</td>\n",
       "      <td>False</td>\n",
       "      <td>TTC_NA</td>\n",
       "    </tr>\n",
       "  </tbody>\n",
       "</table>\n",
       "<p>416 rows × 27 columns</p>\n",
       "</div>"
      ],
      "text/plain": [
       "              INPUT             FOUND_BY          DTXSID  \\\n",
       "0     DTXSID2066561  DSSTox_Substance_Id   DTXSID2066561   \n",
       "1     DTXSID3067815  DSSTox_Substance_Id   DTXSID3067815   \n",
       "2     DTXSID3026564  DSSTox_Substance_Id   DTXSID3026564   \n",
       "3     DTXSID4024696  DSSTox_Substance_Id   DTXSID4024696   \n",
       "4     DTXSID9021847  DSSTox_Substance_Id   DTXSID9021847   \n",
       "..              ...                  ...             ...   \n",
       "450   DTXSID5042328  DSSTox_Substance_Id   DTXSID5042328   \n",
       "452  DTXSID40864845  DSSTox_Substance_Id  DTXSID40864845   \n",
       "453   DTXSID4027286  DSSTox_Substance_Id   DTXSID4027286   \n",
       "454   DTXSID0038883  DSSTox_Substance_Id   DTXSID0038883   \n",
       "455  DTXSID50862872  DSSTox_Substance_Id  DTXSID50862872   \n",
       "\n",
       "                                        PREFERRED_NAME       CASRN  \\\n",
       "0                                              Fenozan  20170-32-5   \n",
       "1    (2,4,6-Trioxo-1,3,5-triazine-1,3,5(2H,4H,6H)-t...  34137-09-2   \n",
       "2             Triethylene glycol bis(2-ethylhexanoate)     94-28-0   \n",
       "3                                   Butyl methacrylate     97-88-1   \n",
       "4                                       Diphenyl oxide    101-84-8   \n",
       "..                                                 ...         ...   \n",
       "450            Dimethyl (p-methoxybenzylidene)malonate   7443-25-6   \n",
       "452  4H-3,1-Benzoxazin-4-one, 2,2'-(1,4-phenylene)bis-  18600-59-4   \n",
       "453                                        1-Docosanol    661-19-8   \n",
       "454  Phenol, 4,4',4''-(1-methyl-1-propanyl-3-yliden...   1843-03-4   \n",
       "455  1,1'-[1,3-Phenylenebis(1-methylethylidene)]bis...   2212-81-9   \n",
       "\n",
       "                        INCHIKEY  \\\n",
       "0    WPMYUUITDBHVQZ-UHFFFAOYSA-N   \n",
       "1    MQRCHVBRBGNZGJ-UHFFFAOYSA-N   \n",
       "2    FRQDZJMEHSJOPU-UHFFFAOYSA-N   \n",
       "3    SOGAXMICEFXMKE-UHFFFAOYSA-N   \n",
       "4    USIUVYZYUHIAEV-UHFFFAOYSA-N   \n",
       "..                           ...   \n",
       "450  JMFYZMAVUHNCPW-UHFFFAOYSA-N   \n",
       "452  BBITXNWQALLODC-UHFFFAOYSA-N   \n",
       "453  NOPFSRXAKWQILS-UHFFFAOYSA-N   \n",
       "454  PRWJPWSKLXYEPD-UHFFFAOYSA-N   \n",
       "455  UBRWPVTUQDJKCC-UHFFFAOYSA-N   \n",
       "\n",
       "                                            IUPAC_NAME  \\\n",
       "0    3-(3,5-Di-tert-butyl-4-hydroxyphenyl)propanoic...   \n",
       "1    (2,4,6-Trioxo-1,3,5-triazinane-1,3,5-triyl)tri...   \n",
       "2    [(Ethane-1,2-diyl)bis(oxy)ethane-2,1-diyl] bis...   \n",
       "3                          Butyl 2-methylprop-2-enoate   \n",
       "4                                    1,1'-Oxydibenzene   \n",
       "..                                                 ...   \n",
       "450  Dimethyl [(4-methoxyphenyl)methylidene]propane...   \n",
       "452    2,2'-(1,4-Phenylene)di(4H-3,1-benzoxazin-4-one)   \n",
       "453                                       Docosan-1-ol   \n",
       "454  4,4',4''-(Butane-1,1,3-triyl)tris(2-tert-butyl...   \n",
       "455    1,3-Bis[2-(tert-butylperoxy)propan-2-yl]benzene   \n",
       "\n",
       "                                                SMILES  \\\n",
       "0             CC(C)(C)C1=CC(CCC(O)=O)=CC(=C1O)C(C)(C)C   \n",
       "1    CC(C)(C)C1=CC(CCC(=O)OCCN2C(=O)N(CCOC(=O)CCC3=...   \n",
       "2               CCCCC(CC)C(=O)OCCOCCOCCOC(=O)C(CC)CCCC   \n",
       "3                                     CCCCOC(=O)C(C)=C   \n",
       "4                            O(C1=CC=CC=C1)C1=CC=CC=C1   \n",
       "..                                                 ...   \n",
       "450                 COC(=O)C(=CC1=CC=C(OC)C=C1)C(=O)OC   \n",
       "452  O=C1OC(=NC2=CC=CC=C12)C1=CC=C(C=C1)C1=NC2=CC=C...   \n",
       "453                            CCCCCCCCCCCCCCCCCCCCCCO   \n",
       "454  CC(CC(C1=CC(=C(O)C=C1C)C(C)(C)C)C1=CC(=C(O)C=C...   \n",
       "455    CC(C)(C)OOC(C)(C)C1=CC(=CC=C1)C(C)(C)OOC(C)(C)C   \n",
       "\n",
       "                                     QSAR_READY_SMILES  \\\n",
       "0             CC(C)(C)C1=CC(CCC(O)=O)=CC(=C1O)C(C)(C)C   \n",
       "1    CC(C)(C)C1=CC(CCC(=O)OCCN2C(=O)N(CCOC(=O)CCC3=...   \n",
       "2               CCCCC(CC)C(=O)OCCOCCOCCOC(=O)C(CC)CCCC   \n",
       "3                                     CCCCOC(=O)C(C)=C   \n",
       "4                            O(C1=CC=CC=C1)C1=CC=CC=C1   \n",
       "..                                                 ...   \n",
       "450                 COC(=O)C(=CC1=CC=C(OC)C=C1)C(=O)OC   \n",
       "452  O=C1OC(=NC2=CC=CC=C12)C1=CC=C(C=C1)C1=NC2=CC=C...   \n",
       "453                            CCCCCCCCCCCCCCCCCCCCCCO   \n",
       "454  CC(CC(C1=CC(=C(O)C=C1C)C(C)(C)C)C1=CC(=C(O)C=C...   \n",
       "455    CC(C)(C)OOC(C)(C)C1=CC(=CC=C1)C(C)(C)OOC(C)(C)C   \n",
       "\n",
       "    ATMOSPHERIC_HYDROXYLATION_RATE_(AOH)_CM3/MOLECULE*SEC_OPERA_PRED  ...  \\\n",
       "0                                                  0.0                ...   \n",
       "1                                                                     ...   \n",
       "2                                                  0.0                ...   \n",
       "3                                                  0.0                ...   \n",
       "4                                                  0.0                ...   \n",
       "..                                                 ...                ...   \n",
       "450                                                0.0                ...   \n",
       "452                                                0.0                ...   \n",
       "453                                                0.0                ...   \n",
       "454                                                0.0                ...   \n",
       "455                                                0.0                ...   \n",
       "\n",
       "    OCTANOL_WATER_PARTITION_LOGP_OPERA_PRED MELTING_POINT_DEGC_OPERA_PRED  \\\n",
       "0                                   4.57702                       155.655   \n",
       "1                                                                 168.793   \n",
       "2                                   3.59995                      -20.3986   \n",
       "3                                    2.8773                      -74.8169   \n",
       "4                                   4.13044                       27.1481   \n",
       "..                                      ...                           ...   \n",
       "450                                 2.43083                       46.0152   \n",
       "452                                 3.06757                       144.209   \n",
       "453                                 9.35723                        72.305   \n",
       "454                                 10.0003                       186.464   \n",
       "455                                 5.80619                      0.342877   \n",
       "\n",
       "    OPERA_PKAA_OPERA_PRED OPERA_PKAB_OPERA_PRED  \\\n",
       "0                                                 \n",
       "1                                                 \n",
       "2                                                 \n",
       "3                                                 \n",
       "4                                                 \n",
       "..                    ...                   ...   \n",
       "450                                               \n",
       "452                                               \n",
       "453                                               \n",
       "454                                               \n",
       "455                                               \n",
       "\n",
       "    VAPOR_PRESSURE_MMHG_OPERA_PRED WATER_SOLUBILITY_MOL/L_OPERA_PRED  \\\n",
       "0                              0.0                          0.000058   \n",
       "1                              0.0                                     \n",
       "2                              0.0                          0.000039   \n",
       "3                          2.12457                          0.005684   \n",
       "4                         0.019946                          0.000133   \n",
       "..                             ...                               ...   \n",
       "450                       0.000063                          0.001334   \n",
       "452                            0.0                               0.0   \n",
       "453                            0.0                               0.0   \n",
       "454                            0.0                               0.0   \n",
       "455                       0.000022                          0.000003   \n",
       "\n",
       "    metal_salts inorgs inorgP inorg_filter  \n",
       "0         False  False  False       TTC_NA  \n",
       "1         False  False  False       TTC_NA  \n",
       "2         False  False  False       TTC_NA  \n",
       "3         False  False  False       TTC_NA  \n",
       "4         False  False  False       TTC_NA  \n",
       "..          ...    ...    ...          ...  \n",
       "450       False  False  False       TTC_NA  \n",
       "452       False  False  False       TTC_NA  \n",
       "453       False  False  False       TTC_NA  \n",
       "454       False  False  False       TTC_NA  \n",
       "455       False  False  False       TTC_NA  \n",
       "\n",
       "[416 rows x 27 columns]"
      ]
     },
     "execution_count": 81,
     "metadata": {},
     "output_type": "execute_result"
    }
   ],
   "source": [
    "elsie"
   ]
  },
  {
   "cell_type": "code",
   "execution_count": 82,
   "metadata": {},
   "outputs": [],
   "source": [
    "def alert_match(mydict, alert_dict , label = 'COC', label2 = None):\n",
    "    alert_matches = {x:[k for k, v in alert_dict.items() if any([y.HasSubstructMatch(e) for e in v])] for x,y in mydict.items()}\n",
    "    alert_matches_df = pd.DataFrame(list(alert_matches.items()), columns = ['DTXSID', label])\n",
    "    alert_lst = []\n",
    "    for x in alert_matches_df[label]:\n",
    "        if x !=[]:\n",
    "            alert_lst.append(1)\n",
    "        else:\n",
    "            alert_lst.append(0)\n",
    "    alert_matches_df[label2] = alert_lst\n",
    "    return alert_matches_df"
   ]
  },
  {
   "cell_type": "code",
   "execution_count": 83,
   "metadata": {},
   "outputs": [],
   "source": [
    "fda_coc_df = alert_match(elise_dict_v1, fda_sms, label = 'COC')"
   ]
  },
  {
   "cell_type": "code",
   "execution_count": 84,
   "metadata": {},
   "outputs": [],
   "source": [
    "elsie_coc = pd.merge(elsie, fda_coc_df, on = 'DTXSID', how = 'left')"
   ]
  },
  {
   "cell_type": "code",
   "execution_count": 85,
   "metadata": {},
   "outputs": [],
   "source": [
    "#elsie_coc"
   ]
  },
  {
   "cell_type": "code",
   "execution_count": 86,
   "metadata": {},
   "outputs": [],
   "source": [
    "genetox_df = alert_match(elise_dict_v1, genetox_smarts, label = 'Genetox_Alert', label2 = 'Genetox_alert')"
   ]
  },
  {
   "cell_type": "code",
   "execution_count": 87,
   "metadata": {},
   "outputs": [],
   "source": [
    "elsie_coc_genetox = pd.merge(elsie_coc, genetox_df, on = 'DTXSID', how = 'left')"
   ]
  },
  {
   "cell_type": "code",
   "execution_count": 95,
   "metadata": {},
   "outputs": [],
   "source": [
    "elsie_coc_genetox = elsie_coc_genetox[['DTXSID',\n",
    "                                                         'PREFERRED_NAME',\n",
    "                                                                  'CASRN',\n",
    "                                                               'INCHIKEY',\n",
    "                                                             'IUPAC_NAME',\n",
    "                                                                 'SMILES',\n",
    "                                                      'QSAR_READY_SMILES','metal_salts',\n",
    "                                                                 'inorgs',\n",
    "                                                                 'inorgP',\n",
    "                                                           'inorg_filter',\n",
    "                                                                    'COC',\n",
    "                                                                     None,\n",
    "                                                          'Genetox_Alert',\n",
    "                                                          'Genetox_alert']]"
   ]
  },
  {
   "cell_type": "code",
   "execution_count": 98,
   "metadata": {},
   "outputs": [],
   "source": [
    "elsie_coc_genetox.columns = ['DTXSID',    'PREFERRED_NAME',             'CASRN',\n",
    "                'INCHIKEY',        'IUPAC_NAME',            'SMILES',\n",
    "       'QSAR_READY_SMILES',       'metal_salts',            'inorgs',\n",
    "                  'inorgP',      'inorg_filter',               'COC',\n",
    "                      'COC_Alerts',     'Genetox_Alert',     'Genetox_alert']"
   ]
  },
  {
   "cell_type": "code",
   "execution_count": 99,
   "metadata": {},
   "outputs": [],
   "source": [
    "def final_assignment(df, label = 'final_TTC_category'):\n",
    "    final_outcome = []\n",
    "    for a,b,c in list(zip(df['inorg_filter'], df['COC_Alerts'], df['Genetox_alert'] )):\n",
    "        if a == 'inorganic':\n",
    "            final_outcome.append('inorganic')\n",
    "        elif (a != 'inorganic') & (b == 1):\n",
    "            final_outcome.append('COC')\n",
    "        elif (a != 'inorganic') & (b == 'None') | (b == 0) & (c == 1):\n",
    "            final_outcome.append('Genotoxicity Alert')\n",
    "        elif (a != 'inorganic') & (b == 'None') | (b == 0) & (c == 0):\n",
    "            final_outcome.append('Cramer_class_applicable')\n",
    "    df[label] = final_outcome\n",
    "    return df"
   ]
  },
  {
   "cell_type": "code",
   "execution_count": 100,
   "metadata": {},
   "outputs": [
    {
     "name": "stderr",
     "output_type": "stream",
     "text": [
      "<ipython-input-99-4c6b6fcb45b8>:12: SettingWithCopyWarning: \n",
      "A value is trying to be set on a copy of a slice from a DataFrame.\n",
      "Try using .loc[row_indexer,col_indexer] = value instead\n",
      "\n",
      "See the caveats in the documentation: https://pandas.pydata.org/pandas-docs/stable/user_guide/indexing.html#returning-a-view-versus-a-copy\n",
      "  df[label] = final_outcome\n"
     ]
    }
   ],
   "source": [
    "final_elsie = final_assignment(elsie_coc_genetox, label ='final_TTC_category' )"
   ]
  },
  {
   "cell_type": "code",
   "execution_count": 105,
   "metadata": {},
   "outputs": [
    {
     "data": {
      "text/plain": [
       "Cramer_class_applicable    226\n",
       "Genotoxicity Alert         139\n",
       "inorganic                   27\n",
       "COC                         24\n",
       "Name: final_TTC_category, dtype: int64"
      ]
     },
     "execution_count": 105,
     "metadata": {},
     "output_type": "execute_result"
    }
   ],
   "source": [
    "final_elsie.final_TTC_category.value_counts(dropna = True)"
   ]
  },
  {
   "cell_type": "code",
   "execution_count": 102,
   "metadata": {},
   "outputs": [
    {
     "data": {
      "image/png": "[encoded data removed]",
      "text/plain": [
       "<Figure size 432x288 with 1 Axes>"
      ]
     },
     "metadata": {
      "needs_background": "light"
     },
     "output_type": "display_data"
    }
   ],
   "source": [
    "final_elsie.final_TTC_category.value_counts().plot.bar()\n",
    "plt.tight_layout()\n",
    "plt.savefig(figures_dir+ 'ELSIE_new_TTC_category_counts_310322.png')"
   ]
  },
  {
   "cell_type": "code",
   "execution_count": 103,
   "metadata": {},
   "outputs": [],
   "source": [
    "writer = pd.ExcelWriter(interim_dir+ 'ELSIE_030222.xlsx', engine='xlsxwriter')\n",
    "\n",
    "# Convert the dataframe to an XlsxWriter Excel object.\n",
    "\n",
    "final_elsie.to_excel(writer, sheet_name = 'final')\n",
    "\n",
    "\n",
    "\n",
    "writer.save()"
   ]
  },
  {
   "cell_type": "code",
   "execution_count": null,
   "metadata": {},
   "outputs": [],
   "source": []
  },
  {
   "cell_type": "code",
   "execution_count": null,
   "metadata": {},
   "outputs": [],
   "source": []
  }
 ],
 "metadata": {
  "kernelspec": {
   "display_name": "pfas_dap",
   "language": "python",
   "name": "pfas_dap"
  },
  "language_info": {
   "codemirror_mode": {
    "name": "ipython",
    "version": 3
   },
   "file_extension": ".py",
   "mimetype": "text/x-python",
   "name": "python",
   "nbconvert_exporter": "python",
   "pygments_lexer": "ipython3",
   "version": "3.8.6"
  }
 },
 "nbformat": 4,
 "nbformat_minor": 4
}
